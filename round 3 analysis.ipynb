{
 "cells": [
  {
   "cell_type": "code",
   "execution_count": 39,
   "metadata": {},
   "outputs": [],
   "source": [
    "import pandas as pd\n",
    "import plotly.express as px"
   ]
  },
  {
   "cell_type": "code",
   "execution_count": 40,
   "metadata": {},
   "outputs": [],
   "source": [
    "df_inter1 = pd.read_csv('BIRDS OF A FEATHER.csv', index_col=0)"
   ]
  },
  {
   "cell_type": "code",
   "execution_count": 41,
   "metadata": {},
   "outputs": [
    {
     "data": {
      "text/html": [
       "<div>\n",
       "<style scoped>\n",
       "    .dataframe tbody tr th:only-of-type {\n",
       "        vertical-align: middle;\n",
       "    }\n",
       "\n",
       "    .dataframe tbody tr th {\n",
       "        vertical-align: top;\n",
       "    }\n",
       "\n",
       "    .dataframe thead th {\n",
       "        text-align: right;\n",
       "    }\n",
       "</style>\n",
       "<table border=\"1\" class=\"dataframe\">\n",
       "  <thead>\n",
       "    <tr style=\"text-align: right;\">\n",
       "      <th></th>\n",
       "      <th>Timestamp</th>\n",
       "      <th>Username</th>\n",
       "      <th>VideoID</th>\n",
       "      <th>Comment</th>\n",
       "      <th>Date</th>\n",
       "      <th>Lang</th>\n",
       "    </tr>\n",
       "  </thead>\n",
       "  <tbody>\n",
       "    <tr>\n",
       "      <th>0</th>\n",
       "      <td>2024-10-10T09:07:49Z</td>\n",
       "      <td>@memeque2</td>\n",
       "      <td>V9PVRfjEBTI</td>\n",
       "      <td>i love billie</td>\n",
       "      <td>2024-10-10T09:07:49Z</td>\n",
       "      <td>da</td>\n",
       "    </tr>\n",
       "    <tr>\n",
       "      <th>1</th>\n",
       "      <td>2024-10-10T08:56:11Z</td>\n",
       "      <td>@soesoe-vp8pm</td>\n",
       "      <td>V9PVRfjEBTI</td>\n",
       "      <td>She is so beautiful........</td>\n",
       "      <td>2024-10-10T08:56:11Z</td>\n",
       "      <td>en</td>\n",
       "    </tr>\n",
       "    <tr>\n",
       "      <th>2</th>\n",
       "      <td>2024-10-10T08:54:11Z</td>\n",
       "      <td>@lifewithtnt</td>\n",
       "      <td>V9PVRfjEBTI</td>\n",
       "      <td>First time listening to a Billie eilish song I...</td>\n",
       "      <td>2024-10-10T08:54:11Z</td>\n",
       "      <td>en</td>\n",
       "    </tr>\n",
       "    <tr>\n",
       "      <th>3</th>\n",
       "      <td>2024-10-10T08:44:34Z</td>\n",
       "      <td>@bonobo3748</td>\n",
       "      <td>V9PVRfjEBTI</td>\n",
       "      <td>lil Xan making some chill beats these days. St...</td>\n",
       "      <td>2024-10-10T08:44:34Z</td>\n",
       "      <td>en</td>\n",
       "    </tr>\n",
       "    <tr>\n",
       "      <th>4</th>\n",
       "      <td>2024-10-10T08:35:17Z</td>\n",
       "      <td>@Masc-w4h</td>\n",
       "      <td>V9PVRfjEBTI</td>\n",
       "      <td>https://youtu.be/llsAeJo-97Y?si=Gc9XVdLyLz8STiHI</td>\n",
       "      <td>2024-10-10T08:35:17Z</td>\n",
       "      <td>Other</td>\n",
       "    </tr>\n",
       "    <tr>\n",
       "      <th>...</th>\n",
       "      <td>...</td>\n",
       "      <td>...</td>\n",
       "      <td>...</td>\n",
       "      <td>...</td>\n",
       "      <td>...</td>\n",
       "      <td>...</td>\n",
       "    </tr>\n",
       "    <tr>\n",
       "      <th>39049</th>\n",
       "      <td>2024-09-27T15:04:55Z</td>\n",
       "      <td>@AwesomeAmani</td>\n",
       "      <td>V9PVRfjEBTI</td>\n",
       "      <td>u are you</td>\n",
       "      <td>2024-09-27T15:04:55Z</td>\n",
       "      <td>so</td>\n",
       "    </tr>\n",
       "    <tr>\n",
       "      <th>39050</th>\n",
       "      <td>2024-09-27T15:05:21Z</td>\n",
       "      <td>@Billz_Eili</td>\n",
       "      <td>V9PVRfjEBTI</td>\n",
       "      <td>U are💙</td>\n",
       "      <td>2024-09-27T15:05:21Z</td>\n",
       "      <td>ro</td>\n",
       "    </tr>\n",
       "    <tr>\n",
       "      <th>39051</th>\n",
       "      <td>2024-09-27T15:18:10Z</td>\n",
       "      <td>@willyyjosuan</td>\n",
       "      <td>V9PVRfjEBTI</td>\n",
       "      <td>sim, você é! 🎉</td>\n",
       "      <td>2024-09-27T15:18:10Z</td>\n",
       "      <td>pt</td>\n",
       "    </tr>\n",
       "    <tr>\n",
       "      <th>39052</th>\n",
       "      <td>2024-09-27T15:21:59Z</td>\n",
       "      <td>@cuentainnombrable</td>\n",
       "      <td>V9PVRfjEBTI</td>\n",
       "      <td>I FOUND THE FIRST COMENT!!!\\nENCONTRÉ EL PRIME...</td>\n",
       "      <td>2024-09-27T15:21:59Z</td>\n",
       "      <td>en</td>\n",
       "    </tr>\n",
       "    <tr>\n",
       "      <th>39053</th>\n",
       "      <td>2024-09-27T15:24:50Z</td>\n",
       "      <td>@cookie_biscuit_</td>\n",
       "      <td>V9PVRfjEBTI</td>\n",
       "      <td>Simm</td>\n",
       "      <td>2024-09-27T15:24:50Z</td>\n",
       "      <td>de</td>\n",
       "    </tr>\n",
       "  </tbody>\n",
       "</table>\n",
       "<p>39054 rows × 6 columns</p>\n",
       "</div>"
      ],
      "text/plain": [
       "                  Timestamp            Username      VideoID  \\\n",
       "0      2024-10-10T09:07:49Z           @memeque2  V9PVRfjEBTI   \n",
       "1      2024-10-10T08:56:11Z       @soesoe-vp8pm  V9PVRfjEBTI   \n",
       "2      2024-10-10T08:54:11Z        @lifewithtnt  V9PVRfjEBTI   \n",
       "3      2024-10-10T08:44:34Z         @bonobo3748  V9PVRfjEBTI   \n",
       "4      2024-10-10T08:35:17Z           @Masc-w4h  V9PVRfjEBTI   \n",
       "...                     ...                 ...          ...   \n",
       "39049  2024-09-27T15:04:55Z       @AwesomeAmani  V9PVRfjEBTI   \n",
       "39050  2024-09-27T15:05:21Z         @Billz_Eili  V9PVRfjEBTI   \n",
       "39051  2024-09-27T15:18:10Z       @willyyjosuan  V9PVRfjEBTI   \n",
       "39052  2024-09-27T15:21:59Z  @cuentainnombrable  V9PVRfjEBTI   \n",
       "39053  2024-09-27T15:24:50Z    @cookie_biscuit_  V9PVRfjEBTI   \n",
       "\n",
       "                                                 Comment  \\\n",
       "0                                          i love billie   \n",
       "1                            She is so beautiful........   \n",
       "2      First time listening to a Billie eilish song I...   \n",
       "3      lil Xan making some chill beats these days. St...   \n",
       "4       https://youtu.be/llsAeJo-97Y?si=Gc9XVdLyLz8STiHI   \n",
       "...                                                  ...   \n",
       "39049                                          u are you   \n",
       "39050                                             U are💙   \n",
       "39051                                     sim, você é! 🎉   \n",
       "39052  I FOUND THE FIRST COMENT!!!\\nENCONTRÉ EL PRIME...   \n",
       "39053                                               Simm   \n",
       "\n",
       "                       Date   Lang  \n",
       "0      2024-10-10T09:07:49Z     da  \n",
       "1      2024-10-10T08:56:11Z     en  \n",
       "2      2024-10-10T08:54:11Z     en  \n",
       "3      2024-10-10T08:44:34Z     en  \n",
       "4      2024-10-10T08:35:17Z  Other  \n",
       "...                     ...    ...  \n",
       "39049  2024-09-27T15:04:55Z     so  \n",
       "39050  2024-09-27T15:05:21Z     ro  \n",
       "39051  2024-09-27T15:18:10Z     pt  \n",
       "39052  2024-09-27T15:21:59Z     en  \n",
       "39053  2024-09-27T15:24:50Z     de  \n",
       "\n",
       "[39054 rows x 6 columns]"
      ]
     },
     "execution_count": 41,
     "metadata": {},
     "output_type": "execute_result"
    }
   ],
   "source": [
    "df_inter1"
   ]
  },
  {
   "cell_type": "code",
   "execution_count": 42,
   "metadata": {},
   "outputs": [
    {
     "data": {
      "text/html": [
       "<div>\n",
       "<style scoped>\n",
       "    .dataframe tbody tr th:only-of-type {\n",
       "        vertical-align: middle;\n",
       "    }\n",
       "\n",
       "    .dataframe tbody tr th {\n",
       "        vertical-align: top;\n",
       "    }\n",
       "\n",
       "    .dataframe thead th {\n",
       "        text-align: right;\n",
       "    }\n",
       "</style>\n",
       "<table border=\"1\" class=\"dataframe\">\n",
       "  <thead>\n",
       "    <tr style=\"text-align: right;\">\n",
       "      <th></th>\n",
       "      <th>Date</th>\n",
       "      <th>Username</th>\n",
       "      <th>VideoID</th>\n",
       "      <th>Comment</th>\n",
       "    </tr>\n",
       "  </thead>\n",
       "  <tbody>\n",
       "    <tr>\n",
       "      <th>0</th>\n",
       "      <td>2024-10-10T09:07:49Z</td>\n",
       "      <td>@memeque2</td>\n",
       "      <td>V9PVRfjEBTI</td>\n",
       "      <td>i love billie</td>\n",
       "    </tr>\n",
       "    <tr>\n",
       "      <th>1</th>\n",
       "      <td>2024-10-10T08:56:11Z</td>\n",
       "      <td>@soesoe-vp8pm</td>\n",
       "      <td>V9PVRfjEBTI</td>\n",
       "      <td>She is so beautiful........</td>\n",
       "    </tr>\n",
       "    <tr>\n",
       "      <th>2</th>\n",
       "      <td>2024-10-10T08:54:11Z</td>\n",
       "      <td>@lifewithtnt</td>\n",
       "      <td>V9PVRfjEBTI</td>\n",
       "      <td>First time listening to a Billie eilish song I...</td>\n",
       "    </tr>\n",
       "    <tr>\n",
       "      <th>3</th>\n",
       "      <td>2024-10-10T08:44:34Z</td>\n",
       "      <td>@bonobo3748</td>\n",
       "      <td>V9PVRfjEBTI</td>\n",
       "      <td>lil Xan making some chill beats these days. St...</td>\n",
       "    </tr>\n",
       "    <tr>\n",
       "      <th>4</th>\n",
       "      <td>2024-10-10T08:35:17Z</td>\n",
       "      <td>@Masc-w4h</td>\n",
       "      <td>V9PVRfjEBTI</td>\n",
       "      <td>https://youtu.be/llsAeJo-97Y?si=Gc9XVdLyLz8STiHI</td>\n",
       "    </tr>\n",
       "    <tr>\n",
       "      <th>...</th>\n",
       "      <td>...</td>\n",
       "      <td>...</td>\n",
       "      <td>...</td>\n",
       "      <td>...</td>\n",
       "    </tr>\n",
       "    <tr>\n",
       "      <th>39049</th>\n",
       "      <td>2024-09-27T15:04:55Z</td>\n",
       "      <td>@AwesomeAmani</td>\n",
       "      <td>V9PVRfjEBTI</td>\n",
       "      <td>u are you</td>\n",
       "    </tr>\n",
       "    <tr>\n",
       "      <th>39050</th>\n",
       "      <td>2024-09-27T15:05:21Z</td>\n",
       "      <td>@Billz_Eili</td>\n",
       "      <td>V9PVRfjEBTI</td>\n",
       "      <td>U are💙</td>\n",
       "    </tr>\n",
       "    <tr>\n",
       "      <th>39051</th>\n",
       "      <td>2024-09-27T15:18:10Z</td>\n",
       "      <td>@willyyjosuan</td>\n",
       "      <td>V9PVRfjEBTI</td>\n",
       "      <td>sim, você é! 🎉</td>\n",
       "    </tr>\n",
       "    <tr>\n",
       "      <th>39052</th>\n",
       "      <td>2024-09-27T15:21:59Z</td>\n",
       "      <td>@cuentainnombrable</td>\n",
       "      <td>V9PVRfjEBTI</td>\n",
       "      <td>I FOUND THE FIRST COMENT!!!\\nENCONTRÉ EL PRIME...</td>\n",
       "    </tr>\n",
       "    <tr>\n",
       "      <th>39053</th>\n",
       "      <td>2024-09-27T15:24:50Z</td>\n",
       "      <td>@cookie_biscuit_</td>\n",
       "      <td>V9PVRfjEBTI</td>\n",
       "      <td>Simm</td>\n",
       "    </tr>\n",
       "  </tbody>\n",
       "</table>\n",
       "<p>39054 rows × 4 columns</p>\n",
       "</div>"
      ],
      "text/plain": [
       "                       Date            Username      VideoID  \\\n",
       "0      2024-10-10T09:07:49Z           @memeque2  V9PVRfjEBTI   \n",
       "1      2024-10-10T08:56:11Z       @soesoe-vp8pm  V9PVRfjEBTI   \n",
       "2      2024-10-10T08:54:11Z        @lifewithtnt  V9PVRfjEBTI   \n",
       "3      2024-10-10T08:44:34Z         @bonobo3748  V9PVRfjEBTI   \n",
       "4      2024-10-10T08:35:17Z           @Masc-w4h  V9PVRfjEBTI   \n",
       "...                     ...                 ...          ...   \n",
       "39049  2024-09-27T15:04:55Z       @AwesomeAmani  V9PVRfjEBTI   \n",
       "39050  2024-09-27T15:05:21Z         @Billz_Eili  V9PVRfjEBTI   \n",
       "39051  2024-09-27T15:18:10Z       @willyyjosuan  V9PVRfjEBTI   \n",
       "39052  2024-09-27T15:21:59Z  @cuentainnombrable  V9PVRfjEBTI   \n",
       "39053  2024-09-27T15:24:50Z    @cookie_biscuit_  V9PVRfjEBTI   \n",
       "\n",
       "                                                 Comment  \n",
       "0                                          i love billie  \n",
       "1                            She is so beautiful........  \n",
       "2      First time listening to a Billie eilish song I...  \n",
       "3      lil Xan making some chill beats these days. St...  \n",
       "4       https://youtu.be/llsAeJo-97Y?si=Gc9XVdLyLz8STiHI  \n",
       "...                                                  ...  \n",
       "39049                                          u are you  \n",
       "39050                                             U are💙  \n",
       "39051                                     sim, você é! 🎉  \n",
       "39052  I FOUND THE FIRST COMENT!!!\\nENCONTRÉ EL PRIME...  \n",
       "39053                                               Simm  \n",
       "\n",
       "[39054 rows x 4 columns]"
      ]
     },
     "execution_count": 42,
     "metadata": {},
     "output_type": "execute_result"
    }
   ],
   "source": [
    "df_inter1.drop(['Timestamp'], axis=1,inplace=True)\n",
    "df_inter1 = df_inter1.iloc[:,[3,0,1,2]]\n",
    "df_inter1"
   ]
  },
  {
   "cell_type": "code",
   "execution_count": 43,
   "metadata": {},
   "outputs": [],
   "source": [
    "from langdetect import detect\n",
    "def det(x):\n",
    "    try:\n",
    "        lang = detect(x)\n",
    "    except:\n",
    "        lang = 'Other'\n",
    "    return lang\n",
    "\n",
    "df_inter1['Lang'] = df_inter1['Comment'].apply(det)"
   ]
  },
  {
   "cell_type": "code",
   "execution_count": 44,
   "metadata": {},
   "outputs": [
    {
     "data": {
      "text/html": [
       "<div>\n",
       "<style scoped>\n",
       "    .dataframe tbody tr th:only-of-type {\n",
       "        vertical-align: middle;\n",
       "    }\n",
       "\n",
       "    .dataframe tbody tr th {\n",
       "        vertical-align: top;\n",
       "    }\n",
       "\n",
       "    .dataframe thead th {\n",
       "        text-align: right;\n",
       "    }\n",
       "</style>\n",
       "<table border=\"1\" class=\"dataframe\">\n",
       "  <thead>\n",
       "    <tr style=\"text-align: right;\">\n",
       "      <th></th>\n",
       "      <th>Date</th>\n",
       "      <th>Username</th>\n",
       "      <th>VideoID</th>\n",
       "      <th>Comment</th>\n",
       "      <th>Lang</th>\n",
       "    </tr>\n",
       "  </thead>\n",
       "  <tbody>\n",
       "    <tr>\n",
       "      <th>0</th>\n",
       "      <td>2024-10-10T09:07:49Z</td>\n",
       "      <td>@memeque2</td>\n",
       "      <td>V9PVRfjEBTI</td>\n",
       "      <td>i love billie</td>\n",
       "      <td>da</td>\n",
       "    </tr>\n",
       "    <tr>\n",
       "      <th>1</th>\n",
       "      <td>2024-10-10T08:56:11Z</td>\n",
       "      <td>@soesoe-vp8pm</td>\n",
       "      <td>V9PVRfjEBTI</td>\n",
       "      <td>She is so beautiful........</td>\n",
       "      <td>en</td>\n",
       "    </tr>\n",
       "    <tr>\n",
       "      <th>2</th>\n",
       "      <td>2024-10-10T08:54:11Z</td>\n",
       "      <td>@lifewithtnt</td>\n",
       "      <td>V9PVRfjEBTI</td>\n",
       "      <td>First time listening to a Billie eilish song I...</td>\n",
       "      <td>en</td>\n",
       "    </tr>\n",
       "    <tr>\n",
       "      <th>3</th>\n",
       "      <td>2024-10-10T08:44:34Z</td>\n",
       "      <td>@bonobo3748</td>\n",
       "      <td>V9PVRfjEBTI</td>\n",
       "      <td>lil Xan making some chill beats these days. St...</td>\n",
       "      <td>en</td>\n",
       "    </tr>\n",
       "    <tr>\n",
       "      <th>4</th>\n",
       "      <td>2024-10-10T08:35:17Z</td>\n",
       "      <td>@Masc-w4h</td>\n",
       "      <td>V9PVRfjEBTI</td>\n",
       "      <td>https://youtu.be/llsAeJo-97Y?si=Gc9XVdLyLz8STiHI</td>\n",
       "      <td>Other</td>\n",
       "    </tr>\n",
       "    <tr>\n",
       "      <th>...</th>\n",
       "      <td>...</td>\n",
       "      <td>...</td>\n",
       "      <td>...</td>\n",
       "      <td>...</td>\n",
       "      <td>...</td>\n",
       "    </tr>\n",
       "    <tr>\n",
       "      <th>39049</th>\n",
       "      <td>2024-09-27T15:04:55Z</td>\n",
       "      <td>@AwesomeAmani</td>\n",
       "      <td>V9PVRfjEBTI</td>\n",
       "      <td>u are you</td>\n",
       "      <td>so</td>\n",
       "    </tr>\n",
       "    <tr>\n",
       "      <th>39050</th>\n",
       "      <td>2024-09-27T15:05:21Z</td>\n",
       "      <td>@Billz_Eili</td>\n",
       "      <td>V9PVRfjEBTI</td>\n",
       "      <td>U are💙</td>\n",
       "      <td>ro</td>\n",
       "    </tr>\n",
       "    <tr>\n",
       "      <th>39051</th>\n",
       "      <td>2024-09-27T15:18:10Z</td>\n",
       "      <td>@willyyjosuan</td>\n",
       "      <td>V9PVRfjEBTI</td>\n",
       "      <td>sim, você é! 🎉</td>\n",
       "      <td>pt</td>\n",
       "    </tr>\n",
       "    <tr>\n",
       "      <th>39052</th>\n",
       "      <td>2024-09-27T15:21:59Z</td>\n",
       "      <td>@cuentainnombrable</td>\n",
       "      <td>V9PVRfjEBTI</td>\n",
       "      <td>I FOUND THE FIRST COMENT!!!\\nENCONTRÉ EL PRIME...</td>\n",
       "      <td>en</td>\n",
       "    </tr>\n",
       "    <tr>\n",
       "      <th>39053</th>\n",
       "      <td>2024-09-27T15:24:50Z</td>\n",
       "      <td>@cookie_biscuit_</td>\n",
       "      <td>V9PVRfjEBTI</td>\n",
       "      <td>Simm</td>\n",
       "      <td>de</td>\n",
       "    </tr>\n",
       "  </tbody>\n",
       "</table>\n",
       "<p>39054 rows × 5 columns</p>\n",
       "</div>"
      ],
      "text/plain": [
       "                       Date            Username      VideoID  \\\n",
       "0      2024-10-10T09:07:49Z           @memeque2  V9PVRfjEBTI   \n",
       "1      2024-10-10T08:56:11Z       @soesoe-vp8pm  V9PVRfjEBTI   \n",
       "2      2024-10-10T08:54:11Z        @lifewithtnt  V9PVRfjEBTI   \n",
       "3      2024-10-10T08:44:34Z         @bonobo3748  V9PVRfjEBTI   \n",
       "4      2024-10-10T08:35:17Z           @Masc-w4h  V9PVRfjEBTI   \n",
       "...                     ...                 ...          ...   \n",
       "39049  2024-09-27T15:04:55Z       @AwesomeAmani  V9PVRfjEBTI   \n",
       "39050  2024-09-27T15:05:21Z         @Billz_Eili  V9PVRfjEBTI   \n",
       "39051  2024-09-27T15:18:10Z       @willyyjosuan  V9PVRfjEBTI   \n",
       "39052  2024-09-27T15:21:59Z  @cuentainnombrable  V9PVRfjEBTI   \n",
       "39053  2024-09-27T15:24:50Z    @cookie_biscuit_  V9PVRfjEBTI   \n",
       "\n",
       "                                                 Comment   Lang  \n",
       "0                                          i love billie     da  \n",
       "1                            She is so beautiful........     en  \n",
       "2      First time listening to a Billie eilish song I...     en  \n",
       "3      lil Xan making some chill beats these days. St...     en  \n",
       "4       https://youtu.be/llsAeJo-97Y?si=Gc9XVdLyLz8STiHI  Other  \n",
       "...                                                  ...    ...  \n",
       "39049                                          u are you     so  \n",
       "39050                                             U are💙     ro  \n",
       "39051                                     sim, você é! 🎉     pt  \n",
       "39052  I FOUND THE FIRST COMENT!!!\\nENCONTRÉ EL PRIME...     en  \n",
       "39053                                               Simm     de  \n",
       "\n",
       "[39054 rows x 5 columns]"
      ]
     },
     "execution_count": 44,
     "metadata": {},
     "output_type": "execute_result"
    }
   ],
   "source": [
    "df_inter1"
   ]
  },
  {
   "cell_type": "code",
   "execution_count": 45,
   "metadata": {},
   "outputs": [
    {
     "data": {
      "text/html": [
       "<div>\n",
       "<style scoped>\n",
       "    .dataframe tbody tr th:only-of-type {\n",
       "        vertical-align: middle;\n",
       "    }\n",
       "\n",
       "    .dataframe tbody tr th {\n",
       "        vertical-align: top;\n",
       "    }\n",
       "\n",
       "    .dataframe thead th {\n",
       "        text-align: right;\n",
       "    }\n",
       "</style>\n",
       "<table border=\"1\" class=\"dataframe\">\n",
       "  <thead>\n",
       "    <tr style=\"text-align: right;\">\n",
       "      <th></th>\n",
       "      <th>Lang</th>\n",
       "      <th>Count</th>\n",
       "    </tr>\n",
       "  </thead>\n",
       "  <tbody>\n",
       "    <tr>\n",
       "      <th>11</th>\n",
       "      <td>en</td>\n",
       "      <td>21152</td>\n",
       "    </tr>\n",
       "    <tr>\n",
       "      <th>0</th>\n",
       "      <td>Other</td>\n",
       "      <td>3083</td>\n",
       "    </tr>\n",
       "    <tr>\n",
       "      <th>32</th>\n",
       "      <td>pt</td>\n",
       "      <td>1801</td>\n",
       "    </tr>\n",
       "    <tr>\n",
       "      <th>9</th>\n",
       "      <td>de</td>\n",
       "      <td>1642</td>\n",
       "    </tr>\n",
       "    <tr>\n",
       "      <th>12</th>\n",
       "      <td>es</td>\n",
       "      <td>1312</td>\n",
       "    </tr>\n",
       "    <tr>\n",
       "      <th>37</th>\n",
       "      <td>so</td>\n",
       "      <td>846</td>\n",
       "    </tr>\n",
       "    <tr>\n",
       "      <th>22</th>\n",
       "      <td>it</td>\n",
       "      <td>800</td>\n",
       "    </tr>\n",
       "    <tr>\n",
       "      <th>16</th>\n",
       "      <td>fr</td>\n",
       "      <td>784</td>\n",
       "    </tr>\n",
       "    <tr>\n",
       "      <th>42</th>\n",
       "      <td>tl</td>\n",
       "      <td>727</td>\n",
       "    </tr>\n",
       "    <tr>\n",
       "      <th>7</th>\n",
       "      <td>cy</td>\n",
       "      <td>570</td>\n",
       "    </tr>\n",
       "    <tr>\n",
       "      <th>1</th>\n",
       "      <td>af</td>\n",
       "      <td>466</td>\n",
       "    </tr>\n",
       "    <tr>\n",
       "      <th>46</th>\n",
       "      <td>vi</td>\n",
       "      <td>453</td>\n",
       "    </tr>\n",
       "    <tr>\n",
       "      <th>29</th>\n",
       "      <td>nl</td>\n",
       "      <td>439</td>\n",
       "    </tr>\n",
       "    <tr>\n",
       "      <th>43</th>\n",
       "      <td>tr</td>\n",
       "      <td>436</td>\n",
       "    </tr>\n",
       "    <tr>\n",
       "      <th>8</th>\n",
       "      <td>da</td>\n",
       "      <td>418</td>\n",
       "    </tr>\n",
       "    <tr>\n",
       "      <th>30</th>\n",
       "      <td>no</td>\n",
       "      <td>380</td>\n",
       "    </tr>\n",
       "    <tr>\n",
       "      <th>21</th>\n",
       "      <td>id</td>\n",
       "      <td>350</td>\n",
       "    </tr>\n",
       "    <tr>\n",
       "      <th>40</th>\n",
       "      <td>sw</td>\n",
       "      <td>344</td>\n",
       "    </tr>\n",
       "    <tr>\n",
       "      <th>13</th>\n",
       "      <td>et</td>\n",
       "      <td>306</td>\n",
       "    </tr>\n",
       "    <tr>\n",
       "      <th>33</th>\n",
       "      <td>ro</td>\n",
       "      <td>283</td>\n",
       "    </tr>\n",
       "    <tr>\n",
       "      <th>31</th>\n",
       "      <td>pl</td>\n",
       "      <td>273</td>\n",
       "    </tr>\n",
       "    <tr>\n",
       "      <th>15</th>\n",
       "      <td>fi</td>\n",
       "      <td>270</td>\n",
       "    </tr>\n",
       "    <tr>\n",
       "      <th>36</th>\n",
       "      <td>sl</td>\n",
       "      <td>240</td>\n",
       "    </tr>\n",
       "    <tr>\n",
       "      <th>5</th>\n",
       "      <td>ca</td>\n",
       "      <td>227</td>\n",
       "    </tr>\n",
       "    <tr>\n",
       "      <th>19</th>\n",
       "      <td>hr</td>\n",
       "      <td>197</td>\n",
       "    </tr>\n",
       "    <tr>\n",
       "      <th>2</th>\n",
       "      <td>ar</td>\n",
       "      <td>156</td>\n",
       "    </tr>\n",
       "    <tr>\n",
       "      <th>35</th>\n",
       "      <td>sk</td>\n",
       "      <td>140</td>\n",
       "    </tr>\n",
       "    <tr>\n",
       "      <th>20</th>\n",
       "      <td>hu</td>\n",
       "      <td>134</td>\n",
       "    </tr>\n",
       "    <tr>\n",
       "      <th>39</th>\n",
       "      <td>sv</td>\n",
       "      <td>128</td>\n",
       "    </tr>\n",
       "    <tr>\n",
       "      <th>6</th>\n",
       "      <td>cs</td>\n",
       "      <td>128</td>\n",
       "    </tr>\n",
       "    <tr>\n",
       "      <th>38</th>\n",
       "      <td>sq</td>\n",
       "      <td>110</td>\n",
       "    </tr>\n",
       "    <tr>\n",
       "      <th>34</th>\n",
       "      <td>ru</td>\n",
       "      <td>95</td>\n",
       "    </tr>\n",
       "    <tr>\n",
       "      <th>24</th>\n",
       "      <td>ko</td>\n",
       "      <td>78</td>\n",
       "    </tr>\n",
       "    <tr>\n",
       "      <th>41</th>\n",
       "      <td>th</td>\n",
       "      <td>50</td>\n",
       "    </tr>\n",
       "    <tr>\n",
       "      <th>23</th>\n",
       "      <td>ja</td>\n",
       "      <td>38</td>\n",
       "    </tr>\n",
       "    <tr>\n",
       "      <th>25</th>\n",
       "      <td>lt</td>\n",
       "      <td>32</td>\n",
       "    </tr>\n",
       "    <tr>\n",
       "      <th>44</th>\n",
       "      <td>uk</td>\n",
       "      <td>32</td>\n",
       "    </tr>\n",
       "    <tr>\n",
       "      <th>14</th>\n",
       "      <td>fa</td>\n",
       "      <td>28</td>\n",
       "    </tr>\n",
       "    <tr>\n",
       "      <th>3</th>\n",
       "      <td>bg</td>\n",
       "      <td>15</td>\n",
       "    </tr>\n",
       "    <tr>\n",
       "      <th>27</th>\n",
       "      <td>mk</td>\n",
       "      <td>12</td>\n",
       "    </tr>\n",
       "    <tr>\n",
       "      <th>26</th>\n",
       "      <td>lv</td>\n",
       "      <td>11</td>\n",
       "    </tr>\n",
       "    <tr>\n",
       "      <th>47</th>\n",
       "      <td>zh-cn</td>\n",
       "      <td>11</td>\n",
       "    </tr>\n",
       "    <tr>\n",
       "      <th>45</th>\n",
       "      <td>ur</td>\n",
       "      <td>7</td>\n",
       "    </tr>\n",
       "    <tr>\n",
       "      <th>17</th>\n",
       "      <td>he</td>\n",
       "      <td>5</td>\n",
       "    </tr>\n",
       "    <tr>\n",
       "      <th>48</th>\n",
       "      <td>zh-tw</td>\n",
       "      <td>4</td>\n",
       "    </tr>\n",
       "    <tr>\n",
       "      <th>10</th>\n",
       "      <td>el</td>\n",
       "      <td>3</td>\n",
       "    </tr>\n",
       "    <tr>\n",
       "      <th>28</th>\n",
       "      <td>ml</td>\n",
       "      <td>1</td>\n",
       "    </tr>\n",
       "    <tr>\n",
       "      <th>18</th>\n",
       "      <td>hi</td>\n",
       "      <td>1</td>\n",
       "    </tr>\n",
       "    <tr>\n",
       "      <th>4</th>\n",
       "      <td>bn</td>\n",
       "      <td>1</td>\n",
       "    </tr>\n",
       "  </tbody>\n",
       "</table>\n",
       "</div>"
      ],
      "text/plain": [
       "     Lang  Count\n",
       "11     en  21152\n",
       "0   Other   3083\n",
       "32     pt   1801\n",
       "9      de   1642\n",
       "12     es   1312\n",
       "37     so    846\n",
       "22     it    800\n",
       "16     fr    784\n",
       "42     tl    727\n",
       "7      cy    570\n",
       "1      af    466\n",
       "46     vi    453\n",
       "29     nl    439\n",
       "43     tr    436\n",
       "8      da    418\n",
       "30     no    380\n",
       "21     id    350\n",
       "40     sw    344\n",
       "13     et    306\n",
       "33     ro    283\n",
       "31     pl    273\n",
       "15     fi    270\n",
       "36     sl    240\n",
       "5      ca    227\n",
       "19     hr    197\n",
       "2      ar    156\n",
       "35     sk    140\n",
       "20     hu    134\n",
       "39     sv    128\n",
       "6      cs    128\n",
       "38     sq    110\n",
       "34     ru     95\n",
       "24     ko     78\n",
       "41     th     50\n",
       "23     ja     38\n",
       "25     lt     32\n",
       "44     uk     32\n",
       "14     fa     28\n",
       "3      bg     15\n",
       "27     mk     12\n",
       "26     lv     11\n",
       "47  zh-cn     11\n",
       "45     ur      7\n",
       "17     he      5\n",
       "48  zh-tw      4\n",
       "10     el      3\n",
       "28     ml      1\n",
       "18     hi      1\n",
       "4      bn      1"
      ]
     },
     "execution_count": 45,
     "metadata": {},
     "output_type": "execute_result"
    }
   ],
   "source": [
    "df = df_inter1.groupby(['Lang'])['Comment'].count().reset_index(name='Count').sort_values(['Count'], ascending=False)\n",
    "df"
   ]
  },
  {
   "cell_type": "code",
   "execution_count": 46,
   "metadata": {},
   "outputs": [
    {
     "data": {
      "application/vnd.plotly.v1+json": {
       "config": {
        "plotlyServerURL": "https://plot.ly"
       },
       "data": [
        {
         "domain": {
          "x": [
           0,
           1
          ],
          "y": [
           0,
           1
          ]
         },
         "hovertemplate": "Lang=%{label}<br>Count=%{value}<extra></extra>",
         "labels": [
          "en",
          "Other",
          "pt",
          "de",
          "es",
          "so",
          "it",
          "fr",
          "tl",
          "cy",
          "af",
          "vi",
          "nl",
          "tr",
          "da",
          "no",
          "id",
          "sw",
          "et",
          "ro",
          "pl",
          "fi",
          "sl",
          "ca",
          "hr",
          "ar",
          "sk",
          "hu",
          "sv",
          "cs",
          "sq",
          "ru",
          "ko",
          "th",
          "ja",
          "lt",
          "uk",
          "fa",
          "bg",
          "mk",
          "lv",
          "zh-cn",
          "ur",
          "he",
          "zh-tw",
          "el",
          "ml",
          "hi",
          "bn"
         ],
         "legendgroup": "",
         "name": "",
         "showlegend": true,
         "textposition": "inside",
         "type": "pie",
         "values": [
          21152,
          3083,
          1801,
          1642,
          1312,
          846,
          800,
          784,
          727,
          570,
          466,
          453,
          439,
          436,
          418,
          380,
          350,
          344,
          306,
          283,
          273,
          270,
          240,
          227,
          197,
          156,
          140,
          134,
          128,
          128,
          110,
          95,
          78,
          50,
          38,
          32,
          32,
          28,
          15,
          12,
          11,
          11,
          7,
          5,
          4,
          3,
          1,
          1,
          1
         ]
        }
       ],
       "layout": {
        "legend": {
         "tracegroupgap": 0
        },
        "template": {
         "data": {
          "bar": [
           {
            "error_x": {
             "color": "#2a3f5f"
            },
            "error_y": {
             "color": "#2a3f5f"
            },
            "marker": {
             "line": {
              "color": "#E5ECF6",
              "width": 0.5
             },
             "pattern": {
              "fillmode": "overlay",
              "size": 10,
              "solidity": 0.2
             }
            },
            "type": "bar"
           }
          ],
          "barpolar": [
           {
            "marker": {
             "line": {
              "color": "#E5ECF6",
              "width": 0.5
             },
             "pattern": {
              "fillmode": "overlay",
              "size": 10,
              "solidity": 0.2
             }
            },
            "type": "barpolar"
           }
          ],
          "carpet": [
           {
            "aaxis": {
             "endlinecolor": "#2a3f5f",
             "gridcolor": "white",
             "linecolor": "white",
             "minorgridcolor": "white",
             "startlinecolor": "#2a3f5f"
            },
            "baxis": {
             "endlinecolor": "#2a3f5f",
             "gridcolor": "white",
             "linecolor": "white",
             "minorgridcolor": "white",
             "startlinecolor": "#2a3f5f"
            },
            "type": "carpet"
           }
          ],
          "choropleth": [
           {
            "colorbar": {
             "outlinewidth": 0,
             "ticks": ""
            },
            "type": "choropleth"
           }
          ],
          "contour": [
           {
            "colorbar": {
             "outlinewidth": 0,
             "ticks": ""
            },
            "colorscale": [
             [
              0,
              "#0d0887"
             ],
             [
              0.1111111111111111,
              "#46039f"
             ],
             [
              0.2222222222222222,
              "#7201a8"
             ],
             [
              0.3333333333333333,
              "#9c179e"
             ],
             [
              0.4444444444444444,
              "#bd3786"
             ],
             [
              0.5555555555555556,
              "#d8576b"
             ],
             [
              0.6666666666666666,
              "#ed7953"
             ],
             [
              0.7777777777777778,
              "#fb9f3a"
             ],
             [
              0.8888888888888888,
              "#fdca26"
             ],
             [
              1,
              "#f0f921"
             ]
            ],
            "type": "contour"
           }
          ],
          "contourcarpet": [
           {
            "colorbar": {
             "outlinewidth": 0,
             "ticks": ""
            },
            "type": "contourcarpet"
           }
          ],
          "heatmap": [
           {
            "colorbar": {
             "outlinewidth": 0,
             "ticks": ""
            },
            "colorscale": [
             [
              0,
              "#0d0887"
             ],
             [
              0.1111111111111111,
              "#46039f"
             ],
             [
              0.2222222222222222,
              "#7201a8"
             ],
             [
              0.3333333333333333,
              "#9c179e"
             ],
             [
              0.4444444444444444,
              "#bd3786"
             ],
             [
              0.5555555555555556,
              "#d8576b"
             ],
             [
              0.6666666666666666,
              "#ed7953"
             ],
             [
              0.7777777777777778,
              "#fb9f3a"
             ],
             [
              0.8888888888888888,
              "#fdca26"
             ],
             [
              1,
              "#f0f921"
             ]
            ],
            "type": "heatmap"
           }
          ],
          "heatmapgl": [
           {
            "colorbar": {
             "outlinewidth": 0,
             "ticks": ""
            },
            "colorscale": [
             [
              0,
              "#0d0887"
             ],
             [
              0.1111111111111111,
              "#46039f"
             ],
             [
              0.2222222222222222,
              "#7201a8"
             ],
             [
              0.3333333333333333,
              "#9c179e"
             ],
             [
              0.4444444444444444,
              "#bd3786"
             ],
             [
              0.5555555555555556,
              "#d8576b"
             ],
             [
              0.6666666666666666,
              "#ed7953"
             ],
             [
              0.7777777777777778,
              "#fb9f3a"
             ],
             [
              0.8888888888888888,
              "#fdca26"
             ],
             [
              1,
              "#f0f921"
             ]
            ],
            "type": "heatmapgl"
           }
          ],
          "histogram": [
           {
            "marker": {
             "pattern": {
              "fillmode": "overlay",
              "size": 10,
              "solidity": 0.2
             }
            },
            "type": "histogram"
           }
          ],
          "histogram2d": [
           {
            "colorbar": {
             "outlinewidth": 0,
             "ticks": ""
            },
            "colorscale": [
             [
              0,
              "#0d0887"
             ],
             [
              0.1111111111111111,
              "#46039f"
             ],
             [
              0.2222222222222222,
              "#7201a8"
             ],
             [
              0.3333333333333333,
              "#9c179e"
             ],
             [
              0.4444444444444444,
              "#bd3786"
             ],
             [
              0.5555555555555556,
              "#d8576b"
             ],
             [
              0.6666666666666666,
              "#ed7953"
             ],
             [
              0.7777777777777778,
              "#fb9f3a"
             ],
             [
              0.8888888888888888,
              "#fdca26"
             ],
             [
              1,
              "#f0f921"
             ]
            ],
            "type": "histogram2d"
           }
          ],
          "histogram2dcontour": [
           {
            "colorbar": {
             "outlinewidth": 0,
             "ticks": ""
            },
            "colorscale": [
             [
              0,
              "#0d0887"
             ],
             [
              0.1111111111111111,
              "#46039f"
             ],
             [
              0.2222222222222222,
              "#7201a8"
             ],
             [
              0.3333333333333333,
              "#9c179e"
             ],
             [
              0.4444444444444444,
              "#bd3786"
             ],
             [
              0.5555555555555556,
              "#d8576b"
             ],
             [
              0.6666666666666666,
              "#ed7953"
             ],
             [
              0.7777777777777778,
              "#fb9f3a"
             ],
             [
              0.8888888888888888,
              "#fdca26"
             ],
             [
              1,
              "#f0f921"
             ]
            ],
            "type": "histogram2dcontour"
           }
          ],
          "mesh3d": [
           {
            "colorbar": {
             "outlinewidth": 0,
             "ticks": ""
            },
            "type": "mesh3d"
           }
          ],
          "parcoords": [
           {
            "line": {
             "colorbar": {
              "outlinewidth": 0,
              "ticks": ""
             }
            },
            "type": "parcoords"
           }
          ],
          "pie": [
           {
            "automargin": true,
            "type": "pie"
           }
          ],
          "scatter": [
           {
            "fillpattern": {
             "fillmode": "overlay",
             "size": 10,
             "solidity": 0.2
            },
            "type": "scatter"
           }
          ],
          "scatter3d": [
           {
            "line": {
             "colorbar": {
              "outlinewidth": 0,
              "ticks": ""
             }
            },
            "marker": {
             "colorbar": {
              "outlinewidth": 0,
              "ticks": ""
             }
            },
            "type": "scatter3d"
           }
          ],
          "scattercarpet": [
           {
            "marker": {
             "colorbar": {
              "outlinewidth": 0,
              "ticks": ""
             }
            },
            "type": "scattercarpet"
           }
          ],
          "scattergeo": [
           {
            "marker": {
             "colorbar": {
              "outlinewidth": 0,
              "ticks": ""
             }
            },
            "type": "scattergeo"
           }
          ],
          "scattergl": [
           {
            "marker": {
             "colorbar": {
              "outlinewidth": 0,
              "ticks": ""
             }
            },
            "type": "scattergl"
           }
          ],
          "scattermapbox": [
           {
            "marker": {
             "colorbar": {
              "outlinewidth": 0,
              "ticks": ""
             }
            },
            "type": "scattermapbox"
           }
          ],
          "scatterpolar": [
           {
            "marker": {
             "colorbar": {
              "outlinewidth": 0,
              "ticks": ""
             }
            },
            "type": "scatterpolar"
           }
          ],
          "scatterpolargl": [
           {
            "marker": {
             "colorbar": {
              "outlinewidth": 0,
              "ticks": ""
             }
            },
            "type": "scatterpolargl"
           }
          ],
          "scatterternary": [
           {
            "marker": {
             "colorbar": {
              "outlinewidth": 0,
              "ticks": ""
             }
            },
            "type": "scatterternary"
           }
          ],
          "surface": [
           {
            "colorbar": {
             "outlinewidth": 0,
             "ticks": ""
            },
            "colorscale": [
             [
              0,
              "#0d0887"
             ],
             [
              0.1111111111111111,
              "#46039f"
             ],
             [
              0.2222222222222222,
              "#7201a8"
             ],
             [
              0.3333333333333333,
              "#9c179e"
             ],
             [
              0.4444444444444444,
              "#bd3786"
             ],
             [
              0.5555555555555556,
              "#d8576b"
             ],
             [
              0.6666666666666666,
              "#ed7953"
             ],
             [
              0.7777777777777778,
              "#fb9f3a"
             ],
             [
              0.8888888888888888,
              "#fdca26"
             ],
             [
              1,
              "#f0f921"
             ]
            ],
            "type": "surface"
           }
          ],
          "table": [
           {
            "cells": {
             "fill": {
              "color": "#EBF0F8"
             },
             "line": {
              "color": "white"
             }
            },
            "header": {
             "fill": {
              "color": "#C8D4E3"
             },
             "line": {
              "color": "white"
             }
            },
            "type": "table"
           }
          ]
         },
         "layout": {
          "annotationdefaults": {
           "arrowcolor": "#2a3f5f",
           "arrowhead": 0,
           "arrowwidth": 1
          },
          "autotypenumbers": "strict",
          "coloraxis": {
           "colorbar": {
            "outlinewidth": 0,
            "ticks": ""
           }
          },
          "colorscale": {
           "diverging": [
            [
             0,
             "#8e0152"
            ],
            [
             0.1,
             "#c51b7d"
            ],
            [
             0.2,
             "#de77ae"
            ],
            [
             0.3,
             "#f1b6da"
            ],
            [
             0.4,
             "#fde0ef"
            ],
            [
             0.5,
             "#f7f7f7"
            ],
            [
             0.6,
             "#e6f5d0"
            ],
            [
             0.7,
             "#b8e186"
            ],
            [
             0.8,
             "#7fbc41"
            ],
            [
             0.9,
             "#4d9221"
            ],
            [
             1,
             "#276419"
            ]
           ],
           "sequential": [
            [
             0,
             "#0d0887"
            ],
            [
             0.1111111111111111,
             "#46039f"
            ],
            [
             0.2222222222222222,
             "#7201a8"
            ],
            [
             0.3333333333333333,
             "#9c179e"
            ],
            [
             0.4444444444444444,
             "#bd3786"
            ],
            [
             0.5555555555555556,
             "#d8576b"
            ],
            [
             0.6666666666666666,
             "#ed7953"
            ],
            [
             0.7777777777777778,
             "#fb9f3a"
            ],
            [
             0.8888888888888888,
             "#fdca26"
            ],
            [
             1,
             "#f0f921"
            ]
           ],
           "sequentialminus": [
            [
             0,
             "#0d0887"
            ],
            [
             0.1111111111111111,
             "#46039f"
            ],
            [
             0.2222222222222222,
             "#7201a8"
            ],
            [
             0.3333333333333333,
             "#9c179e"
            ],
            [
             0.4444444444444444,
             "#bd3786"
            ],
            [
             0.5555555555555556,
             "#d8576b"
            ],
            [
             0.6666666666666666,
             "#ed7953"
            ],
            [
             0.7777777777777778,
             "#fb9f3a"
            ],
            [
             0.8888888888888888,
             "#fdca26"
            ],
            [
             1,
             "#f0f921"
            ]
           ]
          },
          "colorway": [
           "#636efa",
           "#EF553B",
           "#00cc96",
           "#ab63fa",
           "#FFA15A",
           "#19d3f3",
           "#FF6692",
           "#B6E880",
           "#FF97FF",
           "#FECB52"
          ],
          "font": {
           "color": "#2a3f5f"
          },
          "geo": {
           "bgcolor": "white",
           "lakecolor": "white",
           "landcolor": "#E5ECF6",
           "showlakes": true,
           "showland": true,
           "subunitcolor": "white"
          },
          "hoverlabel": {
           "align": "left"
          },
          "hovermode": "closest",
          "mapbox": {
           "style": "light"
          },
          "paper_bgcolor": "white",
          "plot_bgcolor": "#E5ECF6",
          "polar": {
           "angularaxis": {
            "gridcolor": "white",
            "linecolor": "white",
            "ticks": ""
           },
           "bgcolor": "#E5ECF6",
           "radialaxis": {
            "gridcolor": "white",
            "linecolor": "white",
            "ticks": ""
           }
          },
          "scene": {
           "xaxis": {
            "backgroundcolor": "#E5ECF6",
            "gridcolor": "white",
            "gridwidth": 2,
            "linecolor": "white",
            "showbackground": true,
            "ticks": "",
            "zerolinecolor": "white"
           },
           "yaxis": {
            "backgroundcolor": "#E5ECF6",
            "gridcolor": "white",
            "gridwidth": 2,
            "linecolor": "white",
            "showbackground": true,
            "ticks": "",
            "zerolinecolor": "white"
           },
           "zaxis": {
            "backgroundcolor": "#E5ECF6",
            "gridcolor": "white",
            "gridwidth": 2,
            "linecolor": "white",
            "showbackground": true,
            "ticks": "",
            "zerolinecolor": "white"
           }
          },
          "shapedefaults": {
           "line": {
            "color": "#2a3f5f"
           }
          },
          "ternary": {
           "aaxis": {
            "gridcolor": "white",
            "linecolor": "white",
            "ticks": ""
           },
           "baxis": {
            "gridcolor": "white",
            "linecolor": "white",
            "ticks": ""
           },
           "bgcolor": "#E5ECF6",
           "caxis": {
            "gridcolor": "white",
            "linecolor": "white",
            "ticks": ""
           }
          },
          "title": {
           "x": 0.05
          },
          "xaxis": {
           "automargin": true,
           "gridcolor": "white",
           "linecolor": "white",
           "ticks": "",
           "title": {
            "standoff": 15
           },
           "zerolinecolor": "white",
           "zerolinewidth": 2
          },
          "yaxis": {
           "automargin": true,
           "gridcolor": "white",
           "linecolor": "white",
           "ticks": "",
           "title": {
            "standoff": 15
           },
           "zerolinecolor": "white",
           "zerolinewidth": 2
          }
         }
        },
        "title": {
         "text": "BIRDS OF A FEATHER"
        },
        "uniformtext": {
         "minsize": 12,
         "mode": "hide"
        }
       }
      }
     },
     "metadata": {},
     "output_type": "display_data"
    }
   ],
   "source": [
    "fig = px.pie(df, values='Count', names='Lang',title='BIRDS OF A FEATHER')\n",
    "fig.update_traces(textposition='inside')\n",
    "fig.update_layout(uniformtext_minsize=12, uniformtext_mode='hide')\n",
    "fig.show()"
   ]
  },
  {
   "cell_type": "code",
   "execution_count": 47,
   "metadata": {},
   "outputs": [],
   "source": [
    "df_inter2 = pd.read_csv('Die With a Smile.csv', index_col=0)"
   ]
  },
  {
   "cell_type": "code",
   "execution_count": 48,
   "metadata": {},
   "outputs": [
    {
     "data": {
      "text/html": [
       "<div>\n",
       "<style scoped>\n",
       "    .dataframe tbody tr th:only-of-type {\n",
       "        vertical-align: middle;\n",
       "    }\n",
       "\n",
       "    .dataframe tbody tr th {\n",
       "        vertical-align: top;\n",
       "    }\n",
       "\n",
       "    .dataframe thead th {\n",
       "        text-align: right;\n",
       "    }\n",
       "</style>\n",
       "<table border=\"1\" class=\"dataframe\">\n",
       "  <thead>\n",
       "    <tr style=\"text-align: right;\">\n",
       "      <th></th>\n",
       "      <th>Timestamp</th>\n",
       "      <th>Username</th>\n",
       "      <th>VideoID</th>\n",
       "      <th>Comment</th>\n",
       "      <th>Date</th>\n",
       "      <th>Lang</th>\n",
       "    </tr>\n",
       "  </thead>\n",
       "  <tbody>\n",
       "    <tr>\n",
       "      <th>0</th>\n",
       "      <td>2024-10-10T06:48:11Z</td>\n",
       "      <td>@davecrossman2297</td>\n",
       "      <td>kPa7bsKwL-c</td>\n",
       "      <td>Harris Lisa Perez Melissa Young Dorothy</td>\n",
       "      <td>2024-10-10T06:48:11Z</td>\n",
       "      <td>en</td>\n",
       "    </tr>\n",
       "    <tr>\n",
       "      <th>1</th>\n",
       "      <td>2024-10-10T06:31:29Z</td>\n",
       "      <td>@monistar510</td>\n",
       "      <td>kPa7bsKwL-c</td>\n",
       "      <td>Good music becomes extinct  Bruno Mars save th...</td>\n",
       "      <td>2024-10-10T06:31:29Z</td>\n",
       "      <td>en</td>\n",
       "    </tr>\n",
       "    <tr>\n",
       "      <th>2</th>\n",
       "      <td>2024-10-10T06:29:15Z</td>\n",
       "      <td>@llytl</td>\n",
       "      <td>kPa7bsKwL-c</td>\n",
       "      <td>I, I just woke up from a dream\\nWhere you and ...</td>\n",
       "      <td>2024-10-10T06:29:15Z</td>\n",
       "      <td>en</td>\n",
       "    </tr>\n",
       "    <tr>\n",
       "      <th>3</th>\n",
       "      <td>2024-10-10T06:25:06Z</td>\n",
       "      <td>@MelvilleAlbert-h2j</td>\n",
       "      <td>kPa7bsKwL-c</td>\n",
       "      <td>White David White Barbara Lee Thomas</td>\n",
       "      <td>2024-10-10T06:25:06Z</td>\n",
       "      <td>en</td>\n",
       "    </tr>\n",
       "    <tr>\n",
       "      <th>4</th>\n",
       "      <td>2024-10-10T06:16:38Z</td>\n",
       "      <td>@tuongnguyen5617</td>\n",
       "      <td>kPa7bsKwL-c</td>\n",
       "      <td>lyrics\\n\\nI I just woke up from a dream\\nBut y...</td>\n",
       "      <td>2024-10-10T06:16:38Z</td>\n",
       "      <td>en</td>\n",
       "    </tr>\n",
       "    <tr>\n",
       "      <th>...</th>\n",
       "      <td>...</td>\n",
       "      <td>...</td>\n",
       "      <td>...</td>\n",
       "      <td>...</td>\n",
       "      <td>...</td>\n",
       "      <td>...</td>\n",
       "    </tr>\n",
       "    <tr>\n",
       "      <th>95499</th>\n",
       "      <td>2024-08-16T04:18:48Z</td>\n",
       "      <td>@hansschulbach2856</td>\n",
       "      <td>kPa7bsKwL-c</td>\n",
       "      <td>Jajajaj mother monster devorandoo y aun no sal...</td>\n",
       "      <td>2024-08-16T04:18:48Z</td>\n",
       "      <td>es</td>\n",
       "    </tr>\n",
       "    <tr>\n",
       "      <th>95500</th>\n",
       "      <td>2024-08-16T04:00:47Z</td>\n",
       "      <td>@goglitoi</td>\n",
       "      <td>kPa7bsKwL-c</td>\n",
       "      <td>1rs</td>\n",
       "      <td>2024-08-16T04:00:47Z</td>\n",
       "      <td>sv</td>\n",
       "    </tr>\n",
       "    <tr>\n",
       "      <th>95501</th>\n",
       "      <td>2024-08-16T04:00:46Z</td>\n",
       "      <td>@cbmusic09</td>\n",
       "      <td>kPa7bsKwL-c</td>\n",
       "      <td>FIRST!!!</td>\n",
       "      <td>2024-08-16T04:00:46Z</td>\n",
       "      <td>en</td>\n",
       "    </tr>\n",
       "    <tr>\n",
       "      <th>95502</th>\n",
       "      <td>2024-08-16T04:01:15Z</td>\n",
       "      <td>@ThatRandomCyndaquiI</td>\n",
       "      <td>kPa7bsKwL-c</td>\n",
       "      <td>congrats dude</td>\n",
       "      <td>2024-08-16T04:01:15Z</td>\n",
       "      <td>fr</td>\n",
       "    </tr>\n",
       "    <tr>\n",
       "      <th>95503</th>\n",
       "      <td>2024-08-16T04:01:35Z</td>\n",
       "      <td>@bloodsmoke7684</td>\n",
       "      <td>kPa7bsKwL-c</td>\n",
       "      <td>Dawg made history</td>\n",
       "      <td>2024-08-16T04:01:35Z</td>\n",
       "      <td>en</td>\n",
       "    </tr>\n",
       "  </tbody>\n",
       "</table>\n",
       "<p>95504 rows × 6 columns</p>\n",
       "</div>"
      ],
      "text/plain": [
       "                  Timestamp              Username      VideoID  \\\n",
       "0      2024-10-10T06:48:11Z     @davecrossman2297  kPa7bsKwL-c   \n",
       "1      2024-10-10T06:31:29Z          @monistar510  kPa7bsKwL-c   \n",
       "2      2024-10-10T06:29:15Z                @llytl  kPa7bsKwL-c   \n",
       "3      2024-10-10T06:25:06Z   @MelvilleAlbert-h2j  kPa7bsKwL-c   \n",
       "4      2024-10-10T06:16:38Z      @tuongnguyen5617  kPa7bsKwL-c   \n",
       "...                     ...                   ...          ...   \n",
       "95499  2024-08-16T04:18:48Z    @hansschulbach2856  kPa7bsKwL-c   \n",
       "95500  2024-08-16T04:00:47Z             @goglitoi  kPa7bsKwL-c   \n",
       "95501  2024-08-16T04:00:46Z            @cbmusic09  kPa7bsKwL-c   \n",
       "95502  2024-08-16T04:01:15Z  @ThatRandomCyndaquiI  kPa7bsKwL-c   \n",
       "95503  2024-08-16T04:01:35Z       @bloodsmoke7684  kPa7bsKwL-c   \n",
       "\n",
       "                                                 Comment  \\\n",
       "0                Harris Lisa Perez Melissa Young Dorothy   \n",
       "1      Good music becomes extinct  Bruno Mars save th...   \n",
       "2      I, I just woke up from a dream\\nWhere you and ...   \n",
       "3                   White David White Barbara Lee Thomas   \n",
       "4      lyrics\\n\\nI I just woke up from a dream\\nBut y...   \n",
       "...                                                  ...   \n",
       "95499  Jajajaj mother monster devorandoo y aun no sal...   \n",
       "95500                                                1rs   \n",
       "95501                                           FIRST!!!   \n",
       "95502                                      congrats dude   \n",
       "95503                                  Dawg made history   \n",
       "\n",
       "                       Date Lang  \n",
       "0      2024-10-10T06:48:11Z   en  \n",
       "1      2024-10-10T06:31:29Z   en  \n",
       "2      2024-10-10T06:29:15Z   en  \n",
       "3      2024-10-10T06:25:06Z   en  \n",
       "4      2024-10-10T06:16:38Z   en  \n",
       "...                     ...  ...  \n",
       "95499  2024-08-16T04:18:48Z   es  \n",
       "95500  2024-08-16T04:00:47Z   sv  \n",
       "95501  2024-08-16T04:00:46Z   en  \n",
       "95502  2024-08-16T04:01:15Z   fr  \n",
       "95503  2024-08-16T04:01:35Z   en  \n",
       "\n",
       "[95504 rows x 6 columns]"
      ]
     },
     "execution_count": 48,
     "metadata": {},
     "output_type": "execute_result"
    }
   ],
   "source": [
    "df_inter2"
   ]
  },
  {
   "cell_type": "code",
   "execution_count": 49,
   "metadata": {},
   "outputs": [
    {
     "data": {
      "text/html": [
       "<div>\n",
       "<style scoped>\n",
       "    .dataframe tbody tr th:only-of-type {\n",
       "        vertical-align: middle;\n",
       "    }\n",
       "\n",
       "    .dataframe tbody tr th {\n",
       "        vertical-align: top;\n",
       "    }\n",
       "\n",
       "    .dataframe thead th {\n",
       "        text-align: right;\n",
       "    }\n",
       "</style>\n",
       "<table border=\"1\" class=\"dataframe\">\n",
       "  <thead>\n",
       "    <tr style=\"text-align: right;\">\n",
       "      <th></th>\n",
       "      <th>Date</th>\n",
       "      <th>Username</th>\n",
       "      <th>VideoID</th>\n",
       "      <th>Comment</th>\n",
       "    </tr>\n",
       "  </thead>\n",
       "  <tbody>\n",
       "    <tr>\n",
       "      <th>0</th>\n",
       "      <td>2024-10-10T06:48:11Z</td>\n",
       "      <td>@davecrossman2297</td>\n",
       "      <td>kPa7bsKwL-c</td>\n",
       "      <td>Harris Lisa Perez Melissa Young Dorothy</td>\n",
       "    </tr>\n",
       "    <tr>\n",
       "      <th>1</th>\n",
       "      <td>2024-10-10T06:31:29Z</td>\n",
       "      <td>@monistar510</td>\n",
       "      <td>kPa7bsKwL-c</td>\n",
       "      <td>Good music becomes extinct  Bruno Mars save th...</td>\n",
       "    </tr>\n",
       "    <tr>\n",
       "      <th>2</th>\n",
       "      <td>2024-10-10T06:29:15Z</td>\n",
       "      <td>@llytl</td>\n",
       "      <td>kPa7bsKwL-c</td>\n",
       "      <td>I, I just woke up from a dream\\nWhere you and ...</td>\n",
       "    </tr>\n",
       "    <tr>\n",
       "      <th>3</th>\n",
       "      <td>2024-10-10T06:25:06Z</td>\n",
       "      <td>@MelvilleAlbert-h2j</td>\n",
       "      <td>kPa7bsKwL-c</td>\n",
       "      <td>White David White Barbara Lee Thomas</td>\n",
       "    </tr>\n",
       "    <tr>\n",
       "      <th>4</th>\n",
       "      <td>2024-10-10T06:16:38Z</td>\n",
       "      <td>@tuongnguyen5617</td>\n",
       "      <td>kPa7bsKwL-c</td>\n",
       "      <td>lyrics\\n\\nI I just woke up from a dream\\nBut y...</td>\n",
       "    </tr>\n",
       "    <tr>\n",
       "      <th>...</th>\n",
       "      <td>...</td>\n",
       "      <td>...</td>\n",
       "      <td>...</td>\n",
       "      <td>...</td>\n",
       "    </tr>\n",
       "    <tr>\n",
       "      <th>95499</th>\n",
       "      <td>2024-08-16T04:18:48Z</td>\n",
       "      <td>@hansschulbach2856</td>\n",
       "      <td>kPa7bsKwL-c</td>\n",
       "      <td>Jajajaj mother monster devorandoo y aun no sal...</td>\n",
       "    </tr>\n",
       "    <tr>\n",
       "      <th>95500</th>\n",
       "      <td>2024-08-16T04:00:47Z</td>\n",
       "      <td>@goglitoi</td>\n",
       "      <td>kPa7bsKwL-c</td>\n",
       "      <td>1rs</td>\n",
       "    </tr>\n",
       "    <tr>\n",
       "      <th>95501</th>\n",
       "      <td>2024-08-16T04:00:46Z</td>\n",
       "      <td>@cbmusic09</td>\n",
       "      <td>kPa7bsKwL-c</td>\n",
       "      <td>FIRST!!!</td>\n",
       "    </tr>\n",
       "    <tr>\n",
       "      <th>95502</th>\n",
       "      <td>2024-08-16T04:01:15Z</td>\n",
       "      <td>@ThatRandomCyndaquiI</td>\n",
       "      <td>kPa7bsKwL-c</td>\n",
       "      <td>congrats dude</td>\n",
       "    </tr>\n",
       "    <tr>\n",
       "      <th>95503</th>\n",
       "      <td>2024-08-16T04:01:35Z</td>\n",
       "      <td>@bloodsmoke7684</td>\n",
       "      <td>kPa7bsKwL-c</td>\n",
       "      <td>Dawg made history</td>\n",
       "    </tr>\n",
       "  </tbody>\n",
       "</table>\n",
       "<p>95504 rows × 4 columns</p>\n",
       "</div>"
      ],
      "text/plain": [
       "                       Date              Username      VideoID  \\\n",
       "0      2024-10-10T06:48:11Z     @davecrossman2297  kPa7bsKwL-c   \n",
       "1      2024-10-10T06:31:29Z          @monistar510  kPa7bsKwL-c   \n",
       "2      2024-10-10T06:29:15Z                @llytl  kPa7bsKwL-c   \n",
       "3      2024-10-10T06:25:06Z   @MelvilleAlbert-h2j  kPa7bsKwL-c   \n",
       "4      2024-10-10T06:16:38Z      @tuongnguyen5617  kPa7bsKwL-c   \n",
       "...                     ...                   ...          ...   \n",
       "95499  2024-08-16T04:18:48Z    @hansschulbach2856  kPa7bsKwL-c   \n",
       "95500  2024-08-16T04:00:47Z             @goglitoi  kPa7bsKwL-c   \n",
       "95501  2024-08-16T04:00:46Z            @cbmusic09  kPa7bsKwL-c   \n",
       "95502  2024-08-16T04:01:15Z  @ThatRandomCyndaquiI  kPa7bsKwL-c   \n",
       "95503  2024-08-16T04:01:35Z       @bloodsmoke7684  kPa7bsKwL-c   \n",
       "\n",
       "                                                 Comment  \n",
       "0                Harris Lisa Perez Melissa Young Dorothy  \n",
       "1      Good music becomes extinct  Bruno Mars save th...  \n",
       "2      I, I just woke up from a dream\\nWhere you and ...  \n",
       "3                   White David White Barbara Lee Thomas  \n",
       "4      lyrics\\n\\nI I just woke up from a dream\\nBut y...  \n",
       "...                                                  ...  \n",
       "95499  Jajajaj mother monster devorandoo y aun no sal...  \n",
       "95500                                                1rs  \n",
       "95501                                           FIRST!!!  \n",
       "95502                                      congrats dude  \n",
       "95503                                  Dawg made history  \n",
       "\n",
       "[95504 rows x 4 columns]"
      ]
     },
     "execution_count": 49,
     "metadata": {},
     "output_type": "execute_result"
    }
   ],
   "source": [
    "df_inter2.drop(['Timestamp'], axis=1,inplace=True)\n",
    "df_inter2 = df_inter2.iloc[:,[3,0,1,2]]\n",
    "df_inter2"
   ]
  },
  {
   "cell_type": "code",
   "execution_count": 50,
   "metadata": {},
   "outputs": [],
   "source": [
    "from langdetect import detect\n",
    "def det(x):\n",
    "    try:\n",
    "        lang = detect(x)\n",
    "    except:\n",
    "        lang = 'Other'\n",
    "    return lang\n",
    "\n",
    "df_inter2['Lang'] = df_inter2['Comment'].apply(det)"
   ]
  },
  {
   "cell_type": "code",
   "execution_count": 51,
   "metadata": {},
   "outputs": [
    {
     "data": {
      "text/html": [
       "<div>\n",
       "<style scoped>\n",
       "    .dataframe tbody tr th:only-of-type {\n",
       "        vertical-align: middle;\n",
       "    }\n",
       "\n",
       "    .dataframe tbody tr th {\n",
       "        vertical-align: top;\n",
       "    }\n",
       "\n",
       "    .dataframe thead th {\n",
       "        text-align: right;\n",
       "    }\n",
       "</style>\n",
       "<table border=\"1\" class=\"dataframe\">\n",
       "  <thead>\n",
       "    <tr style=\"text-align: right;\">\n",
       "      <th></th>\n",
       "      <th>Date</th>\n",
       "      <th>Username</th>\n",
       "      <th>VideoID</th>\n",
       "      <th>Comment</th>\n",
       "      <th>Lang</th>\n",
       "    </tr>\n",
       "  </thead>\n",
       "  <tbody>\n",
       "    <tr>\n",
       "      <th>0</th>\n",
       "      <td>2024-10-10T06:48:11Z</td>\n",
       "      <td>@davecrossman2297</td>\n",
       "      <td>kPa7bsKwL-c</td>\n",
       "      <td>Harris Lisa Perez Melissa Young Dorothy</td>\n",
       "      <td>en</td>\n",
       "    </tr>\n",
       "    <tr>\n",
       "      <th>1</th>\n",
       "      <td>2024-10-10T06:31:29Z</td>\n",
       "      <td>@monistar510</td>\n",
       "      <td>kPa7bsKwL-c</td>\n",
       "      <td>Good music becomes extinct  Bruno Mars save th...</td>\n",
       "      <td>en</td>\n",
       "    </tr>\n",
       "    <tr>\n",
       "      <th>2</th>\n",
       "      <td>2024-10-10T06:29:15Z</td>\n",
       "      <td>@llytl</td>\n",
       "      <td>kPa7bsKwL-c</td>\n",
       "      <td>I, I just woke up from a dream\\nWhere you and ...</td>\n",
       "      <td>en</td>\n",
       "    </tr>\n",
       "    <tr>\n",
       "      <th>3</th>\n",
       "      <td>2024-10-10T06:25:06Z</td>\n",
       "      <td>@MelvilleAlbert-h2j</td>\n",
       "      <td>kPa7bsKwL-c</td>\n",
       "      <td>White David White Barbara Lee Thomas</td>\n",
       "      <td>en</td>\n",
       "    </tr>\n",
       "    <tr>\n",
       "      <th>4</th>\n",
       "      <td>2024-10-10T06:16:38Z</td>\n",
       "      <td>@tuongnguyen5617</td>\n",
       "      <td>kPa7bsKwL-c</td>\n",
       "      <td>lyrics\\n\\nI I just woke up from a dream\\nBut y...</td>\n",
       "      <td>en</td>\n",
       "    </tr>\n",
       "    <tr>\n",
       "      <th>...</th>\n",
       "      <td>...</td>\n",
       "      <td>...</td>\n",
       "      <td>...</td>\n",
       "      <td>...</td>\n",
       "      <td>...</td>\n",
       "    </tr>\n",
       "    <tr>\n",
       "      <th>95499</th>\n",
       "      <td>2024-08-16T04:18:48Z</td>\n",
       "      <td>@hansschulbach2856</td>\n",
       "      <td>kPa7bsKwL-c</td>\n",
       "      <td>Jajajaj mother monster devorandoo y aun no sal...</td>\n",
       "      <td>es</td>\n",
       "    </tr>\n",
       "    <tr>\n",
       "      <th>95500</th>\n",
       "      <td>2024-08-16T04:00:47Z</td>\n",
       "      <td>@goglitoi</td>\n",
       "      <td>kPa7bsKwL-c</td>\n",
       "      <td>1rs</td>\n",
       "      <td>sv</td>\n",
       "    </tr>\n",
       "    <tr>\n",
       "      <th>95501</th>\n",
       "      <td>2024-08-16T04:00:46Z</td>\n",
       "      <td>@cbmusic09</td>\n",
       "      <td>kPa7bsKwL-c</td>\n",
       "      <td>FIRST!!!</td>\n",
       "      <td>en</td>\n",
       "    </tr>\n",
       "    <tr>\n",
       "      <th>95502</th>\n",
       "      <td>2024-08-16T04:01:15Z</td>\n",
       "      <td>@ThatRandomCyndaquiI</td>\n",
       "      <td>kPa7bsKwL-c</td>\n",
       "      <td>congrats dude</td>\n",
       "      <td>fr</td>\n",
       "    </tr>\n",
       "    <tr>\n",
       "      <th>95503</th>\n",
       "      <td>2024-08-16T04:01:35Z</td>\n",
       "      <td>@bloodsmoke7684</td>\n",
       "      <td>kPa7bsKwL-c</td>\n",
       "      <td>Dawg made history</td>\n",
       "      <td>en</td>\n",
       "    </tr>\n",
       "  </tbody>\n",
       "</table>\n",
       "<p>95504 rows × 5 columns</p>\n",
       "</div>"
      ],
      "text/plain": [
       "                       Date              Username      VideoID  \\\n",
       "0      2024-10-10T06:48:11Z     @davecrossman2297  kPa7bsKwL-c   \n",
       "1      2024-10-10T06:31:29Z          @monistar510  kPa7bsKwL-c   \n",
       "2      2024-10-10T06:29:15Z                @llytl  kPa7bsKwL-c   \n",
       "3      2024-10-10T06:25:06Z   @MelvilleAlbert-h2j  kPa7bsKwL-c   \n",
       "4      2024-10-10T06:16:38Z      @tuongnguyen5617  kPa7bsKwL-c   \n",
       "...                     ...                   ...          ...   \n",
       "95499  2024-08-16T04:18:48Z    @hansschulbach2856  kPa7bsKwL-c   \n",
       "95500  2024-08-16T04:00:47Z             @goglitoi  kPa7bsKwL-c   \n",
       "95501  2024-08-16T04:00:46Z            @cbmusic09  kPa7bsKwL-c   \n",
       "95502  2024-08-16T04:01:15Z  @ThatRandomCyndaquiI  kPa7bsKwL-c   \n",
       "95503  2024-08-16T04:01:35Z       @bloodsmoke7684  kPa7bsKwL-c   \n",
       "\n",
       "                                                 Comment Lang  \n",
       "0                Harris Lisa Perez Melissa Young Dorothy   en  \n",
       "1      Good music becomes extinct  Bruno Mars save th...   en  \n",
       "2      I, I just woke up from a dream\\nWhere you and ...   en  \n",
       "3                   White David White Barbara Lee Thomas   en  \n",
       "4      lyrics\\n\\nI I just woke up from a dream\\nBut y...   en  \n",
       "...                                                  ...  ...  \n",
       "95499  Jajajaj mother monster devorandoo y aun no sal...   es  \n",
       "95500                                                1rs   sv  \n",
       "95501                                           FIRST!!!   en  \n",
       "95502                                      congrats dude   fr  \n",
       "95503                                  Dawg made history   en  \n",
       "\n",
       "[95504 rows x 5 columns]"
      ]
     },
     "execution_count": 51,
     "metadata": {},
     "output_type": "execute_result"
    }
   ],
   "source": [
    "df_inter2"
   ]
  },
  {
   "cell_type": "code",
   "execution_count": 52,
   "metadata": {},
   "outputs": [
    {
     "data": {
      "text/html": [
       "<div>\n",
       "<style scoped>\n",
       "    .dataframe tbody tr th:only-of-type {\n",
       "        vertical-align: middle;\n",
       "    }\n",
       "\n",
       "    .dataframe tbody tr th {\n",
       "        vertical-align: top;\n",
       "    }\n",
       "\n",
       "    .dataframe thead th {\n",
       "        text-align: right;\n",
       "    }\n",
       "</style>\n",
       "<table border=\"1\" class=\"dataframe\">\n",
       "  <thead>\n",
       "    <tr style=\"text-align: right;\">\n",
       "      <th></th>\n",
       "      <th>Lang</th>\n",
       "      <th>Count</th>\n",
       "    </tr>\n",
       "  </thead>\n",
       "  <tbody>\n",
       "    <tr>\n",
       "      <th>11</th>\n",
       "      <td>en</td>\n",
       "      <td>50125</td>\n",
       "    </tr>\n",
       "    <tr>\n",
       "      <th>0</th>\n",
       "      <td>Other</td>\n",
       "      <td>9254</td>\n",
       "    </tr>\n",
       "    <tr>\n",
       "      <th>34</th>\n",
       "      <td>pt</td>\n",
       "      <td>5915</td>\n",
       "    </tr>\n",
       "    <tr>\n",
       "      <th>12</th>\n",
       "      <td>es</td>\n",
       "      <td>5368</td>\n",
       "    </tr>\n",
       "    <tr>\n",
       "      <th>9</th>\n",
       "      <td>de</td>\n",
       "      <td>2766</td>\n",
       "    </tr>\n",
       "    <tr>\n",
       "      <th>39</th>\n",
       "      <td>so</td>\n",
       "      <td>2459</td>\n",
       "    </tr>\n",
       "    <tr>\n",
       "      <th>44</th>\n",
       "      <td>tl</td>\n",
       "      <td>2190</td>\n",
       "    </tr>\n",
       "    <tr>\n",
       "      <th>23</th>\n",
       "      <td>it</td>\n",
       "      <td>1474</td>\n",
       "    </tr>\n",
       "    <tr>\n",
       "      <th>22</th>\n",
       "      <td>id</td>\n",
       "      <td>1452</td>\n",
       "    </tr>\n",
       "    <tr>\n",
       "      <th>16</th>\n",
       "      <td>fr</td>\n",
       "      <td>1268</td>\n",
       "    </tr>\n",
       "    <tr>\n",
       "      <th>35</th>\n",
       "      <td>ro</td>\n",
       "      <td>962</td>\n",
       "    </tr>\n",
       "    <tr>\n",
       "      <th>31</th>\n",
       "      <td>nl</td>\n",
       "      <td>903</td>\n",
       "    </tr>\n",
       "    <tr>\n",
       "      <th>1</th>\n",
       "      <td>af</td>\n",
       "      <td>895</td>\n",
       "    </tr>\n",
       "    <tr>\n",
       "      <th>5</th>\n",
       "      <td>ca</td>\n",
       "      <td>887</td>\n",
       "    </tr>\n",
       "    <tr>\n",
       "      <th>7</th>\n",
       "      <td>cy</td>\n",
       "      <td>852</td>\n",
       "    </tr>\n",
       "    <tr>\n",
       "      <th>48</th>\n",
       "      <td>vi</td>\n",
       "      <td>834</td>\n",
       "    </tr>\n",
       "    <tr>\n",
       "      <th>42</th>\n",
       "      <td>sw</td>\n",
       "      <td>824</td>\n",
       "    </tr>\n",
       "    <tr>\n",
       "      <th>33</th>\n",
       "      <td>pl</td>\n",
       "      <td>819</td>\n",
       "    </tr>\n",
       "    <tr>\n",
       "      <th>32</th>\n",
       "      <td>no</td>\n",
       "      <td>742</td>\n",
       "    </tr>\n",
       "    <tr>\n",
       "      <th>38</th>\n",
       "      <td>sl</td>\n",
       "      <td>643</td>\n",
       "    </tr>\n",
       "    <tr>\n",
       "      <th>13</th>\n",
       "      <td>et</td>\n",
       "      <td>637</td>\n",
       "    </tr>\n",
       "    <tr>\n",
       "      <th>45</th>\n",
       "      <td>tr</td>\n",
       "      <td>440</td>\n",
       "    </tr>\n",
       "    <tr>\n",
       "      <th>15</th>\n",
       "      <td>fi</td>\n",
       "      <td>415</td>\n",
       "    </tr>\n",
       "    <tr>\n",
       "      <th>8</th>\n",
       "      <td>da</td>\n",
       "      <td>403</td>\n",
       "    </tr>\n",
       "    <tr>\n",
       "      <th>41</th>\n",
       "      <td>sv</td>\n",
       "      <td>401</td>\n",
       "    </tr>\n",
       "    <tr>\n",
       "      <th>21</th>\n",
       "      <td>hu</td>\n",
       "      <td>332</td>\n",
       "    </tr>\n",
       "    <tr>\n",
       "      <th>20</th>\n",
       "      <td>hr</td>\n",
       "      <td>321</td>\n",
       "    </tr>\n",
       "    <tr>\n",
       "      <th>26</th>\n",
       "      <td>ko</td>\n",
       "      <td>271</td>\n",
       "    </tr>\n",
       "    <tr>\n",
       "      <th>36</th>\n",
       "      <td>ru</td>\n",
       "      <td>179</td>\n",
       "    </tr>\n",
       "    <tr>\n",
       "      <th>43</th>\n",
       "      <td>th</td>\n",
       "      <td>173</td>\n",
       "    </tr>\n",
       "    <tr>\n",
       "      <th>37</th>\n",
       "      <td>sk</td>\n",
       "      <td>168</td>\n",
       "    </tr>\n",
       "    <tr>\n",
       "      <th>40</th>\n",
       "      <td>sq</td>\n",
       "      <td>159</td>\n",
       "    </tr>\n",
       "    <tr>\n",
       "      <th>27</th>\n",
       "      <td>lt</td>\n",
       "      <td>157</td>\n",
       "    </tr>\n",
       "    <tr>\n",
       "      <th>2</th>\n",
       "      <td>ar</td>\n",
       "      <td>142</td>\n",
       "    </tr>\n",
       "    <tr>\n",
       "      <th>24</th>\n",
       "      <td>ja</td>\n",
       "      <td>132</td>\n",
       "    </tr>\n",
       "    <tr>\n",
       "      <th>46</th>\n",
       "      <td>uk</td>\n",
       "      <td>120</td>\n",
       "    </tr>\n",
       "    <tr>\n",
       "      <th>6</th>\n",
       "      <td>cs</td>\n",
       "      <td>98</td>\n",
       "    </tr>\n",
       "    <tr>\n",
       "      <th>49</th>\n",
       "      <td>zh-cn</td>\n",
       "      <td>60</td>\n",
       "    </tr>\n",
       "    <tr>\n",
       "      <th>28</th>\n",
       "      <td>lv</td>\n",
       "      <td>48</td>\n",
       "    </tr>\n",
       "    <tr>\n",
       "      <th>3</th>\n",
       "      <td>bg</td>\n",
       "      <td>37</td>\n",
       "    </tr>\n",
       "    <tr>\n",
       "      <th>18</th>\n",
       "      <td>he</td>\n",
       "      <td>34</td>\n",
       "    </tr>\n",
       "    <tr>\n",
       "      <th>14</th>\n",
       "      <td>fa</td>\n",
       "      <td>23</td>\n",
       "    </tr>\n",
       "    <tr>\n",
       "      <th>29</th>\n",
       "      <td>mk</td>\n",
       "      <td>17</td>\n",
       "    </tr>\n",
       "    <tr>\n",
       "      <th>10</th>\n",
       "      <td>el</td>\n",
       "      <td>11</td>\n",
       "    </tr>\n",
       "    <tr>\n",
       "      <th>50</th>\n",
       "      <td>zh-tw</td>\n",
       "      <td>10</td>\n",
       "    </tr>\n",
       "    <tr>\n",
       "      <th>47</th>\n",
       "      <td>ur</td>\n",
       "      <td>7</td>\n",
       "    </tr>\n",
       "    <tr>\n",
       "      <th>25</th>\n",
       "      <td>kn</td>\n",
       "      <td>2</td>\n",
       "    </tr>\n",
       "    <tr>\n",
       "      <th>30</th>\n",
       "      <td>ne</td>\n",
       "      <td>1</td>\n",
       "    </tr>\n",
       "    <tr>\n",
       "      <th>19</th>\n",
       "      <td>hi</td>\n",
       "      <td>1</td>\n",
       "    </tr>\n",
       "    <tr>\n",
       "      <th>17</th>\n",
       "      <td>gu</td>\n",
       "      <td>1</td>\n",
       "    </tr>\n",
       "    <tr>\n",
       "      <th>4</th>\n",
       "      <td>bn</td>\n",
       "      <td>1</td>\n",
       "    </tr>\n",
       "  </tbody>\n",
       "</table>\n",
       "</div>"
      ],
      "text/plain": [
       "     Lang  Count\n",
       "11     en  50125\n",
       "0   Other   9254\n",
       "34     pt   5915\n",
       "12     es   5368\n",
       "9      de   2766\n",
       "39     so   2459\n",
       "44     tl   2190\n",
       "23     it   1474\n",
       "22     id   1452\n",
       "16     fr   1268\n",
       "35     ro    962\n",
       "31     nl    903\n",
       "1      af    895\n",
       "5      ca    887\n",
       "7      cy    852\n",
       "48     vi    834\n",
       "42     sw    824\n",
       "33     pl    819\n",
       "32     no    742\n",
       "38     sl    643\n",
       "13     et    637\n",
       "45     tr    440\n",
       "15     fi    415\n",
       "8      da    403\n",
       "41     sv    401\n",
       "21     hu    332\n",
       "20     hr    321\n",
       "26     ko    271\n",
       "36     ru    179\n",
       "43     th    173\n",
       "37     sk    168\n",
       "40     sq    159\n",
       "27     lt    157\n",
       "2      ar    142\n",
       "24     ja    132\n",
       "46     uk    120\n",
       "6      cs     98\n",
       "49  zh-cn     60\n",
       "28     lv     48\n",
       "3      bg     37\n",
       "18     he     34\n",
       "14     fa     23\n",
       "29     mk     17\n",
       "10     el     11\n",
       "50  zh-tw     10\n",
       "47     ur      7\n",
       "25     kn      2\n",
       "30     ne      1\n",
       "19     hi      1\n",
       "17     gu      1\n",
       "4      bn      1"
      ]
     },
     "execution_count": 52,
     "metadata": {},
     "output_type": "execute_result"
    }
   ],
   "source": [
    "df = df_inter2.groupby(['Lang'])['Comment'].count().reset_index(name='Count').sort_values(['Count'], ascending=False)\n",
    "df"
   ]
  },
  {
   "cell_type": "code",
   "execution_count": 53,
   "metadata": {},
   "outputs": [
    {
     "data": {
      "application/vnd.plotly.v1+json": {
       "config": {
        "plotlyServerURL": "https://plot.ly"
       },
       "data": [
        {
         "domain": {
          "x": [
           0,
           1
          ],
          "y": [
           0,
           1
          ]
         },
         "hovertemplate": "Lang=%{label}<br>Count=%{value}<extra></extra>",
         "labels": [
          "en",
          "Other",
          "pt",
          "es",
          "de",
          "so",
          "tl",
          "it",
          "id",
          "fr",
          "ro",
          "nl",
          "af",
          "ca",
          "cy",
          "vi",
          "sw",
          "pl",
          "no",
          "sl",
          "et",
          "tr",
          "fi",
          "da",
          "sv",
          "hu",
          "hr",
          "ko",
          "ru",
          "th",
          "sk",
          "sq",
          "lt",
          "ar",
          "ja",
          "uk",
          "cs",
          "zh-cn",
          "lv",
          "bg",
          "he",
          "fa",
          "mk",
          "el",
          "zh-tw",
          "ur",
          "kn",
          "ne",
          "hi",
          "gu",
          "bn"
         ],
         "legendgroup": "",
         "name": "",
         "showlegend": true,
         "textposition": "inside",
         "type": "pie",
         "values": [
          50125,
          9254,
          5915,
          5368,
          2766,
          2459,
          2190,
          1474,
          1452,
          1268,
          962,
          903,
          895,
          887,
          852,
          834,
          824,
          819,
          742,
          643,
          637,
          440,
          415,
          403,
          401,
          332,
          321,
          271,
          179,
          173,
          168,
          159,
          157,
          142,
          132,
          120,
          98,
          60,
          48,
          37,
          34,
          23,
          17,
          11,
          10,
          7,
          2,
          1,
          1,
          1,
          1
         ]
        }
       ],
       "layout": {
        "legend": {
         "tracegroupgap": 0
        },
        "template": {
         "data": {
          "bar": [
           {
            "error_x": {
             "color": "#2a3f5f"
            },
            "error_y": {
             "color": "#2a3f5f"
            },
            "marker": {
             "line": {
              "color": "#E5ECF6",
              "width": 0.5
             },
             "pattern": {
              "fillmode": "overlay",
              "size": 10,
              "solidity": 0.2
             }
            },
            "type": "bar"
           }
          ],
          "barpolar": [
           {
            "marker": {
             "line": {
              "color": "#E5ECF6",
              "width": 0.5
             },
             "pattern": {
              "fillmode": "overlay",
              "size": 10,
              "solidity": 0.2
             }
            },
            "type": "barpolar"
           }
          ],
          "carpet": [
           {
            "aaxis": {
             "endlinecolor": "#2a3f5f",
             "gridcolor": "white",
             "linecolor": "white",
             "minorgridcolor": "white",
             "startlinecolor": "#2a3f5f"
            },
            "baxis": {
             "endlinecolor": "#2a3f5f",
             "gridcolor": "white",
             "linecolor": "white",
             "minorgridcolor": "white",
             "startlinecolor": "#2a3f5f"
            },
            "type": "carpet"
           }
          ],
          "choropleth": [
           {
            "colorbar": {
             "outlinewidth": 0,
             "ticks": ""
            },
            "type": "choropleth"
           }
          ],
          "contour": [
           {
            "colorbar": {
             "outlinewidth": 0,
             "ticks": ""
            },
            "colorscale": [
             [
              0,
              "#0d0887"
             ],
             [
              0.1111111111111111,
              "#46039f"
             ],
             [
              0.2222222222222222,
              "#7201a8"
             ],
             [
              0.3333333333333333,
              "#9c179e"
             ],
             [
              0.4444444444444444,
              "#bd3786"
             ],
             [
              0.5555555555555556,
              "#d8576b"
             ],
             [
              0.6666666666666666,
              "#ed7953"
             ],
             [
              0.7777777777777778,
              "#fb9f3a"
             ],
             [
              0.8888888888888888,
              "#fdca26"
             ],
             [
              1,
              "#f0f921"
             ]
            ],
            "type": "contour"
           }
          ],
          "contourcarpet": [
           {
            "colorbar": {
             "outlinewidth": 0,
             "ticks": ""
            },
            "type": "contourcarpet"
           }
          ],
          "heatmap": [
           {
            "colorbar": {
             "outlinewidth": 0,
             "ticks": ""
            },
            "colorscale": [
             [
              0,
              "#0d0887"
             ],
             [
              0.1111111111111111,
              "#46039f"
             ],
             [
              0.2222222222222222,
              "#7201a8"
             ],
             [
              0.3333333333333333,
              "#9c179e"
             ],
             [
              0.4444444444444444,
              "#bd3786"
             ],
             [
              0.5555555555555556,
              "#d8576b"
             ],
             [
              0.6666666666666666,
              "#ed7953"
             ],
             [
              0.7777777777777778,
              "#fb9f3a"
             ],
             [
              0.8888888888888888,
              "#fdca26"
             ],
             [
              1,
              "#f0f921"
             ]
            ],
            "type": "heatmap"
           }
          ],
          "heatmapgl": [
           {
            "colorbar": {
             "outlinewidth": 0,
             "ticks": ""
            },
            "colorscale": [
             [
              0,
              "#0d0887"
             ],
             [
              0.1111111111111111,
              "#46039f"
             ],
             [
              0.2222222222222222,
              "#7201a8"
             ],
             [
              0.3333333333333333,
              "#9c179e"
             ],
             [
              0.4444444444444444,
              "#bd3786"
             ],
             [
              0.5555555555555556,
              "#d8576b"
             ],
             [
              0.6666666666666666,
              "#ed7953"
             ],
             [
              0.7777777777777778,
              "#fb9f3a"
             ],
             [
              0.8888888888888888,
              "#fdca26"
             ],
             [
              1,
              "#f0f921"
             ]
            ],
            "type": "heatmapgl"
           }
          ],
          "histogram": [
           {
            "marker": {
             "pattern": {
              "fillmode": "overlay",
              "size": 10,
              "solidity": 0.2
             }
            },
            "type": "histogram"
           }
          ],
          "histogram2d": [
           {
            "colorbar": {
             "outlinewidth": 0,
             "ticks": ""
            },
            "colorscale": [
             [
              0,
              "#0d0887"
             ],
             [
              0.1111111111111111,
              "#46039f"
             ],
             [
              0.2222222222222222,
              "#7201a8"
             ],
             [
              0.3333333333333333,
              "#9c179e"
             ],
             [
              0.4444444444444444,
              "#bd3786"
             ],
             [
              0.5555555555555556,
              "#d8576b"
             ],
             [
              0.6666666666666666,
              "#ed7953"
             ],
             [
              0.7777777777777778,
              "#fb9f3a"
             ],
             [
              0.8888888888888888,
              "#fdca26"
             ],
             [
              1,
              "#f0f921"
             ]
            ],
            "type": "histogram2d"
           }
          ],
          "histogram2dcontour": [
           {
            "colorbar": {
             "outlinewidth": 0,
             "ticks": ""
            },
            "colorscale": [
             [
              0,
              "#0d0887"
             ],
             [
              0.1111111111111111,
              "#46039f"
             ],
             [
              0.2222222222222222,
              "#7201a8"
             ],
             [
              0.3333333333333333,
              "#9c179e"
             ],
             [
              0.4444444444444444,
              "#bd3786"
             ],
             [
              0.5555555555555556,
              "#d8576b"
             ],
             [
              0.6666666666666666,
              "#ed7953"
             ],
             [
              0.7777777777777778,
              "#fb9f3a"
             ],
             [
              0.8888888888888888,
              "#fdca26"
             ],
             [
              1,
              "#f0f921"
             ]
            ],
            "type": "histogram2dcontour"
           }
          ],
          "mesh3d": [
           {
            "colorbar": {
             "outlinewidth": 0,
             "ticks": ""
            },
            "type": "mesh3d"
           }
          ],
          "parcoords": [
           {
            "line": {
             "colorbar": {
              "outlinewidth": 0,
              "ticks": ""
             }
            },
            "type": "parcoords"
           }
          ],
          "pie": [
           {
            "automargin": true,
            "type": "pie"
           }
          ],
          "scatter": [
           {
            "fillpattern": {
             "fillmode": "overlay",
             "size": 10,
             "solidity": 0.2
            },
            "type": "scatter"
           }
          ],
          "scatter3d": [
           {
            "line": {
             "colorbar": {
              "outlinewidth": 0,
              "ticks": ""
             }
            },
            "marker": {
             "colorbar": {
              "outlinewidth": 0,
              "ticks": ""
             }
            },
            "type": "scatter3d"
           }
          ],
          "scattercarpet": [
           {
            "marker": {
             "colorbar": {
              "outlinewidth": 0,
              "ticks": ""
             }
            },
            "type": "scattercarpet"
           }
          ],
          "scattergeo": [
           {
            "marker": {
             "colorbar": {
              "outlinewidth": 0,
              "ticks": ""
             }
            },
            "type": "scattergeo"
           }
          ],
          "scattergl": [
           {
            "marker": {
             "colorbar": {
              "outlinewidth": 0,
              "ticks": ""
             }
            },
            "type": "scattergl"
           }
          ],
          "scattermapbox": [
           {
            "marker": {
             "colorbar": {
              "outlinewidth": 0,
              "ticks": ""
             }
            },
            "type": "scattermapbox"
           }
          ],
          "scatterpolar": [
           {
            "marker": {
             "colorbar": {
              "outlinewidth": 0,
              "ticks": ""
             }
            },
            "type": "scatterpolar"
           }
          ],
          "scatterpolargl": [
           {
            "marker": {
             "colorbar": {
              "outlinewidth": 0,
              "ticks": ""
             }
            },
            "type": "scatterpolargl"
           }
          ],
          "scatterternary": [
           {
            "marker": {
             "colorbar": {
              "outlinewidth": 0,
              "ticks": ""
             }
            },
            "type": "scatterternary"
           }
          ],
          "surface": [
           {
            "colorbar": {
             "outlinewidth": 0,
             "ticks": ""
            },
            "colorscale": [
             [
              0,
              "#0d0887"
             ],
             [
              0.1111111111111111,
              "#46039f"
             ],
             [
              0.2222222222222222,
              "#7201a8"
             ],
             [
              0.3333333333333333,
              "#9c179e"
             ],
             [
              0.4444444444444444,
              "#bd3786"
             ],
             [
              0.5555555555555556,
              "#d8576b"
             ],
             [
              0.6666666666666666,
              "#ed7953"
             ],
             [
              0.7777777777777778,
              "#fb9f3a"
             ],
             [
              0.8888888888888888,
              "#fdca26"
             ],
             [
              1,
              "#f0f921"
             ]
            ],
            "type": "surface"
           }
          ],
          "table": [
           {
            "cells": {
             "fill": {
              "color": "#EBF0F8"
             },
             "line": {
              "color": "white"
             }
            },
            "header": {
             "fill": {
              "color": "#C8D4E3"
             },
             "line": {
              "color": "white"
             }
            },
            "type": "table"
           }
          ]
         },
         "layout": {
          "annotationdefaults": {
           "arrowcolor": "#2a3f5f",
           "arrowhead": 0,
           "arrowwidth": 1
          },
          "autotypenumbers": "strict",
          "coloraxis": {
           "colorbar": {
            "outlinewidth": 0,
            "ticks": ""
           }
          },
          "colorscale": {
           "diverging": [
            [
             0,
             "#8e0152"
            ],
            [
             0.1,
             "#c51b7d"
            ],
            [
             0.2,
             "#de77ae"
            ],
            [
             0.3,
             "#f1b6da"
            ],
            [
             0.4,
             "#fde0ef"
            ],
            [
             0.5,
             "#f7f7f7"
            ],
            [
             0.6,
             "#e6f5d0"
            ],
            [
             0.7,
             "#b8e186"
            ],
            [
             0.8,
             "#7fbc41"
            ],
            [
             0.9,
             "#4d9221"
            ],
            [
             1,
             "#276419"
            ]
           ],
           "sequential": [
            [
             0,
             "#0d0887"
            ],
            [
             0.1111111111111111,
             "#46039f"
            ],
            [
             0.2222222222222222,
             "#7201a8"
            ],
            [
             0.3333333333333333,
             "#9c179e"
            ],
            [
             0.4444444444444444,
             "#bd3786"
            ],
            [
             0.5555555555555556,
             "#d8576b"
            ],
            [
             0.6666666666666666,
             "#ed7953"
            ],
            [
             0.7777777777777778,
             "#fb9f3a"
            ],
            [
             0.8888888888888888,
             "#fdca26"
            ],
            [
             1,
             "#f0f921"
            ]
           ],
           "sequentialminus": [
            [
             0,
             "#0d0887"
            ],
            [
             0.1111111111111111,
             "#46039f"
            ],
            [
             0.2222222222222222,
             "#7201a8"
            ],
            [
             0.3333333333333333,
             "#9c179e"
            ],
            [
             0.4444444444444444,
             "#bd3786"
            ],
            [
             0.5555555555555556,
             "#d8576b"
            ],
            [
             0.6666666666666666,
             "#ed7953"
            ],
            [
             0.7777777777777778,
             "#fb9f3a"
            ],
            [
             0.8888888888888888,
             "#fdca26"
            ],
            [
             1,
             "#f0f921"
            ]
           ]
          },
          "colorway": [
           "#636efa",
           "#EF553B",
           "#00cc96",
           "#ab63fa",
           "#FFA15A",
           "#19d3f3",
           "#FF6692",
           "#B6E880",
           "#FF97FF",
           "#FECB52"
          ],
          "font": {
           "color": "#2a3f5f"
          },
          "geo": {
           "bgcolor": "white",
           "lakecolor": "white",
           "landcolor": "#E5ECF6",
           "showlakes": true,
           "showland": true,
           "subunitcolor": "white"
          },
          "hoverlabel": {
           "align": "left"
          },
          "hovermode": "closest",
          "mapbox": {
           "style": "light"
          },
          "paper_bgcolor": "white",
          "plot_bgcolor": "#E5ECF6",
          "polar": {
           "angularaxis": {
            "gridcolor": "white",
            "linecolor": "white",
            "ticks": ""
           },
           "bgcolor": "#E5ECF6",
           "radialaxis": {
            "gridcolor": "white",
            "linecolor": "white",
            "ticks": ""
           }
          },
          "scene": {
           "xaxis": {
            "backgroundcolor": "#E5ECF6",
            "gridcolor": "white",
            "gridwidth": 2,
            "linecolor": "white",
            "showbackground": true,
            "ticks": "",
            "zerolinecolor": "white"
           },
           "yaxis": {
            "backgroundcolor": "#E5ECF6",
            "gridcolor": "white",
            "gridwidth": 2,
            "linecolor": "white",
            "showbackground": true,
            "ticks": "",
            "zerolinecolor": "white"
           },
           "zaxis": {
            "backgroundcolor": "#E5ECF6",
            "gridcolor": "white",
            "gridwidth": 2,
            "linecolor": "white",
            "showbackground": true,
            "ticks": "",
            "zerolinecolor": "white"
           }
          },
          "shapedefaults": {
           "line": {
            "color": "#2a3f5f"
           }
          },
          "ternary": {
           "aaxis": {
            "gridcolor": "white",
            "linecolor": "white",
            "ticks": ""
           },
           "baxis": {
            "gridcolor": "white",
            "linecolor": "white",
            "ticks": ""
           },
           "bgcolor": "#E5ECF6",
           "caxis": {
            "gridcolor": "white",
            "linecolor": "white",
            "ticks": ""
           }
          },
          "title": {
           "x": 0.05
          },
          "xaxis": {
           "automargin": true,
           "gridcolor": "white",
           "linecolor": "white",
           "ticks": "",
           "title": {
            "standoff": 15
           },
           "zerolinecolor": "white",
           "zerolinewidth": 2
          },
          "yaxis": {
           "automargin": true,
           "gridcolor": "white",
           "linecolor": "white",
           "ticks": "",
           "title": {
            "standoff": 15
           },
           "zerolinecolor": "white",
           "zerolinewidth": 2
          }
         }
        },
        "title": {
         "text": "Die With a Smile"
        },
        "uniformtext": {
         "minsize": 12,
         "mode": "hide"
        }
       }
      }
     },
     "metadata": {},
     "output_type": "display_data"
    }
   ],
   "source": [
    "fig = px.pie(df, values='Count', names='Lang',title='Die With a Smile')\n",
    "fig.update_traces(textposition='inside')\n",
    "fig.update_layout(uniformtext_minsize=12, uniformtext_mode='hide')\n",
    "fig.show()"
   ]
  },
  {
   "cell_type": "code",
   "execution_count": 54,
   "metadata": {},
   "outputs": [],
   "source": [
    "df_inter3 = pd.read_csv('yellow coldplay .csv', index_col=0)"
   ]
  },
  {
   "cell_type": "code",
   "execution_count": 55,
   "metadata": {},
   "outputs": [
    {
     "data": {
      "text/html": [
       "<div>\n",
       "<style scoped>\n",
       "    .dataframe tbody tr th:only-of-type {\n",
       "        vertical-align: middle;\n",
       "    }\n",
       "\n",
       "    .dataframe tbody tr th {\n",
       "        vertical-align: top;\n",
       "    }\n",
       "\n",
       "    .dataframe thead th {\n",
       "        text-align: right;\n",
       "    }\n",
       "</style>\n",
       "<table border=\"1\" class=\"dataframe\">\n",
       "  <thead>\n",
       "    <tr style=\"text-align: right;\">\n",
       "      <th></th>\n",
       "      <th>Timestamp</th>\n",
       "      <th>Username</th>\n",
       "      <th>VideoID</th>\n",
       "      <th>Comment</th>\n",
       "      <th>Date</th>\n",
       "      <th>Lang</th>\n",
       "    </tr>\n",
       "  </thead>\n",
       "  <tbody>\n",
       "    <tr>\n",
       "      <th>0</th>\n",
       "      <td>2024-10-12T06:34:27Z</td>\n",
       "      <td>@AddisonLarry-s9e</td>\n",
       "      <td>yKNxeF4KMsY</td>\n",
       "      <td>Bruen Fork</td>\n",
       "      <td>2024-10-12T06:34:27Z</td>\n",
       "      <td>de</td>\n",
       "    </tr>\n",
       "    <tr>\n",
       "      <th>1</th>\n",
       "      <td>2024-10-12T06:18:39Z</td>\n",
       "      <td>@DobbinAvery-u4o</td>\n",
       "      <td>yKNxeF4KMsY</td>\n",
       "      <td>Cruickshank Courts</td>\n",
       "      <td>2024-10-12T06:18:39Z</td>\n",
       "      <td>en</td>\n",
       "    </tr>\n",
       "    <tr>\n",
       "      <th>2</th>\n",
       "      <td>2024-10-12T06:04:10Z</td>\n",
       "      <td>@MadgeNelson-c8x</td>\n",
       "      <td>yKNxeF4KMsY</td>\n",
       "      <td>Rodriguez Summit</td>\n",
       "      <td>2024-10-12T06:04:10Z</td>\n",
       "      <td>es</td>\n",
       "    </tr>\n",
       "    <tr>\n",
       "      <th>3</th>\n",
       "      <td>2024-10-12T05:47:44Z</td>\n",
       "      <td>@JunkoBrenner-z5u</td>\n",
       "      <td>yKNxeF4KMsY</td>\n",
       "      <td>Champlin Lock</td>\n",
       "      <td>2024-10-12T05:47:44Z</td>\n",
       "      <td>en</td>\n",
       "    </tr>\n",
       "    <tr>\n",
       "      <th>4</th>\n",
       "      <td>2024-10-12T05:47:37Z</td>\n",
       "      <td>@CarlosVillanueva-o5t</td>\n",
       "      <td>yKNxeF4KMsY</td>\n",
       "      <td>Lara si ves estonte amo y te extraño banda ❤😊</td>\n",
       "      <td>2024-10-12T05:47:37Z</td>\n",
       "      <td>es</td>\n",
       "    </tr>\n",
       "    <tr>\n",
       "      <th>...</th>\n",
       "      <td>...</td>\n",
       "      <td>...</td>\n",
       "      <td>...</td>\n",
       "      <td>...</td>\n",
       "      <td>...</td>\n",
       "      <td>...</td>\n",
       "    </tr>\n",
       "    <tr>\n",
       "      <th>151424</th>\n",
       "      <td>2011-06-02T00:57:21Z</td>\n",
       "      <td>@ilovejesus84</td>\n",
       "      <td>yKNxeF4KMsY</td>\n",
       "      <td>I make music for God &amp; I have a 6'7 version co...</td>\n",
       "      <td>1970-01-01T00:00:00Z</td>\n",
       "      <td>en</td>\n",
       "    </tr>\n",
       "    <tr>\n",
       "      <th>151425</th>\n",
       "      <td>2011-06-01T14:26:14Z</td>\n",
       "      <td>@Sirkab</td>\n",
       "      <td>yKNxeF4KMsY</td>\n",
       "      <td>=D</td>\n",
       "      <td>1970-01-01T00:00:00Z</td>\n",
       "      <td>de</td>\n",
       "    </tr>\n",
       "    <tr>\n",
       "      <th>151426</th>\n",
       "      <td>2011-05-31T20:56:38Z</td>\n",
       "      <td>@momento1993</td>\n",
       "      <td>yKNxeF4KMsY</td>\n",
       "      <td>yellow is happpppyyyyyyy :D:D:D:D</td>\n",
       "      <td>1970-01-01T00:00:00Z</td>\n",
       "      <td>en</td>\n",
       "    </tr>\n",
       "    <tr>\n",
       "      <th>151427</th>\n",
       "      <td>2011-05-31T15:48:53Z</td>\n",
       "      <td>@Weird051386</td>\n",
       "      <td>yKNxeF4KMsY</td>\n",
       "      <td>No words to describe this video! 5,000,000,000...</td>\n",
       "      <td>1970-01-01T00:00:00Z</td>\n",
       "      <td>en</td>\n",
       "    </tr>\n",
       "    <tr>\n",
       "      <th>151428</th>\n",
       "      <td>2021-06-12T18:20:56Z</td>\n",
       "      <td>@gameovergo7850</td>\n",
       "      <td>yKNxeF4KMsY</td>\n",
       "      <td>first commeeeentttt</td>\n",
       "      <td>2021-06-12T18:20:56Z</td>\n",
       "      <td>en</td>\n",
       "    </tr>\n",
       "  </tbody>\n",
       "</table>\n",
       "<p>151429 rows × 6 columns</p>\n",
       "</div>"
      ],
      "text/plain": [
       "                   Timestamp               Username      VideoID  \\\n",
       "0       2024-10-12T06:34:27Z      @AddisonLarry-s9e  yKNxeF4KMsY   \n",
       "1       2024-10-12T06:18:39Z       @DobbinAvery-u4o  yKNxeF4KMsY   \n",
       "2       2024-10-12T06:04:10Z       @MadgeNelson-c8x  yKNxeF4KMsY   \n",
       "3       2024-10-12T05:47:44Z      @JunkoBrenner-z5u  yKNxeF4KMsY   \n",
       "4       2024-10-12T05:47:37Z  @CarlosVillanueva-o5t  yKNxeF4KMsY   \n",
       "...                      ...                    ...          ...   \n",
       "151424  2011-06-02T00:57:21Z          @ilovejesus84  yKNxeF4KMsY   \n",
       "151425  2011-06-01T14:26:14Z                @Sirkab  yKNxeF4KMsY   \n",
       "151426  2011-05-31T20:56:38Z           @momento1993  yKNxeF4KMsY   \n",
       "151427  2011-05-31T15:48:53Z           @Weird051386  yKNxeF4KMsY   \n",
       "151428  2021-06-12T18:20:56Z        @gameovergo7850  yKNxeF4KMsY   \n",
       "\n",
       "                                                  Comment  \\\n",
       "0                                              Bruen Fork   \n",
       "1                                      Cruickshank Courts   \n",
       "2                                        Rodriguez Summit   \n",
       "3                                           Champlin Lock   \n",
       "4           Lara si ves estonte amo y te extraño banda ❤😊   \n",
       "...                                                   ...   \n",
       "151424  I make music for God & I have a 6'7 version co...   \n",
       "151425                                                 =D   \n",
       "151426                  yellow is happpppyyyyyyy :D:D:D:D   \n",
       "151427  No words to describe this video! 5,000,000,000...   \n",
       "151428                                first commeeeentttt   \n",
       "\n",
       "                        Date Lang  \n",
       "0       2024-10-12T06:34:27Z   de  \n",
       "1       2024-10-12T06:18:39Z   en  \n",
       "2       2024-10-12T06:04:10Z   es  \n",
       "3       2024-10-12T05:47:44Z   en  \n",
       "4       2024-10-12T05:47:37Z   es  \n",
       "...                      ...  ...  \n",
       "151424  1970-01-01T00:00:00Z   en  \n",
       "151425  1970-01-01T00:00:00Z   de  \n",
       "151426  1970-01-01T00:00:00Z   en  \n",
       "151427  1970-01-01T00:00:00Z   en  \n",
       "151428  2021-06-12T18:20:56Z   en  \n",
       "\n",
       "[151429 rows x 6 columns]"
      ]
     },
     "execution_count": 55,
     "metadata": {},
     "output_type": "execute_result"
    }
   ],
   "source": [
    "df_inter3"
   ]
  },
  {
   "cell_type": "code",
   "execution_count": 56,
   "metadata": {},
   "outputs": [
    {
     "data": {
      "text/html": [
       "<div>\n",
       "<style scoped>\n",
       "    .dataframe tbody tr th:only-of-type {\n",
       "        vertical-align: middle;\n",
       "    }\n",
       "\n",
       "    .dataframe tbody tr th {\n",
       "        vertical-align: top;\n",
       "    }\n",
       "\n",
       "    .dataframe thead th {\n",
       "        text-align: right;\n",
       "    }\n",
       "</style>\n",
       "<table border=\"1\" class=\"dataframe\">\n",
       "  <thead>\n",
       "    <tr style=\"text-align: right;\">\n",
       "      <th></th>\n",
       "      <th>Date</th>\n",
       "      <th>Username</th>\n",
       "      <th>VideoID</th>\n",
       "      <th>Comment</th>\n",
       "    </tr>\n",
       "  </thead>\n",
       "  <tbody>\n",
       "    <tr>\n",
       "      <th>0</th>\n",
       "      <td>2024-10-12T06:34:27Z</td>\n",
       "      <td>@AddisonLarry-s9e</td>\n",
       "      <td>yKNxeF4KMsY</td>\n",
       "      <td>Bruen Fork</td>\n",
       "    </tr>\n",
       "    <tr>\n",
       "      <th>1</th>\n",
       "      <td>2024-10-12T06:18:39Z</td>\n",
       "      <td>@DobbinAvery-u4o</td>\n",
       "      <td>yKNxeF4KMsY</td>\n",
       "      <td>Cruickshank Courts</td>\n",
       "    </tr>\n",
       "    <tr>\n",
       "      <th>2</th>\n",
       "      <td>2024-10-12T06:04:10Z</td>\n",
       "      <td>@MadgeNelson-c8x</td>\n",
       "      <td>yKNxeF4KMsY</td>\n",
       "      <td>Rodriguez Summit</td>\n",
       "    </tr>\n",
       "    <tr>\n",
       "      <th>3</th>\n",
       "      <td>2024-10-12T05:47:44Z</td>\n",
       "      <td>@JunkoBrenner-z5u</td>\n",
       "      <td>yKNxeF4KMsY</td>\n",
       "      <td>Champlin Lock</td>\n",
       "    </tr>\n",
       "    <tr>\n",
       "      <th>4</th>\n",
       "      <td>2024-10-12T05:47:37Z</td>\n",
       "      <td>@CarlosVillanueva-o5t</td>\n",
       "      <td>yKNxeF4KMsY</td>\n",
       "      <td>Lara si ves estonte amo y te extraño banda ❤😊</td>\n",
       "    </tr>\n",
       "    <tr>\n",
       "      <th>...</th>\n",
       "      <td>...</td>\n",
       "      <td>...</td>\n",
       "      <td>...</td>\n",
       "      <td>...</td>\n",
       "    </tr>\n",
       "    <tr>\n",
       "      <th>151424</th>\n",
       "      <td>1970-01-01T00:00:00Z</td>\n",
       "      <td>@ilovejesus84</td>\n",
       "      <td>yKNxeF4KMsY</td>\n",
       "      <td>I make music for God &amp; I have a 6'7 version co...</td>\n",
       "    </tr>\n",
       "    <tr>\n",
       "      <th>151425</th>\n",
       "      <td>1970-01-01T00:00:00Z</td>\n",
       "      <td>@Sirkab</td>\n",
       "      <td>yKNxeF4KMsY</td>\n",
       "      <td>=D</td>\n",
       "    </tr>\n",
       "    <tr>\n",
       "      <th>151426</th>\n",
       "      <td>1970-01-01T00:00:00Z</td>\n",
       "      <td>@momento1993</td>\n",
       "      <td>yKNxeF4KMsY</td>\n",
       "      <td>yellow is happpppyyyyyyy :D:D:D:D</td>\n",
       "    </tr>\n",
       "    <tr>\n",
       "      <th>151427</th>\n",
       "      <td>1970-01-01T00:00:00Z</td>\n",
       "      <td>@Weird051386</td>\n",
       "      <td>yKNxeF4KMsY</td>\n",
       "      <td>No words to describe this video! 5,000,000,000...</td>\n",
       "    </tr>\n",
       "    <tr>\n",
       "      <th>151428</th>\n",
       "      <td>2021-06-12T18:20:56Z</td>\n",
       "      <td>@gameovergo7850</td>\n",
       "      <td>yKNxeF4KMsY</td>\n",
       "      <td>first commeeeentttt</td>\n",
       "    </tr>\n",
       "  </tbody>\n",
       "</table>\n",
       "<p>151429 rows × 4 columns</p>\n",
       "</div>"
      ],
      "text/plain": [
       "                        Date               Username      VideoID  \\\n",
       "0       2024-10-12T06:34:27Z      @AddisonLarry-s9e  yKNxeF4KMsY   \n",
       "1       2024-10-12T06:18:39Z       @DobbinAvery-u4o  yKNxeF4KMsY   \n",
       "2       2024-10-12T06:04:10Z       @MadgeNelson-c8x  yKNxeF4KMsY   \n",
       "3       2024-10-12T05:47:44Z      @JunkoBrenner-z5u  yKNxeF4KMsY   \n",
       "4       2024-10-12T05:47:37Z  @CarlosVillanueva-o5t  yKNxeF4KMsY   \n",
       "...                      ...                    ...          ...   \n",
       "151424  1970-01-01T00:00:00Z          @ilovejesus84  yKNxeF4KMsY   \n",
       "151425  1970-01-01T00:00:00Z                @Sirkab  yKNxeF4KMsY   \n",
       "151426  1970-01-01T00:00:00Z           @momento1993  yKNxeF4KMsY   \n",
       "151427  1970-01-01T00:00:00Z           @Weird051386  yKNxeF4KMsY   \n",
       "151428  2021-06-12T18:20:56Z        @gameovergo7850  yKNxeF4KMsY   \n",
       "\n",
       "                                                  Comment  \n",
       "0                                              Bruen Fork  \n",
       "1                                      Cruickshank Courts  \n",
       "2                                        Rodriguez Summit  \n",
       "3                                           Champlin Lock  \n",
       "4           Lara si ves estonte amo y te extraño banda ❤😊  \n",
       "...                                                   ...  \n",
       "151424  I make music for God & I have a 6'7 version co...  \n",
       "151425                                                 =D  \n",
       "151426                  yellow is happpppyyyyyyy :D:D:D:D  \n",
       "151427  No words to describe this video! 5,000,000,000...  \n",
       "151428                                first commeeeentttt  \n",
       "\n",
       "[151429 rows x 4 columns]"
      ]
     },
     "execution_count": 56,
     "metadata": {},
     "output_type": "execute_result"
    }
   ],
   "source": [
    "df_inter3.drop(['Timestamp'], axis=1,inplace=True)\n",
    "df_inter3 = df_inter3.iloc[:,[3,0,1,2]]\n",
    "df_inter3"
   ]
  },
  {
   "cell_type": "code",
   "execution_count": 57,
   "metadata": {},
   "outputs": [],
   "source": [
    "from langdetect import detect\n",
    "def det(x):\n",
    "    try:\n",
    "        lang = detect(x)\n",
    "    except:\n",
    "        lang = 'Other'\n",
    "    return lang\n",
    "\n",
    "df_inter3['Lang'] = df_inter3['Comment'].apply(det)"
   ]
  },
  {
   "cell_type": "code",
   "execution_count": 58,
   "metadata": {},
   "outputs": [
    {
     "data": {
      "text/html": [
       "<div>\n",
       "<style scoped>\n",
       "    .dataframe tbody tr th:only-of-type {\n",
       "        vertical-align: middle;\n",
       "    }\n",
       "\n",
       "    .dataframe tbody tr th {\n",
       "        vertical-align: top;\n",
       "    }\n",
       "\n",
       "    .dataframe thead th {\n",
       "        text-align: right;\n",
       "    }\n",
       "</style>\n",
       "<table border=\"1\" class=\"dataframe\">\n",
       "  <thead>\n",
       "    <tr style=\"text-align: right;\">\n",
       "      <th></th>\n",
       "      <th>Date</th>\n",
       "      <th>Username</th>\n",
       "      <th>VideoID</th>\n",
       "      <th>Comment</th>\n",
       "      <th>Lang</th>\n",
       "    </tr>\n",
       "  </thead>\n",
       "  <tbody>\n",
       "    <tr>\n",
       "      <th>0</th>\n",
       "      <td>2024-10-12T06:34:27Z</td>\n",
       "      <td>@AddisonLarry-s9e</td>\n",
       "      <td>yKNxeF4KMsY</td>\n",
       "      <td>Bruen Fork</td>\n",
       "      <td>de</td>\n",
       "    </tr>\n",
       "    <tr>\n",
       "      <th>1</th>\n",
       "      <td>2024-10-12T06:18:39Z</td>\n",
       "      <td>@DobbinAvery-u4o</td>\n",
       "      <td>yKNxeF4KMsY</td>\n",
       "      <td>Cruickshank Courts</td>\n",
       "      <td>en</td>\n",
       "    </tr>\n",
       "    <tr>\n",
       "      <th>2</th>\n",
       "      <td>2024-10-12T06:04:10Z</td>\n",
       "      <td>@MadgeNelson-c8x</td>\n",
       "      <td>yKNxeF4KMsY</td>\n",
       "      <td>Rodriguez Summit</td>\n",
       "      <td>de</td>\n",
       "    </tr>\n",
       "    <tr>\n",
       "      <th>3</th>\n",
       "      <td>2024-10-12T05:47:44Z</td>\n",
       "      <td>@JunkoBrenner-z5u</td>\n",
       "      <td>yKNxeF4KMsY</td>\n",
       "      <td>Champlin Lock</td>\n",
       "      <td>en</td>\n",
       "    </tr>\n",
       "    <tr>\n",
       "      <th>4</th>\n",
       "      <td>2024-10-12T05:47:37Z</td>\n",
       "      <td>@CarlosVillanueva-o5t</td>\n",
       "      <td>yKNxeF4KMsY</td>\n",
       "      <td>Lara si ves estonte amo y te extraño banda ❤😊</td>\n",
       "      <td>es</td>\n",
       "    </tr>\n",
       "    <tr>\n",
       "      <th>...</th>\n",
       "      <td>...</td>\n",
       "      <td>...</td>\n",
       "      <td>...</td>\n",
       "      <td>...</td>\n",
       "      <td>...</td>\n",
       "    </tr>\n",
       "    <tr>\n",
       "      <th>151424</th>\n",
       "      <td>1970-01-01T00:00:00Z</td>\n",
       "      <td>@ilovejesus84</td>\n",
       "      <td>yKNxeF4KMsY</td>\n",
       "      <td>I make music for God &amp; I have a 6'7 version co...</td>\n",
       "      <td>en</td>\n",
       "    </tr>\n",
       "    <tr>\n",
       "      <th>151425</th>\n",
       "      <td>1970-01-01T00:00:00Z</td>\n",
       "      <td>@Sirkab</td>\n",
       "      <td>yKNxeF4KMsY</td>\n",
       "      <td>=D</td>\n",
       "      <td>de</td>\n",
       "    </tr>\n",
       "    <tr>\n",
       "      <th>151426</th>\n",
       "      <td>1970-01-01T00:00:00Z</td>\n",
       "      <td>@momento1993</td>\n",
       "      <td>yKNxeF4KMsY</td>\n",
       "      <td>yellow is happpppyyyyyyy :D:D:D:D</td>\n",
       "      <td>fi</td>\n",
       "    </tr>\n",
       "    <tr>\n",
       "      <th>151427</th>\n",
       "      <td>1970-01-01T00:00:00Z</td>\n",
       "      <td>@Weird051386</td>\n",
       "      <td>yKNxeF4KMsY</td>\n",
       "      <td>No words to describe this video! 5,000,000,000...</td>\n",
       "      <td>en</td>\n",
       "    </tr>\n",
       "    <tr>\n",
       "      <th>151428</th>\n",
       "      <td>2021-06-12T18:20:56Z</td>\n",
       "      <td>@gameovergo7850</td>\n",
       "      <td>yKNxeF4KMsY</td>\n",
       "      <td>first commeeeentttt</td>\n",
       "      <td>en</td>\n",
       "    </tr>\n",
       "  </tbody>\n",
       "</table>\n",
       "<p>151429 rows × 5 columns</p>\n",
       "</div>"
      ],
      "text/plain": [
       "                        Date               Username      VideoID  \\\n",
       "0       2024-10-12T06:34:27Z      @AddisonLarry-s9e  yKNxeF4KMsY   \n",
       "1       2024-10-12T06:18:39Z       @DobbinAvery-u4o  yKNxeF4KMsY   \n",
       "2       2024-10-12T06:04:10Z       @MadgeNelson-c8x  yKNxeF4KMsY   \n",
       "3       2024-10-12T05:47:44Z      @JunkoBrenner-z5u  yKNxeF4KMsY   \n",
       "4       2024-10-12T05:47:37Z  @CarlosVillanueva-o5t  yKNxeF4KMsY   \n",
       "...                      ...                    ...          ...   \n",
       "151424  1970-01-01T00:00:00Z          @ilovejesus84  yKNxeF4KMsY   \n",
       "151425  1970-01-01T00:00:00Z                @Sirkab  yKNxeF4KMsY   \n",
       "151426  1970-01-01T00:00:00Z           @momento1993  yKNxeF4KMsY   \n",
       "151427  1970-01-01T00:00:00Z           @Weird051386  yKNxeF4KMsY   \n",
       "151428  2021-06-12T18:20:56Z        @gameovergo7850  yKNxeF4KMsY   \n",
       "\n",
       "                                                  Comment Lang  \n",
       "0                                              Bruen Fork   de  \n",
       "1                                      Cruickshank Courts   en  \n",
       "2                                        Rodriguez Summit   de  \n",
       "3                                           Champlin Lock   en  \n",
       "4           Lara si ves estonte amo y te extraño banda ❤😊   es  \n",
       "...                                                   ...  ...  \n",
       "151424  I make music for God & I have a 6'7 version co...   en  \n",
       "151425                                                 =D   de  \n",
       "151426                  yellow is happpppyyyyyyy :D:D:D:D   fi  \n",
       "151427  No words to describe this video! 5,000,000,000...   en  \n",
       "151428                                first commeeeentttt   en  \n",
       "\n",
       "[151429 rows x 5 columns]"
      ]
     },
     "execution_count": 58,
     "metadata": {},
     "output_type": "execute_result"
    }
   ],
   "source": [
    "df_inter3"
   ]
  },
  {
   "cell_type": "code",
   "execution_count": 59,
   "metadata": {},
   "outputs": [
    {
     "data": {
      "text/html": [
       "<div>\n",
       "<style scoped>\n",
       "    .dataframe tbody tr th:only-of-type {\n",
       "        vertical-align: middle;\n",
       "    }\n",
       "\n",
       "    .dataframe tbody tr th {\n",
       "        vertical-align: top;\n",
       "    }\n",
       "\n",
       "    .dataframe thead th {\n",
       "        text-align: right;\n",
       "    }\n",
       "</style>\n",
       "<table border=\"1\" class=\"dataframe\">\n",
       "  <thead>\n",
       "    <tr style=\"text-align: right;\">\n",
       "      <th></th>\n",
       "      <th>Lang</th>\n",
       "      <th>Count</th>\n",
       "    </tr>\n",
       "  </thead>\n",
       "  <tbody>\n",
       "    <tr>\n",
       "      <th>11</th>\n",
       "      <td>en</td>\n",
       "      <td>80627</td>\n",
       "    </tr>\n",
       "    <tr>\n",
       "      <th>0</th>\n",
       "      <td>Other</td>\n",
       "      <td>12105</td>\n",
       "    </tr>\n",
       "    <tr>\n",
       "      <th>12</th>\n",
       "      <td>es</td>\n",
       "      <td>10674</td>\n",
       "    </tr>\n",
       "    <tr>\n",
       "      <th>35</th>\n",
       "      <td>pt</td>\n",
       "      <td>6964</td>\n",
       "    </tr>\n",
       "    <tr>\n",
       "      <th>9</th>\n",
       "      <td>de</td>\n",
       "      <td>3464</td>\n",
       "    </tr>\n",
       "    <tr>\n",
       "      <th>22</th>\n",
       "      <td>id</td>\n",
       "      <td>3043</td>\n",
       "    </tr>\n",
       "    <tr>\n",
       "      <th>46</th>\n",
       "      <td>tl</td>\n",
       "      <td>2855</td>\n",
       "    </tr>\n",
       "    <tr>\n",
       "      <th>40</th>\n",
       "      <td>so</td>\n",
       "      <td>2714</td>\n",
       "    </tr>\n",
       "    <tr>\n",
       "      <th>7</th>\n",
       "      <td>cy</td>\n",
       "      <td>2237</td>\n",
       "    </tr>\n",
       "    <tr>\n",
       "      <th>23</th>\n",
       "      <td>it</td>\n",
       "      <td>2147</td>\n",
       "    </tr>\n",
       "    <tr>\n",
       "      <th>47</th>\n",
       "      <td>tr</td>\n",
       "      <td>1974</td>\n",
       "    </tr>\n",
       "    <tr>\n",
       "      <th>16</th>\n",
       "      <td>fr</td>\n",
       "      <td>1940</td>\n",
       "    </tr>\n",
       "    <tr>\n",
       "      <th>32</th>\n",
       "      <td>nl</td>\n",
       "      <td>1913</td>\n",
       "    </tr>\n",
       "    <tr>\n",
       "      <th>33</th>\n",
       "      <td>no</td>\n",
       "      <td>1909</td>\n",
       "    </tr>\n",
       "    <tr>\n",
       "      <th>8</th>\n",
       "      <td>da</td>\n",
       "      <td>1602</td>\n",
       "    </tr>\n",
       "    <tr>\n",
       "      <th>1</th>\n",
       "      <td>af</td>\n",
       "      <td>1579</td>\n",
       "    </tr>\n",
       "    <tr>\n",
       "      <th>36</th>\n",
       "      <td>ro</td>\n",
       "      <td>1290</td>\n",
       "    </tr>\n",
       "    <tr>\n",
       "      <th>5</th>\n",
       "      <td>ca</td>\n",
       "      <td>1273</td>\n",
       "    </tr>\n",
       "    <tr>\n",
       "      <th>13</th>\n",
       "      <td>et</td>\n",
       "      <td>1147</td>\n",
       "    </tr>\n",
       "    <tr>\n",
       "      <th>15</th>\n",
       "      <td>fi</td>\n",
       "      <td>1125</td>\n",
       "    </tr>\n",
       "    <tr>\n",
       "      <th>43</th>\n",
       "      <td>sw</td>\n",
       "      <td>1031</td>\n",
       "    </tr>\n",
       "    <tr>\n",
       "      <th>50</th>\n",
       "      <td>vi</td>\n",
       "      <td>794</td>\n",
       "    </tr>\n",
       "    <tr>\n",
       "      <th>42</th>\n",
       "      <td>sv</td>\n",
       "      <td>750</td>\n",
       "    </tr>\n",
       "    <tr>\n",
       "      <th>39</th>\n",
       "      <td>sl</td>\n",
       "      <td>739</td>\n",
       "    </tr>\n",
       "    <tr>\n",
       "      <th>20</th>\n",
       "      <td>hr</td>\n",
       "      <td>690</td>\n",
       "    </tr>\n",
       "    <tr>\n",
       "      <th>34</th>\n",
       "      <td>pl</td>\n",
       "      <td>684</td>\n",
       "    </tr>\n",
       "    <tr>\n",
       "      <th>38</th>\n",
       "      <td>sk</td>\n",
       "      <td>494</td>\n",
       "    </tr>\n",
       "    <tr>\n",
       "      <th>45</th>\n",
       "      <td>th</td>\n",
       "      <td>487</td>\n",
       "    </tr>\n",
       "    <tr>\n",
       "      <th>41</th>\n",
       "      <td>sq</td>\n",
       "      <td>422</td>\n",
       "    </tr>\n",
       "    <tr>\n",
       "      <th>6</th>\n",
       "      <td>cs</td>\n",
       "      <td>420</td>\n",
       "    </tr>\n",
       "    <tr>\n",
       "      <th>37</th>\n",
       "      <td>ru</td>\n",
       "      <td>415</td>\n",
       "    </tr>\n",
       "    <tr>\n",
       "      <th>25</th>\n",
       "      <td>ko</td>\n",
       "      <td>353</td>\n",
       "    </tr>\n",
       "    <tr>\n",
       "      <th>21</th>\n",
       "      <td>hu</td>\n",
       "      <td>317</td>\n",
       "    </tr>\n",
       "    <tr>\n",
       "      <th>26</th>\n",
       "      <td>lt</td>\n",
       "      <td>275</td>\n",
       "    </tr>\n",
       "    <tr>\n",
       "      <th>2</th>\n",
       "      <td>ar</td>\n",
       "      <td>169</td>\n",
       "    </tr>\n",
       "    <tr>\n",
       "      <th>51</th>\n",
       "      <td>zh-cn</td>\n",
       "      <td>153</td>\n",
       "    </tr>\n",
       "    <tr>\n",
       "      <th>24</th>\n",
       "      <td>ja</td>\n",
       "      <td>138</td>\n",
       "    </tr>\n",
       "    <tr>\n",
       "      <th>27</th>\n",
       "      <td>lv</td>\n",
       "      <td>124</td>\n",
       "    </tr>\n",
       "    <tr>\n",
       "      <th>18</th>\n",
       "      <td>he</td>\n",
       "      <td>46</td>\n",
       "    </tr>\n",
       "    <tr>\n",
       "      <th>3</th>\n",
       "      <td>bg</td>\n",
       "      <td>40</td>\n",
       "    </tr>\n",
       "    <tr>\n",
       "      <th>48</th>\n",
       "      <td>uk</td>\n",
       "      <td>39</td>\n",
       "    </tr>\n",
       "    <tr>\n",
       "      <th>44</th>\n",
       "      <td>ta</td>\n",
       "      <td>38</td>\n",
       "    </tr>\n",
       "    <tr>\n",
       "      <th>14</th>\n",
       "      <td>fa</td>\n",
       "      <td>32</td>\n",
       "    </tr>\n",
       "    <tr>\n",
       "      <th>28</th>\n",
       "      <td>mk</td>\n",
       "      <td>31</td>\n",
       "    </tr>\n",
       "    <tr>\n",
       "      <th>10</th>\n",
       "      <td>el</td>\n",
       "      <td>30</td>\n",
       "    </tr>\n",
       "    <tr>\n",
       "      <th>52</th>\n",
       "      <td>zh-tw</td>\n",
       "      <td>24</td>\n",
       "    </tr>\n",
       "    <tr>\n",
       "      <th>4</th>\n",
       "      <td>bn</td>\n",
       "      <td>9</td>\n",
       "    </tr>\n",
       "    <tr>\n",
       "      <th>29</th>\n",
       "      <td>ml</td>\n",
       "      <td>8</td>\n",
       "    </tr>\n",
       "    <tr>\n",
       "      <th>30</th>\n",
       "      <td>mr</td>\n",
       "      <td>3</td>\n",
       "    </tr>\n",
       "    <tr>\n",
       "      <th>49</th>\n",
       "      <td>ur</td>\n",
       "      <td>3</td>\n",
       "    </tr>\n",
       "    <tr>\n",
       "      <th>31</th>\n",
       "      <td>ne</td>\n",
       "      <td>2</td>\n",
       "    </tr>\n",
       "    <tr>\n",
       "      <th>17</th>\n",
       "      <td>gu</td>\n",
       "      <td>1</td>\n",
       "    </tr>\n",
       "    <tr>\n",
       "      <th>19</th>\n",
       "      <td>hi</td>\n",
       "      <td>1</td>\n",
       "    </tr>\n",
       "  </tbody>\n",
       "</table>\n",
       "</div>"
      ],
      "text/plain": [
       "     Lang  Count\n",
       "11     en  80627\n",
       "0   Other  12105\n",
       "12     es  10674\n",
       "35     pt   6964\n",
       "9      de   3464\n",
       "22     id   3043\n",
       "46     tl   2855\n",
       "40     so   2714\n",
       "7      cy   2237\n",
       "23     it   2147\n",
       "47     tr   1974\n",
       "16     fr   1940\n",
       "32     nl   1913\n",
       "33     no   1909\n",
       "8      da   1602\n",
       "1      af   1579\n",
       "36     ro   1290\n",
       "5      ca   1273\n",
       "13     et   1147\n",
       "15     fi   1125\n",
       "43     sw   1031\n",
       "50     vi    794\n",
       "42     sv    750\n",
       "39     sl    739\n",
       "20     hr    690\n",
       "34     pl    684\n",
       "38     sk    494\n",
       "45     th    487\n",
       "41     sq    422\n",
       "6      cs    420\n",
       "37     ru    415\n",
       "25     ko    353\n",
       "21     hu    317\n",
       "26     lt    275\n",
       "2      ar    169\n",
       "51  zh-cn    153\n",
       "24     ja    138\n",
       "27     lv    124\n",
       "18     he     46\n",
       "3      bg     40\n",
       "48     uk     39\n",
       "44     ta     38\n",
       "14     fa     32\n",
       "28     mk     31\n",
       "10     el     30\n",
       "52  zh-tw     24\n",
       "4      bn      9\n",
       "29     ml      8\n",
       "30     mr      3\n",
       "49     ur      3\n",
       "31     ne      2\n",
       "17     gu      1\n",
       "19     hi      1"
      ]
     },
     "execution_count": 59,
     "metadata": {},
     "output_type": "execute_result"
    }
   ],
   "source": [
    "df = df_inter3.groupby(['Lang'])['Comment'].count().reset_index(name='Count').sort_values(['Count'], ascending=False)\n",
    "df"
   ]
  },
  {
   "cell_type": "code",
   "execution_count": 60,
   "metadata": {},
   "outputs": [
    {
     "data": {
      "application/vnd.plotly.v1+json": {
       "config": {
        "plotlyServerURL": "https://plot.ly"
       },
       "data": [
        {
         "domain": {
          "x": [
           0,
           1
          ],
          "y": [
           0,
           1
          ]
         },
         "hovertemplate": "Lang=%{label}<br>Count=%{value}<extra></extra>",
         "labels": [
          "en",
          "Other",
          "es",
          "pt",
          "de",
          "id",
          "tl",
          "so",
          "cy",
          "it",
          "tr",
          "fr",
          "nl",
          "no",
          "da",
          "af",
          "ro",
          "ca",
          "et",
          "fi",
          "sw",
          "vi",
          "sv",
          "sl",
          "hr",
          "pl",
          "sk",
          "th",
          "sq",
          "cs",
          "ru",
          "ko",
          "hu",
          "lt",
          "ar",
          "zh-cn",
          "ja",
          "lv",
          "he",
          "bg",
          "uk",
          "ta",
          "fa",
          "mk",
          "el",
          "zh-tw",
          "bn",
          "ml",
          "mr",
          "ur",
          "ne",
          "gu",
          "hi"
         ],
         "legendgroup": "",
         "name": "",
         "showlegend": true,
         "textposition": "inside",
         "type": "pie",
         "values": [
          80627,
          12105,
          10674,
          6964,
          3464,
          3043,
          2855,
          2714,
          2237,
          2147,
          1974,
          1940,
          1913,
          1909,
          1602,
          1579,
          1290,
          1273,
          1147,
          1125,
          1031,
          794,
          750,
          739,
          690,
          684,
          494,
          487,
          422,
          420,
          415,
          353,
          317,
          275,
          169,
          153,
          138,
          124,
          46,
          40,
          39,
          38,
          32,
          31,
          30,
          24,
          9,
          8,
          3,
          3,
          2,
          1,
          1
         ]
        }
       ],
       "layout": {
        "legend": {
         "tracegroupgap": 0
        },
        "template": {
         "data": {
          "bar": [
           {
            "error_x": {
             "color": "#2a3f5f"
            },
            "error_y": {
             "color": "#2a3f5f"
            },
            "marker": {
             "line": {
              "color": "#E5ECF6",
              "width": 0.5
             },
             "pattern": {
              "fillmode": "overlay",
              "size": 10,
              "solidity": 0.2
             }
            },
            "type": "bar"
           }
          ],
          "barpolar": [
           {
            "marker": {
             "line": {
              "color": "#E5ECF6",
              "width": 0.5
             },
             "pattern": {
              "fillmode": "overlay",
              "size": 10,
              "solidity": 0.2
             }
            },
            "type": "barpolar"
           }
          ],
          "carpet": [
           {
            "aaxis": {
             "endlinecolor": "#2a3f5f",
             "gridcolor": "white",
             "linecolor": "white",
             "minorgridcolor": "white",
             "startlinecolor": "#2a3f5f"
            },
            "baxis": {
             "endlinecolor": "#2a3f5f",
             "gridcolor": "white",
             "linecolor": "white",
             "minorgridcolor": "white",
             "startlinecolor": "#2a3f5f"
            },
            "type": "carpet"
           }
          ],
          "choropleth": [
           {
            "colorbar": {
             "outlinewidth": 0,
             "ticks": ""
            },
            "type": "choropleth"
           }
          ],
          "contour": [
           {
            "colorbar": {
             "outlinewidth": 0,
             "ticks": ""
            },
            "colorscale": [
             [
              0,
              "#0d0887"
             ],
             [
              0.1111111111111111,
              "#46039f"
             ],
             [
              0.2222222222222222,
              "#7201a8"
             ],
             [
              0.3333333333333333,
              "#9c179e"
             ],
             [
              0.4444444444444444,
              "#bd3786"
             ],
             [
              0.5555555555555556,
              "#d8576b"
             ],
             [
              0.6666666666666666,
              "#ed7953"
             ],
             [
              0.7777777777777778,
              "#fb9f3a"
             ],
             [
              0.8888888888888888,
              "#fdca26"
             ],
             [
              1,
              "#f0f921"
             ]
            ],
            "type": "contour"
           }
          ],
          "contourcarpet": [
           {
            "colorbar": {
             "outlinewidth": 0,
             "ticks": ""
            },
            "type": "contourcarpet"
           }
          ],
          "heatmap": [
           {
            "colorbar": {
             "outlinewidth": 0,
             "ticks": ""
            },
            "colorscale": [
             [
              0,
              "#0d0887"
             ],
             [
              0.1111111111111111,
              "#46039f"
             ],
             [
              0.2222222222222222,
              "#7201a8"
             ],
             [
              0.3333333333333333,
              "#9c179e"
             ],
             [
              0.4444444444444444,
              "#bd3786"
             ],
             [
              0.5555555555555556,
              "#d8576b"
             ],
             [
              0.6666666666666666,
              "#ed7953"
             ],
             [
              0.7777777777777778,
              "#fb9f3a"
             ],
             [
              0.8888888888888888,
              "#fdca26"
             ],
             [
              1,
              "#f0f921"
             ]
            ],
            "type": "heatmap"
           }
          ],
          "heatmapgl": [
           {
            "colorbar": {
             "outlinewidth": 0,
             "ticks": ""
            },
            "colorscale": [
             [
              0,
              "#0d0887"
             ],
             [
              0.1111111111111111,
              "#46039f"
             ],
             [
              0.2222222222222222,
              "#7201a8"
             ],
             [
              0.3333333333333333,
              "#9c179e"
             ],
             [
              0.4444444444444444,
              "#bd3786"
             ],
             [
              0.5555555555555556,
              "#d8576b"
             ],
             [
              0.6666666666666666,
              "#ed7953"
             ],
             [
              0.7777777777777778,
              "#fb9f3a"
             ],
             [
              0.8888888888888888,
              "#fdca26"
             ],
             [
              1,
              "#f0f921"
             ]
            ],
            "type": "heatmapgl"
           }
          ],
          "histogram": [
           {
            "marker": {
             "pattern": {
              "fillmode": "overlay",
              "size": 10,
              "solidity": 0.2
             }
            },
            "type": "histogram"
           }
          ],
          "histogram2d": [
           {
            "colorbar": {
             "outlinewidth": 0,
             "ticks": ""
            },
            "colorscale": [
             [
              0,
              "#0d0887"
             ],
             [
              0.1111111111111111,
              "#46039f"
             ],
             [
              0.2222222222222222,
              "#7201a8"
             ],
             [
              0.3333333333333333,
              "#9c179e"
             ],
             [
              0.4444444444444444,
              "#bd3786"
             ],
             [
              0.5555555555555556,
              "#d8576b"
             ],
             [
              0.6666666666666666,
              "#ed7953"
             ],
             [
              0.7777777777777778,
              "#fb9f3a"
             ],
             [
              0.8888888888888888,
              "#fdca26"
             ],
             [
              1,
              "#f0f921"
             ]
            ],
            "type": "histogram2d"
           }
          ],
          "histogram2dcontour": [
           {
            "colorbar": {
             "outlinewidth": 0,
             "ticks": ""
            },
            "colorscale": [
             [
              0,
              "#0d0887"
             ],
             [
              0.1111111111111111,
              "#46039f"
             ],
             [
              0.2222222222222222,
              "#7201a8"
             ],
             [
              0.3333333333333333,
              "#9c179e"
             ],
             [
              0.4444444444444444,
              "#bd3786"
             ],
             [
              0.5555555555555556,
              "#d8576b"
             ],
             [
              0.6666666666666666,
              "#ed7953"
             ],
             [
              0.7777777777777778,
              "#fb9f3a"
             ],
             [
              0.8888888888888888,
              "#fdca26"
             ],
             [
              1,
              "#f0f921"
             ]
            ],
            "type": "histogram2dcontour"
           }
          ],
          "mesh3d": [
           {
            "colorbar": {
             "outlinewidth": 0,
             "ticks": ""
            },
            "type": "mesh3d"
           }
          ],
          "parcoords": [
           {
            "line": {
             "colorbar": {
              "outlinewidth": 0,
              "ticks": ""
             }
            },
            "type": "parcoords"
           }
          ],
          "pie": [
           {
            "automargin": true,
            "type": "pie"
           }
          ],
          "scatter": [
           {
            "fillpattern": {
             "fillmode": "overlay",
             "size": 10,
             "solidity": 0.2
            },
            "type": "scatter"
           }
          ],
          "scatter3d": [
           {
            "line": {
             "colorbar": {
              "outlinewidth": 0,
              "ticks": ""
             }
            },
            "marker": {
             "colorbar": {
              "outlinewidth": 0,
              "ticks": ""
             }
            },
            "type": "scatter3d"
           }
          ],
          "scattercarpet": [
           {
            "marker": {
             "colorbar": {
              "outlinewidth": 0,
              "ticks": ""
             }
            },
            "type": "scattercarpet"
           }
          ],
          "scattergeo": [
           {
            "marker": {
             "colorbar": {
              "outlinewidth": 0,
              "ticks": ""
             }
            },
            "type": "scattergeo"
           }
          ],
          "scattergl": [
           {
            "marker": {
             "colorbar": {
              "outlinewidth": 0,
              "ticks": ""
             }
            },
            "type": "scattergl"
           }
          ],
          "scattermapbox": [
           {
            "marker": {
             "colorbar": {
              "outlinewidth": 0,
              "ticks": ""
             }
            },
            "type": "scattermapbox"
           }
          ],
          "scatterpolar": [
           {
            "marker": {
             "colorbar": {
              "outlinewidth": 0,
              "ticks": ""
             }
            },
            "type": "scatterpolar"
           }
          ],
          "scatterpolargl": [
           {
            "marker": {
             "colorbar": {
              "outlinewidth": 0,
              "ticks": ""
             }
            },
            "type": "scatterpolargl"
           }
          ],
          "scatterternary": [
           {
            "marker": {
             "colorbar": {
              "outlinewidth": 0,
              "ticks": ""
             }
            },
            "type": "scatterternary"
           }
          ],
          "surface": [
           {
            "colorbar": {
             "outlinewidth": 0,
             "ticks": ""
            },
            "colorscale": [
             [
              0,
              "#0d0887"
             ],
             [
              0.1111111111111111,
              "#46039f"
             ],
             [
              0.2222222222222222,
              "#7201a8"
             ],
             [
              0.3333333333333333,
              "#9c179e"
             ],
             [
              0.4444444444444444,
              "#bd3786"
             ],
             [
              0.5555555555555556,
              "#d8576b"
             ],
             [
              0.6666666666666666,
              "#ed7953"
             ],
             [
              0.7777777777777778,
              "#fb9f3a"
             ],
             [
              0.8888888888888888,
              "#fdca26"
             ],
             [
              1,
              "#f0f921"
             ]
            ],
            "type": "surface"
           }
          ],
          "table": [
           {
            "cells": {
             "fill": {
              "color": "#EBF0F8"
             },
             "line": {
              "color": "white"
             }
            },
            "header": {
             "fill": {
              "color": "#C8D4E3"
             },
             "line": {
              "color": "white"
             }
            },
            "type": "table"
           }
          ]
         },
         "layout": {
          "annotationdefaults": {
           "arrowcolor": "#2a3f5f",
           "arrowhead": 0,
           "arrowwidth": 1
          },
          "autotypenumbers": "strict",
          "coloraxis": {
           "colorbar": {
            "outlinewidth": 0,
            "ticks": ""
           }
          },
          "colorscale": {
           "diverging": [
            [
             0,
             "#8e0152"
            ],
            [
             0.1,
             "#c51b7d"
            ],
            [
             0.2,
             "#de77ae"
            ],
            [
             0.3,
             "#f1b6da"
            ],
            [
             0.4,
             "#fde0ef"
            ],
            [
             0.5,
             "#f7f7f7"
            ],
            [
             0.6,
             "#e6f5d0"
            ],
            [
             0.7,
             "#b8e186"
            ],
            [
             0.8,
             "#7fbc41"
            ],
            [
             0.9,
             "#4d9221"
            ],
            [
             1,
             "#276419"
            ]
           ],
           "sequential": [
            [
             0,
             "#0d0887"
            ],
            [
             0.1111111111111111,
             "#46039f"
            ],
            [
             0.2222222222222222,
             "#7201a8"
            ],
            [
             0.3333333333333333,
             "#9c179e"
            ],
            [
             0.4444444444444444,
             "#bd3786"
            ],
            [
             0.5555555555555556,
             "#d8576b"
            ],
            [
             0.6666666666666666,
             "#ed7953"
            ],
            [
             0.7777777777777778,
             "#fb9f3a"
            ],
            [
             0.8888888888888888,
             "#fdca26"
            ],
            [
             1,
             "#f0f921"
            ]
           ],
           "sequentialminus": [
            [
             0,
             "#0d0887"
            ],
            [
             0.1111111111111111,
             "#46039f"
            ],
            [
             0.2222222222222222,
             "#7201a8"
            ],
            [
             0.3333333333333333,
             "#9c179e"
            ],
            [
             0.4444444444444444,
             "#bd3786"
            ],
            [
             0.5555555555555556,
             "#d8576b"
            ],
            [
             0.6666666666666666,
             "#ed7953"
            ],
            [
             0.7777777777777778,
             "#fb9f3a"
            ],
            [
             0.8888888888888888,
             "#fdca26"
            ],
            [
             1,
             "#f0f921"
            ]
           ]
          },
          "colorway": [
           "#636efa",
           "#EF553B",
           "#00cc96",
           "#ab63fa",
           "#FFA15A",
           "#19d3f3",
           "#FF6692",
           "#B6E880",
           "#FF97FF",
           "#FECB52"
          ],
          "font": {
           "color": "#2a3f5f"
          },
          "geo": {
           "bgcolor": "white",
           "lakecolor": "white",
           "landcolor": "#E5ECF6",
           "showlakes": true,
           "showland": true,
           "subunitcolor": "white"
          },
          "hoverlabel": {
           "align": "left"
          },
          "hovermode": "closest",
          "mapbox": {
           "style": "light"
          },
          "paper_bgcolor": "white",
          "plot_bgcolor": "#E5ECF6",
          "polar": {
           "angularaxis": {
            "gridcolor": "white",
            "linecolor": "white",
            "ticks": ""
           },
           "bgcolor": "#E5ECF6",
           "radialaxis": {
            "gridcolor": "white",
            "linecolor": "white",
            "ticks": ""
           }
          },
          "scene": {
           "xaxis": {
            "backgroundcolor": "#E5ECF6",
            "gridcolor": "white",
            "gridwidth": 2,
            "linecolor": "white",
            "showbackground": true,
            "ticks": "",
            "zerolinecolor": "white"
           },
           "yaxis": {
            "backgroundcolor": "#E5ECF6",
            "gridcolor": "white",
            "gridwidth": 2,
            "linecolor": "white",
            "showbackground": true,
            "ticks": "",
            "zerolinecolor": "white"
           },
           "zaxis": {
            "backgroundcolor": "#E5ECF6",
            "gridcolor": "white",
            "gridwidth": 2,
            "linecolor": "white",
            "showbackground": true,
            "ticks": "",
            "zerolinecolor": "white"
           }
          },
          "shapedefaults": {
           "line": {
            "color": "#2a3f5f"
           }
          },
          "ternary": {
           "aaxis": {
            "gridcolor": "white",
            "linecolor": "white",
            "ticks": ""
           },
           "baxis": {
            "gridcolor": "white",
            "linecolor": "white",
            "ticks": ""
           },
           "bgcolor": "#E5ECF6",
           "caxis": {
            "gridcolor": "white",
            "linecolor": "white",
            "ticks": ""
           }
          },
          "title": {
           "x": 0.05
          },
          "xaxis": {
           "automargin": true,
           "gridcolor": "white",
           "linecolor": "white",
           "ticks": "",
           "title": {
            "standoff": 15
           },
           "zerolinecolor": "white",
           "zerolinewidth": 2
          },
          "yaxis": {
           "automargin": true,
           "gridcolor": "white",
           "linecolor": "white",
           "ticks": "",
           "title": {
            "standoff": 15
           },
           "zerolinecolor": "white",
           "zerolinewidth": 2
          }
         }
        },
        "title": {
         "text": "yellow coldplay"
        },
        "uniformtext": {
         "minsize": 12,
         "mode": "hide"
        }
       }
      }
     },
     "metadata": {},
     "output_type": "display_data"
    }
   ],
   "source": [
    "fig = px.pie(df, values='Count', names='Lang',title='yellow coldplay')\n",
    "fig.update_traces(textposition='inside')\n",
    "fig.update_layout(uniformtext_minsize=12, uniformtext_mode='hide')\n",
    "fig.show()"
   ]
  },
  {
   "cell_type": "code",
   "execution_count": null,
   "metadata": {},
   "outputs": [],
   "source": []
  },
  {
   "cell_type": "code",
   "execution_count": 64,
   "metadata": {},
   "outputs": [],
   "source": [
    "df_all = pd.concat([df_inter1,df_inter2,df_inter3])\n",
    "df_all2 = df_all[df_all['Lang'] == 'id']"
   ]
  },
  {
   "cell_type": "code",
   "execution_count": 66,
   "metadata": {},
   "outputs": [
    {
     "data": {
      "text/html": [
       "<div>\n",
       "<style scoped>\n",
       "    .dataframe tbody tr th:only-of-type {\n",
       "        vertical-align: middle;\n",
       "    }\n",
       "\n",
       "    .dataframe tbody tr th {\n",
       "        vertical-align: top;\n",
       "    }\n",
       "\n",
       "    .dataframe thead th {\n",
       "        text-align: right;\n",
       "    }\n",
       "</style>\n",
       "<table border=\"1\" class=\"dataframe\">\n",
       "  <thead>\n",
       "    <tr style=\"text-align: right;\">\n",
       "      <th></th>\n",
       "      <th>Date</th>\n",
       "      <th>Username</th>\n",
       "      <th>VideoID</th>\n",
       "      <th>Comment</th>\n",
       "      <th>Lang</th>\n",
       "    </tr>\n",
       "  </thead>\n",
       "  <tbody>\n",
       "    <tr>\n",
       "      <th>33</th>\n",
       "      <td>2024-10-10T05:50:28Z</td>\n",
       "      <td>@stefanosexakanthon2750</td>\n",
       "      <td>V9PVRfjEBTI</td>\n",
       "      <td>YOU DONT KNOW?..!</td>\n",
       "      <td>id</td>\n",
       "    </tr>\n",
       "    <tr>\n",
       "      <th>91</th>\n",
       "      <td>2024-10-10T01:53:44Z</td>\n",
       "      <td>@danieldeno8679</td>\n",
       "      <td>V9PVRfjEBTI</td>\n",
       "      <td>bila mak kau kejut bangun tidur suruh pergi se...</td>\n",
       "      <td>id</td>\n",
       "    </tr>\n",
       "    <tr>\n",
       "      <th>99</th>\n",
       "      <td>2024-10-10T01:26:14Z</td>\n",
       "      <td>@AiGi27</td>\n",
       "      <td>V9PVRfjEBTI</td>\n",
       "      <td>Duh.</td>\n",
       "      <td>id</td>\n",
       "    </tr>\n",
       "    <tr>\n",
       "      <th>106</th>\n",
       "      <td>2024-10-10T00:57:04Z</td>\n",
       "      <td>@AndhyekaAndhy</td>\n",
       "      <td>V9PVRfjEBTI</td>\n",
       "      <td>seandainya aku bisa mendengar mungkin aku sena...</td>\n",
       "      <td>id</td>\n",
       "    </tr>\n",
       "    <tr>\n",
       "      <th>406</th>\n",
       "      <td>2024-10-09T07:51:48Z</td>\n",
       "      <td>@adioshehakaya7089</td>\n",
       "      <td>V9PVRfjEBTI</td>\n",
       "      <td>Saya suka musik kamu</td>\n",
       "      <td>id</td>\n",
       "    </tr>\n",
       "    <tr>\n",
       "      <th>...</th>\n",
       "      <td>...</td>\n",
       "      <td>...</td>\n",
       "      <td>...</td>\n",
       "      <td>...</td>\n",
       "      <td>...</td>\n",
       "    </tr>\n",
       "    <tr>\n",
       "      <th>150626</th>\n",
       "      <td>1970-01-01T00:00:00Z</td>\n",
       "      <td>@somebodytell</td>\n",
       "      <td>yKNxeF4KMsY</td>\n",
       "      <td>@danielconde001 you are a genius !!!!  ahahahah</td>\n",
       "      <td>id</td>\n",
       "    </tr>\n",
       "    <tr>\n",
       "      <th>150814</th>\n",
       "      <td>1970-01-01T00:00:00Z</td>\n",
       "      <td>@p04t</td>\n",
       "      <td>yKNxeF4KMsY</td>\n",
       "      <td>genial buen tema!!!! :D</td>\n",
       "      <td>id</td>\n",
       "    </tr>\n",
       "    <tr>\n",
       "      <th>151092</th>\n",
       "      <td>1970-01-01T00:00:00Z</td>\n",
       "      <td>@antoythegreat</td>\n",
       "      <td>yKNxeF4KMsY</td>\n",
       "      <td>@sinsualk :D</td>\n",
       "      <td>id</td>\n",
       "    </tr>\n",
       "    <tr>\n",
       "      <th>151246</th>\n",
       "      <td>1970-01-01T00:00:00Z</td>\n",
       "      <td>@xxxEMINENTxxx</td>\n",
       "      <td>yKNxeF4KMsY</td>\n",
       "      <td>@BrianRodal LOL</td>\n",
       "      <td>id</td>\n",
       "    </tr>\n",
       "    <tr>\n",
       "      <th>151410</th>\n",
       "      <td>1970-01-01T00:00:00Z</td>\n",
       "      <td>@JuansTechZeroUnit</td>\n",
       "      <td>yKNxeF4KMsY</td>\n",
       "      <td>yeah!!  :D</td>\n",
       "      <td>id</td>\n",
       "    </tr>\n",
       "  </tbody>\n",
       "</table>\n",
       "<p>4845 rows × 5 columns</p>\n",
       "</div>"
      ],
      "text/plain": [
       "                        Date                 Username      VideoID  \\\n",
       "33      2024-10-10T05:50:28Z  @stefanosexakanthon2750  V9PVRfjEBTI   \n",
       "91      2024-10-10T01:53:44Z          @danieldeno8679  V9PVRfjEBTI   \n",
       "99      2024-10-10T01:26:14Z                  @AiGi27  V9PVRfjEBTI   \n",
       "106     2024-10-10T00:57:04Z           @AndhyekaAndhy  V9PVRfjEBTI   \n",
       "406     2024-10-09T07:51:48Z       @adioshehakaya7089  V9PVRfjEBTI   \n",
       "...                      ...                      ...          ...   \n",
       "150626  1970-01-01T00:00:00Z            @somebodytell  yKNxeF4KMsY   \n",
       "150814  1970-01-01T00:00:00Z                    @p04t  yKNxeF4KMsY   \n",
       "151092  1970-01-01T00:00:00Z           @antoythegreat  yKNxeF4KMsY   \n",
       "151246  1970-01-01T00:00:00Z           @xxxEMINENTxxx  yKNxeF4KMsY   \n",
       "151410  1970-01-01T00:00:00Z       @JuansTechZeroUnit  yKNxeF4KMsY   \n",
       "\n",
       "                                                  Comment Lang  \n",
       "33                                      YOU DONT KNOW?..!   id  \n",
       "91      bila mak kau kejut bangun tidur suruh pergi se...   id  \n",
       "99                                                   Duh.   id  \n",
       "106     seandainya aku bisa mendengar mungkin aku sena...   id  \n",
       "406                                  Saya suka musik kamu   id  \n",
       "...                                                   ...  ...  \n",
       "150626    @danielconde001 you are a genius !!!!  ahahahah   id  \n",
       "150814                            genial buen tema!!!! :D   id  \n",
       "151092                                       @sinsualk :D   id  \n",
       "151246                                    @BrianRodal LOL   id  \n",
       "151410                                         yeah!!  :D   id  \n",
       "\n",
       "[4845 rows x 5 columns]"
      ]
     },
     "execution_count": 66,
     "metadata": {},
     "output_type": "execute_result"
    }
   ],
   "source": [
    "df_all2"
   ]
  },
  {
   "cell_type": "code",
   "execution_count": 69,
   "metadata": {},
   "outputs": [
    {
     "data": {
      "text/html": [
       "<div>\n",
       "<style scoped>\n",
       "    .dataframe tbody tr th:only-of-type {\n",
       "        vertical-align: middle;\n",
       "    }\n",
       "\n",
       "    .dataframe tbody tr th {\n",
       "        vertical-align: top;\n",
       "    }\n",
       "\n",
       "    .dataframe thead th {\n",
       "        text-align: right;\n",
       "    }\n",
       "</style>\n",
       "<table border=\"1\" class=\"dataframe\">\n",
       "  <thead>\n",
       "    <tr style=\"text-align: right;\">\n",
       "      <th></th>\n",
       "      <th>VideoID</th>\n",
       "      <th>Count</th>\n",
       "    </tr>\n",
       "  </thead>\n",
       "  <tbody>\n",
       "    <tr>\n",
       "      <th>2</th>\n",
       "      <td>yKNxeF4KMsY</td>\n",
       "      <td>3043</td>\n",
       "    </tr>\n",
       "    <tr>\n",
       "      <th>1</th>\n",
       "      <td>kPa7bsKwL-c</td>\n",
       "      <td>1452</td>\n",
       "    </tr>\n",
       "    <tr>\n",
       "      <th>0</th>\n",
       "      <td>V9PVRfjEBTI</td>\n",
       "      <td>350</td>\n",
       "    </tr>\n",
       "  </tbody>\n",
       "</table>\n",
       "</div>"
      ],
      "text/plain": [
       "       VideoID  Count\n",
       "2  yKNxeF4KMsY   3043\n",
       "1  kPa7bsKwL-c   1452\n",
       "0  V9PVRfjEBTI    350"
      ]
     },
     "execution_count": 69,
     "metadata": {},
     "output_type": "execute_result"
    }
   ],
   "source": [
    "test = df_all2.groupby(['VideoID'])['Lang'].count().reset_index(name='Count').sort_values(['Count'], ascending=False)\n",
    "test"
   ]
  },
  {
   "cell_type": "code",
   "execution_count": 75,
   "metadata": {},
   "outputs": [],
   "source": [
    "# test.replace({'VideoID':{0: 'BIRDS OF A FEATHER',1: 'Die With a Smile', 2: 'yellow coldplay'}})\n",
    "test.loc[[0,1,2],['VideoID']] =['BIRDS OF A FEATHER','Die With a Smile','yellow coldplay']"
   ]
  },
  {
   "cell_type": "code",
   "execution_count": 76,
   "metadata": {},
   "outputs": [
    {
     "data": {
      "text/html": [
       "<div>\n",
       "<style scoped>\n",
       "    .dataframe tbody tr th:only-of-type {\n",
       "        vertical-align: middle;\n",
       "    }\n",
       "\n",
       "    .dataframe tbody tr th {\n",
       "        vertical-align: top;\n",
       "    }\n",
       "\n",
       "    .dataframe thead th {\n",
       "        text-align: right;\n",
       "    }\n",
       "</style>\n",
       "<table border=\"1\" class=\"dataframe\">\n",
       "  <thead>\n",
       "    <tr style=\"text-align: right;\">\n",
       "      <th></th>\n",
       "      <th>VideoID</th>\n",
       "      <th>Count</th>\n",
       "    </tr>\n",
       "  </thead>\n",
       "  <tbody>\n",
       "    <tr>\n",
       "      <th>2</th>\n",
       "      <td>yellow coldplay</td>\n",
       "      <td>3043</td>\n",
       "    </tr>\n",
       "    <tr>\n",
       "      <th>1</th>\n",
       "      <td>Die With a Smile</td>\n",
       "      <td>1452</td>\n",
       "    </tr>\n",
       "    <tr>\n",
       "      <th>0</th>\n",
       "      <td>BIRDS OF A FEATHER</td>\n",
       "      <td>350</td>\n",
       "    </tr>\n",
       "  </tbody>\n",
       "</table>\n",
       "</div>"
      ],
      "text/plain": [
       "              VideoID  Count\n",
       "2     yellow coldplay   3043\n",
       "1    Die With a Smile   1452\n",
       "0  BIRDS OF A FEATHER    350"
      ]
     },
     "execution_count": 76,
     "metadata": {},
     "output_type": "execute_result"
    }
   ],
   "source": [
    "test"
   ]
  },
  {
   "cell_type": "code",
   "execution_count": 77,
   "metadata": {},
   "outputs": [
    {
     "data": {
      "application/vnd.plotly.v1+json": {
       "config": {
        "plotlyServerURL": "https://plot.ly"
       },
       "data": [
        {
         "alignmentgroup": "True",
         "hovertemplate": "VideoID=%{x}<br>Count=%{y}<extra></extra>",
         "legendgroup": "",
         "marker": {
          "color": "#636efa",
          "pattern": {
           "shape": ""
          }
         },
         "name": "",
         "offsetgroup": "",
         "orientation": "v",
         "showlegend": false,
         "textposition": "auto",
         "type": "bar",
         "x": [
          "yellow coldplay",
          "Die With a Smile",
          "BIRDS OF A FEATHER"
         ],
         "xaxis": "x",
         "y": [
          3043,
          1452,
          350
         ],
         "yaxis": "y"
        }
       ],
       "layout": {
        "barmode": "relative",
        "legend": {
         "tracegroupgap": 0
        },
        "margin": {
         "t": 60
        },
        "template": {
         "data": {
          "bar": [
           {
            "error_x": {
             "color": "#2a3f5f"
            },
            "error_y": {
             "color": "#2a3f5f"
            },
            "marker": {
             "line": {
              "color": "#E5ECF6",
              "width": 0.5
             },
             "pattern": {
              "fillmode": "overlay",
              "size": 10,
              "solidity": 0.2
             }
            },
            "type": "bar"
           }
          ],
          "barpolar": [
           {
            "marker": {
             "line": {
              "color": "#E5ECF6",
              "width": 0.5
             },
             "pattern": {
              "fillmode": "overlay",
              "size": 10,
              "solidity": 0.2
             }
            },
            "type": "barpolar"
           }
          ],
          "carpet": [
           {
            "aaxis": {
             "endlinecolor": "#2a3f5f",
             "gridcolor": "white",
             "linecolor": "white",
             "minorgridcolor": "white",
             "startlinecolor": "#2a3f5f"
            },
            "baxis": {
             "endlinecolor": "#2a3f5f",
             "gridcolor": "white",
             "linecolor": "white",
             "minorgridcolor": "white",
             "startlinecolor": "#2a3f5f"
            },
            "type": "carpet"
           }
          ],
          "choropleth": [
           {
            "colorbar": {
             "outlinewidth": 0,
             "ticks": ""
            },
            "type": "choropleth"
           }
          ],
          "contour": [
           {
            "colorbar": {
             "outlinewidth": 0,
             "ticks": ""
            },
            "colorscale": [
             [
              0,
              "#0d0887"
             ],
             [
              0.1111111111111111,
              "#46039f"
             ],
             [
              0.2222222222222222,
              "#7201a8"
             ],
             [
              0.3333333333333333,
              "#9c179e"
             ],
             [
              0.4444444444444444,
              "#bd3786"
             ],
             [
              0.5555555555555556,
              "#d8576b"
             ],
             [
              0.6666666666666666,
              "#ed7953"
             ],
             [
              0.7777777777777778,
              "#fb9f3a"
             ],
             [
              0.8888888888888888,
              "#fdca26"
             ],
             [
              1,
              "#f0f921"
             ]
            ],
            "type": "contour"
           }
          ],
          "contourcarpet": [
           {
            "colorbar": {
             "outlinewidth": 0,
             "ticks": ""
            },
            "type": "contourcarpet"
           }
          ],
          "heatmap": [
           {
            "colorbar": {
             "outlinewidth": 0,
             "ticks": ""
            },
            "colorscale": [
             [
              0,
              "#0d0887"
             ],
             [
              0.1111111111111111,
              "#46039f"
             ],
             [
              0.2222222222222222,
              "#7201a8"
             ],
             [
              0.3333333333333333,
              "#9c179e"
             ],
             [
              0.4444444444444444,
              "#bd3786"
             ],
             [
              0.5555555555555556,
              "#d8576b"
             ],
             [
              0.6666666666666666,
              "#ed7953"
             ],
             [
              0.7777777777777778,
              "#fb9f3a"
             ],
             [
              0.8888888888888888,
              "#fdca26"
             ],
             [
              1,
              "#f0f921"
             ]
            ],
            "type": "heatmap"
           }
          ],
          "heatmapgl": [
           {
            "colorbar": {
             "outlinewidth": 0,
             "ticks": ""
            },
            "colorscale": [
             [
              0,
              "#0d0887"
             ],
             [
              0.1111111111111111,
              "#46039f"
             ],
             [
              0.2222222222222222,
              "#7201a8"
             ],
             [
              0.3333333333333333,
              "#9c179e"
             ],
             [
              0.4444444444444444,
              "#bd3786"
             ],
             [
              0.5555555555555556,
              "#d8576b"
             ],
             [
              0.6666666666666666,
              "#ed7953"
             ],
             [
              0.7777777777777778,
              "#fb9f3a"
             ],
             [
              0.8888888888888888,
              "#fdca26"
             ],
             [
              1,
              "#f0f921"
             ]
            ],
            "type": "heatmapgl"
           }
          ],
          "histogram": [
           {
            "marker": {
             "pattern": {
              "fillmode": "overlay",
              "size": 10,
              "solidity": 0.2
             }
            },
            "type": "histogram"
           }
          ],
          "histogram2d": [
           {
            "colorbar": {
             "outlinewidth": 0,
             "ticks": ""
            },
            "colorscale": [
             [
              0,
              "#0d0887"
             ],
             [
              0.1111111111111111,
              "#46039f"
             ],
             [
              0.2222222222222222,
              "#7201a8"
             ],
             [
              0.3333333333333333,
              "#9c179e"
             ],
             [
              0.4444444444444444,
              "#bd3786"
             ],
             [
              0.5555555555555556,
              "#d8576b"
             ],
             [
              0.6666666666666666,
              "#ed7953"
             ],
             [
              0.7777777777777778,
              "#fb9f3a"
             ],
             [
              0.8888888888888888,
              "#fdca26"
             ],
             [
              1,
              "#f0f921"
             ]
            ],
            "type": "histogram2d"
           }
          ],
          "histogram2dcontour": [
           {
            "colorbar": {
             "outlinewidth": 0,
             "ticks": ""
            },
            "colorscale": [
             [
              0,
              "#0d0887"
             ],
             [
              0.1111111111111111,
              "#46039f"
             ],
             [
              0.2222222222222222,
              "#7201a8"
             ],
             [
              0.3333333333333333,
              "#9c179e"
             ],
             [
              0.4444444444444444,
              "#bd3786"
             ],
             [
              0.5555555555555556,
              "#d8576b"
             ],
             [
              0.6666666666666666,
              "#ed7953"
             ],
             [
              0.7777777777777778,
              "#fb9f3a"
             ],
             [
              0.8888888888888888,
              "#fdca26"
             ],
             [
              1,
              "#f0f921"
             ]
            ],
            "type": "histogram2dcontour"
           }
          ],
          "mesh3d": [
           {
            "colorbar": {
             "outlinewidth": 0,
             "ticks": ""
            },
            "type": "mesh3d"
           }
          ],
          "parcoords": [
           {
            "line": {
             "colorbar": {
              "outlinewidth": 0,
              "ticks": ""
             }
            },
            "type": "parcoords"
           }
          ],
          "pie": [
           {
            "automargin": true,
            "type": "pie"
           }
          ],
          "scatter": [
           {
            "fillpattern": {
             "fillmode": "overlay",
             "size": 10,
             "solidity": 0.2
            },
            "type": "scatter"
           }
          ],
          "scatter3d": [
           {
            "line": {
             "colorbar": {
              "outlinewidth": 0,
              "ticks": ""
             }
            },
            "marker": {
             "colorbar": {
              "outlinewidth": 0,
              "ticks": ""
             }
            },
            "type": "scatter3d"
           }
          ],
          "scattercarpet": [
           {
            "marker": {
             "colorbar": {
              "outlinewidth": 0,
              "ticks": ""
             }
            },
            "type": "scattercarpet"
           }
          ],
          "scattergeo": [
           {
            "marker": {
             "colorbar": {
              "outlinewidth": 0,
              "ticks": ""
             }
            },
            "type": "scattergeo"
           }
          ],
          "scattergl": [
           {
            "marker": {
             "colorbar": {
              "outlinewidth": 0,
              "ticks": ""
             }
            },
            "type": "scattergl"
           }
          ],
          "scattermapbox": [
           {
            "marker": {
             "colorbar": {
              "outlinewidth": 0,
              "ticks": ""
             }
            },
            "type": "scattermapbox"
           }
          ],
          "scatterpolar": [
           {
            "marker": {
             "colorbar": {
              "outlinewidth": 0,
              "ticks": ""
             }
            },
            "type": "scatterpolar"
           }
          ],
          "scatterpolargl": [
           {
            "marker": {
             "colorbar": {
              "outlinewidth": 0,
              "ticks": ""
             }
            },
            "type": "scatterpolargl"
           }
          ],
          "scatterternary": [
           {
            "marker": {
             "colorbar": {
              "outlinewidth": 0,
              "ticks": ""
             }
            },
            "type": "scatterternary"
           }
          ],
          "surface": [
           {
            "colorbar": {
             "outlinewidth": 0,
             "ticks": ""
            },
            "colorscale": [
             [
              0,
              "#0d0887"
             ],
             [
              0.1111111111111111,
              "#46039f"
             ],
             [
              0.2222222222222222,
              "#7201a8"
             ],
             [
              0.3333333333333333,
              "#9c179e"
             ],
             [
              0.4444444444444444,
              "#bd3786"
             ],
             [
              0.5555555555555556,
              "#d8576b"
             ],
             [
              0.6666666666666666,
              "#ed7953"
             ],
             [
              0.7777777777777778,
              "#fb9f3a"
             ],
             [
              0.8888888888888888,
              "#fdca26"
             ],
             [
              1,
              "#f0f921"
             ]
            ],
            "type": "surface"
           }
          ],
          "table": [
           {
            "cells": {
             "fill": {
              "color": "#EBF0F8"
             },
             "line": {
              "color": "white"
             }
            },
            "header": {
             "fill": {
              "color": "#C8D4E3"
             },
             "line": {
              "color": "white"
             }
            },
            "type": "table"
           }
          ]
         },
         "layout": {
          "annotationdefaults": {
           "arrowcolor": "#2a3f5f",
           "arrowhead": 0,
           "arrowwidth": 1
          },
          "autotypenumbers": "strict",
          "coloraxis": {
           "colorbar": {
            "outlinewidth": 0,
            "ticks": ""
           }
          },
          "colorscale": {
           "diverging": [
            [
             0,
             "#8e0152"
            ],
            [
             0.1,
             "#c51b7d"
            ],
            [
             0.2,
             "#de77ae"
            ],
            [
             0.3,
             "#f1b6da"
            ],
            [
             0.4,
             "#fde0ef"
            ],
            [
             0.5,
             "#f7f7f7"
            ],
            [
             0.6,
             "#e6f5d0"
            ],
            [
             0.7,
             "#b8e186"
            ],
            [
             0.8,
             "#7fbc41"
            ],
            [
             0.9,
             "#4d9221"
            ],
            [
             1,
             "#276419"
            ]
           ],
           "sequential": [
            [
             0,
             "#0d0887"
            ],
            [
             0.1111111111111111,
             "#46039f"
            ],
            [
             0.2222222222222222,
             "#7201a8"
            ],
            [
             0.3333333333333333,
             "#9c179e"
            ],
            [
             0.4444444444444444,
             "#bd3786"
            ],
            [
             0.5555555555555556,
             "#d8576b"
            ],
            [
             0.6666666666666666,
             "#ed7953"
            ],
            [
             0.7777777777777778,
             "#fb9f3a"
            ],
            [
             0.8888888888888888,
             "#fdca26"
            ],
            [
             1,
             "#f0f921"
            ]
           ],
           "sequentialminus": [
            [
             0,
             "#0d0887"
            ],
            [
             0.1111111111111111,
             "#46039f"
            ],
            [
             0.2222222222222222,
             "#7201a8"
            ],
            [
             0.3333333333333333,
             "#9c179e"
            ],
            [
             0.4444444444444444,
             "#bd3786"
            ],
            [
             0.5555555555555556,
             "#d8576b"
            ],
            [
             0.6666666666666666,
             "#ed7953"
            ],
            [
             0.7777777777777778,
             "#fb9f3a"
            ],
            [
             0.8888888888888888,
             "#fdca26"
            ],
            [
             1,
             "#f0f921"
            ]
           ]
          },
          "colorway": [
           "#636efa",
           "#EF553B",
           "#00cc96",
           "#ab63fa",
           "#FFA15A",
           "#19d3f3",
           "#FF6692",
           "#B6E880",
           "#FF97FF",
           "#FECB52"
          ],
          "font": {
           "color": "#2a3f5f"
          },
          "geo": {
           "bgcolor": "white",
           "lakecolor": "white",
           "landcolor": "#E5ECF6",
           "showlakes": true,
           "showland": true,
           "subunitcolor": "white"
          },
          "hoverlabel": {
           "align": "left"
          },
          "hovermode": "closest",
          "mapbox": {
           "style": "light"
          },
          "paper_bgcolor": "white",
          "plot_bgcolor": "#E5ECF6",
          "polar": {
           "angularaxis": {
            "gridcolor": "white",
            "linecolor": "white",
            "ticks": ""
           },
           "bgcolor": "#E5ECF6",
           "radialaxis": {
            "gridcolor": "white",
            "linecolor": "white",
            "ticks": ""
           }
          },
          "scene": {
           "xaxis": {
            "backgroundcolor": "#E5ECF6",
            "gridcolor": "white",
            "gridwidth": 2,
            "linecolor": "white",
            "showbackground": true,
            "ticks": "",
            "zerolinecolor": "white"
           },
           "yaxis": {
            "backgroundcolor": "#E5ECF6",
            "gridcolor": "white",
            "gridwidth": 2,
            "linecolor": "white",
            "showbackground": true,
            "ticks": "",
            "zerolinecolor": "white"
           },
           "zaxis": {
            "backgroundcolor": "#E5ECF6",
            "gridcolor": "white",
            "gridwidth": 2,
            "linecolor": "white",
            "showbackground": true,
            "ticks": "",
            "zerolinecolor": "white"
           }
          },
          "shapedefaults": {
           "line": {
            "color": "#2a3f5f"
           }
          },
          "ternary": {
           "aaxis": {
            "gridcolor": "white",
            "linecolor": "white",
            "ticks": ""
           },
           "baxis": {
            "gridcolor": "white",
            "linecolor": "white",
            "ticks": ""
           },
           "bgcolor": "#E5ECF6",
           "caxis": {
            "gridcolor": "white",
            "linecolor": "white",
            "ticks": ""
           }
          },
          "title": {
           "x": 0.05
          },
          "xaxis": {
           "automargin": true,
           "gridcolor": "white",
           "linecolor": "white",
           "ticks": "",
           "title": {
            "standoff": 15
           },
           "zerolinecolor": "white",
           "zerolinewidth": 2
          },
          "yaxis": {
           "automargin": true,
           "gridcolor": "white",
           "linecolor": "white",
           "ticks": "",
           "title": {
            "standoff": 15
           },
           "zerolinecolor": "white",
           "zerolinewidth": 2
          }
         }
        },
        "xaxis": {
         "anchor": "y",
         "domain": [
          0,
          1
         ],
         "title": {
          "text": "VideoID"
         }
        },
        "yaxis": {
         "anchor": "x",
         "domain": [
          0,
          1
         ],
         "title": {
          "text": "Count"
         }
        }
       }
      }
     },
     "metadata": {},
     "output_type": "display_data"
    }
   ],
   "source": [
    "fig = px.bar(test, x='VideoID', y='Count')\n",
    "fig.show()"
   ]
  },
  {
   "cell_type": "code",
   "execution_count": 78,
   "metadata": {},
   "outputs": [
    {
     "data": {
      "text/html": [
       "<div>\n",
       "<style scoped>\n",
       "    .dataframe tbody tr th:only-of-type {\n",
       "        vertical-align: middle;\n",
       "    }\n",
       "\n",
       "    .dataframe tbody tr th {\n",
       "        vertical-align: top;\n",
       "    }\n",
       "\n",
       "    .dataframe thead th {\n",
       "        text-align: right;\n",
       "    }\n",
       "</style>\n",
       "<table border=\"1\" class=\"dataframe\">\n",
       "  <thead>\n",
       "    <tr style=\"text-align: right;\">\n",
       "      <th></th>\n",
       "      <th>VideoID</th>\n",
       "      <th>Count</th>\n",
       "      <th>Region</th>\n",
       "    </tr>\n",
       "  </thead>\n",
       "  <tbody>\n",
       "    <tr>\n",
       "      <th>2</th>\n",
       "      <td>yellow coldplay</td>\n",
       "      <td>3043</td>\n",
       "      <td>Inter</td>\n",
       "    </tr>\n",
       "    <tr>\n",
       "      <th>1</th>\n",
       "      <td>Die With a Smile</td>\n",
       "      <td>1452</td>\n",
       "      <td>Inter</td>\n",
       "    </tr>\n",
       "    <tr>\n",
       "      <th>0</th>\n",
       "      <td>BIRDS OF A FEATHER</td>\n",
       "      <td>350</td>\n",
       "      <td>Inter</td>\n",
       "    </tr>\n",
       "  </tbody>\n",
       "</table>\n",
       "</div>"
      ],
      "text/plain": [
       "              VideoID  Count Region\n",
       "2     yellow coldplay   3043  Inter\n",
       "1    Die With a Smile   1452  Inter\n",
       "0  BIRDS OF A FEATHER    350  Inter"
      ]
     },
     "execution_count": 78,
     "metadata": {},
     "output_type": "execute_result"
    }
   ],
   "source": [
    "test['Region'] = 'Inter'\n",
    "test"
   ]
  },
  {
   "cell_type": "code",
   "execution_count": 79,
   "metadata": {},
   "outputs": [],
   "source": [
    "test.to_csv('inter.csv')"
   ]
  }
 ],
 "metadata": {
  "kernelspec": {
   "display_name": "Python 3",
   "language": "python",
   "name": "python3"
  },
  "language_info": {
   "codemirror_mode": {
    "name": "ipython",
    "version": 3
   },
   "file_extension": ".py",
   "mimetype": "text/x-python",
   "name": "python",
   "nbconvert_exporter": "python",
   "pygments_lexer": "ipython3",
   "version": "3.11.9"
  }
 },
 "nbformat": 4,
 "nbformat_minor": 2
}
