{
 "cells": [
  {
   "cell_type": "code",
   "execution_count": 2,
   "metadata": {},
   "outputs": [],
   "source": [
    "import pandas as pd\n",
    "import plotly.express as px"
   ]
  },
  {
   "cell_type": "markdown",
   "metadata": {},
   "source": [
    "# Load Data"
   ]
  },
  {
   "cell_type": "code",
   "execution_count": 177,
   "metadata": {},
   "outputs": [
    {
     "data": {
      "text/html": [
       "<div>\n",
       "<style scoped>\n",
       "    .dataframe tbody tr th:only-of-type {\n",
       "        vertical-align: middle;\n",
       "    }\n",
       "\n",
       "    .dataframe tbody tr th {\n",
       "        vertical-align: top;\n",
       "    }\n",
       "\n",
       "    .dataframe thead th {\n",
       "        text-align: right;\n",
       "    }\n",
       "</style>\n",
       "<table border=\"1\" class=\"dataframe\">\n",
       "  <thead>\n",
       "    <tr style=\"text-align: right;\">\n",
       "      <th></th>\n",
       "      <th>Timestamp</th>\n",
       "      <th>Username</th>\n",
       "      <th>VideoID</th>\n",
       "      <th>Comment</th>\n",
       "      <th>Date</th>\n",
       "    </tr>\n",
       "  </thead>\n",
       "  <tbody>\n",
       "    <tr>\n",
       "      <th>0</th>\n",
       "      <td>2024-06-25T08:24:53Z</td>\n",
       "      <td>@เทวฤทธิ์จิตรสอาด-พ1ฝ</td>\n",
       "      <td>SUgxaWkGcZc</td>\n",
       "      <td>รักเลย</td>\n",
       "      <td>2024-06-25T08:24:53Z</td>\n",
       "    </tr>\n",
       "    <tr>\n",
       "      <th>1</th>\n",
       "      <td>2023-07-09T12:01:42Z</td>\n",
       "      <td>@renjanaabhiprayaabin5468</td>\n",
       "      <td>SUgxaWkGcZc</td>\n",
       "      <td>Sedih bgt lagunya 😥😥😢</td>\n",
       "      <td>2023-07-09T12:01:42Z</td>\n",
       "    </tr>\n",
       "    <tr>\n",
       "      <th>2</th>\n",
       "      <td>2023-06-21T04:07:41Z</td>\n",
       "      <td>@fay9</td>\n",
       "      <td>SUgxaWkGcZc</td>\n",
       "      <td>Kesini lagi abis nonton Our Skyy 2, mau nostal...</td>\n",
       "      <td>2023-06-21T04:07:41Z</td>\n",
       "    </tr>\n",
       "    <tr>\n",
       "      <th>3</th>\n",
       "      <td>2023-01-11T15:03:13Z</td>\n",
       "      <td>@flo_erin07</td>\n",
       "      <td>SUgxaWkGcZc</td>\n",
       "      <td>HWAAA, KERENNN BANGET KAKK😭😭😭\\nINI SALAH SATU ...</td>\n",
       "      <td>2023-01-11T15:03:13Z</td>\n",
       "    </tr>\n",
       "    <tr>\n",
       "      <th>4</th>\n",
       "      <td>2022-12-22T08:45:56Z</td>\n",
       "      <td>@thisisme5212</td>\n",
       "      <td>SUgxaWkGcZc</td>\n",
       "      <td>NGEFANS BGT AAAAAAAAAAAAAA</td>\n",
       "      <td>2022-12-22T08:45:56Z</td>\n",
       "    </tr>\n",
       "    <tr>\n",
       "      <th>...</th>\n",
       "      <td>...</td>\n",
       "      <td>...</td>\n",
       "      <td>...</td>\n",
       "      <td>...</td>\n",
       "      <td>...</td>\n",
       "    </tr>\n",
       "    <tr>\n",
       "      <th>210</th>\n",
       "      <td>2021-12-02T10:01:35Z</td>\n",
       "      <td>@septianiayulestari9756</td>\n",
       "      <td>SUgxaWkGcZc</td>\n",
       "      <td>wiii akhirnya upload</td>\n",
       "      <td>2021-12-02T10:01:35Z</td>\n",
       "    </tr>\n",
       "    <tr>\n",
       "      <th>211</th>\n",
       "      <td>2021-12-02T10:01:25Z</td>\n",
       "      <td>@keringattakakanberbohong790</td>\n",
       "      <td>SUgxaWkGcZc</td>\n",
       "      <td>Mantaps phi</td>\n",
       "      <td>2021-12-02T10:01:25Z</td>\n",
       "    </tr>\n",
       "    <tr>\n",
       "      <th>212</th>\n",
       "      <td>2021-12-02T10:01:21Z</td>\n",
       "      <td>@nurazizah7887</td>\n",
       "      <td>SUgxaWkGcZc</td>\n",
       "      <td>Phiii ❤️</td>\n",
       "      <td>2021-12-02T10:01:21Z</td>\n",
       "    </tr>\n",
       "    <tr>\n",
       "      <th>213</th>\n",
       "      <td>2021-12-02T10:01:17Z</td>\n",
       "      <td>@erlanggaferik</td>\n",
       "      <td>SUgxaWkGcZc</td>\n",
       "      <td>Akhirnya cover lagi</td>\n",
       "      <td>2021-12-02T10:01:17Z</td>\n",
       "    </tr>\n",
       "    <tr>\n",
       "      <th>214</th>\n",
       "      <td>2021-12-02T10:01:10Z</td>\n",
       "      <td>@nurmalicka2531</td>\n",
       "      <td>SUgxaWkGcZc</td>\n",
       "      <td>Prtama bgt nih</td>\n",
       "      <td>2021-12-02T10:01:10Z</td>\n",
       "    </tr>\n",
       "  </tbody>\n",
       "</table>\n",
       "<p>215 rows × 5 columns</p>\n",
       "</div>"
      ],
      "text/plain": [
       "                Timestamp                      Username      VideoID  \\\n",
       "0    2024-06-25T08:24:53Z         @เทวฤทธิ์จิตรสอาด-พ1ฝ  SUgxaWkGcZc   \n",
       "1    2023-07-09T12:01:42Z     @renjanaabhiprayaabin5468  SUgxaWkGcZc   \n",
       "2    2023-06-21T04:07:41Z                         @fay9  SUgxaWkGcZc   \n",
       "3    2023-01-11T15:03:13Z                   @flo_erin07  SUgxaWkGcZc   \n",
       "4    2022-12-22T08:45:56Z                 @thisisme5212  SUgxaWkGcZc   \n",
       "..                    ...                           ...          ...   \n",
       "210  2021-12-02T10:01:35Z       @septianiayulestari9756  SUgxaWkGcZc   \n",
       "211  2021-12-02T10:01:25Z  @keringattakakanberbohong790  SUgxaWkGcZc   \n",
       "212  2021-12-02T10:01:21Z                @nurazizah7887  SUgxaWkGcZc   \n",
       "213  2021-12-02T10:01:17Z                @erlanggaferik  SUgxaWkGcZc   \n",
       "214  2021-12-02T10:01:10Z               @nurmalicka2531  SUgxaWkGcZc   \n",
       "\n",
       "                                               Comment                  Date  \n",
       "0                                              รักเลย   2024-06-25T08:24:53Z  \n",
       "1                                Sedih bgt lagunya 😥😥😢  2023-07-09T12:01:42Z  \n",
       "2    Kesini lagi abis nonton Our Skyy 2, mau nostal...  2023-06-21T04:07:41Z  \n",
       "3    HWAAA, KERENNN BANGET KAKK😭😭😭\\nINI SALAH SATU ...  2023-01-11T15:03:13Z  \n",
       "4                           NGEFANS BGT AAAAAAAAAAAAAA  2022-12-22T08:45:56Z  \n",
       "..                                                 ...                   ...  \n",
       "210                               wiii akhirnya upload  2021-12-02T10:01:35Z  \n",
       "211                                        Mantaps phi  2021-12-02T10:01:25Z  \n",
       "212                                           Phiii ❤️  2021-12-02T10:01:21Z  \n",
       "213                                Akhirnya cover lagi  2021-12-02T10:01:17Z  \n",
       "214                                     Prtama bgt nih  2021-12-02T10:01:10Z  \n",
       "\n",
       "[215 rows x 5 columns]"
      ]
     },
     "execution_count": 177,
     "metadata": {},
     "output_type": "execute_result"
    }
   ],
   "source": [
    "df_cover = pd.read_csv('คิดแต่ไม่ถึง cover.csv', index_col=0)\n",
    "df_cover"
   ]
  },
  {
   "cell_type": "code",
   "execution_count": 178,
   "metadata": {},
   "outputs": [],
   "source": [
    "df_cover.drop(['Timestamp'], axis=1,inplace=True)\n",
    "df_cover = df_cover.iloc[:,[3,0,1,2]]"
   ]
  },
  {
   "cell_type": "code",
   "execution_count": 179,
   "metadata": {},
   "outputs": [
    {
     "data": {
      "text/html": [
       "<div>\n",
       "<style scoped>\n",
       "    .dataframe tbody tr th:only-of-type {\n",
       "        vertical-align: middle;\n",
       "    }\n",
       "\n",
       "    .dataframe tbody tr th {\n",
       "        vertical-align: top;\n",
       "    }\n",
       "\n",
       "    .dataframe thead th {\n",
       "        text-align: right;\n",
       "    }\n",
       "</style>\n",
       "<table border=\"1\" class=\"dataframe\">\n",
       "  <thead>\n",
       "    <tr style=\"text-align: right;\">\n",
       "      <th></th>\n",
       "      <th>Date</th>\n",
       "      <th>Username</th>\n",
       "      <th>VideoID</th>\n",
       "      <th>Comment</th>\n",
       "    </tr>\n",
       "  </thead>\n",
       "  <tbody>\n",
       "    <tr>\n",
       "      <th>0</th>\n",
       "      <td>2024-06-25T08:24:53Z</td>\n",
       "      <td>@เทวฤทธิ์จิตรสอาด-พ1ฝ</td>\n",
       "      <td>SUgxaWkGcZc</td>\n",
       "      <td>รักเลย</td>\n",
       "    </tr>\n",
       "    <tr>\n",
       "      <th>1</th>\n",
       "      <td>2023-07-09T12:01:42Z</td>\n",
       "      <td>@renjanaabhiprayaabin5468</td>\n",
       "      <td>SUgxaWkGcZc</td>\n",
       "      <td>Sedih bgt lagunya 😥😥😢</td>\n",
       "    </tr>\n",
       "    <tr>\n",
       "      <th>2</th>\n",
       "      <td>2023-06-21T04:07:41Z</td>\n",
       "      <td>@fay9</td>\n",
       "      <td>SUgxaWkGcZc</td>\n",
       "      <td>Kesini lagi abis nonton Our Skyy 2, mau nostal...</td>\n",
       "    </tr>\n",
       "    <tr>\n",
       "      <th>3</th>\n",
       "      <td>2023-01-11T15:03:13Z</td>\n",
       "      <td>@flo_erin07</td>\n",
       "      <td>SUgxaWkGcZc</td>\n",
       "      <td>HWAAA, KERENNN BANGET KAKK😭😭😭\\nINI SALAH SATU ...</td>\n",
       "    </tr>\n",
       "    <tr>\n",
       "      <th>4</th>\n",
       "      <td>2022-12-22T08:45:56Z</td>\n",
       "      <td>@thisisme5212</td>\n",
       "      <td>SUgxaWkGcZc</td>\n",
       "      <td>NGEFANS BGT AAAAAAAAAAAAAA</td>\n",
       "    </tr>\n",
       "    <tr>\n",
       "      <th>...</th>\n",
       "      <td>...</td>\n",
       "      <td>...</td>\n",
       "      <td>...</td>\n",
       "      <td>...</td>\n",
       "    </tr>\n",
       "    <tr>\n",
       "      <th>210</th>\n",
       "      <td>2021-12-02T10:01:35Z</td>\n",
       "      <td>@septianiayulestari9756</td>\n",
       "      <td>SUgxaWkGcZc</td>\n",
       "      <td>wiii akhirnya upload</td>\n",
       "    </tr>\n",
       "    <tr>\n",
       "      <th>211</th>\n",
       "      <td>2021-12-02T10:01:25Z</td>\n",
       "      <td>@keringattakakanberbohong790</td>\n",
       "      <td>SUgxaWkGcZc</td>\n",
       "      <td>Mantaps phi</td>\n",
       "    </tr>\n",
       "    <tr>\n",
       "      <th>212</th>\n",
       "      <td>2021-12-02T10:01:21Z</td>\n",
       "      <td>@nurazizah7887</td>\n",
       "      <td>SUgxaWkGcZc</td>\n",
       "      <td>Phiii ❤️</td>\n",
       "    </tr>\n",
       "    <tr>\n",
       "      <th>213</th>\n",
       "      <td>2021-12-02T10:01:17Z</td>\n",
       "      <td>@erlanggaferik</td>\n",
       "      <td>SUgxaWkGcZc</td>\n",
       "      <td>Akhirnya cover lagi</td>\n",
       "    </tr>\n",
       "    <tr>\n",
       "      <th>214</th>\n",
       "      <td>2021-12-02T10:01:10Z</td>\n",
       "      <td>@nurmalicka2531</td>\n",
       "      <td>SUgxaWkGcZc</td>\n",
       "      <td>Prtama bgt nih</td>\n",
       "    </tr>\n",
       "  </tbody>\n",
       "</table>\n",
       "<p>215 rows × 4 columns</p>\n",
       "</div>"
      ],
      "text/plain": [
       "                     Date                      Username      VideoID  \\\n",
       "0    2024-06-25T08:24:53Z         @เทวฤทธิ์จิตรสอาด-พ1ฝ  SUgxaWkGcZc   \n",
       "1    2023-07-09T12:01:42Z     @renjanaabhiprayaabin5468  SUgxaWkGcZc   \n",
       "2    2023-06-21T04:07:41Z                         @fay9  SUgxaWkGcZc   \n",
       "3    2023-01-11T15:03:13Z                   @flo_erin07  SUgxaWkGcZc   \n",
       "4    2022-12-22T08:45:56Z                 @thisisme5212  SUgxaWkGcZc   \n",
       "..                    ...                           ...          ...   \n",
       "210  2021-12-02T10:01:35Z       @septianiayulestari9756  SUgxaWkGcZc   \n",
       "211  2021-12-02T10:01:25Z  @keringattakakanberbohong790  SUgxaWkGcZc   \n",
       "212  2021-12-02T10:01:21Z                @nurazizah7887  SUgxaWkGcZc   \n",
       "213  2021-12-02T10:01:17Z                @erlanggaferik  SUgxaWkGcZc   \n",
       "214  2021-12-02T10:01:10Z               @nurmalicka2531  SUgxaWkGcZc   \n",
       "\n",
       "                                               Comment  \n",
       "0                                              รักเลย   \n",
       "1                                Sedih bgt lagunya 😥😥😢  \n",
       "2    Kesini lagi abis nonton Our Skyy 2, mau nostal...  \n",
       "3    HWAAA, KERENNN BANGET KAKK😭😭😭\\nINI SALAH SATU ...  \n",
       "4                           NGEFANS BGT AAAAAAAAAAAAAA  \n",
       "..                                                 ...  \n",
       "210                               wiii akhirnya upload  \n",
       "211                                        Mantaps phi  \n",
       "212                                           Phiii ❤️  \n",
       "213                                Akhirnya cover lagi  \n",
       "214                                     Prtama bgt nih  \n",
       "\n",
       "[215 rows x 4 columns]"
      ]
     },
     "execution_count": 179,
     "metadata": {},
     "output_type": "execute_result"
    }
   ],
   "source": [
    "df_cover"
   ]
  },
  {
   "cell_type": "code",
   "execution_count": 180,
   "metadata": {},
   "outputs": [
    {
     "name": "stderr",
     "output_type": "stream",
     "text": [
      "/var/folders/yt/bn1k3ncn7wx6gc0gvnv1rf9m0000gn/T/ipykernel_29255/1810734164.py:10: SettingWithCopyWarning:\n",
      "\n",
      "\n",
      "A value is trying to be set on a copy of a slice from a DataFrame.\n",
      "Try using .loc[row_indexer,col_indexer] = value instead\n",
      "\n",
      "See the caveats in the documentation: https://pandas.pydata.org/pandas-docs/stable/user_guide/indexing.html#returning-a-view-versus-a-copy\n",
      "\n"
     ]
    }
   ],
   "source": [
    "# Insert language\n",
    "from langdetect import detect\n",
    "def det(x):\n",
    "    try:\n",
    "        lang = detect(x)\n",
    "    except:\n",
    "        lang = 'Other'\n",
    "    return lang\n",
    "\n",
    "df_cover['Lang'] = df_cover['Comment'].apply(det)"
   ]
  },
  {
   "cell_type": "code",
   "execution_count": 181,
   "metadata": {},
   "outputs": [
    {
     "data": {
      "text/html": [
       "<div>\n",
       "<style scoped>\n",
       "    .dataframe tbody tr th:only-of-type {\n",
       "        vertical-align: middle;\n",
       "    }\n",
       "\n",
       "    .dataframe tbody tr th {\n",
       "        vertical-align: top;\n",
       "    }\n",
       "\n",
       "    .dataframe thead th {\n",
       "        text-align: right;\n",
       "    }\n",
       "</style>\n",
       "<table border=\"1\" class=\"dataframe\">\n",
       "  <thead>\n",
       "    <tr style=\"text-align: right;\">\n",
       "      <th></th>\n",
       "      <th>Date</th>\n",
       "      <th>Username</th>\n",
       "      <th>VideoID</th>\n",
       "      <th>Comment</th>\n",
       "      <th>Lang</th>\n",
       "    </tr>\n",
       "  </thead>\n",
       "  <tbody>\n",
       "    <tr>\n",
       "      <th>0</th>\n",
       "      <td>2024-06-25T08:24:53Z</td>\n",
       "      <td>@เทวฤทธิ์จิตรสอาด-พ1ฝ</td>\n",
       "      <td>SUgxaWkGcZc</td>\n",
       "      <td>รักเลย</td>\n",
       "      <td>th</td>\n",
       "    </tr>\n",
       "    <tr>\n",
       "      <th>1</th>\n",
       "      <td>2023-07-09T12:01:42Z</td>\n",
       "      <td>@renjanaabhiprayaabin5468</td>\n",
       "      <td>SUgxaWkGcZc</td>\n",
       "      <td>Sedih bgt lagunya 😥😥😢</td>\n",
       "      <td>id</td>\n",
       "    </tr>\n",
       "    <tr>\n",
       "      <th>2</th>\n",
       "      <td>2023-06-21T04:07:41Z</td>\n",
       "      <td>@fay9</td>\n",
       "      <td>SUgxaWkGcZc</td>\n",
       "      <td>Kesini lagi abis nonton Our Skyy 2, mau nostal...</td>\n",
       "      <td>id</td>\n",
       "    </tr>\n",
       "    <tr>\n",
       "      <th>3</th>\n",
       "      <td>2023-01-11T15:03:13Z</td>\n",
       "      <td>@flo_erin07</td>\n",
       "      <td>SUgxaWkGcZc</td>\n",
       "      <td>HWAAA, KERENNN BANGET KAKK😭😭😭\\nINI SALAH SATU ...</td>\n",
       "      <td>de</td>\n",
       "    </tr>\n",
       "    <tr>\n",
       "      <th>4</th>\n",
       "      <td>2022-12-22T08:45:56Z</td>\n",
       "      <td>@thisisme5212</td>\n",
       "      <td>SUgxaWkGcZc</td>\n",
       "      <td>NGEFANS BGT AAAAAAAAAAAAAA</td>\n",
       "      <td>de</td>\n",
       "    </tr>\n",
       "    <tr>\n",
       "      <th>...</th>\n",
       "      <td>...</td>\n",
       "      <td>...</td>\n",
       "      <td>...</td>\n",
       "      <td>...</td>\n",
       "      <td>...</td>\n",
       "    </tr>\n",
       "    <tr>\n",
       "      <th>210</th>\n",
       "      <td>2021-12-02T10:01:35Z</td>\n",
       "      <td>@septianiayulestari9756</td>\n",
       "      <td>SUgxaWkGcZc</td>\n",
       "      <td>wiii akhirnya upload</td>\n",
       "      <td>sw</td>\n",
       "    </tr>\n",
       "    <tr>\n",
       "      <th>211</th>\n",
       "      <td>2021-12-02T10:01:25Z</td>\n",
       "      <td>@keringattakakanberbohong790</td>\n",
       "      <td>SUgxaWkGcZc</td>\n",
       "      <td>Mantaps phi</td>\n",
       "      <td>en</td>\n",
       "    </tr>\n",
       "    <tr>\n",
       "      <th>212</th>\n",
       "      <td>2021-12-02T10:01:21Z</td>\n",
       "      <td>@nurazizah7887</td>\n",
       "      <td>SUgxaWkGcZc</td>\n",
       "      <td>Phiii ❤️</td>\n",
       "      <td>vi</td>\n",
       "    </tr>\n",
       "    <tr>\n",
       "      <th>213</th>\n",
       "      <td>2021-12-02T10:01:17Z</td>\n",
       "      <td>@erlanggaferik</td>\n",
       "      <td>SUgxaWkGcZc</td>\n",
       "      <td>Akhirnya cover lagi</td>\n",
       "      <td>id</td>\n",
       "    </tr>\n",
       "    <tr>\n",
       "      <th>214</th>\n",
       "      <td>2021-12-02T10:01:10Z</td>\n",
       "      <td>@nurmalicka2531</td>\n",
       "      <td>SUgxaWkGcZc</td>\n",
       "      <td>Prtama bgt nih</td>\n",
       "      <td>id</td>\n",
       "    </tr>\n",
       "  </tbody>\n",
       "</table>\n",
       "<p>215 rows × 5 columns</p>\n",
       "</div>"
      ],
      "text/plain": [
       "                     Date                      Username      VideoID  \\\n",
       "0    2024-06-25T08:24:53Z         @เทวฤทธิ์จิตรสอาด-พ1ฝ  SUgxaWkGcZc   \n",
       "1    2023-07-09T12:01:42Z     @renjanaabhiprayaabin5468  SUgxaWkGcZc   \n",
       "2    2023-06-21T04:07:41Z                         @fay9  SUgxaWkGcZc   \n",
       "3    2023-01-11T15:03:13Z                   @flo_erin07  SUgxaWkGcZc   \n",
       "4    2022-12-22T08:45:56Z                 @thisisme5212  SUgxaWkGcZc   \n",
       "..                    ...                           ...          ...   \n",
       "210  2021-12-02T10:01:35Z       @septianiayulestari9756  SUgxaWkGcZc   \n",
       "211  2021-12-02T10:01:25Z  @keringattakakanberbohong790  SUgxaWkGcZc   \n",
       "212  2021-12-02T10:01:21Z                @nurazizah7887  SUgxaWkGcZc   \n",
       "213  2021-12-02T10:01:17Z                @erlanggaferik  SUgxaWkGcZc   \n",
       "214  2021-12-02T10:01:10Z               @nurmalicka2531  SUgxaWkGcZc   \n",
       "\n",
       "                                               Comment Lang  \n",
       "0                                              รักเลย    th  \n",
       "1                                Sedih bgt lagunya 😥😥😢   id  \n",
       "2    Kesini lagi abis nonton Our Skyy 2, mau nostal...   id  \n",
       "3    HWAAA, KERENNN BANGET KAKK😭😭😭\\nINI SALAH SATU ...   de  \n",
       "4                           NGEFANS BGT AAAAAAAAAAAAAA   de  \n",
       "..                                                 ...  ...  \n",
       "210                               wiii akhirnya upload   sw  \n",
       "211                                        Mantaps phi   en  \n",
       "212                                           Phiii ❤️   vi  \n",
       "213                                Akhirnya cover lagi   id  \n",
       "214                                     Prtama bgt nih   id  \n",
       "\n",
       "[215 rows x 5 columns]"
      ]
     },
     "execution_count": 181,
     "metadata": {},
     "output_type": "execute_result"
    }
   ],
   "source": [
    "df_cover"
   ]
  },
  {
   "cell_type": "code",
   "execution_count": 57,
   "metadata": {},
   "outputs": [
    {
     "data": {
      "text/html": [
       "<div>\n",
       "<style scoped>\n",
       "    .dataframe tbody tr th:only-of-type {\n",
       "        vertical-align: middle;\n",
       "    }\n",
       "\n",
       "    .dataframe tbody tr th {\n",
       "        vertical-align: top;\n",
       "    }\n",
       "\n",
       "    .dataframe thead th {\n",
       "        text-align: right;\n",
       "    }\n",
       "</style>\n",
       "<table border=\"1\" class=\"dataframe\">\n",
       "  <thead>\n",
       "    <tr style=\"text-align: right;\">\n",
       "      <th></th>\n",
       "      <th>Date</th>\n",
       "      <th>Username</th>\n",
       "      <th>VideoID</th>\n",
       "      <th>Comment</th>\n",
       "      <th>Lang</th>\n",
       "    </tr>\n",
       "  </thead>\n",
       "  <tbody>\n",
       "    <tr>\n",
       "      <th>31</th>\n",
       "      <td>2022-01-15T17:41:58Z</td>\n",
       "      <td>@jekeitizaka4627</td>\n",
       "      <td>nFoRZMB7XwU</td>\n",
       "      <td>Di ig nya dia pernah bilang dibantu member BNK48</td>\n",
       "      <td>id</td>\n",
       "    </tr>\n",
       "    <tr>\n",
       "      <th>41</th>\n",
       "      <td>2021-12-12T03:32:00Z</td>\n",
       "      <td>@jekeitizaka4627</td>\n",
       "      <td>nFoRZMB7XwU</td>\n",
       "      <td>cek aja twitter sama tiktok nya, sering ngeran...</td>\n",
       "      <td>id</td>\n",
       "    </tr>\n",
       "    <tr>\n",
       "      <th>42</th>\n",
       "      <td>2021-12-12T06:02:17Z</td>\n",
       "      <td>@indahag_1733</td>\n",
       "      <td>nFoRZMB7XwU</td>\n",
       "      <td>@@jekeitizaka4627 iyah fujo ternyata😭</td>\n",
       "      <td>id</td>\n",
       "    </tr>\n",
       "    <tr>\n",
       "      <th>69</th>\n",
       "      <td>2021-05-02T05:25:10Z</td>\n",
       "      <td>@jekeitizaka4627</td>\n",
       "      <td>nFoRZMB7XwU</td>\n",
       "      <td>mohon dukungannya Untuk Sisca\\ndi Liga Showroo...</td>\n",
       "      <td>id</td>\n",
       "    </tr>\n",
       "    <tr>\n",
       "      <th>76</th>\n",
       "      <td>2021-04-19T00:44:00Z</td>\n",
       "      <td>@user-sc3oh1bw4z</td>\n",
       "      <td>nFoRZMB7XwU</td>\n",
       "      <td>@@Diaz87950 well ga ada larangan di agama budd...</td>\n",
       "      <td>id</td>\n",
       "    </tr>\n",
       "    <tr>\n",
       "      <th>108</th>\n",
       "      <td>2021-01-02T02:49:42Z</td>\n",
       "      <td>@istrisahjungkook6333</td>\n",
       "      <td>nFoRZMB7XwU</td>\n",
       "      <td>Sisca kalau di transfer ke bnk48 mau gk nih?se...</td>\n",
       "      <td>id</td>\n",
       "    </tr>\n",
       "    <tr>\n",
       "      <th>115</th>\n",
       "      <td>2020-12-22T23:58:43Z</td>\n",
       "      <td>@piaa5335</td>\n",
       "      <td>nFoRZMB7XwU</td>\n",
       "      <td>Mbak siska rakyat raikantopeni juga? 😭 Kita sa...</td>\n",
       "      <td>id</td>\n",
       "    </tr>\n",
       "    <tr>\n",
       "      <th>144</th>\n",
       "      <td>2020-11-24T12:49:29Z</td>\n",
       "      <td>@kevinkhun8937</td>\n",
       "      <td>nFoRZMB7XwU</td>\n",
       "      <td>Soon kayanya, sisj udah mulai nonton itu serie...</td>\n",
       "      <td>id</td>\n",
       "    </tr>\n",
       "    <tr>\n",
       "      <th>179</th>\n",
       "      <td>2020-11-04T03:12:39Z</td>\n",
       "      <td>@fudanshinnocent</td>\n",
       "      <td>nFoRZMB7XwU</td>\n",
       "      <td>Ada yang nonton BL Jepang Cherry Magic ga? Sum...</td>\n",
       "      <td>id</td>\n",
       "    </tr>\n",
       "    <tr>\n",
       "      <th>188</th>\n",
       "      <td>2020-11-02T18:28:30Z</td>\n",
       "      <td>@gustiwicaksana7526</td>\n",
       "      <td>nFoRZMB7XwU</td>\n",
       "      <td>Semangat ya bikin videonya, semoga akhir tahun...</td>\n",
       "      <td>id</td>\n",
       "    </tr>\n",
       "    <tr>\n",
       "      <th>189</th>\n",
       "      <td>2020-11-02T18:28:23Z</td>\n",
       "      <td>@gustiwicaksana7526</td>\n",
       "      <td>nFoRZMB7XwU</td>\n",
       "      <td>Semangat ya bikin videonya, semoga akhir tahun...</td>\n",
       "      <td>id</td>\n",
       "    </tr>\n",
       "    <tr>\n",
       "      <th>206</th>\n",
       "      <td>2020-10-28T04:36:56Z</td>\n",
       "      <td>@arnchannel8514</td>\n",
       "      <td>nFoRZMB7XwU</td>\n",
       "      <td>Di kasih lirik dong kak</td>\n",
       "      <td>id</td>\n",
       "    </tr>\n",
       "    <tr>\n",
       "      <th>211</th>\n",
       "      <td>2020-10-27T15:22:36Z</td>\n",
       "      <td>@aisahnuraeni6959</td>\n",
       "      <td>nFoRZMB7XwU</td>\n",
       "      <td>Versi indo nya enak bet😭😍</td>\n",
       "      <td>id</td>\n",
       "    </tr>\n",
       "    <tr>\n",
       "      <th>212</th>\n",
       "      <td>2020-10-27T15:20:59Z</td>\n",
       "      <td>@aisahnuraeni6959</td>\n",
       "      <td>nFoRZMB7XwU</td>\n",
       "      <td>Lancar bet bahasa Thailand nya ya bund</td>\n",
       "      <td>id</td>\n",
       "    </tr>\n",
       "    <tr>\n",
       "      <th>213</th>\n",
       "      <td>2020-10-28T02:16:41Z</td>\n",
       "      <td>@nnnnn2160</td>\n",
       "      <td>nFoRZMB7XwU</td>\n",
       "      <td>Iya soalnya sisca di bantu sama member BNK48 (...</td>\n",
       "      <td>id</td>\n",
       "    </tr>\n",
       "    <tr>\n",
       "      <th>228</th>\n",
       "      <td>2020-10-26T11:07:32Z</td>\n",
       "      <td>@TheRasASUsuJahe</td>\n",
       "      <td>nFoRZMB7XwU</td>\n",
       "      <td>full indo bakalan bagus😭</td>\n",
       "      <td>id</td>\n",
       "    </tr>\n",
       "    <tr>\n",
       "      <th>232</th>\n",
       "      <td>2020-10-25T23:13:00Z</td>\n",
       "      <td>@DarminNamzaOfficial</td>\n",
       "      <td>nFoRZMB7XwU</td>\n",
       "      <td>Anjim suaranya mantul ...</td>\n",
       "      <td>id</td>\n",
       "    </tr>\n",
       "    <tr>\n",
       "      <th>250</th>\n",
       "      <td>2020-10-28T02:18:03Z</td>\n",
       "      <td>@nnnnn2160</td>\n",
       "      <td>nFoRZMB7XwU</td>\n",
       "      <td>Sisca suka BL dari jaman love be chance dan si...</td>\n",
       "      <td>id</td>\n",
       "    </tr>\n",
       "    <tr>\n",
       "      <th>260</th>\n",
       "      <td>2020-11-02T19:33:33Z</td>\n",
       "      <td>@user-sc3oh1bw4z</td>\n",
       "      <td>nFoRZMB7XwU</td>\n",
       "      <td>well, sisca bisa dibilang member jkt yg suaran...</td>\n",
       "      <td>id</td>\n",
       "    </tr>\n",
       "    <tr>\n",
       "      <th>294</th>\n",
       "      <td>2020-10-21T14:13:16Z</td>\n",
       "      <td>@muhammadrifkiofficial7552</td>\n",
       "      <td>nFoRZMB7XwU</td>\n",
       "      <td>Setuju banget wkwk</td>\n",
       "      <td>id</td>\n",
       "    </tr>\n",
       "    <tr>\n",
       "      <th>356</th>\n",
       "      <td>2020-10-14T16:52:48Z</td>\n",
       "      <td>@muhammadrifkiofficial7552</td>\n",
       "      <td>nFoRZMB7XwU</td>\n",
       "      <td>Iya, dia fujo kayanya di tiktok juga banyak ko...</td>\n",
       "      <td>id</td>\n",
       "    </tr>\n",
       "    <tr>\n",
       "      <th>360</th>\n",
       "      <td>2020-10-13T01:55:25Z</td>\n",
       "      <td>@smoeland</td>\n",
       "      <td>nFoRZMB7XwU</td>\n",
       "      <td>Anjayaniiii bagusss banget meng...</td>\n",
       "      <td>id</td>\n",
       "    </tr>\n",
       "    <tr>\n",
       "      <th>361</th>\n",
       "      <td>2020-10-13T01:59:10Z</td>\n",
       "      <td>@smoeland</td>\n",
       "      <td>nFoRZMB7XwU</td>\n",
       "      <td>Aduh nong sisca... rasanya mau bantu benerin b...</td>\n",
       "      <td>id</td>\n",
       "    </tr>\n",
       "    <tr>\n",
       "      <th>393</th>\n",
       "      <td>2020-10-08T02:10:22Z</td>\n",
       "      <td>@silmymasywa5222</td>\n",
       "      <td>nFoRZMB7XwU</td>\n",
       "      <td>Wah anak jkt ternyata ada yang warga reinkanto...</td>\n",
       "      <td>id</td>\n",
       "    </tr>\n",
       "    <tr>\n",
       "      <th>405</th>\n",
       "      <td>2020-10-07T05:19:27Z</td>\n",
       "      <td>@ashandiiteza3961</td>\n",
       "      <td>nFoRZMB7XwU</td>\n",
       "      <td>Suaranya manis klo nyanyi bahasa Thailand, klo...</td>\n",
       "      <td>id</td>\n",
       "    </tr>\n",
       "    <tr>\n",
       "      <th>409</th>\n",
       "      <td>2020-10-07T02:30:45Z</td>\n",
       "      <td>@fudanshinnocent</td>\n",
       "      <td>nFoRZMB7XwU</td>\n",
       "      <td>Jadi teringat adegan Sarawat nyipok bibir Tine...</td>\n",
       "      <td>id</td>\n",
       "    </tr>\n",
       "    <tr>\n",
       "      <th>424</th>\n",
       "      <td>2020-10-05T15:42:16Z</td>\n",
       "      <td>@viaardhya3095</td>\n",
       "      <td>nFoRZMB7XwU</td>\n",
       "      <td>Bagus bnget suaranyaa \\nSemangat yaa kak\\nSemo...</td>\n",
       "      <td>id</td>\n",
       "    </tr>\n",
       "    <tr>\n",
       "      <th>452</th>\n",
       "      <td>2020-10-03T15:26:28Z</td>\n",
       "      <td>@varhanvernando3289</td>\n",
       "      <td>nFoRZMB7XwU</td>\n",
       "      <td>ternyata ada juga cewek indo yg nntn BL hehe.....</td>\n",
       "      <td>id</td>\n",
       "    </tr>\n",
       "    <tr>\n",
       "      <th>472</th>\n",
       "      <td>2020-10-02T11:34:46Z</td>\n",
       "      <td>@didiriadibinangkari5118</td>\n",
       "      <td>nFoRZMB7XwU</td>\n",
       "      <td>Jarang</td>\n",
       "      <td>id</td>\n",
       "    </tr>\n",
       "    <tr>\n",
       "      <th>479</th>\n",
       "      <td>2020-10-02T08:51:20Z</td>\n",
       "      <td>@LavistaraYuki</td>\n",
       "      <td>nFoRZMB7XwU</td>\n",
       "      <td>Hwaaa sudah ku tunggu bgt ini 💕💕</td>\n",
       "      <td>id</td>\n",
       "    </tr>\n",
       "    <tr>\n",
       "      <th>554</th>\n",
       "      <td>2020-10-13T01:56:55Z</td>\n",
       "      <td>@smoeland</td>\n",
       "      <td>nFoRZMB7XwU</td>\n",
       "      <td>Thx meng</td>\n",
       "      <td>id</td>\n",
       "    </tr>\n",
       "    <tr>\n",
       "      <th>562</th>\n",
       "      <td>2021-05-29T00:21:40Z</td>\n",
       "      <td>@veggyamigo9241</td>\n",
       "      <td>nFoRZMB7XwU</td>\n",
       "      <td>Makasih liriknya❤️</td>\n",
       "      <td>id</td>\n",
       "    </tr>\n",
       "    <tr>\n",
       "      <th>564</th>\n",
       "      <td>2022-09-09T12:23:33Z</td>\n",
       "      <td>@RealmeC-tp1dj</td>\n",
       "      <td>nFoRZMB7XwU</td>\n",
       "      <td>Untuk liriknya ini mohon di sematkan kak</td>\n",
       "      <td>id</td>\n",
       "    </tr>\n",
       "    <tr>\n",
       "      <th>585</th>\n",
       "      <td>2020-09-30T03:06:00Z</td>\n",
       "      <td>@tahaskyrakahfi902</td>\n",
       "      <td>nFoRZMB7XwU</td>\n",
       "      <td>Siapa yang kesini karena liat di tiktok</td>\n",
       "      <td>id</td>\n",
       "    </tr>\n",
       "    <tr>\n",
       "      <th>620</th>\n",
       "      <td>2023-07-24T17:46:33Z</td>\n",
       "      <td>@muhammadrifkiofficial7552</td>\n",
       "      <td>nFoRZMB7XwU</td>\n",
       "      <td>Baru tau kalo dia anggota JKT48, kirain udah b...</td>\n",
       "      <td>id</td>\n",
       "    </tr>\n",
       "    <tr>\n",
       "      <th>641</th>\n",
       "      <td>2020-09-29T12:13:42Z</td>\n",
       "      <td>@Ilham-zh8oi</td>\n",
       "      <td>nFoRZMB7XwU</td>\n",
       "      <td>Sering sering cover lagu lagu anak GMM dong ka...</td>\n",
       "      <td>id</td>\n",
       "    </tr>\n",
       "    <tr>\n",
       "      <th>685</th>\n",
       "      <td>2020-09-29T06:44:47Z</td>\n",
       "      <td>@astriddarmono3233</td>\n",
       "      <td>nFoRZMB7XwU</td>\n",
       "      <td>Keren banget kak😭</td>\n",
       "      <td>id</td>\n",
       "    </tr>\n",
       "    <tr>\n",
       "      <th>746</th>\n",
       "      <td>2020-09-28T17:03:43Z</td>\n",
       "      <td>@belajarchermath3668</td>\n",
       "      <td>nFoRZMB7XwU</td>\n",
       "      <td>Jadi mau nonton filmnya</td>\n",
       "      <td>id</td>\n",
       "    </tr>\n",
       "    <tr>\n",
       "      <th>749</th>\n",
       "      <td>2020-09-28T16:40:31Z</td>\n",
       "      <td>@saphiray</td>\n",
       "      <td>nFoRZMB7XwU</td>\n",
       "      <td>mantapp mba sisca💝 4 hr yg lalu minta cover la...</td>\n",
       "      <td>id</td>\n",
       "    </tr>\n",
       "    <tr>\n",
       "      <th>769</th>\n",
       "      <td>2020-09-30T11:22:21Z</td>\n",
       "      <td>@alansmile959</td>\n",
       "      <td>nFoRZMB7XwU</td>\n",
       "      <td>@@rahmatk7279 main pben rai phii😂</td>\n",
       "      <td>id</td>\n",
       "    </tr>\n",
       "    <tr>\n",
       "      <th>773</th>\n",
       "      <td>2020-10-25T03:18:02Z</td>\n",
       "      <td>@bingobing5047</td>\n",
       "      <td>nFoRZMB7XwU</td>\n",
       "      <td>@@reimati iaa, sering keciduk ikut nimbrung ng...</td>\n",
       "      <td>id</td>\n",
       "    </tr>\n",
       "    <tr>\n",
       "      <th>774</th>\n",
       "      <td>2020-10-28T02:15:10Z</td>\n",
       "      <td>@nnnnn2160</td>\n",
       "      <td>nFoRZMB7XwU</td>\n",
       "      <td>@@reimati dia suka BL dari jaman love be chance</td>\n",
       "      <td>id</td>\n",
       "    </tr>\n",
       "    <tr>\n",
       "      <th>792</th>\n",
       "      <td>2020-09-28T14:27:48Z</td>\n",
       "      <td>@trisnachannell</td>\n",
       "      <td>nFoRZMB7XwU</td>\n",
       "      <td>Kak sisca, aku hafal ost mereka gara2 dengerin...</td>\n",
       "      <td>id</td>\n",
       "    </tr>\n",
       "    <tr>\n",
       "      <th>812</th>\n",
       "      <td>2020-09-28T13:48:27Z</td>\n",
       "      <td>@jejeenoona3522</td>\n",
       "      <td>nFoRZMB7XwU</td>\n",
       "      <td>Aduh apa ya aku mellow bener denger ini ditamb...</td>\n",
       "      <td>id</td>\n",
       "    </tr>\n",
       "    <tr>\n",
       "      <th>816</th>\n",
       "      <td>2020-09-28T13:32:59Z</td>\n",
       "      <td>@sukamakan7317</td>\n",
       "      <td>nFoRZMB7XwU</td>\n",
       "      <td>Masih nungguin be mine nih sis</td>\n",
       "      <td>id</td>\n",
       "    </tr>\n",
       "    <tr>\n",
       "      <th>821</th>\n",
       "      <td>2020-09-28T13:25:32Z</td>\n",
       "      <td>@aya25uye</td>\n",
       "      <td>nFoRZMB7XwU</td>\n",
       "      <td>Yng di tunggu uhh</td>\n",
       "      <td>id</td>\n",
       "    </tr>\n",
       "    <tr>\n",
       "      <th>831</th>\n",
       "      <td>2020-10-03T07:20:17Z</td>\n",
       "      <td>@tyoprioabadi6857</td>\n",
       "      <td>nFoRZMB7XwU</td>\n",
       "      <td>Wah penonton sejati nih sampe hapal iklan2 nya</td>\n",
       "      <td>id</td>\n",
       "    </tr>\n",
       "    <tr>\n",
       "      <th>850</th>\n",
       "      <td>2020-09-28T13:17:44Z</td>\n",
       "      <td>@donnyafrizalrizal189</td>\n",
       "      <td>nFoRZMB7XwU</td>\n",
       "      <td>Ini dibantu sama member bnk48 lagi gak sis? Ke...</td>\n",
       "      <td>id</td>\n",
       "    </tr>\n",
       "    <tr>\n",
       "      <th>852</th>\n",
       "      <td>2020-10-03T15:29:30Z</td>\n",
       "      <td>@purnamawhite5389</td>\n",
       "      <td>nFoRZMB7XwU</td>\n",
       "      <td>@@amanrabbiaman5483 mereka berteman baik ya??\\...</td>\n",
       "      <td>id</td>\n",
       "    </tr>\n",
       "    <tr>\n",
       "      <th>853</th>\n",
       "      <td>2021-04-06T03:52:45Z</td>\n",
       "      <td>@koncolodon1327</td>\n",
       "      <td>nFoRZMB7XwU</td>\n",
       "      <td>@@purnamawhite5389 iyaa,member jkt48 byk yg de...</td>\n",
       "      <td>id</td>\n",
       "    </tr>\n",
       "    <tr>\n",
       "      <th>871</th>\n",
       "      <td>2020-12-06T10:40:39Z</td>\n",
       "      <td>@mariacarolita3203</td>\n",
       "      <td>nFoRZMB7XwU</td>\n",
       "      <td>@@abcd4856 tapi harus optimis dong ❤️💕❤️💕❤️💕</td>\n",
       "      <td>id</td>\n",
       "    </tr>\n",
       "    <tr>\n",
       "      <th>885</th>\n",
       "      <td>2020-09-28T12:46:54Z</td>\n",
       "      <td>@pondra546</td>\n",
       "      <td>nFoRZMB7XwU</td>\n",
       "      <td>Keren banget sumpah</td>\n",
       "      <td>id</td>\n",
       "    </tr>\n",
       "    <tr>\n",
       "      <th>893</th>\n",
       "      <td>2020-09-28T12:41:50Z</td>\n",
       "      <td>@senotick1220</td>\n",
       "      <td>nFoRZMB7XwU</td>\n",
       "      <td>Cover selanjutnya \"Harmoni Cinta - Gita Gutawa\".</td>\n",
       "      <td>id</td>\n",
       "    </tr>\n",
       "    <tr>\n",
       "      <th>894</th>\n",
       "      <td>2020-10-02T05:23:55Z</td>\n",
       "      <td>@alyarizky7753</td>\n",
       "      <td>nFoRZMB7XwU</td>\n",
       "      <td>Mungkin dibantu sama member BNK</td>\n",
       "      <td>id</td>\n",
       "    </tr>\n",
       "    <tr>\n",
       "      <th>907</th>\n",
       "      <td>2020-09-30T11:02:25Z</td>\n",
       "      <td>@nildafaradila7451</td>\n",
       "      <td>nFoRZMB7XwU</td>\n",
       "      <td>Aku juga nunggu itu</td>\n",
       "      <td>id</td>\n",
       "    </tr>\n",
       "    <tr>\n",
       "      <th>908</th>\n",
       "      <td>2020-09-28T12:37:31Z</td>\n",
       "      <td>@zahrameifiana9462</td>\n",
       "      <td>nFoRZMB7XwU</td>\n",
       "      <td>Girlsss lagu kesukaaan gue dan sekrng di nyany...</td>\n",
       "      <td>id</td>\n",
       "    </tr>\n",
       "    <tr>\n",
       "      <th>928</th>\n",
       "      <td>2020-09-29T13:38:26Z</td>\n",
       "      <td>@sFM-li2im</td>\n",
       "      <td>nFoRZMB7XwU</td>\n",
       "      <td>NAHHH INI SI PIIAAAAAATTTT</td>\n",
       "      <td>id</td>\n",
       "    </tr>\n",
       "    <tr>\n",
       "      <th>936</th>\n",
       "      <td>2020-10-01T02:52:03Z</td>\n",
       "      <td>@_DimasBachtiarRizal-jg9xu</td>\n",
       "      <td>nFoRZMB7XwU</td>\n",
       "      <td>Wkwk susah itu liriknya wkqk</td>\n",
       "      <td>id</td>\n",
       "    </tr>\n",
       "  </tbody>\n",
       "</table>\n",
       "</div>"
      ],
      "text/plain": [
       "                     Date                    Username      VideoID  \\\n",
       "31   2022-01-15T17:41:58Z            @jekeitizaka4627  nFoRZMB7XwU   \n",
       "41   2021-12-12T03:32:00Z            @jekeitizaka4627  nFoRZMB7XwU   \n",
       "42   2021-12-12T06:02:17Z               @indahag_1733  nFoRZMB7XwU   \n",
       "69   2021-05-02T05:25:10Z            @jekeitizaka4627  nFoRZMB7XwU   \n",
       "76   2021-04-19T00:44:00Z            @user-sc3oh1bw4z  nFoRZMB7XwU   \n",
       "108  2021-01-02T02:49:42Z       @istrisahjungkook6333  nFoRZMB7XwU   \n",
       "115  2020-12-22T23:58:43Z                   @piaa5335  nFoRZMB7XwU   \n",
       "144  2020-11-24T12:49:29Z              @kevinkhun8937  nFoRZMB7XwU   \n",
       "179  2020-11-04T03:12:39Z            @fudanshinnocent  nFoRZMB7XwU   \n",
       "188  2020-11-02T18:28:30Z         @gustiwicaksana7526  nFoRZMB7XwU   \n",
       "189  2020-11-02T18:28:23Z         @gustiwicaksana7526  nFoRZMB7XwU   \n",
       "206  2020-10-28T04:36:56Z             @arnchannel8514  nFoRZMB7XwU   \n",
       "211  2020-10-27T15:22:36Z           @aisahnuraeni6959  nFoRZMB7XwU   \n",
       "212  2020-10-27T15:20:59Z           @aisahnuraeni6959  nFoRZMB7XwU   \n",
       "213  2020-10-28T02:16:41Z                  @nnnnn2160  nFoRZMB7XwU   \n",
       "228  2020-10-26T11:07:32Z            @TheRasASUsuJahe  nFoRZMB7XwU   \n",
       "232  2020-10-25T23:13:00Z        @DarminNamzaOfficial  nFoRZMB7XwU   \n",
       "250  2020-10-28T02:18:03Z                  @nnnnn2160  nFoRZMB7XwU   \n",
       "260  2020-11-02T19:33:33Z            @user-sc3oh1bw4z  nFoRZMB7XwU   \n",
       "294  2020-10-21T14:13:16Z  @muhammadrifkiofficial7552  nFoRZMB7XwU   \n",
       "356  2020-10-14T16:52:48Z  @muhammadrifkiofficial7552  nFoRZMB7XwU   \n",
       "360  2020-10-13T01:55:25Z                   @smoeland  nFoRZMB7XwU   \n",
       "361  2020-10-13T01:59:10Z                   @smoeland  nFoRZMB7XwU   \n",
       "393  2020-10-08T02:10:22Z            @silmymasywa5222  nFoRZMB7XwU   \n",
       "405  2020-10-07T05:19:27Z           @ashandiiteza3961  nFoRZMB7XwU   \n",
       "409  2020-10-07T02:30:45Z            @fudanshinnocent  nFoRZMB7XwU   \n",
       "424  2020-10-05T15:42:16Z              @viaardhya3095  nFoRZMB7XwU   \n",
       "452  2020-10-03T15:26:28Z         @varhanvernando3289  nFoRZMB7XwU   \n",
       "472  2020-10-02T11:34:46Z    @didiriadibinangkari5118  nFoRZMB7XwU   \n",
       "479  2020-10-02T08:51:20Z              @LavistaraYuki  nFoRZMB7XwU   \n",
       "554  2020-10-13T01:56:55Z                   @smoeland  nFoRZMB7XwU   \n",
       "562  2021-05-29T00:21:40Z             @veggyamigo9241  nFoRZMB7XwU   \n",
       "564  2022-09-09T12:23:33Z              @RealmeC-tp1dj  nFoRZMB7XwU   \n",
       "585  2020-09-30T03:06:00Z          @tahaskyrakahfi902  nFoRZMB7XwU   \n",
       "620  2023-07-24T17:46:33Z  @muhammadrifkiofficial7552  nFoRZMB7XwU   \n",
       "641  2020-09-29T12:13:42Z                @Ilham-zh8oi  nFoRZMB7XwU   \n",
       "685  2020-09-29T06:44:47Z          @astriddarmono3233  nFoRZMB7XwU   \n",
       "746  2020-09-28T17:03:43Z        @belajarchermath3668  nFoRZMB7XwU   \n",
       "749  2020-09-28T16:40:31Z                   @saphiray  nFoRZMB7XwU   \n",
       "769  2020-09-30T11:22:21Z               @alansmile959  nFoRZMB7XwU   \n",
       "773  2020-10-25T03:18:02Z              @bingobing5047  nFoRZMB7XwU   \n",
       "774  2020-10-28T02:15:10Z                  @nnnnn2160  nFoRZMB7XwU   \n",
       "792  2020-09-28T14:27:48Z             @trisnachannell  nFoRZMB7XwU   \n",
       "812  2020-09-28T13:48:27Z             @jejeenoona3522  nFoRZMB7XwU   \n",
       "816  2020-09-28T13:32:59Z              @sukamakan7317  nFoRZMB7XwU   \n",
       "821  2020-09-28T13:25:32Z                   @aya25uye  nFoRZMB7XwU   \n",
       "831  2020-10-03T07:20:17Z           @tyoprioabadi6857  nFoRZMB7XwU   \n",
       "850  2020-09-28T13:17:44Z       @donnyafrizalrizal189  nFoRZMB7XwU   \n",
       "852  2020-10-03T15:29:30Z           @purnamawhite5389  nFoRZMB7XwU   \n",
       "853  2021-04-06T03:52:45Z             @koncolodon1327  nFoRZMB7XwU   \n",
       "871  2020-12-06T10:40:39Z          @mariacarolita3203  nFoRZMB7XwU   \n",
       "885  2020-09-28T12:46:54Z                  @pondra546  nFoRZMB7XwU   \n",
       "893  2020-09-28T12:41:50Z               @senotick1220  nFoRZMB7XwU   \n",
       "894  2020-10-02T05:23:55Z              @alyarizky7753  nFoRZMB7XwU   \n",
       "907  2020-09-30T11:02:25Z          @nildafaradila7451  nFoRZMB7XwU   \n",
       "908  2020-09-28T12:37:31Z          @zahrameifiana9462  nFoRZMB7XwU   \n",
       "928  2020-09-29T13:38:26Z                  @sFM-li2im  nFoRZMB7XwU   \n",
       "936  2020-10-01T02:52:03Z  @_DimasBachtiarRizal-jg9xu  nFoRZMB7XwU   \n",
       "\n",
       "                                               Comment Lang  \n",
       "31    Di ig nya dia pernah bilang dibantu member BNK48   id  \n",
       "41   cek aja twitter sama tiktok nya, sering ngeran...   id  \n",
       "42               @@jekeitizaka4627 iyah fujo ternyata😭   id  \n",
       "69   mohon dukungannya Untuk Sisca\\ndi Liga Showroo...   id  \n",
       "76   @@Diaz87950 well ga ada larangan di agama budd...   id  \n",
       "108  Sisca kalau di transfer ke bnk48 mau gk nih?se...   id  \n",
       "115  Mbak siska rakyat raikantopeni juga? 😭 Kita sa...   id  \n",
       "144  Soon kayanya, sisj udah mulai nonton itu serie...   id  \n",
       "179  Ada yang nonton BL Jepang Cherry Magic ga? Sum...   id  \n",
       "188  Semangat ya bikin videonya, semoga akhir tahun...   id  \n",
       "189  Semangat ya bikin videonya, semoga akhir tahun...   id  \n",
       "206                            Di kasih lirik dong kak   id  \n",
       "211                          Versi indo nya enak bet😭😍   id  \n",
       "212             Lancar bet bahasa Thailand nya ya bund   id  \n",
       "213  Iya soalnya sisca di bantu sama member BNK48 (...   id  \n",
       "228                           full indo bakalan bagus😭   id  \n",
       "232                          Anjim suaranya mantul ...   id  \n",
       "250  Sisca suka BL dari jaman love be chance dan si...   id  \n",
       "260  well, sisca bisa dibilang member jkt yg suaran...   id  \n",
       "294                                 Setuju banget wkwk   id  \n",
       "356  Iya, dia fujo kayanya di tiktok juga banyak ko...   id  \n",
       "360                 Anjayaniiii bagusss banget meng...   id  \n",
       "361  Aduh nong sisca... rasanya mau bantu benerin b...   id  \n",
       "393  Wah anak jkt ternyata ada yang warga reinkanto...   id  \n",
       "405  Suaranya manis klo nyanyi bahasa Thailand, klo...   id  \n",
       "409  Jadi teringat adegan Sarawat nyipok bibir Tine...   id  \n",
       "424  Bagus bnget suaranyaa \\nSemangat yaa kak\\nSemo...   id  \n",
       "452  ternyata ada juga cewek indo yg nntn BL hehe.....   id  \n",
       "472                                             Jarang   id  \n",
       "479                   Hwaaa sudah ku tunggu bgt ini 💕💕   id  \n",
       "554                                           Thx meng   id  \n",
       "562                                 Makasih liriknya❤️   id  \n",
       "564           Untuk liriknya ini mohon di sematkan kak   id  \n",
       "585            Siapa yang kesini karena liat di tiktok   id  \n",
       "620  Baru tau kalo dia anggota JKT48, kirain udah b...   id  \n",
       "641  Sering sering cover lagu lagu anak GMM dong ka...   id  \n",
       "685                                  Keren banget kak😭   id  \n",
       "746                            Jadi mau nonton filmnya   id  \n",
       "749  mantapp mba sisca💝 4 hr yg lalu minta cover la...   id  \n",
       "769                  @@rahmatk7279 main pben rai phii😂   id  \n",
       "773  @@reimati iaa, sering keciduk ikut nimbrung ng...   id  \n",
       "774    @@reimati dia suka BL dari jaman love be chance   id  \n",
       "792  Kak sisca, aku hafal ost mereka gara2 dengerin...   id  \n",
       "812  Aduh apa ya aku mellow bener denger ini ditamb...   id  \n",
       "816                     Masih nungguin be mine nih sis   id  \n",
       "821                                  Yng di tunggu uhh   id  \n",
       "831     Wah penonton sejati nih sampe hapal iklan2 nya   id  \n",
       "850  Ini dibantu sama member bnk48 lagi gak sis? Ke...   id  \n",
       "852  @@amanrabbiaman5483 mereka berteman baik ya??\\...   id  \n",
       "853  @@purnamawhite5389 iyaa,member jkt48 byk yg de...   id  \n",
       "871       @@abcd4856 tapi harus optimis dong ❤️💕❤️💕❤️💕   id  \n",
       "885                                Keren banget sumpah   id  \n",
       "893   Cover selanjutnya \"Harmoni Cinta - Gita Gutawa\".   id  \n",
       "894                    Mungkin dibantu sama member BNK   id  \n",
       "907                                Aku juga nunggu itu   id  \n",
       "908  Girlsss lagu kesukaaan gue dan sekrng di nyany...   id  \n",
       "928                         NAHHH INI SI PIIAAAAAATTTT   id  \n",
       "936                       Wkwk susah itu liriknya wkqk   id  "
      ]
     },
     "execution_count": 57,
     "metadata": {},
     "output_type": "execute_result"
    }
   ],
   "source": [
    "df_cover[(df_cover['Username'].duplicated()) & (df_cover['Lang'] == 'id')]"
   ]
  },
  {
   "cell_type": "code",
   "execution_count": 182,
   "metadata": {},
   "outputs": [
    {
     "data": {
      "text/html": [
       "<div>\n",
       "<style scoped>\n",
       "    .dataframe tbody tr th:only-of-type {\n",
       "        vertical-align: middle;\n",
       "    }\n",
       "\n",
       "    .dataframe tbody tr th {\n",
       "        vertical-align: top;\n",
       "    }\n",
       "\n",
       "    .dataframe thead th {\n",
       "        text-align: right;\n",
       "    }\n",
       "</style>\n",
       "<table border=\"1\" class=\"dataframe\">\n",
       "  <thead>\n",
       "    <tr style=\"text-align: right;\">\n",
       "      <th></th>\n",
       "      <th>Lang</th>\n",
       "      <th>Count</th>\n",
       "    </tr>\n",
       "  </thead>\n",
       "  <tbody>\n",
       "    <tr>\n",
       "      <th>10</th>\n",
       "      <td>id</td>\n",
       "      <td>96</td>\n",
       "    </tr>\n",
       "    <tr>\n",
       "      <th>5</th>\n",
       "      <td>en</td>\n",
       "      <td>34</td>\n",
       "    </tr>\n",
       "    <tr>\n",
       "      <th>20</th>\n",
       "      <td>tl</td>\n",
       "      <td>14</td>\n",
       "    </tr>\n",
       "    <tr>\n",
       "      <th>4</th>\n",
       "      <td>de</td>\n",
       "      <td>13</td>\n",
       "    </tr>\n",
       "    <tr>\n",
       "      <th>19</th>\n",
       "      <td>th</td>\n",
       "      <td>9</td>\n",
       "    </tr>\n",
       "    <tr>\n",
       "      <th>0</th>\n",
       "      <td>Other</td>\n",
       "      <td>7</td>\n",
       "    </tr>\n",
       "    <tr>\n",
       "      <th>16</th>\n",
       "      <td>so</td>\n",
       "      <td>7</td>\n",
       "    </tr>\n",
       "    <tr>\n",
       "      <th>13</th>\n",
       "      <td>no</td>\n",
       "      <td>5</td>\n",
       "    </tr>\n",
       "    <tr>\n",
       "      <th>11</th>\n",
       "      <td>it</td>\n",
       "      <td>4</td>\n",
       "    </tr>\n",
       "    <tr>\n",
       "      <th>3</th>\n",
       "      <td>da</td>\n",
       "      <td>4</td>\n",
       "    </tr>\n",
       "    <tr>\n",
       "      <th>7</th>\n",
       "      <td>fi</td>\n",
       "      <td>3</td>\n",
       "    </tr>\n",
       "    <tr>\n",
       "      <th>17</th>\n",
       "      <td>sv</td>\n",
       "      <td>3</td>\n",
       "    </tr>\n",
       "    <tr>\n",
       "      <th>21</th>\n",
       "      <td>vi</td>\n",
       "      <td>3</td>\n",
       "    </tr>\n",
       "    <tr>\n",
       "      <th>9</th>\n",
       "      <td>hu</td>\n",
       "      <td>2</td>\n",
       "    </tr>\n",
       "    <tr>\n",
       "      <th>14</th>\n",
       "      <td>pl</td>\n",
       "      <td>2</td>\n",
       "    </tr>\n",
       "    <tr>\n",
       "      <th>6</th>\n",
       "      <td>et</td>\n",
       "      <td>2</td>\n",
       "    </tr>\n",
       "    <tr>\n",
       "      <th>18</th>\n",
       "      <td>sw</td>\n",
       "      <td>2</td>\n",
       "    </tr>\n",
       "    <tr>\n",
       "      <th>8</th>\n",
       "      <td>hr</td>\n",
       "      <td>1</td>\n",
       "    </tr>\n",
       "    <tr>\n",
       "      <th>1</th>\n",
       "      <td>af</td>\n",
       "      <td>1</td>\n",
       "    </tr>\n",
       "    <tr>\n",
       "      <th>12</th>\n",
       "      <td>nl</td>\n",
       "      <td>1</td>\n",
       "    </tr>\n",
       "    <tr>\n",
       "      <th>15</th>\n",
       "      <td>sl</td>\n",
       "      <td>1</td>\n",
       "    </tr>\n",
       "    <tr>\n",
       "      <th>2</th>\n",
       "      <td>ca</td>\n",
       "      <td>1</td>\n",
       "    </tr>\n",
       "  </tbody>\n",
       "</table>\n",
       "</div>"
      ],
      "text/plain": [
       "     Lang  Count\n",
       "10     id     96\n",
       "5      en     34\n",
       "20     tl     14\n",
       "4      de     13\n",
       "19     th      9\n",
       "0   Other      7\n",
       "16     so      7\n",
       "13     no      5\n",
       "11     it      4\n",
       "3      da      4\n",
       "7      fi      3\n",
       "17     sv      3\n",
       "21     vi      3\n",
       "9      hu      2\n",
       "14     pl      2\n",
       "6      et      2\n",
       "18     sw      2\n",
       "8      hr      1\n",
       "1      af      1\n",
       "12     nl      1\n",
       "15     sl      1\n",
       "2      ca      1"
      ]
     },
     "execution_count": 182,
     "metadata": {},
     "output_type": "execute_result"
    }
   ],
   "source": [
    "df = df_cover.groupby(['Lang'])['Comment'].count().reset_index(name='Count').sort_values(['Count'], ascending=False)\n",
    "df"
   ]
  },
  {
   "cell_type": "markdown",
   "metadata": {},
   "source": [
    "# Visualize"
   ]
  },
  {
   "cell_type": "code",
   "execution_count": 183,
   "metadata": {},
   "outputs": [
    {
     "data": {
      "application/vnd.plotly.v1+json": {
       "config": {
        "plotlyServerURL": "https://plot.ly"
       },
       "data": [
        {
         "domain": {
          "x": [
           0,
           1
          ],
          "y": [
           0,
           1
          ]
         },
         "hovertemplate": "Lang=%{label}<br>Count=%{value}<extra></extra>",
         "labels": [
          "id",
          "en",
          "tl",
          "de",
          "th",
          "Other",
          "so",
          "no",
          "it",
          "da",
          "fi",
          "sv",
          "vi",
          "hu",
          "pl",
          "et",
          "sw",
          "hr",
          "af",
          "nl",
          "sl",
          "ca"
         ],
         "legendgroup": "",
         "name": "",
         "showlegend": true,
         "textposition": "inside",
         "type": "pie",
         "values": [
          96,
          34,
          14,
          13,
          9,
          7,
          7,
          5,
          4,
          4,
          3,
          3,
          3,
          2,
          2,
          2,
          2,
          1,
          1,
          1,
          1,
          1
         ]
        }
       ],
       "layout": {
        "legend": {
         "tracegroupgap": 0
        },
        "template": {
         "data": {
          "bar": [
           {
            "error_x": {
             "color": "#2a3f5f"
            },
            "error_y": {
             "color": "#2a3f5f"
            },
            "marker": {
             "line": {
              "color": "#E5ECF6",
              "width": 0.5
             },
             "pattern": {
              "fillmode": "overlay",
              "size": 10,
              "solidity": 0.2
             }
            },
            "type": "bar"
           }
          ],
          "barpolar": [
           {
            "marker": {
             "line": {
              "color": "#E5ECF6",
              "width": 0.5
             },
             "pattern": {
              "fillmode": "overlay",
              "size": 10,
              "solidity": 0.2
             }
            },
            "type": "barpolar"
           }
          ],
          "carpet": [
           {
            "aaxis": {
             "endlinecolor": "#2a3f5f",
             "gridcolor": "white",
             "linecolor": "white",
             "minorgridcolor": "white",
             "startlinecolor": "#2a3f5f"
            },
            "baxis": {
             "endlinecolor": "#2a3f5f",
             "gridcolor": "white",
             "linecolor": "white",
             "minorgridcolor": "white",
             "startlinecolor": "#2a3f5f"
            },
            "type": "carpet"
           }
          ],
          "choropleth": [
           {
            "colorbar": {
             "outlinewidth": 0,
             "ticks": ""
            },
            "type": "choropleth"
           }
          ],
          "contour": [
           {
            "colorbar": {
             "outlinewidth": 0,
             "ticks": ""
            },
            "colorscale": [
             [
              0,
              "#0d0887"
             ],
             [
              0.1111111111111111,
              "#46039f"
             ],
             [
              0.2222222222222222,
              "#7201a8"
             ],
             [
              0.3333333333333333,
              "#9c179e"
             ],
             [
              0.4444444444444444,
              "#bd3786"
             ],
             [
              0.5555555555555556,
              "#d8576b"
             ],
             [
              0.6666666666666666,
              "#ed7953"
             ],
             [
              0.7777777777777778,
              "#fb9f3a"
             ],
             [
              0.8888888888888888,
              "#fdca26"
             ],
             [
              1,
              "#f0f921"
             ]
            ],
            "type": "contour"
           }
          ],
          "contourcarpet": [
           {
            "colorbar": {
             "outlinewidth": 0,
             "ticks": ""
            },
            "type": "contourcarpet"
           }
          ],
          "heatmap": [
           {
            "colorbar": {
             "outlinewidth": 0,
             "ticks": ""
            },
            "colorscale": [
             [
              0,
              "#0d0887"
             ],
             [
              0.1111111111111111,
              "#46039f"
             ],
             [
              0.2222222222222222,
              "#7201a8"
             ],
             [
              0.3333333333333333,
              "#9c179e"
             ],
             [
              0.4444444444444444,
              "#bd3786"
             ],
             [
              0.5555555555555556,
              "#d8576b"
             ],
             [
              0.6666666666666666,
              "#ed7953"
             ],
             [
              0.7777777777777778,
              "#fb9f3a"
             ],
             [
              0.8888888888888888,
              "#fdca26"
             ],
             [
              1,
              "#f0f921"
             ]
            ],
            "type": "heatmap"
           }
          ],
          "heatmapgl": [
           {
            "colorbar": {
             "outlinewidth": 0,
             "ticks": ""
            },
            "colorscale": [
             [
              0,
              "#0d0887"
             ],
             [
              0.1111111111111111,
              "#46039f"
             ],
             [
              0.2222222222222222,
              "#7201a8"
             ],
             [
              0.3333333333333333,
              "#9c179e"
             ],
             [
              0.4444444444444444,
              "#bd3786"
             ],
             [
              0.5555555555555556,
              "#d8576b"
             ],
             [
              0.6666666666666666,
              "#ed7953"
             ],
             [
              0.7777777777777778,
              "#fb9f3a"
             ],
             [
              0.8888888888888888,
              "#fdca26"
             ],
             [
              1,
              "#f0f921"
             ]
            ],
            "type": "heatmapgl"
           }
          ],
          "histogram": [
           {
            "marker": {
             "pattern": {
              "fillmode": "overlay",
              "size": 10,
              "solidity": 0.2
             }
            },
            "type": "histogram"
           }
          ],
          "histogram2d": [
           {
            "colorbar": {
             "outlinewidth": 0,
             "ticks": ""
            },
            "colorscale": [
             [
              0,
              "#0d0887"
             ],
             [
              0.1111111111111111,
              "#46039f"
             ],
             [
              0.2222222222222222,
              "#7201a8"
             ],
             [
              0.3333333333333333,
              "#9c179e"
             ],
             [
              0.4444444444444444,
              "#bd3786"
             ],
             [
              0.5555555555555556,
              "#d8576b"
             ],
             [
              0.6666666666666666,
              "#ed7953"
             ],
             [
              0.7777777777777778,
              "#fb9f3a"
             ],
             [
              0.8888888888888888,
              "#fdca26"
             ],
             [
              1,
              "#f0f921"
             ]
            ],
            "type": "histogram2d"
           }
          ],
          "histogram2dcontour": [
           {
            "colorbar": {
             "outlinewidth": 0,
             "ticks": ""
            },
            "colorscale": [
             [
              0,
              "#0d0887"
             ],
             [
              0.1111111111111111,
              "#46039f"
             ],
             [
              0.2222222222222222,
              "#7201a8"
             ],
             [
              0.3333333333333333,
              "#9c179e"
             ],
             [
              0.4444444444444444,
              "#bd3786"
             ],
             [
              0.5555555555555556,
              "#d8576b"
             ],
             [
              0.6666666666666666,
              "#ed7953"
             ],
             [
              0.7777777777777778,
              "#fb9f3a"
             ],
             [
              0.8888888888888888,
              "#fdca26"
             ],
             [
              1,
              "#f0f921"
             ]
            ],
            "type": "histogram2dcontour"
           }
          ],
          "mesh3d": [
           {
            "colorbar": {
             "outlinewidth": 0,
             "ticks": ""
            },
            "type": "mesh3d"
           }
          ],
          "parcoords": [
           {
            "line": {
             "colorbar": {
              "outlinewidth": 0,
              "ticks": ""
             }
            },
            "type": "parcoords"
           }
          ],
          "pie": [
           {
            "automargin": true,
            "type": "pie"
           }
          ],
          "scatter": [
           {
            "fillpattern": {
             "fillmode": "overlay",
             "size": 10,
             "solidity": 0.2
            },
            "type": "scatter"
           }
          ],
          "scatter3d": [
           {
            "line": {
             "colorbar": {
              "outlinewidth": 0,
              "ticks": ""
             }
            },
            "marker": {
             "colorbar": {
              "outlinewidth": 0,
              "ticks": ""
             }
            },
            "type": "scatter3d"
           }
          ],
          "scattercarpet": [
           {
            "marker": {
             "colorbar": {
              "outlinewidth": 0,
              "ticks": ""
             }
            },
            "type": "scattercarpet"
           }
          ],
          "scattergeo": [
           {
            "marker": {
             "colorbar": {
              "outlinewidth": 0,
              "ticks": ""
             }
            },
            "type": "scattergeo"
           }
          ],
          "scattergl": [
           {
            "marker": {
             "colorbar": {
              "outlinewidth": 0,
              "ticks": ""
             }
            },
            "type": "scattergl"
           }
          ],
          "scattermapbox": [
           {
            "marker": {
             "colorbar": {
              "outlinewidth": 0,
              "ticks": ""
             }
            },
            "type": "scattermapbox"
           }
          ],
          "scatterpolar": [
           {
            "marker": {
             "colorbar": {
              "outlinewidth": 0,
              "ticks": ""
             }
            },
            "type": "scatterpolar"
           }
          ],
          "scatterpolargl": [
           {
            "marker": {
             "colorbar": {
              "outlinewidth": 0,
              "ticks": ""
             }
            },
            "type": "scatterpolargl"
           }
          ],
          "scatterternary": [
           {
            "marker": {
             "colorbar": {
              "outlinewidth": 0,
              "ticks": ""
             }
            },
            "type": "scatterternary"
           }
          ],
          "surface": [
           {
            "colorbar": {
             "outlinewidth": 0,
             "ticks": ""
            },
            "colorscale": [
             [
              0,
              "#0d0887"
             ],
             [
              0.1111111111111111,
              "#46039f"
             ],
             [
              0.2222222222222222,
              "#7201a8"
             ],
             [
              0.3333333333333333,
              "#9c179e"
             ],
             [
              0.4444444444444444,
              "#bd3786"
             ],
             [
              0.5555555555555556,
              "#d8576b"
             ],
             [
              0.6666666666666666,
              "#ed7953"
             ],
             [
              0.7777777777777778,
              "#fb9f3a"
             ],
             [
              0.8888888888888888,
              "#fdca26"
             ],
             [
              1,
              "#f0f921"
             ]
            ],
            "type": "surface"
           }
          ],
          "table": [
           {
            "cells": {
             "fill": {
              "color": "#EBF0F8"
             },
             "line": {
              "color": "white"
             }
            },
            "header": {
             "fill": {
              "color": "#C8D4E3"
             },
             "line": {
              "color": "white"
             }
            },
            "type": "table"
           }
          ]
         },
         "layout": {
          "annotationdefaults": {
           "arrowcolor": "#2a3f5f",
           "arrowhead": 0,
           "arrowwidth": 1
          },
          "autotypenumbers": "strict",
          "coloraxis": {
           "colorbar": {
            "outlinewidth": 0,
            "ticks": ""
           }
          },
          "colorscale": {
           "diverging": [
            [
             0,
             "#8e0152"
            ],
            [
             0.1,
             "#c51b7d"
            ],
            [
             0.2,
             "#de77ae"
            ],
            [
             0.3,
             "#f1b6da"
            ],
            [
             0.4,
             "#fde0ef"
            ],
            [
             0.5,
             "#f7f7f7"
            ],
            [
             0.6,
             "#e6f5d0"
            ],
            [
             0.7,
             "#b8e186"
            ],
            [
             0.8,
             "#7fbc41"
            ],
            [
             0.9,
             "#4d9221"
            ],
            [
             1,
             "#276419"
            ]
           ],
           "sequential": [
            [
             0,
             "#0d0887"
            ],
            [
             0.1111111111111111,
             "#46039f"
            ],
            [
             0.2222222222222222,
             "#7201a8"
            ],
            [
             0.3333333333333333,
             "#9c179e"
            ],
            [
             0.4444444444444444,
             "#bd3786"
            ],
            [
             0.5555555555555556,
             "#d8576b"
            ],
            [
             0.6666666666666666,
             "#ed7953"
            ],
            [
             0.7777777777777778,
             "#fb9f3a"
            ],
            [
             0.8888888888888888,
             "#fdca26"
            ],
            [
             1,
             "#f0f921"
            ]
           ],
           "sequentialminus": [
            [
             0,
             "#0d0887"
            ],
            [
             0.1111111111111111,
             "#46039f"
            ],
            [
             0.2222222222222222,
             "#7201a8"
            ],
            [
             0.3333333333333333,
             "#9c179e"
            ],
            [
             0.4444444444444444,
             "#bd3786"
            ],
            [
             0.5555555555555556,
             "#d8576b"
            ],
            [
             0.6666666666666666,
             "#ed7953"
            ],
            [
             0.7777777777777778,
             "#fb9f3a"
            ],
            [
             0.8888888888888888,
             "#fdca26"
            ],
            [
             1,
             "#f0f921"
            ]
           ]
          },
          "colorway": [
           "#636efa",
           "#EF553B",
           "#00cc96",
           "#ab63fa",
           "#FFA15A",
           "#19d3f3",
           "#FF6692",
           "#B6E880",
           "#FF97FF",
           "#FECB52"
          ],
          "font": {
           "color": "#2a3f5f"
          },
          "geo": {
           "bgcolor": "white",
           "lakecolor": "white",
           "landcolor": "#E5ECF6",
           "showlakes": true,
           "showland": true,
           "subunitcolor": "white"
          },
          "hoverlabel": {
           "align": "left"
          },
          "hovermode": "closest",
          "mapbox": {
           "style": "light"
          },
          "paper_bgcolor": "white",
          "plot_bgcolor": "#E5ECF6",
          "polar": {
           "angularaxis": {
            "gridcolor": "white",
            "linecolor": "white",
            "ticks": ""
           },
           "bgcolor": "#E5ECF6",
           "radialaxis": {
            "gridcolor": "white",
            "linecolor": "white",
            "ticks": ""
           }
          },
          "scene": {
           "xaxis": {
            "backgroundcolor": "#E5ECF6",
            "gridcolor": "white",
            "gridwidth": 2,
            "linecolor": "white",
            "showbackground": true,
            "ticks": "",
            "zerolinecolor": "white"
           },
           "yaxis": {
            "backgroundcolor": "#E5ECF6",
            "gridcolor": "white",
            "gridwidth": 2,
            "linecolor": "white",
            "showbackground": true,
            "ticks": "",
            "zerolinecolor": "white"
           },
           "zaxis": {
            "backgroundcolor": "#E5ECF6",
            "gridcolor": "white",
            "gridwidth": 2,
            "linecolor": "white",
            "showbackground": true,
            "ticks": "",
            "zerolinecolor": "white"
           }
          },
          "shapedefaults": {
           "line": {
            "color": "#2a3f5f"
           }
          },
          "ternary": {
           "aaxis": {
            "gridcolor": "white",
            "linecolor": "white",
            "ticks": ""
           },
           "baxis": {
            "gridcolor": "white",
            "linecolor": "white",
            "ticks": ""
           },
           "bgcolor": "#E5ECF6",
           "caxis": {
            "gridcolor": "white",
            "linecolor": "white",
            "ticks": ""
           }
          },
          "title": {
           "x": 0.05
          },
          "xaxis": {
           "automargin": true,
           "gridcolor": "white",
           "linecolor": "white",
           "ticks": "",
           "title": {
            "standoff": 15
           },
           "zerolinecolor": "white",
           "zerolinewidth": 2
          },
          "yaxis": {
           "automargin": true,
           "gridcolor": "white",
           "linecolor": "white",
           "ticks": "",
           "title": {
            "standoff": 15
           },
           "zerolinecolor": "white",
           "zerolinewidth": 2
          }
         }
        },
        "title": {
         "text": "คิดแต่ไม่ถึง cover"
        },
        "uniformtext": {
         "minsize": 12,
         "mode": "hide"
        }
       }
      }
     },
     "metadata": {},
     "output_type": "display_data"
    }
   ],
   "source": [
    "fig = px.pie(df, values='Count', names='Lang',title='คิดแต่ไม่ถึง cover')\n",
    "fig.update_traces(textposition='inside')\n",
    "fig.update_layout(uniformtext_minsize=12, uniformtext_mode='hide')\n",
    "fig.show()"
   ]
  },
  {
   "cell_type": "markdown",
   "metadata": {},
   "source": [
    "# Sentiment"
   ]
  },
  {
   "cell_type": "code",
   "execution_count": 111,
   "metadata": {},
   "outputs": [
    {
     "name": "stderr",
     "output_type": "stream",
     "text": [
      "/Users/zei/Documents/Project MyBand/env_BERT/lib/python3.11/site-packages/transformers/tokenization_utils_base.py:1601: FutureWarning:\n",
      "\n",
      "`clean_up_tokenization_spaces` was not set. It will be set to `True` by default. This behavior will be depracted in transformers v4.45, and will be then set to `False` by default. For more details check this issue: https://github.com/huggingface/transformers/issues/31884\n",
      "\n",
      "Some weights of BertForSequenceClassification were not initialized from the model checkpoint at indobenchmark/indobert-base-p1 and are newly initialized: ['classifier.bias', 'classifier.weight']\n",
      "You should probably TRAIN this model on a down-stream task to be able to use it for predictions and inference.\n"
     ]
    }
   ],
   "source": [
    "from transformers import AutoTokenizer, AutoModelForSequenceClassification\n",
    "import torch\n",
    "\n",
    "# Load IndoBERT model and tokenizer\n",
    "model_name = \"indobenchmark/indobert-base-p1\"\n",
    "tokenizer = AutoTokenizer.from_pretrained(model_name)\n",
    "model = AutoModelForSequenceClassification.from_pretrained(model_name)\n",
    "\n"
   ]
  },
  {
   "cell_type": "code",
   "execution_count": 184,
   "metadata": {},
   "outputs": [
    {
     "data": {
      "text/html": [
       "<div>\n",
       "<style scoped>\n",
       "    .dataframe tbody tr th:only-of-type {\n",
       "        vertical-align: middle;\n",
       "    }\n",
       "\n",
       "    .dataframe tbody tr th {\n",
       "        vertical-align: top;\n",
       "    }\n",
       "\n",
       "    .dataframe thead th {\n",
       "        text-align: right;\n",
       "    }\n",
       "</style>\n",
       "<table border=\"1\" class=\"dataframe\">\n",
       "  <thead>\n",
       "    <tr style=\"text-align: right;\">\n",
       "      <th></th>\n",
       "      <th>Date</th>\n",
       "      <th>Username</th>\n",
       "      <th>VideoID</th>\n",
       "      <th>Comment</th>\n",
       "      <th>Lang</th>\n",
       "    </tr>\n",
       "  </thead>\n",
       "  <tbody>\n",
       "    <tr>\n",
       "      <th>1</th>\n",
       "      <td>2023-07-09T12:01:42Z</td>\n",
       "      <td>@renjanaabhiprayaabin5468</td>\n",
       "      <td>SUgxaWkGcZc</td>\n",
       "      <td>Sedih bgt lagunya 😥😥😢</td>\n",
       "      <td>id</td>\n",
       "    </tr>\n",
       "    <tr>\n",
       "      <th>2</th>\n",
       "      <td>2023-06-21T04:07:41Z</td>\n",
       "      <td>@fay9</td>\n",
       "      <td>SUgxaWkGcZc</td>\n",
       "      <td>Kesini lagi abis nonton Our Skyy 2, mau nostal...</td>\n",
       "      <td>id</td>\n",
       "    </tr>\n",
       "    <tr>\n",
       "      <th>6</th>\n",
       "      <td>2022-09-14T19:29:00Z</td>\n",
       "      <td>@cew257</td>\n",
       "      <td>SUgxaWkGcZc</td>\n",
       "      <td>Wih keren banget kak! Aku suka banget lagu ini...</td>\n",
       "      <td>id</td>\n",
       "    </tr>\n",
       "    <tr>\n",
       "      <th>7</th>\n",
       "      <td>2022-08-16T12:53:31Z</td>\n",
       "      <td>@lucymabushii9717</td>\n",
       "      <td>SUgxaWkGcZc</td>\n",
       "      <td>lagu favoritku dicover sama cewek favoritku 🥰🥰...</td>\n",
       "      <td>id</td>\n",
       "    </tr>\n",
       "    <tr>\n",
       "      <th>9</th>\n",
       "      <td>2022-08-06T13:09:21Z</td>\n",
       "      <td>@syurik9258</td>\n",
       "      <td>SUgxaWkGcZc</td>\n",
       "      <td>halo siscaaa, boleh request cover why dont you...</td>\n",
       "      <td>id</td>\n",
       "    </tr>\n",
       "    <tr>\n",
       "      <th>...</th>\n",
       "      <td>...</td>\n",
       "      <td>...</td>\n",
       "      <td>...</td>\n",
       "      <td>...</td>\n",
       "      <td>...</td>\n",
       "    </tr>\n",
       "    <tr>\n",
       "      <th>192</th>\n",
       "      <td>2021-12-02T10:07:09Z</td>\n",
       "      <td>@lianavinca3841</td>\n",
       "      <td>SUgxaWkGcZc</td>\n",
       "      <td>Yg ditunggu tunggu💗💗💗</td>\n",
       "      <td>id</td>\n",
       "    </tr>\n",
       "    <tr>\n",
       "      <th>198</th>\n",
       "      <td>2021-12-02T10:06:52Z</td>\n",
       "      <td>@misbahulalim1313</td>\n",
       "      <td>SUgxaWkGcZc</td>\n",
       "      <td>*ꦒꦸꦮꦈꦢꦲ꧀ꦠꦼꦧꦏ꧀ꦠꦼꦧꦏ꧀ꦧꦸꦮꦲ꧀ꦩꦁꦒꦶꦱ꧀ !* 😀\\n*ꦥꦱ꧀ꦠꦶꦭꦒꦸꦛ...</td>\n",
       "      <td>id</td>\n",
       "    </tr>\n",
       "    <tr>\n",
       "      <th>205</th>\n",
       "      <td>2021-12-02T10:02:49Z</td>\n",
       "      <td>@cylonachillchannel9821</td>\n",
       "      <td>SUgxaWkGcZc</td>\n",
       "      <td>Wow suara nya kak 😍😍😍 always support kak ❤️❤️❤️</td>\n",
       "      <td>id</td>\n",
       "    </tr>\n",
       "    <tr>\n",
       "      <th>213</th>\n",
       "      <td>2021-12-02T10:01:17Z</td>\n",
       "      <td>@erlanggaferik</td>\n",
       "      <td>SUgxaWkGcZc</td>\n",
       "      <td>Akhirnya cover lagi</td>\n",
       "      <td>id</td>\n",
       "    </tr>\n",
       "    <tr>\n",
       "      <th>214</th>\n",
       "      <td>2021-12-02T10:01:10Z</td>\n",
       "      <td>@nurmalicka2531</td>\n",
       "      <td>SUgxaWkGcZc</td>\n",
       "      <td>Prtama bgt nih</td>\n",
       "      <td>id</td>\n",
       "    </tr>\n",
       "  </tbody>\n",
       "</table>\n",
       "<p>96 rows × 5 columns</p>\n",
       "</div>"
      ],
      "text/plain": [
       "                     Date                   Username      VideoID  \\\n",
       "1    2023-07-09T12:01:42Z  @renjanaabhiprayaabin5468  SUgxaWkGcZc   \n",
       "2    2023-06-21T04:07:41Z                      @fay9  SUgxaWkGcZc   \n",
       "6    2022-09-14T19:29:00Z                    @cew257  SUgxaWkGcZc   \n",
       "7    2022-08-16T12:53:31Z          @lucymabushii9717  SUgxaWkGcZc   \n",
       "9    2022-08-06T13:09:21Z                @syurik9258  SUgxaWkGcZc   \n",
       "..                    ...                        ...          ...   \n",
       "192  2021-12-02T10:07:09Z            @lianavinca3841  SUgxaWkGcZc   \n",
       "198  2021-12-02T10:06:52Z          @misbahulalim1313  SUgxaWkGcZc   \n",
       "205  2021-12-02T10:02:49Z    @cylonachillchannel9821  SUgxaWkGcZc   \n",
       "213  2021-12-02T10:01:17Z             @erlanggaferik  SUgxaWkGcZc   \n",
       "214  2021-12-02T10:01:10Z            @nurmalicka2531  SUgxaWkGcZc   \n",
       "\n",
       "                                               Comment Lang  \n",
       "1                                Sedih bgt lagunya 😥😥😢   id  \n",
       "2    Kesini lagi abis nonton Our Skyy 2, mau nostal...   id  \n",
       "6    Wih keren banget kak! Aku suka banget lagu ini...   id  \n",
       "7    lagu favoritku dicover sama cewek favoritku 🥰🥰...   id  \n",
       "9    halo siscaaa, boleh request cover why dont you...   id  \n",
       "..                                                 ...  ...  \n",
       "192                              Yg ditunggu tunggu💗💗💗   id  \n",
       "198  *ꦒꦸꦮꦈꦢꦲ꧀ꦠꦼꦧꦏ꧀ꦠꦼꦧꦏ꧀ꦧꦸꦮꦲ꧀ꦩꦁꦒꦶꦱ꧀ !* 😀\\n*ꦥꦱ꧀ꦠꦶꦭꦒꦸꦛ...   id  \n",
       "205    Wow suara nya kak 😍😍😍 always support kak ❤️❤️❤️   id  \n",
       "213                                Akhirnya cover lagi   id  \n",
       "214                                     Prtama bgt nih   id  \n",
       "\n",
       "[96 rows x 5 columns]"
      ]
     },
     "execution_count": 184,
     "metadata": {},
     "output_type": "execute_result"
    }
   ],
   "source": [
    "df_ana = df_cover[df_cover['Lang'] == 'id']\n",
    "df_ana"
   ]
  },
  {
   "cell_type": "code",
   "execution_count": 185,
   "metadata": {},
   "outputs": [
    {
     "name": "stderr",
     "output_type": "stream",
     "text": [
      "/var/folders/yt/bn1k3ncn7wx6gc0gvnv1rf9m0000gn/T/ipykernel_29255/1544891403.py:21: SettingWithCopyWarning:\n",
      "\n",
      "\n",
      "A value is trying to be set on a copy of a slice from a DataFrame.\n",
      "Try using .loc[row_indexer,col_indexer] = value instead\n",
      "\n",
      "See the caveats in the documentation: https://pandas.pydata.org/pandas-docs/stable/user_guide/indexing.html#returning-a-view-versus-a-copy\n",
      "\n"
     ]
    }
   ],
   "source": [
    "def analyze (text):\n",
    "    # Example text for analysis\n",
    "    # text = \"Aku mencintaimu\"\n",
    "    inputs = tokenizer.encode(text, return_tensors=\"pt\", truncation=True, padding=True)\n",
    "\n",
    "    # Get predictions\n",
    "    \n",
    "    outputs = model(inputs)\n",
    "    predictions = torch.argmax(outputs.logits)\n",
    "\n",
    "    # Define sentiment labels\n",
    "    labels = ['negative','negative', 'neutral', 'positive','positive']\n",
    "\n",
    "    # Get the predicted label\n",
    "    predicted_label = labels[predictions]\n",
    "\n",
    "    # Display result\n",
    "    # print(predicted_label)\n",
    "    return predicted_label\n",
    "\n",
    "df_ana['predict'] = df_ana['Comment'].apply(lambda x: analyze(x[:512]))"
   ]
  },
  {
   "cell_type": "code",
   "execution_count": 186,
   "metadata": {},
   "outputs": [
    {
     "data": {
      "text/html": [
       "<div>\n",
       "<style scoped>\n",
       "    .dataframe tbody tr th:only-of-type {\n",
       "        vertical-align: middle;\n",
       "    }\n",
       "\n",
       "    .dataframe tbody tr th {\n",
       "        vertical-align: top;\n",
       "    }\n",
       "\n",
       "    .dataframe thead th {\n",
       "        text-align: right;\n",
       "    }\n",
       "</style>\n",
       "<table border=\"1\" class=\"dataframe\">\n",
       "  <thead>\n",
       "    <tr style=\"text-align: right;\">\n",
       "      <th></th>\n",
       "      <th>Date</th>\n",
       "      <th>Username</th>\n",
       "      <th>VideoID</th>\n",
       "      <th>Comment</th>\n",
       "      <th>Lang</th>\n",
       "      <th>predict</th>\n",
       "    </tr>\n",
       "  </thead>\n",
       "  <tbody>\n",
       "    <tr>\n",
       "      <th>1</th>\n",
       "      <td>2023-07-09T12:01:42Z</td>\n",
       "      <td>@renjanaabhiprayaabin5468</td>\n",
       "      <td>SUgxaWkGcZc</td>\n",
       "      <td>Sedih bgt lagunya 😥😥😢</td>\n",
       "      <td>id</td>\n",
       "      <td>positive</td>\n",
       "    </tr>\n",
       "    <tr>\n",
       "      <th>2</th>\n",
       "      <td>2023-06-21T04:07:41Z</td>\n",
       "      <td>@fay9</td>\n",
       "      <td>SUgxaWkGcZc</td>\n",
       "      <td>Kesini lagi abis nonton Our Skyy 2, mau nostal...</td>\n",
       "      <td>id</td>\n",
       "      <td>positive</td>\n",
       "    </tr>\n",
       "    <tr>\n",
       "      <th>6</th>\n",
       "      <td>2022-09-14T19:29:00Z</td>\n",
       "      <td>@cew257</td>\n",
       "      <td>SUgxaWkGcZc</td>\n",
       "      <td>Wih keren banget kak! Aku suka banget lagu ini...</td>\n",
       "      <td>id</td>\n",
       "      <td>positive</td>\n",
       "    </tr>\n",
       "    <tr>\n",
       "      <th>7</th>\n",
       "      <td>2022-08-16T12:53:31Z</td>\n",
       "      <td>@lucymabushii9717</td>\n",
       "      <td>SUgxaWkGcZc</td>\n",
       "      <td>lagu favoritku dicover sama cewek favoritku 🥰🥰...</td>\n",
       "      <td>id</td>\n",
       "      <td>positive</td>\n",
       "    </tr>\n",
       "    <tr>\n",
       "      <th>9</th>\n",
       "      <td>2022-08-06T13:09:21Z</td>\n",
       "      <td>@syurik9258</td>\n",
       "      <td>SUgxaWkGcZc</td>\n",
       "      <td>halo siscaaa, boleh request cover why dont you...</td>\n",
       "      <td>id</td>\n",
       "      <td>positive</td>\n",
       "    </tr>\n",
       "    <tr>\n",
       "      <th>...</th>\n",
       "      <td>...</td>\n",
       "      <td>...</td>\n",
       "      <td>...</td>\n",
       "      <td>...</td>\n",
       "      <td>...</td>\n",
       "      <td>...</td>\n",
       "    </tr>\n",
       "    <tr>\n",
       "      <th>192</th>\n",
       "      <td>2021-12-02T10:07:09Z</td>\n",
       "      <td>@lianavinca3841</td>\n",
       "      <td>SUgxaWkGcZc</td>\n",
       "      <td>Yg ditunggu tunggu💗💗💗</td>\n",
       "      <td>id</td>\n",
       "      <td>positive</td>\n",
       "    </tr>\n",
       "    <tr>\n",
       "      <th>198</th>\n",
       "      <td>2021-12-02T10:06:52Z</td>\n",
       "      <td>@misbahulalim1313</td>\n",
       "      <td>SUgxaWkGcZc</td>\n",
       "      <td>*ꦒꦸꦮꦈꦢꦲ꧀ꦠꦼꦧꦏ꧀ꦠꦼꦧꦏ꧀ꦧꦸꦮꦲ꧀ꦩꦁꦒꦶꦱ꧀ !* 😀\\n*ꦥꦱ꧀ꦠꦶꦭꦒꦸꦛ...</td>\n",
       "      <td>id</td>\n",
       "      <td>positive</td>\n",
       "    </tr>\n",
       "    <tr>\n",
       "      <th>205</th>\n",
       "      <td>2021-12-02T10:02:49Z</td>\n",
       "      <td>@cylonachillchannel9821</td>\n",
       "      <td>SUgxaWkGcZc</td>\n",
       "      <td>Wow suara nya kak 😍😍😍 always support kak ❤️❤️❤️</td>\n",
       "      <td>id</td>\n",
       "      <td>positive</td>\n",
       "    </tr>\n",
       "    <tr>\n",
       "      <th>213</th>\n",
       "      <td>2021-12-02T10:01:17Z</td>\n",
       "      <td>@erlanggaferik</td>\n",
       "      <td>SUgxaWkGcZc</td>\n",
       "      <td>Akhirnya cover lagi</td>\n",
       "      <td>id</td>\n",
       "      <td>positive</td>\n",
       "    </tr>\n",
       "    <tr>\n",
       "      <th>214</th>\n",
       "      <td>2021-12-02T10:01:10Z</td>\n",
       "      <td>@nurmalicka2531</td>\n",
       "      <td>SUgxaWkGcZc</td>\n",
       "      <td>Prtama bgt nih</td>\n",
       "      <td>id</td>\n",
       "      <td>positive</td>\n",
       "    </tr>\n",
       "  </tbody>\n",
       "</table>\n",
       "<p>96 rows × 6 columns</p>\n",
       "</div>"
      ],
      "text/plain": [
       "                     Date                   Username      VideoID  \\\n",
       "1    2023-07-09T12:01:42Z  @renjanaabhiprayaabin5468  SUgxaWkGcZc   \n",
       "2    2023-06-21T04:07:41Z                      @fay9  SUgxaWkGcZc   \n",
       "6    2022-09-14T19:29:00Z                    @cew257  SUgxaWkGcZc   \n",
       "7    2022-08-16T12:53:31Z          @lucymabushii9717  SUgxaWkGcZc   \n",
       "9    2022-08-06T13:09:21Z                @syurik9258  SUgxaWkGcZc   \n",
       "..                    ...                        ...          ...   \n",
       "192  2021-12-02T10:07:09Z            @lianavinca3841  SUgxaWkGcZc   \n",
       "198  2021-12-02T10:06:52Z          @misbahulalim1313  SUgxaWkGcZc   \n",
       "205  2021-12-02T10:02:49Z    @cylonachillchannel9821  SUgxaWkGcZc   \n",
       "213  2021-12-02T10:01:17Z             @erlanggaferik  SUgxaWkGcZc   \n",
       "214  2021-12-02T10:01:10Z            @nurmalicka2531  SUgxaWkGcZc   \n",
       "\n",
       "                                               Comment Lang   predict  \n",
       "1                                Sedih bgt lagunya 😥😥😢   id  positive  \n",
       "2    Kesini lagi abis nonton Our Skyy 2, mau nostal...   id  positive  \n",
       "6    Wih keren banget kak! Aku suka banget lagu ini...   id  positive  \n",
       "7    lagu favoritku dicover sama cewek favoritku 🥰🥰...   id  positive  \n",
       "9    halo siscaaa, boleh request cover why dont you...   id  positive  \n",
       "..                                                 ...  ...       ...  \n",
       "192                              Yg ditunggu tunggu💗💗💗   id  positive  \n",
       "198  *ꦒꦸꦮꦈꦢꦲ꧀ꦠꦼꦧꦏ꧀ꦠꦼꦧꦏ꧀ꦧꦸꦮꦲ꧀ꦩꦁꦒꦶꦱ꧀ !* 😀\\n*ꦥꦱ꧀ꦠꦶꦭꦒꦸꦛ...   id  positive  \n",
       "205    Wow suara nya kak 😍😍😍 always support kak ❤️❤️❤️   id  positive  \n",
       "213                                Akhirnya cover lagi   id  positive  \n",
       "214                                     Prtama bgt nih   id  positive  \n",
       "\n",
       "[96 rows x 6 columns]"
      ]
     },
     "execution_count": 186,
     "metadata": {},
     "output_type": "execute_result"
    }
   ],
   "source": [
    "df_ana"
   ]
  },
  {
   "cell_type": "code",
   "execution_count": 100,
   "metadata": {},
   "outputs": [
    {
     "data": {
      "text/plain": [
       "4"
      ]
     },
     "execution_count": 100,
     "metadata": {},
     "output_type": "execute_result"
    }
   ],
   "source": [
    "\n",
    "\n",
    "# Example text for analysis\n",
    "text = \"PHI BRIGHTWIN KARAM PHI\t\"\n",
    "inputs = tokenizer.encode(text, return_tensors=\"pt\")\n",
    "# Get predictions\n",
    "result = model(inputs)\n",
    "\n",
    "# Display results\n",
    "int(torch.argmax(result.logits))+1\n"
   ]
  },
  {
   "cell_type": "code",
   "execution_count": 106,
   "metadata": {},
   "outputs": [
    {
     "ename": "IndexError",
     "evalue": "index 1 is out of bounds for dimension 0 with size 1",
     "output_type": "error",
     "traceback": [
      "\u001b[0;31m---------------------------------------------------------------------------\u001b[0m",
      "\u001b[0;31mIndexError\u001b[0m                                Traceback (most recent call last)",
      "Cell \u001b[0;32mIn[106], line 1\u001b[0m\n\u001b[0;32m----> 1\u001b[0m result\u001b[38;5;241m.\u001b[39mlogits[\u001b[38;5;241m1\u001b[39m]\n",
      "\u001b[0;31mIndexError\u001b[0m: index 1 is out of bounds for dimension 0 with size 1"
     ]
    }
   ],
   "source": [
    "result.logits[]"
   ]
  },
  {
   "cell_type": "code",
   "execution_count": 93,
   "metadata": {},
   "outputs": [
    {
     "data": {
      "text/plain": [
       "SequenceClassifierOutput(loss=None, logits=tensor([[ 0.2517,  1.2794, -0.2379, -0.1168,  0.4237]],\n",
       "       grad_fn=<AddmmBackward0>), hidden_states=None, attentions=None)"
      ]
     },
     "execution_count": 93,
     "metadata": {},
     "output_type": "execute_result"
    }
   ],
   "source": [
    "result"
   ]
  },
  {
   "cell_type": "code",
   "execution_count": 187,
   "metadata": {},
   "outputs": [
    {
     "data": {
      "text/html": [
       "<div>\n",
       "<style scoped>\n",
       "    .dataframe tbody tr th:only-of-type {\n",
       "        vertical-align: middle;\n",
       "    }\n",
       "\n",
       "    .dataframe tbody tr th {\n",
       "        vertical-align: top;\n",
       "    }\n",
       "\n",
       "    .dataframe thead th {\n",
       "        text-align: right;\n",
       "    }\n",
       "</style>\n",
       "<table border=\"1\" class=\"dataframe\">\n",
       "  <thead>\n",
       "    <tr style=\"text-align: right;\">\n",
       "      <th></th>\n",
       "      <th>predict</th>\n",
       "      <th>Count</th>\n",
       "    </tr>\n",
       "  </thead>\n",
       "  <tbody>\n",
       "    <tr>\n",
       "      <th>0</th>\n",
       "      <td>positive</td>\n",
       "      <td>96</td>\n",
       "    </tr>\n",
       "  </tbody>\n",
       "</table>\n",
       "</div>"
      ],
      "text/plain": [
       "    predict  Count\n",
       "0  positive     96"
      ]
     },
     "execution_count": 187,
     "metadata": {},
     "output_type": "execute_result"
    }
   ],
   "source": [
    "df_ana_show = df_ana.groupby(['predict'])['Lang'].count().reset_index(name='Count').sort_values(['Count'], ascending=False)\n",
    "df_ana_show"
   ]
  },
  {
   "cell_type": "markdown",
   "metadata": {},
   "source": [
    "## Analyze"
   ]
  },
  {
   "cell_type": "code",
   "execution_count": 189,
   "metadata": {},
   "outputs": [
    {
     "data": {
      "application/vnd.plotly.v1+json": {
       "config": {
        "plotlyServerURL": "https://plot.ly"
       },
       "data": [
        {
         "domain": {
          "x": [
           0,
           1
          ],
          "y": [
           0,
           1
          ]
         },
         "hovertemplate": "predict=%{label}<br>Count=%{value}<extra></extra>",
         "labels": [
          "positive"
         ],
         "legendgroup": "",
         "name": "",
         "showlegend": true,
         "textposition": "inside",
         "type": "pie",
         "values": [
          96
         ]
        }
       ],
       "layout": {
        "legend": {
         "tracegroupgap": 0
        },
        "template": {
         "data": {
          "bar": [
           {
            "error_x": {
             "color": "#2a3f5f"
            },
            "error_y": {
             "color": "#2a3f5f"
            },
            "marker": {
             "line": {
              "color": "#E5ECF6",
              "width": 0.5
             },
             "pattern": {
              "fillmode": "overlay",
              "size": 10,
              "solidity": 0.2
             }
            },
            "type": "bar"
           }
          ],
          "barpolar": [
           {
            "marker": {
             "line": {
              "color": "#E5ECF6",
              "width": 0.5
             },
             "pattern": {
              "fillmode": "overlay",
              "size": 10,
              "solidity": 0.2
             }
            },
            "type": "barpolar"
           }
          ],
          "carpet": [
           {
            "aaxis": {
             "endlinecolor": "#2a3f5f",
             "gridcolor": "white",
             "linecolor": "white",
             "minorgridcolor": "white",
             "startlinecolor": "#2a3f5f"
            },
            "baxis": {
             "endlinecolor": "#2a3f5f",
             "gridcolor": "white",
             "linecolor": "white",
             "minorgridcolor": "white",
             "startlinecolor": "#2a3f5f"
            },
            "type": "carpet"
           }
          ],
          "choropleth": [
           {
            "colorbar": {
             "outlinewidth": 0,
             "ticks": ""
            },
            "type": "choropleth"
           }
          ],
          "contour": [
           {
            "colorbar": {
             "outlinewidth": 0,
             "ticks": ""
            },
            "colorscale": [
             [
              0,
              "#0d0887"
             ],
             [
              0.1111111111111111,
              "#46039f"
             ],
             [
              0.2222222222222222,
              "#7201a8"
             ],
             [
              0.3333333333333333,
              "#9c179e"
             ],
             [
              0.4444444444444444,
              "#bd3786"
             ],
             [
              0.5555555555555556,
              "#d8576b"
             ],
             [
              0.6666666666666666,
              "#ed7953"
             ],
             [
              0.7777777777777778,
              "#fb9f3a"
             ],
             [
              0.8888888888888888,
              "#fdca26"
             ],
             [
              1,
              "#f0f921"
             ]
            ],
            "type": "contour"
           }
          ],
          "contourcarpet": [
           {
            "colorbar": {
             "outlinewidth": 0,
             "ticks": ""
            },
            "type": "contourcarpet"
           }
          ],
          "heatmap": [
           {
            "colorbar": {
             "outlinewidth": 0,
             "ticks": ""
            },
            "colorscale": [
             [
              0,
              "#0d0887"
             ],
             [
              0.1111111111111111,
              "#46039f"
             ],
             [
              0.2222222222222222,
              "#7201a8"
             ],
             [
              0.3333333333333333,
              "#9c179e"
             ],
             [
              0.4444444444444444,
              "#bd3786"
             ],
             [
              0.5555555555555556,
              "#d8576b"
             ],
             [
              0.6666666666666666,
              "#ed7953"
             ],
             [
              0.7777777777777778,
              "#fb9f3a"
             ],
             [
              0.8888888888888888,
              "#fdca26"
             ],
             [
              1,
              "#f0f921"
             ]
            ],
            "type": "heatmap"
           }
          ],
          "heatmapgl": [
           {
            "colorbar": {
             "outlinewidth": 0,
             "ticks": ""
            },
            "colorscale": [
             [
              0,
              "#0d0887"
             ],
             [
              0.1111111111111111,
              "#46039f"
             ],
             [
              0.2222222222222222,
              "#7201a8"
             ],
             [
              0.3333333333333333,
              "#9c179e"
             ],
             [
              0.4444444444444444,
              "#bd3786"
             ],
             [
              0.5555555555555556,
              "#d8576b"
             ],
             [
              0.6666666666666666,
              "#ed7953"
             ],
             [
              0.7777777777777778,
              "#fb9f3a"
             ],
             [
              0.8888888888888888,
              "#fdca26"
             ],
             [
              1,
              "#f0f921"
             ]
            ],
            "type": "heatmapgl"
           }
          ],
          "histogram": [
           {
            "marker": {
             "pattern": {
              "fillmode": "overlay",
              "size": 10,
              "solidity": 0.2
             }
            },
            "type": "histogram"
           }
          ],
          "histogram2d": [
           {
            "colorbar": {
             "outlinewidth": 0,
             "ticks": ""
            },
            "colorscale": [
             [
              0,
              "#0d0887"
             ],
             [
              0.1111111111111111,
              "#46039f"
             ],
             [
              0.2222222222222222,
              "#7201a8"
             ],
             [
              0.3333333333333333,
              "#9c179e"
             ],
             [
              0.4444444444444444,
              "#bd3786"
             ],
             [
              0.5555555555555556,
              "#d8576b"
             ],
             [
              0.6666666666666666,
              "#ed7953"
             ],
             [
              0.7777777777777778,
              "#fb9f3a"
             ],
             [
              0.8888888888888888,
              "#fdca26"
             ],
             [
              1,
              "#f0f921"
             ]
            ],
            "type": "histogram2d"
           }
          ],
          "histogram2dcontour": [
           {
            "colorbar": {
             "outlinewidth": 0,
             "ticks": ""
            },
            "colorscale": [
             [
              0,
              "#0d0887"
             ],
             [
              0.1111111111111111,
              "#46039f"
             ],
             [
              0.2222222222222222,
              "#7201a8"
             ],
             [
              0.3333333333333333,
              "#9c179e"
             ],
             [
              0.4444444444444444,
              "#bd3786"
             ],
             [
              0.5555555555555556,
              "#d8576b"
             ],
             [
              0.6666666666666666,
              "#ed7953"
             ],
             [
              0.7777777777777778,
              "#fb9f3a"
             ],
             [
              0.8888888888888888,
              "#fdca26"
             ],
             [
              1,
              "#f0f921"
             ]
            ],
            "type": "histogram2dcontour"
           }
          ],
          "mesh3d": [
           {
            "colorbar": {
             "outlinewidth": 0,
             "ticks": ""
            },
            "type": "mesh3d"
           }
          ],
          "parcoords": [
           {
            "line": {
             "colorbar": {
              "outlinewidth": 0,
              "ticks": ""
             }
            },
            "type": "parcoords"
           }
          ],
          "pie": [
           {
            "automargin": true,
            "type": "pie"
           }
          ],
          "scatter": [
           {
            "fillpattern": {
             "fillmode": "overlay",
             "size": 10,
             "solidity": 0.2
            },
            "type": "scatter"
           }
          ],
          "scatter3d": [
           {
            "line": {
             "colorbar": {
              "outlinewidth": 0,
              "ticks": ""
             }
            },
            "marker": {
             "colorbar": {
              "outlinewidth": 0,
              "ticks": ""
             }
            },
            "type": "scatter3d"
           }
          ],
          "scattercarpet": [
           {
            "marker": {
             "colorbar": {
              "outlinewidth": 0,
              "ticks": ""
             }
            },
            "type": "scattercarpet"
           }
          ],
          "scattergeo": [
           {
            "marker": {
             "colorbar": {
              "outlinewidth": 0,
              "ticks": ""
             }
            },
            "type": "scattergeo"
           }
          ],
          "scattergl": [
           {
            "marker": {
             "colorbar": {
              "outlinewidth": 0,
              "ticks": ""
             }
            },
            "type": "scattergl"
           }
          ],
          "scattermapbox": [
           {
            "marker": {
             "colorbar": {
              "outlinewidth": 0,
              "ticks": ""
             }
            },
            "type": "scattermapbox"
           }
          ],
          "scatterpolar": [
           {
            "marker": {
             "colorbar": {
              "outlinewidth": 0,
              "ticks": ""
             }
            },
            "type": "scatterpolar"
           }
          ],
          "scatterpolargl": [
           {
            "marker": {
             "colorbar": {
              "outlinewidth": 0,
              "ticks": ""
             }
            },
            "type": "scatterpolargl"
           }
          ],
          "scatterternary": [
           {
            "marker": {
             "colorbar": {
              "outlinewidth": 0,
              "ticks": ""
             }
            },
            "type": "scatterternary"
           }
          ],
          "surface": [
           {
            "colorbar": {
             "outlinewidth": 0,
             "ticks": ""
            },
            "colorscale": [
             [
              0,
              "#0d0887"
             ],
             [
              0.1111111111111111,
              "#46039f"
             ],
             [
              0.2222222222222222,
              "#7201a8"
             ],
             [
              0.3333333333333333,
              "#9c179e"
             ],
             [
              0.4444444444444444,
              "#bd3786"
             ],
             [
              0.5555555555555556,
              "#d8576b"
             ],
             [
              0.6666666666666666,
              "#ed7953"
             ],
             [
              0.7777777777777778,
              "#fb9f3a"
             ],
             [
              0.8888888888888888,
              "#fdca26"
             ],
             [
              1,
              "#f0f921"
             ]
            ],
            "type": "surface"
           }
          ],
          "table": [
           {
            "cells": {
             "fill": {
              "color": "#EBF0F8"
             },
             "line": {
              "color": "white"
             }
            },
            "header": {
             "fill": {
              "color": "#C8D4E3"
             },
             "line": {
              "color": "white"
             }
            },
            "type": "table"
           }
          ]
         },
         "layout": {
          "annotationdefaults": {
           "arrowcolor": "#2a3f5f",
           "arrowhead": 0,
           "arrowwidth": 1
          },
          "autotypenumbers": "strict",
          "coloraxis": {
           "colorbar": {
            "outlinewidth": 0,
            "ticks": ""
           }
          },
          "colorscale": {
           "diverging": [
            [
             0,
             "#8e0152"
            ],
            [
             0.1,
             "#c51b7d"
            ],
            [
             0.2,
             "#de77ae"
            ],
            [
             0.3,
             "#f1b6da"
            ],
            [
             0.4,
             "#fde0ef"
            ],
            [
             0.5,
             "#f7f7f7"
            ],
            [
             0.6,
             "#e6f5d0"
            ],
            [
             0.7,
             "#b8e186"
            ],
            [
             0.8,
             "#7fbc41"
            ],
            [
             0.9,
             "#4d9221"
            ],
            [
             1,
             "#276419"
            ]
           ],
           "sequential": [
            [
             0,
             "#0d0887"
            ],
            [
             0.1111111111111111,
             "#46039f"
            ],
            [
             0.2222222222222222,
             "#7201a8"
            ],
            [
             0.3333333333333333,
             "#9c179e"
            ],
            [
             0.4444444444444444,
             "#bd3786"
            ],
            [
             0.5555555555555556,
             "#d8576b"
            ],
            [
             0.6666666666666666,
             "#ed7953"
            ],
            [
             0.7777777777777778,
             "#fb9f3a"
            ],
            [
             0.8888888888888888,
             "#fdca26"
            ],
            [
             1,
             "#f0f921"
            ]
           ],
           "sequentialminus": [
            [
             0,
             "#0d0887"
            ],
            [
             0.1111111111111111,
             "#46039f"
            ],
            [
             0.2222222222222222,
             "#7201a8"
            ],
            [
             0.3333333333333333,
             "#9c179e"
            ],
            [
             0.4444444444444444,
             "#bd3786"
            ],
            [
             0.5555555555555556,
             "#d8576b"
            ],
            [
             0.6666666666666666,
             "#ed7953"
            ],
            [
             0.7777777777777778,
             "#fb9f3a"
            ],
            [
             0.8888888888888888,
             "#fdca26"
            ],
            [
             1,
             "#f0f921"
            ]
           ]
          },
          "colorway": [
           "#636efa",
           "#EF553B",
           "#00cc96",
           "#ab63fa",
           "#FFA15A",
           "#19d3f3",
           "#FF6692",
           "#B6E880",
           "#FF97FF",
           "#FECB52"
          ],
          "font": {
           "color": "#2a3f5f"
          },
          "geo": {
           "bgcolor": "white",
           "lakecolor": "white",
           "landcolor": "#E5ECF6",
           "showlakes": true,
           "showland": true,
           "subunitcolor": "white"
          },
          "hoverlabel": {
           "align": "left"
          },
          "hovermode": "closest",
          "mapbox": {
           "style": "light"
          },
          "paper_bgcolor": "white",
          "plot_bgcolor": "#E5ECF6",
          "polar": {
           "angularaxis": {
            "gridcolor": "white",
            "linecolor": "white",
            "ticks": ""
           },
           "bgcolor": "#E5ECF6",
           "radialaxis": {
            "gridcolor": "white",
            "linecolor": "white",
            "ticks": ""
           }
          },
          "scene": {
           "xaxis": {
            "backgroundcolor": "#E5ECF6",
            "gridcolor": "white",
            "gridwidth": 2,
            "linecolor": "white",
            "showbackground": true,
            "ticks": "",
            "zerolinecolor": "white"
           },
           "yaxis": {
            "backgroundcolor": "#E5ECF6",
            "gridcolor": "white",
            "gridwidth": 2,
            "linecolor": "white",
            "showbackground": true,
            "ticks": "",
            "zerolinecolor": "white"
           },
           "zaxis": {
            "backgroundcolor": "#E5ECF6",
            "gridcolor": "white",
            "gridwidth": 2,
            "linecolor": "white",
            "showbackground": true,
            "ticks": "",
            "zerolinecolor": "white"
           }
          },
          "shapedefaults": {
           "line": {
            "color": "#2a3f5f"
           }
          },
          "ternary": {
           "aaxis": {
            "gridcolor": "white",
            "linecolor": "white",
            "ticks": ""
           },
           "baxis": {
            "gridcolor": "white",
            "linecolor": "white",
            "ticks": ""
           },
           "bgcolor": "#E5ECF6",
           "caxis": {
            "gridcolor": "white",
            "linecolor": "white",
            "ticks": ""
           }
          },
          "title": {
           "x": 0.05
          },
          "xaxis": {
           "automargin": true,
           "gridcolor": "white",
           "linecolor": "white",
           "ticks": "",
           "title": {
            "standoff": 15
           },
           "zerolinecolor": "white",
           "zerolinewidth": 2
          },
          "yaxis": {
           "automargin": true,
           "gridcolor": "white",
           "linecolor": "white",
           "ticks": "",
           "title": {
            "standoff": 15
           },
           "zerolinecolor": "white",
           "zerolinewidth": 2
          }
         }
        },
        "title": {
         "text": "Sentiment Analysis คิดแต่ไม่ถึง cover"
        },
        "uniformtext": {
         "minsize": 12,
         "mode": "hide"
        }
       }
      }
     },
     "metadata": {},
     "output_type": "display_data"
    }
   ],
   "source": [
    "fig = px.pie(df_ana_show, values='Count', names='predict',title='Sentiment Analysis คิดแต่ไม่ถึง cover')\n",
    "fig.update_traces(textposition='inside')\n",
    "fig.update_layout(uniformtext_minsize=12, uniformtext_mode='hide')\n",
    "fig.show()"
   ]
  },
  {
   "cell_type": "code",
   "execution_count": 91,
   "metadata": {},
   "outputs": [
    {
     "name": "stderr",
     "output_type": "stream",
     "text": [
      "Hardware accelerator e.g. GPU is available in the environment, but no `device` argument is passed to the `Pipeline` object. Model will be on CPU.\n"
     ]
    },
    {
     "name": "stdout",
     "output_type": "stream",
     "text": [
      "Text: Saya sangat senang dengan layanan ini!\n",
      "Sentiment: LABEL_0, Score: 0.2775\n",
      "\n",
      "Text: Sangat bahagia hari ini\n",
      "Sentiment: LABEL_1, Score: 0.4472\n",
      "\n",
      "Text: Layanan pelanggan sangat buruk.\n",
      "Sentiment: LABEL_1, Score: 0.3667\n",
      "\n",
      "Text: Dasar anak sialan!! Kurang ajar!!\n",
      "Sentiment: LABEL_1, Score: 0.3613\n",
      "\n"
     ]
    }
   ],
   "source": [
    "from transformers import pipeline\n",
    "\n",
    "# Create a sentiment-analysis pipeline\n",
    "sentiment_analysis = pipeline(\"sentiment-analysis\", model=model, tokenizer=tokenizer)\n",
    "\n",
    "# Sample texts for sentiment analysis\n",
    "texts = [\n",
    "    \"Saya sangat senang dengan layanan ini!\",  # I am very happy with this service!\n",
    "    \"Sangat bahagia hari ini\",        # This product did not meet expectations.\n",
    "    \"Layanan pelanggan sangat buruk.\",          # Customer service is very bad.\n",
    "    \"Dasar anak sialan!! Kurang ajar!!\",        # I am satisfied with my purchase.\n",
    "]\n",
    "\n",
    "# Perform sentiment analysis\n",
    "results = sentiment_analysis(texts)\n",
    "\n",
    "# Display results\n",
    "for text, result in zip(texts, results):\n",
    "    print(f\"Text: {text}\\nSentiment: {result['label']}, Score: {result['score']:.4f}\\n\")"
   ]
  },
  {
   "cell_type": "code",
   "execution_count": 89,
   "metadata": {},
   "outputs": [
    {
     "data": {
      "text/plain": [
       "[{'label': 'LABEL_0', 'score': 0.27745336294174194},\n",
       " {'label': 'LABEL_1', 'score': 0.44183412194252014},\n",
       " {'label': 'LABEL_1', 'score': 0.3666561245918274},\n",
       " {'label': 'LABEL_1', 'score': 0.42138999700546265}]"
      ]
     },
     "execution_count": 89,
     "metadata": {},
     "output_type": "execute_result"
    }
   ],
   "source": [
    "results"
   ]
  }
 ],
 "metadata": {
  "kernelspec": {
   "display_name": "Python 3",
   "language": "python",
   "name": "python3"
  },
  "language_info": {
   "codemirror_mode": {
    "name": "ipython",
    "version": 3
   },
   "file_extension": ".py",
   "mimetype": "text/x-python",
   "name": "python",
   "nbconvert_exporter": "python",
   "pygments_lexer": "ipython3",
   "version": "3.11.9"
  }
 },
 "nbformat": 4,
 "nbformat_minor": 2
}
