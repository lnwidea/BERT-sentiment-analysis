{
 "cells": [
  {
   "cell_type": "code",
   "execution_count": 1,
   "metadata": {},
   "outputs": [],
   "source": [
    "import pandas as pd\n",
    "import plotly.express as px"
   ]
  },
  {
   "cell_type": "code",
   "execution_count": 2,
   "metadata": {},
   "outputs": [],
   "source": [
    "df_inter1 = pd.read_csv('Jeff Satur - ซ่อน (ไม่) หา.csv', index_col=0)"
   ]
  },
  {
   "cell_type": "code",
   "execution_count": 3,
   "metadata": {},
   "outputs": [
    {
     "data": {
      "text/html": [
       "<div>\n",
       "<style scoped>\n",
       "    .dataframe tbody tr th:only-of-type {\n",
       "        vertical-align: middle;\n",
       "    }\n",
       "\n",
       "    .dataframe tbody tr th {\n",
       "        vertical-align: top;\n",
       "    }\n",
       "\n",
       "    .dataframe thead th {\n",
       "        text-align: right;\n",
       "    }\n",
       "</style>\n",
       "<table border=\"1\" class=\"dataframe\">\n",
       "  <thead>\n",
       "    <tr style=\"text-align: right;\">\n",
       "      <th></th>\n",
       "      <th>Timestamp</th>\n",
       "      <th>Username</th>\n",
       "      <th>VideoID</th>\n",
       "      <th>Comment</th>\n",
       "      <th>Date</th>\n",
       "      <th>Lang</th>\n",
       "    </tr>\n",
       "  </thead>\n",
       "  <tbody>\n",
       "    <tr>\n",
       "      <th>0</th>\n",
       "      <td>2024-01-27T05:19:58Z</td>\n",
       "      <td>@JeffSaturSATS</td>\n",
       "      <td>qguo-j5PxBE</td>\n",
       "      <td>Yellow leaf is falling …. On 8 February</td>\n",
       "      <td>2024-01-27T05:19:58Z</td>\n",
       "      <td>en</td>\n",
       "    </tr>\n",
       "    <tr>\n",
       "      <th>1</th>\n",
       "      <td>2024-01-27T05:39:49Z</td>\n",
       "      <td>@minesatur</td>\n",
       "      <td>qguo-j5PxBE</td>\n",
       "      <td>WHAT??????</td>\n",
       "      <td>2024-01-27T05:39:49Z</td>\n",
       "      <td>sw</td>\n",
       "    </tr>\n",
       "    <tr>\n",
       "      <th>2</th>\n",
       "      <td>2024-01-27T05:39:56Z</td>\n",
       "      <td>@minesatur</td>\n",
       "      <td>qguo-j5PxBE</td>\n",
       "      <td>JEFF, COME HERE NOW</td>\n",
       "      <td>2024-01-27T05:39:56Z</td>\n",
       "      <td>vi</td>\n",
       "    </tr>\n",
       "    <tr>\n",
       "      <th>3</th>\n",
       "      <td>2024-01-27T05:40:06Z</td>\n",
       "      <td>@minesatur</td>\n",
       "      <td>qguo-j5PxBE</td>\n",
       "      <td>OMGGGGG, I CAN'T BELIEVE IT</td>\n",
       "      <td>2024-01-27T05:40:06Z</td>\n",
       "      <td>en</td>\n",
       "    </tr>\n",
       "    <tr>\n",
       "      <th>4</th>\n",
       "      <td>2024-01-27T05:45:04Z</td>\n",
       "      <td>@เงี่ยนเลยต้องYes</td>\n",
       "      <td>qguo-j5PxBE</td>\n",
       "      <td>A new song?</td>\n",
       "      <td>2024-01-27T05:45:04Z</td>\n",
       "      <td>tl</td>\n",
       "    </tr>\n",
       "    <tr>\n",
       "      <th>...</th>\n",
       "      <td>...</td>\n",
       "      <td>...</td>\n",
       "      <td>...</td>\n",
       "      <td>...</td>\n",
       "      <td>...</td>\n",
       "      <td>...</td>\n",
       "    </tr>\n",
       "    <tr>\n",
       "      <th>14003</th>\n",
       "      <td>2024-01-18T11:08:21Z</td>\n",
       "      <td>@simran850</td>\n",
       "      <td>qguo-j5PxBE</td>\n",
       "      <td>Angles are real cause in no way humans have su...</td>\n",
       "      <td>2024-01-18T11:08:21Z</td>\n",
       "      <td>en</td>\n",
       "    </tr>\n",
       "    <tr>\n",
       "      <th>14004</th>\n",
       "      <td>2024-01-18T11:31:26Z</td>\n",
       "      <td>@himawarinohara1628</td>\n",
       "      <td>qguo-j5PxBE</td>\n",
       "      <td>And humans can't be as beautiful as him😭❤️</td>\n",
       "      <td>2024-01-18T11:31:26Z</td>\n",
       "      <td>en</td>\n",
       "    </tr>\n",
       "    <tr>\n",
       "      <th>14005</th>\n",
       "      <td>2024-01-19T12:14:54Z</td>\n",
       "      <td>@simran850</td>\n",
       "      <td>qguo-j5PxBE</td>\n",
       "      <td>​@@himawarinohara1628 😭😭😭truest words ever</td>\n",
       "      <td>2024-04-18T01:22:23Z</td>\n",
       "      <td>en</td>\n",
       "    </tr>\n",
       "    <tr>\n",
       "      <th>14006</th>\n",
       "      <td>2024-01-22T20:34:12Z</td>\n",
       "      <td>@cafe.atlantis</td>\n",
       "      <td>qguo-j5PxBE</td>\n",
       "      <td>@@himawarinohara1628 his doctors did well, bee...</td>\n",
       "      <td>2024-04-18T01:22:23Z</td>\n",
       "      <td>en</td>\n",
       "    </tr>\n",
       "    <tr>\n",
       "      <th>14007</th>\n",
       "      <td>2024-06-01T00:41:04Z</td>\n",
       "      <td>@chanidapornguensri</td>\n",
       "      <td>qguo-j5PxBE</td>\n",
       "      <td>​@@simran850😢❤😢😢😢😢😢😢😢😢😢😢😢😢😢😢😢😢😢😢😢😢😢😢😢😢😢😢🎆☄️🫔🫔🫔...</td>\n",
       "      <td>2024-06-01T00:41:04Z</td>\n",
       "      <td>Other</td>\n",
       "    </tr>\n",
       "  </tbody>\n",
       "</table>\n",
       "<p>14008 rows × 6 columns</p>\n",
       "</div>"
      ],
      "text/plain": [
       "                  Timestamp             Username      VideoID  \\\n",
       "0      2024-01-27T05:19:58Z       @JeffSaturSATS  qguo-j5PxBE   \n",
       "1      2024-01-27T05:39:49Z           @minesatur  qguo-j5PxBE   \n",
       "2      2024-01-27T05:39:56Z           @minesatur  qguo-j5PxBE   \n",
       "3      2024-01-27T05:40:06Z           @minesatur  qguo-j5PxBE   \n",
       "4      2024-01-27T05:45:04Z    @เงี่ยนเลยต้องYes  qguo-j5PxBE   \n",
       "...                     ...                  ...          ...   \n",
       "14003  2024-01-18T11:08:21Z           @simran850  qguo-j5PxBE   \n",
       "14004  2024-01-18T11:31:26Z  @himawarinohara1628  qguo-j5PxBE   \n",
       "14005  2024-01-19T12:14:54Z           @simran850  qguo-j5PxBE   \n",
       "14006  2024-01-22T20:34:12Z       @cafe.atlantis  qguo-j5PxBE   \n",
       "14007  2024-06-01T00:41:04Z  @chanidapornguensri  qguo-j5PxBE   \n",
       "\n",
       "                                                 Comment  \\\n",
       "0                Yellow leaf is falling …. On 8 February   \n",
       "1                                             WHAT??????   \n",
       "2                                    JEFF, COME HERE NOW   \n",
       "3                            OMGGGGG, I CAN'T BELIEVE IT   \n",
       "4                                            A new song?   \n",
       "...                                                  ...   \n",
       "14003  Angles are real cause in no way humans have su...   \n",
       "14004         And humans can't be as beautiful as him😭❤️   \n",
       "14005         ​@@himawarinohara1628 😭😭😭truest words ever   \n",
       "14006  @@himawarinohara1628 his doctors did well, bee...   \n",
       "14007  ​@@simran850😢❤😢😢😢😢😢😢😢😢😢😢😢😢😢😢😢😢😢😢😢😢😢😢😢😢😢😢🎆☄️🫔🫔🫔...   \n",
       "\n",
       "                       Date   Lang  \n",
       "0      2024-01-27T05:19:58Z     en  \n",
       "1      2024-01-27T05:39:49Z     sw  \n",
       "2      2024-01-27T05:39:56Z     vi  \n",
       "3      2024-01-27T05:40:06Z     en  \n",
       "4      2024-01-27T05:45:04Z     tl  \n",
       "...                     ...    ...  \n",
       "14003  2024-01-18T11:08:21Z     en  \n",
       "14004  2024-01-18T11:31:26Z     en  \n",
       "14005  2024-04-18T01:22:23Z     en  \n",
       "14006  2024-04-18T01:22:23Z     en  \n",
       "14007  2024-06-01T00:41:04Z  Other  \n",
       "\n",
       "[14008 rows x 6 columns]"
      ]
     },
     "execution_count": 3,
     "metadata": {},
     "output_type": "execute_result"
    }
   ],
   "source": [
    "df_inter1"
   ]
  },
  {
   "cell_type": "code",
   "execution_count": 4,
   "metadata": {},
   "outputs": [
    {
     "data": {
      "text/html": [
       "<div>\n",
       "<style scoped>\n",
       "    .dataframe tbody tr th:only-of-type {\n",
       "        vertical-align: middle;\n",
       "    }\n",
       "\n",
       "    .dataframe tbody tr th {\n",
       "        vertical-align: top;\n",
       "    }\n",
       "\n",
       "    .dataframe thead th {\n",
       "        text-align: right;\n",
       "    }\n",
       "</style>\n",
       "<table border=\"1\" class=\"dataframe\">\n",
       "  <thead>\n",
       "    <tr style=\"text-align: right;\">\n",
       "      <th></th>\n",
       "      <th>Date</th>\n",
       "      <th>Username</th>\n",
       "      <th>VideoID</th>\n",
       "      <th>Comment</th>\n",
       "    </tr>\n",
       "  </thead>\n",
       "  <tbody>\n",
       "    <tr>\n",
       "      <th>0</th>\n",
       "      <td>2024-01-27T05:19:58Z</td>\n",
       "      <td>@JeffSaturSATS</td>\n",
       "      <td>qguo-j5PxBE</td>\n",
       "      <td>Yellow leaf is falling …. On 8 February</td>\n",
       "    </tr>\n",
       "    <tr>\n",
       "      <th>1</th>\n",
       "      <td>2024-01-27T05:39:49Z</td>\n",
       "      <td>@minesatur</td>\n",
       "      <td>qguo-j5PxBE</td>\n",
       "      <td>WHAT??????</td>\n",
       "    </tr>\n",
       "    <tr>\n",
       "      <th>2</th>\n",
       "      <td>2024-01-27T05:39:56Z</td>\n",
       "      <td>@minesatur</td>\n",
       "      <td>qguo-j5PxBE</td>\n",
       "      <td>JEFF, COME HERE NOW</td>\n",
       "    </tr>\n",
       "    <tr>\n",
       "      <th>3</th>\n",
       "      <td>2024-01-27T05:40:06Z</td>\n",
       "      <td>@minesatur</td>\n",
       "      <td>qguo-j5PxBE</td>\n",
       "      <td>OMGGGGG, I CAN'T BELIEVE IT</td>\n",
       "    </tr>\n",
       "    <tr>\n",
       "      <th>4</th>\n",
       "      <td>2024-01-27T05:45:04Z</td>\n",
       "      <td>@เงี่ยนเลยต้องYes</td>\n",
       "      <td>qguo-j5PxBE</td>\n",
       "      <td>A new song?</td>\n",
       "    </tr>\n",
       "    <tr>\n",
       "      <th>...</th>\n",
       "      <td>...</td>\n",
       "      <td>...</td>\n",
       "      <td>...</td>\n",
       "      <td>...</td>\n",
       "    </tr>\n",
       "    <tr>\n",
       "      <th>14003</th>\n",
       "      <td>2024-01-18T11:08:21Z</td>\n",
       "      <td>@simran850</td>\n",
       "      <td>qguo-j5PxBE</td>\n",
       "      <td>Angles are real cause in no way humans have su...</td>\n",
       "    </tr>\n",
       "    <tr>\n",
       "      <th>14004</th>\n",
       "      <td>2024-01-18T11:31:26Z</td>\n",
       "      <td>@himawarinohara1628</td>\n",
       "      <td>qguo-j5PxBE</td>\n",
       "      <td>And humans can't be as beautiful as him😭❤️</td>\n",
       "    </tr>\n",
       "    <tr>\n",
       "      <th>14005</th>\n",
       "      <td>2024-04-18T01:22:23Z</td>\n",
       "      <td>@simran850</td>\n",
       "      <td>qguo-j5PxBE</td>\n",
       "      <td>​@@himawarinohara1628 😭😭😭truest words ever</td>\n",
       "    </tr>\n",
       "    <tr>\n",
       "      <th>14006</th>\n",
       "      <td>2024-04-18T01:22:23Z</td>\n",
       "      <td>@cafe.atlantis</td>\n",
       "      <td>qguo-j5PxBE</td>\n",
       "      <td>@@himawarinohara1628 his doctors did well, bee...</td>\n",
       "    </tr>\n",
       "    <tr>\n",
       "      <th>14007</th>\n",
       "      <td>2024-06-01T00:41:04Z</td>\n",
       "      <td>@chanidapornguensri</td>\n",
       "      <td>qguo-j5PxBE</td>\n",
       "      <td>​@@simran850😢❤😢😢😢😢😢😢😢😢😢😢😢😢😢😢😢😢😢😢😢😢😢😢😢😢😢😢🎆☄️🫔🫔🫔...</td>\n",
       "    </tr>\n",
       "  </tbody>\n",
       "</table>\n",
       "<p>14008 rows × 4 columns</p>\n",
       "</div>"
      ],
      "text/plain": [
       "                       Date             Username      VideoID  \\\n",
       "0      2024-01-27T05:19:58Z       @JeffSaturSATS  qguo-j5PxBE   \n",
       "1      2024-01-27T05:39:49Z           @minesatur  qguo-j5PxBE   \n",
       "2      2024-01-27T05:39:56Z           @minesatur  qguo-j5PxBE   \n",
       "3      2024-01-27T05:40:06Z           @minesatur  qguo-j5PxBE   \n",
       "4      2024-01-27T05:45:04Z    @เงี่ยนเลยต้องYes  qguo-j5PxBE   \n",
       "...                     ...                  ...          ...   \n",
       "14003  2024-01-18T11:08:21Z           @simran850  qguo-j5PxBE   \n",
       "14004  2024-01-18T11:31:26Z  @himawarinohara1628  qguo-j5PxBE   \n",
       "14005  2024-04-18T01:22:23Z           @simran850  qguo-j5PxBE   \n",
       "14006  2024-04-18T01:22:23Z       @cafe.atlantis  qguo-j5PxBE   \n",
       "14007  2024-06-01T00:41:04Z  @chanidapornguensri  qguo-j5PxBE   \n",
       "\n",
       "                                                 Comment  \n",
       "0                Yellow leaf is falling …. On 8 February  \n",
       "1                                             WHAT??????  \n",
       "2                                    JEFF, COME HERE NOW  \n",
       "3                            OMGGGGG, I CAN'T BELIEVE IT  \n",
       "4                                            A new song?  \n",
       "...                                                  ...  \n",
       "14003  Angles are real cause in no way humans have su...  \n",
       "14004         And humans can't be as beautiful as him😭❤️  \n",
       "14005         ​@@himawarinohara1628 😭😭😭truest words ever  \n",
       "14006  @@himawarinohara1628 his doctors did well, bee...  \n",
       "14007  ​@@simran850😢❤😢😢😢😢😢😢😢😢😢😢😢😢😢😢😢😢😢😢😢😢😢😢😢😢😢😢🎆☄️🫔🫔🫔...  \n",
       "\n",
       "[14008 rows x 4 columns]"
      ]
     },
     "execution_count": 4,
     "metadata": {},
     "output_type": "execute_result"
    }
   ],
   "source": [
    "df_inter1.drop(['Timestamp'], axis=1,inplace=True)\n",
    "df_inter1 = df_inter1.iloc[:,[3,0,1,2]]\n",
    "df_inter1"
   ]
  },
  {
   "cell_type": "code",
   "execution_count": 5,
   "metadata": {},
   "outputs": [],
   "source": [
    "from langdetect import detect\n",
    "def det(x):\n",
    "    try:\n",
    "        lang = detect(x)\n",
    "    except:\n",
    "        lang = 'Other'\n",
    "    return lang\n",
    "\n",
    "df_inter1['Lang'] = df_inter1['Comment'].apply(det)"
   ]
  },
  {
   "cell_type": "code",
   "execution_count": 6,
   "metadata": {},
   "outputs": [
    {
     "data": {
      "text/html": [
       "<div>\n",
       "<style scoped>\n",
       "    .dataframe tbody tr th:only-of-type {\n",
       "        vertical-align: middle;\n",
       "    }\n",
       "\n",
       "    .dataframe tbody tr th {\n",
       "        vertical-align: top;\n",
       "    }\n",
       "\n",
       "    .dataframe thead th {\n",
       "        text-align: right;\n",
       "    }\n",
       "</style>\n",
       "<table border=\"1\" class=\"dataframe\">\n",
       "  <thead>\n",
       "    <tr style=\"text-align: right;\">\n",
       "      <th></th>\n",
       "      <th>Date</th>\n",
       "      <th>Username</th>\n",
       "      <th>VideoID</th>\n",
       "      <th>Comment</th>\n",
       "      <th>Lang</th>\n",
       "    </tr>\n",
       "  </thead>\n",
       "  <tbody>\n",
       "    <tr>\n",
       "      <th>0</th>\n",
       "      <td>2024-01-27T05:19:58Z</td>\n",
       "      <td>@JeffSaturSATS</td>\n",
       "      <td>qguo-j5PxBE</td>\n",
       "      <td>Yellow leaf is falling …. On 8 February</td>\n",
       "      <td>en</td>\n",
       "    </tr>\n",
       "    <tr>\n",
       "      <th>1</th>\n",
       "      <td>2024-01-27T05:39:49Z</td>\n",
       "      <td>@minesatur</td>\n",
       "      <td>qguo-j5PxBE</td>\n",
       "      <td>WHAT??????</td>\n",
       "      <td>sw</td>\n",
       "    </tr>\n",
       "    <tr>\n",
       "      <th>2</th>\n",
       "      <td>2024-01-27T05:39:56Z</td>\n",
       "      <td>@minesatur</td>\n",
       "      <td>qguo-j5PxBE</td>\n",
       "      <td>JEFF, COME HERE NOW</td>\n",
       "      <td>vi</td>\n",
       "    </tr>\n",
       "    <tr>\n",
       "      <th>3</th>\n",
       "      <td>2024-01-27T05:40:06Z</td>\n",
       "      <td>@minesatur</td>\n",
       "      <td>qguo-j5PxBE</td>\n",
       "      <td>OMGGGGG, I CAN'T BELIEVE IT</td>\n",
       "      <td>en</td>\n",
       "    </tr>\n",
       "    <tr>\n",
       "      <th>4</th>\n",
       "      <td>2024-01-27T05:45:04Z</td>\n",
       "      <td>@เงี่ยนเลยต้องYes</td>\n",
       "      <td>qguo-j5PxBE</td>\n",
       "      <td>A new song?</td>\n",
       "      <td>tl</td>\n",
       "    </tr>\n",
       "    <tr>\n",
       "      <th>...</th>\n",
       "      <td>...</td>\n",
       "      <td>...</td>\n",
       "      <td>...</td>\n",
       "      <td>...</td>\n",
       "      <td>...</td>\n",
       "    </tr>\n",
       "    <tr>\n",
       "      <th>14003</th>\n",
       "      <td>2024-01-18T11:08:21Z</td>\n",
       "      <td>@simran850</td>\n",
       "      <td>qguo-j5PxBE</td>\n",
       "      <td>Angles are real cause in no way humans have su...</td>\n",
       "      <td>en</td>\n",
       "    </tr>\n",
       "    <tr>\n",
       "      <th>14004</th>\n",
       "      <td>2024-01-18T11:31:26Z</td>\n",
       "      <td>@himawarinohara1628</td>\n",
       "      <td>qguo-j5PxBE</td>\n",
       "      <td>And humans can't be as beautiful as him😭❤️</td>\n",
       "      <td>en</td>\n",
       "    </tr>\n",
       "    <tr>\n",
       "      <th>14005</th>\n",
       "      <td>2024-04-18T01:22:23Z</td>\n",
       "      <td>@simran850</td>\n",
       "      <td>qguo-j5PxBE</td>\n",
       "      <td>​@@himawarinohara1628 😭😭😭truest words ever</td>\n",
       "      <td>en</td>\n",
       "    </tr>\n",
       "    <tr>\n",
       "      <th>14006</th>\n",
       "      <td>2024-04-18T01:22:23Z</td>\n",
       "      <td>@cafe.atlantis</td>\n",
       "      <td>qguo-j5PxBE</td>\n",
       "      <td>@@himawarinohara1628 his doctors did well, bee...</td>\n",
       "      <td>en</td>\n",
       "    </tr>\n",
       "    <tr>\n",
       "      <th>14007</th>\n",
       "      <td>2024-06-01T00:41:04Z</td>\n",
       "      <td>@chanidapornguensri</td>\n",
       "      <td>qguo-j5PxBE</td>\n",
       "      <td>​@@simran850😢❤😢😢😢😢😢😢😢😢😢😢😢😢😢😢😢😢😢😢😢😢😢😢😢😢😢😢🎆☄️🫔🫔🫔...</td>\n",
       "      <td>Other</td>\n",
       "    </tr>\n",
       "  </tbody>\n",
       "</table>\n",
       "<p>14008 rows × 5 columns</p>\n",
       "</div>"
      ],
      "text/plain": [
       "                       Date             Username      VideoID  \\\n",
       "0      2024-01-27T05:19:58Z       @JeffSaturSATS  qguo-j5PxBE   \n",
       "1      2024-01-27T05:39:49Z           @minesatur  qguo-j5PxBE   \n",
       "2      2024-01-27T05:39:56Z           @minesatur  qguo-j5PxBE   \n",
       "3      2024-01-27T05:40:06Z           @minesatur  qguo-j5PxBE   \n",
       "4      2024-01-27T05:45:04Z    @เงี่ยนเลยต้องYes  qguo-j5PxBE   \n",
       "...                     ...                  ...          ...   \n",
       "14003  2024-01-18T11:08:21Z           @simran850  qguo-j5PxBE   \n",
       "14004  2024-01-18T11:31:26Z  @himawarinohara1628  qguo-j5PxBE   \n",
       "14005  2024-04-18T01:22:23Z           @simran850  qguo-j5PxBE   \n",
       "14006  2024-04-18T01:22:23Z       @cafe.atlantis  qguo-j5PxBE   \n",
       "14007  2024-06-01T00:41:04Z  @chanidapornguensri  qguo-j5PxBE   \n",
       "\n",
       "                                                 Comment   Lang  \n",
       "0                Yellow leaf is falling …. On 8 February     en  \n",
       "1                                             WHAT??????     sw  \n",
       "2                                    JEFF, COME HERE NOW     vi  \n",
       "3                            OMGGGGG, I CAN'T BELIEVE IT     en  \n",
       "4                                            A new song?     tl  \n",
       "...                                                  ...    ...  \n",
       "14003  Angles are real cause in no way humans have su...     en  \n",
       "14004         And humans can't be as beautiful as him😭❤️     en  \n",
       "14005         ​@@himawarinohara1628 😭😭😭truest words ever     en  \n",
       "14006  @@himawarinohara1628 his doctors did well, bee...     en  \n",
       "14007  ​@@simran850😢❤😢😢😢😢😢😢😢😢😢😢😢😢😢😢😢😢😢😢😢😢😢😢😢😢😢😢🎆☄️🫔🫔🫔...  Other  \n",
       "\n",
       "[14008 rows x 5 columns]"
      ]
     },
     "execution_count": 6,
     "metadata": {},
     "output_type": "execute_result"
    }
   ],
   "source": [
    "df_inter1"
   ]
  },
  {
   "cell_type": "code",
   "execution_count": 7,
   "metadata": {},
   "outputs": [
    {
     "data": {
      "text/html": [
       "<div>\n",
       "<style scoped>\n",
       "    .dataframe tbody tr th:only-of-type {\n",
       "        vertical-align: middle;\n",
       "    }\n",
       "\n",
       "    .dataframe tbody tr th {\n",
       "        vertical-align: top;\n",
       "    }\n",
       "\n",
       "    .dataframe thead th {\n",
       "        text-align: right;\n",
       "    }\n",
       "</style>\n",
       "<table border=\"1\" class=\"dataframe\">\n",
       "  <thead>\n",
       "    <tr style=\"text-align: right;\">\n",
       "      <th></th>\n",
       "      <th>Lang</th>\n",
       "      <th>Count</th>\n",
       "    </tr>\n",
       "  </thead>\n",
       "  <tbody>\n",
       "    <tr>\n",
       "      <th>36</th>\n",
       "      <td>th</td>\n",
       "      <td>7013</td>\n",
       "    </tr>\n",
       "    <tr>\n",
       "      <th>0</th>\n",
       "      <td>Other</td>\n",
       "      <td>2506</td>\n",
       "    </tr>\n",
       "    <tr>\n",
       "      <th>9</th>\n",
       "      <td>en</td>\n",
       "      <td>2423</td>\n",
       "    </tr>\n",
       "    <tr>\n",
       "      <th>10</th>\n",
       "      <td>es</td>\n",
       "      <td>419</td>\n",
       "    </tr>\n",
       "    <tr>\n",
       "      <th>27</th>\n",
       "      <td>pt</td>\n",
       "      <td>229</td>\n",
       "    </tr>\n",
       "    <tr>\n",
       "      <th>11</th>\n",
       "      <td>et</td>\n",
       "      <td>123</td>\n",
       "    </tr>\n",
       "    <tr>\n",
       "      <th>29</th>\n",
       "      <td>ru</td>\n",
       "      <td>120</td>\n",
       "    </tr>\n",
       "    <tr>\n",
       "      <th>17</th>\n",
       "      <td>id</td>\n",
       "      <td>104</td>\n",
       "    </tr>\n",
       "    <tr>\n",
       "      <th>14</th>\n",
       "      <td>fr</td>\n",
       "      <td>101</td>\n",
       "    </tr>\n",
       "    <tr>\n",
       "      <th>32</th>\n",
       "      <td>so</td>\n",
       "      <td>96</td>\n",
       "    </tr>\n",
       "    <tr>\n",
       "      <th>8</th>\n",
       "      <td>de</td>\n",
       "      <td>91</td>\n",
       "    </tr>\n",
       "    <tr>\n",
       "      <th>37</th>\n",
       "      <td>tl</td>\n",
       "      <td>82</td>\n",
       "    </tr>\n",
       "    <tr>\n",
       "      <th>35</th>\n",
       "      <td>sw</td>\n",
       "      <td>74</td>\n",
       "    </tr>\n",
       "    <tr>\n",
       "      <th>40</th>\n",
       "      <td>vi</td>\n",
       "      <td>53</td>\n",
       "    </tr>\n",
       "    <tr>\n",
       "      <th>18</th>\n",
       "      <td>it</td>\n",
       "      <td>50</td>\n",
       "    </tr>\n",
       "    <tr>\n",
       "      <th>6</th>\n",
       "      <td>cy</td>\n",
       "      <td>48</td>\n",
       "    </tr>\n",
       "    <tr>\n",
       "      <th>26</th>\n",
       "      <td>pl</td>\n",
       "      <td>44</td>\n",
       "    </tr>\n",
       "    <tr>\n",
       "      <th>31</th>\n",
       "      <td>sl</td>\n",
       "      <td>40</td>\n",
       "    </tr>\n",
       "    <tr>\n",
       "      <th>24</th>\n",
       "      <td>nl</td>\n",
       "      <td>36</td>\n",
       "    </tr>\n",
       "    <tr>\n",
       "      <th>28</th>\n",
       "      <td>ro</td>\n",
       "      <td>36</td>\n",
       "    </tr>\n",
       "    <tr>\n",
       "      <th>1</th>\n",
       "      <td>af</td>\n",
       "      <td>34</td>\n",
       "    </tr>\n",
       "    <tr>\n",
       "      <th>4</th>\n",
       "      <td>ca</td>\n",
       "      <td>31</td>\n",
       "    </tr>\n",
       "    <tr>\n",
       "      <th>38</th>\n",
       "      <td>tr</td>\n",
       "      <td>23</td>\n",
       "    </tr>\n",
       "    <tr>\n",
       "      <th>21</th>\n",
       "      <td>ko</td>\n",
       "      <td>22</td>\n",
       "    </tr>\n",
       "    <tr>\n",
       "      <th>25</th>\n",
       "      <td>no</td>\n",
       "      <td>20</td>\n",
       "    </tr>\n",
       "    <tr>\n",
       "      <th>7</th>\n",
       "      <td>da</td>\n",
       "      <td>19</td>\n",
       "    </tr>\n",
       "    <tr>\n",
       "      <th>16</th>\n",
       "      <td>hu</td>\n",
       "      <td>19</td>\n",
       "    </tr>\n",
       "    <tr>\n",
       "      <th>41</th>\n",
       "      <td>zh-cn</td>\n",
       "      <td>17</td>\n",
       "    </tr>\n",
       "    <tr>\n",
       "      <th>30</th>\n",
       "      <td>sk</td>\n",
       "      <td>16</td>\n",
       "    </tr>\n",
       "    <tr>\n",
       "      <th>15</th>\n",
       "      <td>hr</td>\n",
       "      <td>16</td>\n",
       "    </tr>\n",
       "    <tr>\n",
       "      <th>33</th>\n",
       "      <td>sq</td>\n",
       "      <td>15</td>\n",
       "    </tr>\n",
       "    <tr>\n",
       "      <th>13</th>\n",
       "      <td>fi</td>\n",
       "      <td>11</td>\n",
       "    </tr>\n",
       "    <tr>\n",
       "      <th>2</th>\n",
       "      <td>ar</td>\n",
       "      <td>9</td>\n",
       "    </tr>\n",
       "    <tr>\n",
       "      <th>34</th>\n",
       "      <td>sv</td>\n",
       "      <td>9</td>\n",
       "    </tr>\n",
       "    <tr>\n",
       "      <th>39</th>\n",
       "      <td>uk</td>\n",
       "      <td>8</td>\n",
       "    </tr>\n",
       "    <tr>\n",
       "      <th>5</th>\n",
       "      <td>cs</td>\n",
       "      <td>8</td>\n",
       "    </tr>\n",
       "    <tr>\n",
       "      <th>23</th>\n",
       "      <td>mk</td>\n",
       "      <td>8</td>\n",
       "    </tr>\n",
       "    <tr>\n",
       "      <th>19</th>\n",
       "      <td>ja</td>\n",
       "      <td>8</td>\n",
       "    </tr>\n",
       "    <tr>\n",
       "      <th>3</th>\n",
       "      <td>bg</td>\n",
       "      <td>7</td>\n",
       "    </tr>\n",
       "    <tr>\n",
       "      <th>42</th>\n",
       "      <td>zh-tw</td>\n",
       "      <td>6</td>\n",
       "    </tr>\n",
       "    <tr>\n",
       "      <th>12</th>\n",
       "      <td>fa</td>\n",
       "      <td>4</td>\n",
       "    </tr>\n",
       "    <tr>\n",
       "      <th>22</th>\n",
       "      <td>lt</td>\n",
       "      <td>4</td>\n",
       "    </tr>\n",
       "    <tr>\n",
       "      <th>20</th>\n",
       "      <td>kn</td>\n",
       "      <td>1</td>\n",
       "    </tr>\n",
       "  </tbody>\n",
       "</table>\n",
       "</div>"
      ],
      "text/plain": [
       "     Lang  Count\n",
       "36     th   7013\n",
       "0   Other   2506\n",
       "9      en   2423\n",
       "10     es    419\n",
       "27     pt    229\n",
       "11     et    123\n",
       "29     ru    120\n",
       "17     id    104\n",
       "14     fr    101\n",
       "32     so     96\n",
       "8      de     91\n",
       "37     tl     82\n",
       "35     sw     74\n",
       "40     vi     53\n",
       "18     it     50\n",
       "6      cy     48\n",
       "26     pl     44\n",
       "31     sl     40\n",
       "24     nl     36\n",
       "28     ro     36\n",
       "1      af     34\n",
       "4      ca     31\n",
       "38     tr     23\n",
       "21     ko     22\n",
       "25     no     20\n",
       "7      da     19\n",
       "16     hu     19\n",
       "41  zh-cn     17\n",
       "30     sk     16\n",
       "15     hr     16\n",
       "33     sq     15\n",
       "13     fi     11\n",
       "2      ar      9\n",
       "34     sv      9\n",
       "39     uk      8\n",
       "5      cs      8\n",
       "23     mk      8\n",
       "19     ja      8\n",
       "3      bg      7\n",
       "42  zh-tw      6\n",
       "12     fa      4\n",
       "22     lt      4\n",
       "20     kn      1"
      ]
     },
     "execution_count": 7,
     "metadata": {},
     "output_type": "execute_result"
    }
   ],
   "source": [
    "df = df_inter1.groupby(['Lang'])['Comment'].count().reset_index(name='Count').sort_values(['Count'], ascending=False)\n",
    "df"
   ]
  },
  {
   "cell_type": "code",
   "execution_count": null,
   "metadata": {},
   "outputs": [
    {
     "data": {
      "text/html": [
       "<div>\n",
       "<style scoped>\n",
       "    .dataframe tbody tr th:only-of-type {\n",
       "        vertical-align: middle;\n",
       "    }\n",
       "\n",
       "    .dataframe tbody tr th {\n",
       "        vertical-align: top;\n",
       "    }\n",
       "\n",
       "    .dataframe thead th {\n",
       "        text-align: right;\n",
       "    }\n",
       "</style>\n",
       "<table border=\"1\" class=\"dataframe\">\n",
       "  <thead>\n",
       "    <tr style=\"text-align: right;\">\n",
       "      <th></th>\n",
       "      <th>Date</th>\n",
       "      <th>Username</th>\n",
       "      <th>VideoID</th>\n",
       "      <th>Comment</th>\n",
       "    </tr>\n",
       "  </thead>\n",
       "  <tbody>\n",
       "    <tr>\n",
       "      <th>0</th>\n",
       "      <td>2024-01-27T05:19:58Z</td>\n",
       "      <td>@JeffSaturSATS</td>\n",
       "      <td>qguo-j5PxBE</td>\n",
       "      <td>Yellow leaf is falling …. On 8 February</td>\n",
       "    </tr>\n",
       "    <tr>\n",
       "      <th>1</th>\n",
       "      <td>2024-01-27T05:39:49Z</td>\n",
       "      <td>@minesatur</td>\n",
       "      <td>qguo-j5PxBE</td>\n",
       "      <td>WHAT??????</td>\n",
       "    </tr>\n",
       "    <tr>\n",
       "      <th>2</th>\n",
       "      <td>2024-01-27T05:39:56Z</td>\n",
       "      <td>@minesatur</td>\n",
       "      <td>qguo-j5PxBE</td>\n",
       "      <td>JEFF, COME HERE NOW</td>\n",
       "    </tr>\n",
       "    <tr>\n",
       "      <th>3</th>\n",
       "      <td>2024-01-27T05:40:06Z</td>\n",
       "      <td>@minesatur</td>\n",
       "      <td>qguo-j5PxBE</td>\n",
       "      <td>OMGGGGG, I CAN'T BELIEVE IT</td>\n",
       "    </tr>\n",
       "    <tr>\n",
       "      <th>4</th>\n",
       "      <td>2024-01-27T05:45:04Z</td>\n",
       "      <td>@เงี่ยนเลยต้องYes</td>\n",
       "      <td>qguo-j5PxBE</td>\n",
       "      <td>A new song?</td>\n",
       "    </tr>\n",
       "    <tr>\n",
       "      <th>...</th>\n",
       "      <td>...</td>\n",
       "      <td>...</td>\n",
       "      <td>...</td>\n",
       "      <td>...</td>\n",
       "    </tr>\n",
       "    <tr>\n",
       "      <th>14003</th>\n",
       "      <td>2024-01-18T11:08:21Z</td>\n",
       "      <td>@simran850</td>\n",
       "      <td>qguo-j5PxBE</td>\n",
       "      <td>Angles are real cause in no way humans have su...</td>\n",
       "    </tr>\n",
       "    <tr>\n",
       "      <th>14004</th>\n",
       "      <td>2024-01-18T11:31:26Z</td>\n",
       "      <td>@himawarinohara1628</td>\n",
       "      <td>qguo-j5PxBE</td>\n",
       "      <td>And humans can't be as beautiful as him😭❤️</td>\n",
       "    </tr>\n",
       "    <tr>\n",
       "      <th>14005</th>\n",
       "      <td>2024-04-18T01:22:23Z</td>\n",
       "      <td>@simran850</td>\n",
       "      <td>qguo-j5PxBE</td>\n",
       "      <td>​@@himawarinohara1628 😭😭😭truest words ever</td>\n",
       "    </tr>\n",
       "    <tr>\n",
       "      <th>14006</th>\n",
       "      <td>2024-04-18T01:22:23Z</td>\n",
       "      <td>@cafe.atlantis</td>\n",
       "      <td>qguo-j5PxBE</td>\n",
       "      <td>@@himawarinohara1628 his doctors did well, bee...</td>\n",
       "    </tr>\n",
       "    <tr>\n",
       "      <th>14007</th>\n",
       "      <td>2024-06-01T00:41:04Z</td>\n",
       "      <td>@chanidapornguensri</td>\n",
       "      <td>qguo-j5PxBE</td>\n",
       "      <td>​@@simran850😢❤😢😢😢😢😢😢😢😢😢😢😢😢😢😢😢😢😢😢😢😢😢😢😢😢😢😢🎆☄️🫔🫔🫔...</td>\n",
       "    </tr>\n",
       "  </tbody>\n",
       "</table>\n",
       "<p>14008 rows × 4 columns</p>\n",
       "</div>"
      ],
      "text/plain": [
       "                       Date             Username      VideoID  \\\n",
       "0      2024-01-27T05:19:58Z       @JeffSaturSATS  qguo-j5PxBE   \n",
       "1      2024-01-27T05:39:49Z           @minesatur  qguo-j5PxBE   \n",
       "2      2024-01-27T05:39:56Z           @minesatur  qguo-j5PxBE   \n",
       "3      2024-01-27T05:40:06Z           @minesatur  qguo-j5PxBE   \n",
       "4      2024-01-27T05:45:04Z    @เงี่ยนเลยต้องYes  qguo-j5PxBE   \n",
       "...                     ...                  ...          ...   \n",
       "14003  2024-01-18T11:08:21Z           @simran850  qguo-j5PxBE   \n",
       "14004  2024-01-18T11:31:26Z  @himawarinohara1628  qguo-j5PxBE   \n",
       "14005  2024-04-18T01:22:23Z           @simran850  qguo-j5PxBE   \n",
       "14006  2024-04-18T01:22:23Z       @cafe.atlantis  qguo-j5PxBE   \n",
       "14007  2024-06-01T00:41:04Z  @chanidapornguensri  qguo-j5PxBE   \n",
       "\n",
       "                                                 Comment  \n",
       "0                Yellow leaf is falling …. On 8 February  \n",
       "1                                             WHAT??????  \n",
       "2                                    JEFF, COME HERE NOW  \n",
       "3                            OMGGGGG, I CAN'T BELIEVE IT  \n",
       "4                                            A new song?  \n",
       "...                                                  ...  \n",
       "14003  Angles are real cause in no way humans have su...  \n",
       "14004         And humans can't be as beautiful as him😭❤️  \n",
       "14005         ​@@himawarinohara1628 😭😭😭truest words ever  \n",
       "14006  @@himawarinohara1628 his doctors did well, bee...  \n",
       "14007  ​@@simran850😢❤😢😢😢😢😢😢😢😢😢😢😢😢😢😢😢😢😢😢😢😢😢😢😢😢😢😢🎆☄️🫔🫔🫔...  \n",
       "\n",
       "[14008 rows x 4 columns]"
      ]
     },
     "metadata": {},
     "output_type": "display_data"
    }
   ],
   "source": [
    "df_inter1.drop(['Timestamp'], axis=1,inplace=True)\n",
    "df_inter1 = df_inter1.iloc[:,[3,0,1,2]]\n",
    "df_inter1"
   ]
  },
  {
   "cell_type": "code",
   "execution_count": null,
   "metadata": {},
   "outputs": [],
   "source": [
    "from langdetect import detect\n",
    "def det(x):\n",
    "    try:\n",
    "        lang = detect(x)\n",
    "    except:\n",
    "        lang = 'Other'\n",
    "    return lang\n",
    "\n",
    "df_inter1['Lang'] = df_inter1['Comment'].apply(det)"
   ]
  },
  {
   "cell_type": "code",
   "execution_count": null,
   "metadata": {},
   "outputs": [
    {
     "data": {
      "text/html": [
       "<div>\n",
       "<style scoped>\n",
       "    .dataframe tbody tr th:only-of-type {\n",
       "        vertical-align: middle;\n",
       "    }\n",
       "\n",
       "    .dataframe tbody tr th {\n",
       "        vertical-align: top;\n",
       "    }\n",
       "\n",
       "    .dataframe thead th {\n",
       "        text-align: right;\n",
       "    }\n",
       "</style>\n",
       "<table border=\"1\" class=\"dataframe\">\n",
       "  <thead>\n",
       "    <tr style=\"text-align: right;\">\n",
       "      <th></th>\n",
       "      <th>Date</th>\n",
       "      <th>Username</th>\n",
       "      <th>VideoID</th>\n",
       "      <th>Comment</th>\n",
       "      <th>Lang</th>\n",
       "    </tr>\n",
       "  </thead>\n",
       "  <tbody>\n",
       "    <tr>\n",
       "      <th>0</th>\n",
       "      <td>2024-01-27T05:19:58Z</td>\n",
       "      <td>@JeffSaturSATS</td>\n",
       "      <td>qguo-j5PxBE</td>\n",
       "      <td>Yellow leaf is falling …. On 8 February</td>\n",
       "      <td>en</td>\n",
       "    </tr>\n",
       "    <tr>\n",
       "      <th>1</th>\n",
       "      <td>2024-01-27T05:39:49Z</td>\n",
       "      <td>@minesatur</td>\n",
       "      <td>qguo-j5PxBE</td>\n",
       "      <td>WHAT??????</td>\n",
       "      <td>sw</td>\n",
       "    </tr>\n",
       "    <tr>\n",
       "      <th>2</th>\n",
       "      <td>2024-01-27T05:39:56Z</td>\n",
       "      <td>@minesatur</td>\n",
       "      <td>qguo-j5PxBE</td>\n",
       "      <td>JEFF, COME HERE NOW</td>\n",
       "      <td>vi</td>\n",
       "    </tr>\n",
       "    <tr>\n",
       "      <th>3</th>\n",
       "      <td>2024-01-27T05:40:06Z</td>\n",
       "      <td>@minesatur</td>\n",
       "      <td>qguo-j5PxBE</td>\n",
       "      <td>OMGGGGG, I CAN'T BELIEVE IT</td>\n",
       "      <td>en</td>\n",
       "    </tr>\n",
       "    <tr>\n",
       "      <th>4</th>\n",
       "      <td>2024-01-27T05:45:04Z</td>\n",
       "      <td>@เงี่ยนเลยต้องYes</td>\n",
       "      <td>qguo-j5PxBE</td>\n",
       "      <td>A new song?</td>\n",
       "      <td>tl</td>\n",
       "    </tr>\n",
       "    <tr>\n",
       "      <th>...</th>\n",
       "      <td>...</td>\n",
       "      <td>...</td>\n",
       "      <td>...</td>\n",
       "      <td>...</td>\n",
       "      <td>...</td>\n",
       "    </tr>\n",
       "    <tr>\n",
       "      <th>14003</th>\n",
       "      <td>2024-01-18T11:08:21Z</td>\n",
       "      <td>@simran850</td>\n",
       "      <td>qguo-j5PxBE</td>\n",
       "      <td>Angles are real cause in no way humans have su...</td>\n",
       "      <td>en</td>\n",
       "    </tr>\n",
       "    <tr>\n",
       "      <th>14004</th>\n",
       "      <td>2024-01-18T11:31:26Z</td>\n",
       "      <td>@himawarinohara1628</td>\n",
       "      <td>qguo-j5PxBE</td>\n",
       "      <td>And humans can't be as beautiful as him😭❤️</td>\n",
       "      <td>en</td>\n",
       "    </tr>\n",
       "    <tr>\n",
       "      <th>14005</th>\n",
       "      <td>2024-04-18T01:22:23Z</td>\n",
       "      <td>@simran850</td>\n",
       "      <td>qguo-j5PxBE</td>\n",
       "      <td>​@@himawarinohara1628 😭😭😭truest words ever</td>\n",
       "      <td>en</td>\n",
       "    </tr>\n",
       "    <tr>\n",
       "      <th>14006</th>\n",
       "      <td>2024-04-18T01:22:23Z</td>\n",
       "      <td>@cafe.atlantis</td>\n",
       "      <td>qguo-j5PxBE</td>\n",
       "      <td>@@himawarinohara1628 his doctors did well, bee...</td>\n",
       "      <td>en</td>\n",
       "    </tr>\n",
       "    <tr>\n",
       "      <th>14007</th>\n",
       "      <td>2024-06-01T00:41:04Z</td>\n",
       "      <td>@chanidapornguensri</td>\n",
       "      <td>qguo-j5PxBE</td>\n",
       "      <td>​@@simran850😢❤😢😢😢😢😢😢😢😢😢😢😢😢😢😢😢😢😢😢😢😢😢😢😢😢😢😢🎆☄️🫔🫔🫔...</td>\n",
       "      <td>Other</td>\n",
       "    </tr>\n",
       "  </tbody>\n",
       "</table>\n",
       "<p>14008 rows × 5 columns</p>\n",
       "</div>"
      ],
      "text/plain": [
       "                       Date             Username      VideoID  \\\n",
       "0      2024-01-27T05:19:58Z       @JeffSaturSATS  qguo-j5PxBE   \n",
       "1      2024-01-27T05:39:49Z           @minesatur  qguo-j5PxBE   \n",
       "2      2024-01-27T05:39:56Z           @minesatur  qguo-j5PxBE   \n",
       "3      2024-01-27T05:40:06Z           @minesatur  qguo-j5PxBE   \n",
       "4      2024-01-27T05:45:04Z    @เงี่ยนเลยต้องYes  qguo-j5PxBE   \n",
       "...                     ...                  ...          ...   \n",
       "14003  2024-01-18T11:08:21Z           @simran850  qguo-j5PxBE   \n",
       "14004  2024-01-18T11:31:26Z  @himawarinohara1628  qguo-j5PxBE   \n",
       "14005  2024-04-18T01:22:23Z           @simran850  qguo-j5PxBE   \n",
       "14006  2024-04-18T01:22:23Z       @cafe.atlantis  qguo-j5PxBE   \n",
       "14007  2024-06-01T00:41:04Z  @chanidapornguensri  qguo-j5PxBE   \n",
       "\n",
       "                                                 Comment   Lang  \n",
       "0                Yellow leaf is falling …. On 8 February     en  \n",
       "1                                             WHAT??????     sw  \n",
       "2                                    JEFF, COME HERE NOW     vi  \n",
       "3                            OMGGGGG, I CAN'T BELIEVE IT     en  \n",
       "4                                            A new song?     tl  \n",
       "...                                                  ...    ...  \n",
       "14003  Angles are real cause in no way humans have su...     en  \n",
       "14004         And humans can't be as beautiful as him😭❤️     en  \n",
       "14005         ​@@himawarinohara1628 😭😭😭truest words ever     en  \n",
       "14006  @@himawarinohara1628 his doctors did well, bee...     en  \n",
       "14007  ​@@simran850😢❤😢😢😢😢😢😢😢😢😢😢😢😢😢😢😢😢😢😢😢😢😢😢😢😢😢😢🎆☄️🫔🫔🫔...  Other  \n",
       "\n",
       "[14008 rows x 5 columns]"
      ]
     },
     "metadata": {},
     "output_type": "display_data"
    }
   ],
   "source": [
    "df_inter1"
   ]
  },
  {
   "cell_type": "code",
   "execution_count": null,
   "metadata": {},
   "outputs": [
    {
     "data": {
      "text/html": [
       "<div>\n",
       "<style scoped>\n",
       "    .dataframe tbody tr th:only-of-type {\n",
       "        vertical-align: middle;\n",
       "    }\n",
       "\n",
       "    .dataframe tbody tr th {\n",
       "        vertical-align: top;\n",
       "    }\n",
       "\n",
       "    .dataframe thead th {\n",
       "        text-align: right;\n",
       "    }\n",
       "</style>\n",
       "<table border=\"1\" class=\"dataframe\">\n",
       "  <thead>\n",
       "    <tr style=\"text-align: right;\">\n",
       "      <th></th>\n",
       "      <th>Lang</th>\n",
       "      <th>Count</th>\n",
       "    </tr>\n",
       "  </thead>\n",
       "  <tbody>\n",
       "    <tr>\n",
       "      <th>36</th>\n",
       "      <td>th</td>\n",
       "      <td>7013</td>\n",
       "    </tr>\n",
       "    <tr>\n",
       "      <th>0</th>\n",
       "      <td>Other</td>\n",
       "      <td>2506</td>\n",
       "    </tr>\n",
       "    <tr>\n",
       "      <th>9</th>\n",
       "      <td>en</td>\n",
       "      <td>2423</td>\n",
       "    </tr>\n",
       "    <tr>\n",
       "      <th>10</th>\n",
       "      <td>es</td>\n",
       "      <td>419</td>\n",
       "    </tr>\n",
       "    <tr>\n",
       "      <th>27</th>\n",
       "      <td>pt</td>\n",
       "      <td>229</td>\n",
       "    </tr>\n",
       "    <tr>\n",
       "      <th>11</th>\n",
       "      <td>et</td>\n",
       "      <td>123</td>\n",
       "    </tr>\n",
       "    <tr>\n",
       "      <th>29</th>\n",
       "      <td>ru</td>\n",
       "      <td>120</td>\n",
       "    </tr>\n",
       "    <tr>\n",
       "      <th>17</th>\n",
       "      <td>id</td>\n",
       "      <td>104</td>\n",
       "    </tr>\n",
       "    <tr>\n",
       "      <th>14</th>\n",
       "      <td>fr</td>\n",
       "      <td>101</td>\n",
       "    </tr>\n",
       "    <tr>\n",
       "      <th>32</th>\n",
       "      <td>so</td>\n",
       "      <td>96</td>\n",
       "    </tr>\n",
       "    <tr>\n",
       "      <th>8</th>\n",
       "      <td>de</td>\n",
       "      <td>91</td>\n",
       "    </tr>\n",
       "    <tr>\n",
       "      <th>37</th>\n",
       "      <td>tl</td>\n",
       "      <td>82</td>\n",
       "    </tr>\n",
       "    <tr>\n",
       "      <th>35</th>\n",
       "      <td>sw</td>\n",
       "      <td>74</td>\n",
       "    </tr>\n",
       "    <tr>\n",
       "      <th>40</th>\n",
       "      <td>vi</td>\n",
       "      <td>53</td>\n",
       "    </tr>\n",
       "    <tr>\n",
       "      <th>18</th>\n",
       "      <td>it</td>\n",
       "      <td>50</td>\n",
       "    </tr>\n",
       "    <tr>\n",
       "      <th>6</th>\n",
       "      <td>cy</td>\n",
       "      <td>48</td>\n",
       "    </tr>\n",
       "    <tr>\n",
       "      <th>26</th>\n",
       "      <td>pl</td>\n",
       "      <td>44</td>\n",
       "    </tr>\n",
       "    <tr>\n",
       "      <th>31</th>\n",
       "      <td>sl</td>\n",
       "      <td>40</td>\n",
       "    </tr>\n",
       "    <tr>\n",
       "      <th>24</th>\n",
       "      <td>nl</td>\n",
       "      <td>36</td>\n",
       "    </tr>\n",
       "    <tr>\n",
       "      <th>28</th>\n",
       "      <td>ro</td>\n",
       "      <td>36</td>\n",
       "    </tr>\n",
       "    <tr>\n",
       "      <th>1</th>\n",
       "      <td>af</td>\n",
       "      <td>34</td>\n",
       "    </tr>\n",
       "    <tr>\n",
       "      <th>4</th>\n",
       "      <td>ca</td>\n",
       "      <td>31</td>\n",
       "    </tr>\n",
       "    <tr>\n",
       "      <th>38</th>\n",
       "      <td>tr</td>\n",
       "      <td>23</td>\n",
       "    </tr>\n",
       "    <tr>\n",
       "      <th>21</th>\n",
       "      <td>ko</td>\n",
       "      <td>22</td>\n",
       "    </tr>\n",
       "    <tr>\n",
       "      <th>25</th>\n",
       "      <td>no</td>\n",
       "      <td>20</td>\n",
       "    </tr>\n",
       "    <tr>\n",
       "      <th>7</th>\n",
       "      <td>da</td>\n",
       "      <td>19</td>\n",
       "    </tr>\n",
       "    <tr>\n",
       "      <th>16</th>\n",
       "      <td>hu</td>\n",
       "      <td>19</td>\n",
       "    </tr>\n",
       "    <tr>\n",
       "      <th>41</th>\n",
       "      <td>zh-cn</td>\n",
       "      <td>17</td>\n",
       "    </tr>\n",
       "    <tr>\n",
       "      <th>30</th>\n",
       "      <td>sk</td>\n",
       "      <td>16</td>\n",
       "    </tr>\n",
       "    <tr>\n",
       "      <th>15</th>\n",
       "      <td>hr</td>\n",
       "      <td>16</td>\n",
       "    </tr>\n",
       "    <tr>\n",
       "      <th>33</th>\n",
       "      <td>sq</td>\n",
       "      <td>15</td>\n",
       "    </tr>\n",
       "    <tr>\n",
       "      <th>13</th>\n",
       "      <td>fi</td>\n",
       "      <td>11</td>\n",
       "    </tr>\n",
       "    <tr>\n",
       "      <th>2</th>\n",
       "      <td>ar</td>\n",
       "      <td>9</td>\n",
       "    </tr>\n",
       "    <tr>\n",
       "      <th>34</th>\n",
       "      <td>sv</td>\n",
       "      <td>9</td>\n",
       "    </tr>\n",
       "    <tr>\n",
       "      <th>39</th>\n",
       "      <td>uk</td>\n",
       "      <td>8</td>\n",
       "    </tr>\n",
       "    <tr>\n",
       "      <th>5</th>\n",
       "      <td>cs</td>\n",
       "      <td>8</td>\n",
       "    </tr>\n",
       "    <tr>\n",
       "      <th>23</th>\n",
       "      <td>mk</td>\n",
       "      <td>8</td>\n",
       "    </tr>\n",
       "    <tr>\n",
       "      <th>19</th>\n",
       "      <td>ja</td>\n",
       "      <td>8</td>\n",
       "    </tr>\n",
       "    <tr>\n",
       "      <th>3</th>\n",
       "      <td>bg</td>\n",
       "      <td>7</td>\n",
       "    </tr>\n",
       "    <tr>\n",
       "      <th>42</th>\n",
       "      <td>zh-tw</td>\n",
       "      <td>6</td>\n",
       "    </tr>\n",
       "    <tr>\n",
       "      <th>12</th>\n",
       "      <td>fa</td>\n",
       "      <td>4</td>\n",
       "    </tr>\n",
       "    <tr>\n",
       "      <th>22</th>\n",
       "      <td>lt</td>\n",
       "      <td>4</td>\n",
       "    </tr>\n",
       "    <tr>\n",
       "      <th>20</th>\n",
       "      <td>kn</td>\n",
       "      <td>1</td>\n",
       "    </tr>\n",
       "  </tbody>\n",
       "</table>\n",
       "</div>"
      ],
      "text/plain": [
       "     Lang  Count\n",
       "36     th   7013\n",
       "0   Other   2506\n",
       "9      en   2423\n",
       "10     es    419\n",
       "27     pt    229\n",
       "11     et    123\n",
       "29     ru    120\n",
       "17     id    104\n",
       "14     fr    101\n",
       "32     so     96\n",
       "8      de     91\n",
       "37     tl     82\n",
       "35     sw     74\n",
       "40     vi     53\n",
       "18     it     50\n",
       "6      cy     48\n",
       "26     pl     44\n",
       "31     sl     40\n",
       "24     nl     36\n",
       "28     ro     36\n",
       "1      af     34\n",
       "4      ca     31\n",
       "38     tr     23\n",
       "21     ko     22\n",
       "25     no     20\n",
       "7      da     19\n",
       "16     hu     19\n",
       "41  zh-cn     17\n",
       "30     sk     16\n",
       "15     hr     16\n",
       "33     sq     15\n",
       "13     fi     11\n",
       "2      ar      9\n",
       "34     sv      9\n",
       "39     uk      8\n",
       "5      cs      8\n",
       "23     mk      8\n",
       "19     ja      8\n",
       "3      bg      7\n",
       "42  zh-tw      6\n",
       "12     fa      4\n",
       "22     lt      4\n",
       "20     kn      1"
      ]
     },
     "metadata": {},
     "output_type": "display_data"
    }
   ],
   "source": [
    "df = df_inter1.groupby(['Lang'])['Comment'].count().reset_index(name='Count').sort_values(['Count'], ascending=False)\n",
    "df"
   ]
  },
  {
   "cell_type": "code",
   "execution_count": 8,
   "metadata": {},
   "outputs": [
    {
     "data": {
      "application/vnd.plotly.v1+json": {
       "config": {
        "plotlyServerURL": "https://plot.ly"
       },
       "data": [
        {
         "domain": {
          "x": [
           0,
           1
          ],
          "y": [
           0,
           1
          ]
         },
         "hovertemplate": "Lang=%{label}<br>Count=%{value}<extra></extra>",
         "labels": [
          "th",
          "Other",
          "en",
          "es",
          "pt",
          "et",
          "ru",
          "id",
          "fr",
          "so",
          "de",
          "tl",
          "sw",
          "vi",
          "it",
          "cy",
          "pl",
          "sl",
          "nl",
          "ro",
          "af",
          "ca",
          "tr",
          "ko",
          "no",
          "da",
          "hu",
          "zh-cn",
          "sk",
          "hr",
          "sq",
          "fi",
          "ar",
          "sv",
          "uk",
          "cs",
          "mk",
          "ja",
          "bg",
          "zh-tw",
          "fa",
          "lt",
          "kn"
         ],
         "legendgroup": "",
         "name": "",
         "showlegend": true,
         "textposition": "inside",
         "type": "pie",
         "values": [
          7013,
          2506,
          2423,
          419,
          229,
          123,
          120,
          104,
          101,
          96,
          91,
          82,
          74,
          53,
          50,
          48,
          44,
          40,
          36,
          36,
          34,
          31,
          23,
          22,
          20,
          19,
          19,
          17,
          16,
          16,
          15,
          11,
          9,
          9,
          8,
          8,
          8,
          8,
          7,
          6,
          4,
          4,
          1
         ]
        }
       ],
       "layout": {
        "legend": {
         "tracegroupgap": 0
        },
        "template": {
         "data": {
          "bar": [
           {
            "error_x": {
             "color": "#2a3f5f"
            },
            "error_y": {
             "color": "#2a3f5f"
            },
            "marker": {
             "line": {
              "color": "#E5ECF6",
              "width": 0.5
             },
             "pattern": {
              "fillmode": "overlay",
              "size": 10,
              "solidity": 0.2
             }
            },
            "type": "bar"
           }
          ],
          "barpolar": [
           {
            "marker": {
             "line": {
              "color": "#E5ECF6",
              "width": 0.5
             },
             "pattern": {
              "fillmode": "overlay",
              "size": 10,
              "solidity": 0.2
             }
            },
            "type": "barpolar"
           }
          ],
          "carpet": [
           {
            "aaxis": {
             "endlinecolor": "#2a3f5f",
             "gridcolor": "white",
             "linecolor": "white",
             "minorgridcolor": "white",
             "startlinecolor": "#2a3f5f"
            },
            "baxis": {
             "endlinecolor": "#2a3f5f",
             "gridcolor": "white",
             "linecolor": "white",
             "minorgridcolor": "white",
             "startlinecolor": "#2a3f5f"
            },
            "type": "carpet"
           }
          ],
          "choropleth": [
           {
            "colorbar": {
             "outlinewidth": 0,
             "ticks": ""
            },
            "type": "choropleth"
           }
          ],
          "contour": [
           {
            "colorbar": {
             "outlinewidth": 0,
             "ticks": ""
            },
            "colorscale": [
             [
              0,
              "#0d0887"
             ],
             [
              0.1111111111111111,
              "#46039f"
             ],
             [
              0.2222222222222222,
              "#7201a8"
             ],
             [
              0.3333333333333333,
              "#9c179e"
             ],
             [
              0.4444444444444444,
              "#bd3786"
             ],
             [
              0.5555555555555556,
              "#d8576b"
             ],
             [
              0.6666666666666666,
              "#ed7953"
             ],
             [
              0.7777777777777778,
              "#fb9f3a"
             ],
             [
              0.8888888888888888,
              "#fdca26"
             ],
             [
              1,
              "#f0f921"
             ]
            ],
            "type": "contour"
           }
          ],
          "contourcarpet": [
           {
            "colorbar": {
             "outlinewidth": 0,
             "ticks": ""
            },
            "type": "contourcarpet"
           }
          ],
          "heatmap": [
           {
            "colorbar": {
             "outlinewidth": 0,
             "ticks": ""
            },
            "colorscale": [
             [
              0,
              "#0d0887"
             ],
             [
              0.1111111111111111,
              "#46039f"
             ],
             [
              0.2222222222222222,
              "#7201a8"
             ],
             [
              0.3333333333333333,
              "#9c179e"
             ],
             [
              0.4444444444444444,
              "#bd3786"
             ],
             [
              0.5555555555555556,
              "#d8576b"
             ],
             [
              0.6666666666666666,
              "#ed7953"
             ],
             [
              0.7777777777777778,
              "#fb9f3a"
             ],
             [
              0.8888888888888888,
              "#fdca26"
             ],
             [
              1,
              "#f0f921"
             ]
            ],
            "type": "heatmap"
           }
          ],
          "heatmapgl": [
           {
            "colorbar": {
             "outlinewidth": 0,
             "ticks": ""
            },
            "colorscale": [
             [
              0,
              "#0d0887"
             ],
             [
              0.1111111111111111,
              "#46039f"
             ],
             [
              0.2222222222222222,
              "#7201a8"
             ],
             [
              0.3333333333333333,
              "#9c179e"
             ],
             [
              0.4444444444444444,
              "#bd3786"
             ],
             [
              0.5555555555555556,
              "#d8576b"
             ],
             [
              0.6666666666666666,
              "#ed7953"
             ],
             [
              0.7777777777777778,
              "#fb9f3a"
             ],
             [
              0.8888888888888888,
              "#fdca26"
             ],
             [
              1,
              "#f0f921"
             ]
            ],
            "type": "heatmapgl"
           }
          ],
          "histogram": [
           {
            "marker": {
             "pattern": {
              "fillmode": "overlay",
              "size": 10,
              "solidity": 0.2
             }
            },
            "type": "histogram"
           }
          ],
          "histogram2d": [
           {
            "colorbar": {
             "outlinewidth": 0,
             "ticks": ""
            },
            "colorscale": [
             [
              0,
              "#0d0887"
             ],
             [
              0.1111111111111111,
              "#46039f"
             ],
             [
              0.2222222222222222,
              "#7201a8"
             ],
             [
              0.3333333333333333,
              "#9c179e"
             ],
             [
              0.4444444444444444,
              "#bd3786"
             ],
             [
              0.5555555555555556,
              "#d8576b"
             ],
             [
              0.6666666666666666,
              "#ed7953"
             ],
             [
              0.7777777777777778,
              "#fb9f3a"
             ],
             [
              0.8888888888888888,
              "#fdca26"
             ],
             [
              1,
              "#f0f921"
             ]
            ],
            "type": "histogram2d"
           }
          ],
          "histogram2dcontour": [
           {
            "colorbar": {
             "outlinewidth": 0,
             "ticks": ""
            },
            "colorscale": [
             [
              0,
              "#0d0887"
             ],
             [
              0.1111111111111111,
              "#46039f"
             ],
             [
              0.2222222222222222,
              "#7201a8"
             ],
             [
              0.3333333333333333,
              "#9c179e"
             ],
             [
              0.4444444444444444,
              "#bd3786"
             ],
             [
              0.5555555555555556,
              "#d8576b"
             ],
             [
              0.6666666666666666,
              "#ed7953"
             ],
             [
              0.7777777777777778,
              "#fb9f3a"
             ],
             [
              0.8888888888888888,
              "#fdca26"
             ],
             [
              1,
              "#f0f921"
             ]
            ],
            "type": "histogram2dcontour"
           }
          ],
          "mesh3d": [
           {
            "colorbar": {
             "outlinewidth": 0,
             "ticks": ""
            },
            "type": "mesh3d"
           }
          ],
          "parcoords": [
           {
            "line": {
             "colorbar": {
              "outlinewidth": 0,
              "ticks": ""
             }
            },
            "type": "parcoords"
           }
          ],
          "pie": [
           {
            "automargin": true,
            "type": "pie"
           }
          ],
          "scatter": [
           {
            "fillpattern": {
             "fillmode": "overlay",
             "size": 10,
             "solidity": 0.2
            },
            "type": "scatter"
           }
          ],
          "scatter3d": [
           {
            "line": {
             "colorbar": {
              "outlinewidth": 0,
              "ticks": ""
             }
            },
            "marker": {
             "colorbar": {
              "outlinewidth": 0,
              "ticks": ""
             }
            },
            "type": "scatter3d"
           }
          ],
          "scattercarpet": [
           {
            "marker": {
             "colorbar": {
              "outlinewidth": 0,
              "ticks": ""
             }
            },
            "type": "scattercarpet"
           }
          ],
          "scattergeo": [
           {
            "marker": {
             "colorbar": {
              "outlinewidth": 0,
              "ticks": ""
             }
            },
            "type": "scattergeo"
           }
          ],
          "scattergl": [
           {
            "marker": {
             "colorbar": {
              "outlinewidth": 0,
              "ticks": ""
             }
            },
            "type": "scattergl"
           }
          ],
          "scattermapbox": [
           {
            "marker": {
             "colorbar": {
              "outlinewidth": 0,
              "ticks": ""
             }
            },
            "type": "scattermapbox"
           }
          ],
          "scatterpolar": [
           {
            "marker": {
             "colorbar": {
              "outlinewidth": 0,
              "ticks": ""
             }
            },
            "type": "scatterpolar"
           }
          ],
          "scatterpolargl": [
           {
            "marker": {
             "colorbar": {
              "outlinewidth": 0,
              "ticks": ""
             }
            },
            "type": "scatterpolargl"
           }
          ],
          "scatterternary": [
           {
            "marker": {
             "colorbar": {
              "outlinewidth": 0,
              "ticks": ""
             }
            },
            "type": "scatterternary"
           }
          ],
          "surface": [
           {
            "colorbar": {
             "outlinewidth": 0,
             "ticks": ""
            },
            "colorscale": [
             [
              0,
              "#0d0887"
             ],
             [
              0.1111111111111111,
              "#46039f"
             ],
             [
              0.2222222222222222,
              "#7201a8"
             ],
             [
              0.3333333333333333,
              "#9c179e"
             ],
             [
              0.4444444444444444,
              "#bd3786"
             ],
             [
              0.5555555555555556,
              "#d8576b"
             ],
             [
              0.6666666666666666,
              "#ed7953"
             ],
             [
              0.7777777777777778,
              "#fb9f3a"
             ],
             [
              0.8888888888888888,
              "#fdca26"
             ],
             [
              1,
              "#f0f921"
             ]
            ],
            "type": "surface"
           }
          ],
          "table": [
           {
            "cells": {
             "fill": {
              "color": "#EBF0F8"
             },
             "line": {
              "color": "white"
             }
            },
            "header": {
             "fill": {
              "color": "#C8D4E3"
             },
             "line": {
              "color": "white"
             }
            },
            "type": "table"
           }
          ]
         },
         "layout": {
          "annotationdefaults": {
           "arrowcolor": "#2a3f5f",
           "arrowhead": 0,
           "arrowwidth": 1
          },
          "autotypenumbers": "strict",
          "coloraxis": {
           "colorbar": {
            "outlinewidth": 0,
            "ticks": ""
           }
          },
          "colorscale": {
           "diverging": [
            [
             0,
             "#8e0152"
            ],
            [
             0.1,
             "#c51b7d"
            ],
            [
             0.2,
             "#de77ae"
            ],
            [
             0.3,
             "#f1b6da"
            ],
            [
             0.4,
             "#fde0ef"
            ],
            [
             0.5,
             "#f7f7f7"
            ],
            [
             0.6,
             "#e6f5d0"
            ],
            [
             0.7,
             "#b8e186"
            ],
            [
             0.8,
             "#7fbc41"
            ],
            [
             0.9,
             "#4d9221"
            ],
            [
             1,
             "#276419"
            ]
           ],
           "sequential": [
            [
             0,
             "#0d0887"
            ],
            [
             0.1111111111111111,
             "#46039f"
            ],
            [
             0.2222222222222222,
             "#7201a8"
            ],
            [
             0.3333333333333333,
             "#9c179e"
            ],
            [
             0.4444444444444444,
             "#bd3786"
            ],
            [
             0.5555555555555556,
             "#d8576b"
            ],
            [
             0.6666666666666666,
             "#ed7953"
            ],
            [
             0.7777777777777778,
             "#fb9f3a"
            ],
            [
             0.8888888888888888,
             "#fdca26"
            ],
            [
             1,
             "#f0f921"
            ]
           ],
           "sequentialminus": [
            [
             0,
             "#0d0887"
            ],
            [
             0.1111111111111111,
             "#46039f"
            ],
            [
             0.2222222222222222,
             "#7201a8"
            ],
            [
             0.3333333333333333,
             "#9c179e"
            ],
            [
             0.4444444444444444,
             "#bd3786"
            ],
            [
             0.5555555555555556,
             "#d8576b"
            ],
            [
             0.6666666666666666,
             "#ed7953"
            ],
            [
             0.7777777777777778,
             "#fb9f3a"
            ],
            [
             0.8888888888888888,
             "#fdca26"
            ],
            [
             1,
             "#f0f921"
            ]
           ]
          },
          "colorway": [
           "#636efa",
           "#EF553B",
           "#00cc96",
           "#ab63fa",
           "#FFA15A",
           "#19d3f3",
           "#FF6692",
           "#B6E880",
           "#FF97FF",
           "#FECB52"
          ],
          "font": {
           "color": "#2a3f5f"
          },
          "geo": {
           "bgcolor": "white",
           "lakecolor": "white",
           "landcolor": "#E5ECF6",
           "showlakes": true,
           "showland": true,
           "subunitcolor": "white"
          },
          "hoverlabel": {
           "align": "left"
          },
          "hovermode": "closest",
          "mapbox": {
           "style": "light"
          },
          "paper_bgcolor": "white",
          "plot_bgcolor": "#E5ECF6",
          "polar": {
           "angularaxis": {
            "gridcolor": "white",
            "linecolor": "white",
            "ticks": ""
           },
           "bgcolor": "#E5ECF6",
           "radialaxis": {
            "gridcolor": "white",
            "linecolor": "white",
            "ticks": ""
           }
          },
          "scene": {
           "xaxis": {
            "backgroundcolor": "#E5ECF6",
            "gridcolor": "white",
            "gridwidth": 2,
            "linecolor": "white",
            "showbackground": true,
            "ticks": "",
            "zerolinecolor": "white"
           },
           "yaxis": {
            "backgroundcolor": "#E5ECF6",
            "gridcolor": "white",
            "gridwidth": 2,
            "linecolor": "white",
            "showbackground": true,
            "ticks": "",
            "zerolinecolor": "white"
           },
           "zaxis": {
            "backgroundcolor": "#E5ECF6",
            "gridcolor": "white",
            "gridwidth": 2,
            "linecolor": "white",
            "showbackground": true,
            "ticks": "",
            "zerolinecolor": "white"
           }
          },
          "shapedefaults": {
           "line": {
            "color": "#2a3f5f"
           }
          },
          "ternary": {
           "aaxis": {
            "gridcolor": "white",
            "linecolor": "white",
            "ticks": ""
           },
           "baxis": {
            "gridcolor": "white",
            "linecolor": "white",
            "ticks": ""
           },
           "bgcolor": "#E5ECF6",
           "caxis": {
            "gridcolor": "white",
            "linecolor": "white",
            "ticks": ""
           }
          },
          "title": {
           "x": 0.05
          },
          "xaxis": {
           "automargin": true,
           "gridcolor": "white",
           "linecolor": "white",
           "ticks": "",
           "title": {
            "standoff": 15
           },
           "zerolinecolor": "white",
           "zerolinewidth": 2
          },
          "yaxis": {
           "automargin": true,
           "gridcolor": "white",
           "linecolor": "white",
           "ticks": "",
           "title": {
            "standoff": 15
           },
           "zerolinecolor": "white",
           "zerolinewidth": 2
          }
         }
        },
        "title": {
         "text": "ซ่อน (ไม่) หา"
        },
        "uniformtext": {
         "minsize": 12,
         "mode": "hide"
        }
       }
      }
     },
     "metadata": {},
     "output_type": "display_data"
    }
   ],
   "source": [
    "fig = px.pie(df, values='Count', names='Lang',title='ซ่อน (ไม่) หา')\n",
    "fig.update_traces(textposition='inside')\n",
    "fig.update_layout(uniformtext_minsize=12, uniformtext_mode='hide')\n",
    "fig.show()"
   ]
  },
  {
   "cell_type": "code",
   "execution_count": 9,
   "metadata": {},
   "outputs": [],
   "source": [
    "df_inter2 = pd.read_csv(\"ดาวหางฮัลเลย์ .csv\", index_col=0)"
   ]
  },
  {
   "cell_type": "code",
   "execution_count": 10,
   "metadata": {},
   "outputs": [
    {
     "data": {
      "text/html": [
       "<div>\n",
       "<style scoped>\n",
       "    .dataframe tbody tr th:only-of-type {\n",
       "        vertical-align: middle;\n",
       "    }\n",
       "\n",
       "    .dataframe tbody tr th {\n",
       "        vertical-align: top;\n",
       "    }\n",
       "\n",
       "    .dataframe thead th {\n",
       "        text-align: right;\n",
       "    }\n",
       "</style>\n",
       "<table border=\"1\" class=\"dataframe\">\n",
       "  <thead>\n",
       "    <tr style=\"text-align: right;\">\n",
       "      <th></th>\n",
       "      <th>Timestamp</th>\n",
       "      <th>Username</th>\n",
       "      <th>VideoID</th>\n",
       "      <th>Comment</th>\n",
       "      <th>Date</th>\n",
       "      <th>Lang</th>\n",
       "    </tr>\n",
       "  </thead>\n",
       "  <tbody>\n",
       "    <tr>\n",
       "      <th>0</th>\n",
       "      <td>2023-08-30T08:43:44Z</td>\n",
       "      <td>@fellowfellowband</td>\n",
       "      <td>WtcKJtwMD2E</td>\n",
       "      <td>ฟังเพลงของพวกเราได้แล้ววันนี้ในทุกช่องทาง stre...</td>\n",
       "      <td>2023-08-30T08:43:43Z</td>\n",
       "      <td>th</td>\n",
       "    </tr>\n",
       "    <tr>\n",
       "      <th>1</th>\n",
       "      <td>2023-09-08T10:54:08Z</td>\n",
       "      <td>@phoudkeomanee2464</td>\n",
       "      <td>WtcKJtwMD2E</td>\n",
       "      <td>I’m so happy</td>\n",
       "      <td>2023-09-08T10:54:07Z</td>\n",
       "      <td>tl</td>\n",
       "    </tr>\n",
       "    <tr>\n",
       "      <th>2</th>\n",
       "      <td>2023-09-12T05:13:09Z</td>\n",
       "      <td>@adenxisp7620</td>\n",
       "      <td>WtcKJtwMD2E</td>\n",
       "      <td>บงงป</td>\n",
       "      <td>2023-09-12T05:13:08Z</td>\n",
       "      <td>th</td>\n",
       "    </tr>\n",
       "    <tr>\n",
       "      <th>3</th>\n",
       "      <td>2023-09-13T02:00:56Z</td>\n",
       "      <td>@orapankhaunkhay9398</td>\n",
       "      <td>WtcKJtwMD2E</td>\n",
       "      <td>โอ้โหหหห 2 อาทิตย์ 4 ล้านวิว</td>\n",
       "      <td>2023-09-13T02:00:55Z</td>\n",
       "      <td>th</td>\n",
       "    </tr>\n",
       "    <tr>\n",
       "      <th>4</th>\n",
       "      <td>2023-09-13T03:27:51Z</td>\n",
       "      <td>@ชวนชวน-ฐ8ฆ</td>\n",
       "      <td>WtcKJtwMD2E</td>\n",
       "      <td>​</td>\n",
       "      <td>2023-09-13T03:27:50Z</td>\n",
       "      <td>Other</td>\n",
       "    </tr>\n",
       "    <tr>\n",
       "      <th>...</th>\n",
       "      <td>...</td>\n",
       "      <td>...</td>\n",
       "      <td>...</td>\n",
       "      <td>...</td>\n",
       "      <td>...</td>\n",
       "      <td>...</td>\n",
       "    </tr>\n",
       "    <tr>\n",
       "      <th>6734</th>\n",
       "      <td>2023-08-29T11:15:56Z</td>\n",
       "      <td>@haizaz</td>\n",
       "      <td>WtcKJtwMD2E</td>\n",
       "      <td>😢😢😢😢😢</td>\n",
       "      <td>2023-08-29T11:15:56Z</td>\n",
       "      <td>Other</td>\n",
       "    </tr>\n",
       "    <tr>\n",
       "      <th>6735</th>\n",
       "      <td>2023-08-29T11:13:15Z</td>\n",
       "      <td>@user-iu1bt9on4b</td>\n",
       "      <td>WtcKJtwMD2E</td>\n",
       "      <td>เพราะมากก😭🫶</td>\n",
       "      <td>2023-08-29T11:13:15Z</td>\n",
       "      <td>th</td>\n",
       "    </tr>\n",
       "    <tr>\n",
       "      <th>6736</th>\n",
       "      <td>2023-08-29T11:09:08Z</td>\n",
       "      <td>@fahthanita2512</td>\n",
       "      <td>WtcKJtwMD2E</td>\n",
       "      <td>🫶🏻🌟</td>\n",
       "      <td>2023-08-29T11:09:07Z</td>\n",
       "      <td>Other</td>\n",
       "    </tr>\n",
       "    <tr>\n",
       "      <th>6737</th>\n",
       "      <td>2023-08-29T10:42:11Z</td>\n",
       "      <td>@zozein21</td>\n",
       "      <td>WtcKJtwMD2E</td>\n",
       "      <td>อยู่กับฉันไปนานๆนะเธอ🌌💙</td>\n",
       "      <td>2023-08-29T10:42:11Z</td>\n",
       "      <td>th</td>\n",
       "    </tr>\n",
       "    <tr>\n",
       "      <th>6738</th>\n",
       "      <td>2023-08-29T10:33:06Z</td>\n",
       "      <td>@preeyanitlertudomthana9749</td>\n",
       "      <td>WtcKJtwMD2E</td>\n",
       "      <td>รอคอยผลงานเยี่ยมๆๆเลยอยากฟังมากๆ</td>\n",
       "      <td>2023-08-29T10:33:05Z</td>\n",
       "      <td>th</td>\n",
       "    </tr>\n",
       "  </tbody>\n",
       "</table>\n",
       "<p>6739 rows × 6 columns</p>\n",
       "</div>"
      ],
      "text/plain": [
       "                 Timestamp                     Username      VideoID  \\\n",
       "0     2023-08-30T08:43:44Z            @fellowfellowband  WtcKJtwMD2E   \n",
       "1     2023-09-08T10:54:08Z           @phoudkeomanee2464  WtcKJtwMD2E   \n",
       "2     2023-09-12T05:13:09Z                @adenxisp7620  WtcKJtwMD2E   \n",
       "3     2023-09-13T02:00:56Z         @orapankhaunkhay9398  WtcKJtwMD2E   \n",
       "4     2023-09-13T03:27:51Z                  @ชวนชวน-ฐ8ฆ  WtcKJtwMD2E   \n",
       "...                    ...                          ...          ...   \n",
       "6734  2023-08-29T11:15:56Z                      @haizaz  WtcKJtwMD2E   \n",
       "6735  2023-08-29T11:13:15Z             @user-iu1bt9on4b  WtcKJtwMD2E   \n",
       "6736  2023-08-29T11:09:08Z              @fahthanita2512  WtcKJtwMD2E   \n",
       "6737  2023-08-29T10:42:11Z                    @zozein21  WtcKJtwMD2E   \n",
       "6738  2023-08-29T10:33:06Z  @preeyanitlertudomthana9749  WtcKJtwMD2E   \n",
       "\n",
       "                                                Comment                  Date  \\\n",
       "0     ฟังเพลงของพวกเราได้แล้ววันนี้ในทุกช่องทาง stre...  2023-08-30T08:43:43Z   \n",
       "1                                          I’m so happy  2023-09-08T10:54:07Z   \n",
       "2                                                  บงงป  2023-09-12T05:13:08Z   \n",
       "3                          โอ้โหหหห 2 อาทิตย์ 4 ล้านวิว  2023-09-13T02:00:55Z   \n",
       "4                                                     ​  2023-09-13T03:27:50Z   \n",
       "...                                                 ...                   ...   \n",
       "6734                                              😢😢😢😢😢  2023-08-29T11:15:56Z   \n",
       "6735                                        เพราะมากก😭🫶  2023-08-29T11:13:15Z   \n",
       "6736                                                🫶🏻🌟  2023-08-29T11:09:07Z   \n",
       "6737                            อยู่กับฉันไปนานๆนะเธอ🌌💙  2023-08-29T10:42:11Z   \n",
       "6738                   รอคอยผลงานเยี่ยมๆๆเลยอยากฟังมากๆ  2023-08-29T10:33:05Z   \n",
       "\n",
       "       Lang  \n",
       "0        th  \n",
       "1        tl  \n",
       "2        th  \n",
       "3        th  \n",
       "4     Other  \n",
       "...     ...  \n",
       "6734  Other  \n",
       "6735     th  \n",
       "6736  Other  \n",
       "6737     th  \n",
       "6738     th  \n",
       "\n",
       "[6739 rows x 6 columns]"
      ]
     },
     "execution_count": 10,
     "metadata": {},
     "output_type": "execute_result"
    }
   ],
   "source": [
    "df_inter2"
   ]
  },
  {
   "cell_type": "code",
   "execution_count": 11,
   "metadata": {},
   "outputs": [
    {
     "data": {
      "text/html": [
       "<div>\n",
       "<style scoped>\n",
       "    .dataframe tbody tr th:only-of-type {\n",
       "        vertical-align: middle;\n",
       "    }\n",
       "\n",
       "    .dataframe tbody tr th {\n",
       "        vertical-align: top;\n",
       "    }\n",
       "\n",
       "    .dataframe thead th {\n",
       "        text-align: right;\n",
       "    }\n",
       "</style>\n",
       "<table border=\"1\" class=\"dataframe\">\n",
       "  <thead>\n",
       "    <tr style=\"text-align: right;\">\n",
       "      <th></th>\n",
       "      <th>Date</th>\n",
       "      <th>Username</th>\n",
       "      <th>VideoID</th>\n",
       "      <th>Comment</th>\n",
       "    </tr>\n",
       "  </thead>\n",
       "  <tbody>\n",
       "    <tr>\n",
       "      <th>0</th>\n",
       "      <td>2023-08-30T08:43:43Z</td>\n",
       "      <td>@fellowfellowband</td>\n",
       "      <td>WtcKJtwMD2E</td>\n",
       "      <td>ฟังเพลงของพวกเราได้แล้ววันนี้ในทุกช่องทาง stre...</td>\n",
       "    </tr>\n",
       "    <tr>\n",
       "      <th>1</th>\n",
       "      <td>2023-09-08T10:54:07Z</td>\n",
       "      <td>@phoudkeomanee2464</td>\n",
       "      <td>WtcKJtwMD2E</td>\n",
       "      <td>I’m so happy</td>\n",
       "    </tr>\n",
       "    <tr>\n",
       "      <th>2</th>\n",
       "      <td>2023-09-12T05:13:08Z</td>\n",
       "      <td>@adenxisp7620</td>\n",
       "      <td>WtcKJtwMD2E</td>\n",
       "      <td>บงงป</td>\n",
       "    </tr>\n",
       "    <tr>\n",
       "      <th>3</th>\n",
       "      <td>2023-09-13T02:00:55Z</td>\n",
       "      <td>@orapankhaunkhay9398</td>\n",
       "      <td>WtcKJtwMD2E</td>\n",
       "      <td>โอ้โหหหห 2 อาทิตย์ 4 ล้านวิว</td>\n",
       "    </tr>\n",
       "    <tr>\n",
       "      <th>4</th>\n",
       "      <td>2023-09-13T03:27:50Z</td>\n",
       "      <td>@ชวนชวน-ฐ8ฆ</td>\n",
       "      <td>WtcKJtwMD2E</td>\n",
       "      <td>​</td>\n",
       "    </tr>\n",
       "    <tr>\n",
       "      <th>...</th>\n",
       "      <td>...</td>\n",
       "      <td>...</td>\n",
       "      <td>...</td>\n",
       "      <td>...</td>\n",
       "    </tr>\n",
       "    <tr>\n",
       "      <th>6734</th>\n",
       "      <td>2023-08-29T11:15:56Z</td>\n",
       "      <td>@haizaz</td>\n",
       "      <td>WtcKJtwMD2E</td>\n",
       "      <td>😢😢😢😢😢</td>\n",
       "    </tr>\n",
       "    <tr>\n",
       "      <th>6735</th>\n",
       "      <td>2023-08-29T11:13:15Z</td>\n",
       "      <td>@user-iu1bt9on4b</td>\n",
       "      <td>WtcKJtwMD2E</td>\n",
       "      <td>เพราะมากก😭🫶</td>\n",
       "    </tr>\n",
       "    <tr>\n",
       "      <th>6736</th>\n",
       "      <td>2023-08-29T11:09:07Z</td>\n",
       "      <td>@fahthanita2512</td>\n",
       "      <td>WtcKJtwMD2E</td>\n",
       "      <td>🫶🏻🌟</td>\n",
       "    </tr>\n",
       "    <tr>\n",
       "      <th>6737</th>\n",
       "      <td>2023-08-29T10:42:11Z</td>\n",
       "      <td>@zozein21</td>\n",
       "      <td>WtcKJtwMD2E</td>\n",
       "      <td>อยู่กับฉันไปนานๆนะเธอ🌌💙</td>\n",
       "    </tr>\n",
       "    <tr>\n",
       "      <th>6738</th>\n",
       "      <td>2023-08-29T10:33:05Z</td>\n",
       "      <td>@preeyanitlertudomthana9749</td>\n",
       "      <td>WtcKJtwMD2E</td>\n",
       "      <td>รอคอยผลงานเยี่ยมๆๆเลยอยากฟังมากๆ</td>\n",
       "    </tr>\n",
       "  </tbody>\n",
       "</table>\n",
       "<p>6739 rows × 4 columns</p>\n",
       "</div>"
      ],
      "text/plain": [
       "                      Date                     Username      VideoID  \\\n",
       "0     2023-08-30T08:43:43Z            @fellowfellowband  WtcKJtwMD2E   \n",
       "1     2023-09-08T10:54:07Z           @phoudkeomanee2464  WtcKJtwMD2E   \n",
       "2     2023-09-12T05:13:08Z                @adenxisp7620  WtcKJtwMD2E   \n",
       "3     2023-09-13T02:00:55Z         @orapankhaunkhay9398  WtcKJtwMD2E   \n",
       "4     2023-09-13T03:27:50Z                  @ชวนชวน-ฐ8ฆ  WtcKJtwMD2E   \n",
       "...                    ...                          ...          ...   \n",
       "6734  2023-08-29T11:15:56Z                      @haizaz  WtcKJtwMD2E   \n",
       "6735  2023-08-29T11:13:15Z             @user-iu1bt9on4b  WtcKJtwMD2E   \n",
       "6736  2023-08-29T11:09:07Z              @fahthanita2512  WtcKJtwMD2E   \n",
       "6737  2023-08-29T10:42:11Z                    @zozein21  WtcKJtwMD2E   \n",
       "6738  2023-08-29T10:33:05Z  @preeyanitlertudomthana9749  WtcKJtwMD2E   \n",
       "\n",
       "                                                Comment  \n",
       "0     ฟังเพลงของพวกเราได้แล้ววันนี้ในทุกช่องทาง stre...  \n",
       "1                                          I’m so happy  \n",
       "2                                                  บงงป  \n",
       "3                          โอ้โหหหห 2 อาทิตย์ 4 ล้านวิว  \n",
       "4                                                     ​  \n",
       "...                                                 ...  \n",
       "6734                                              😢😢😢😢😢  \n",
       "6735                                        เพราะมากก😭🫶  \n",
       "6736                                                🫶🏻🌟  \n",
       "6737                            อยู่กับฉันไปนานๆนะเธอ🌌💙  \n",
       "6738                   รอคอยผลงานเยี่ยมๆๆเลยอยากฟังมากๆ  \n",
       "\n",
       "[6739 rows x 4 columns]"
      ]
     },
     "execution_count": 11,
     "metadata": {},
     "output_type": "execute_result"
    }
   ],
   "source": [
    "df_inter2.drop(['Timestamp'], axis=1,inplace=True)\n",
    "df_inter2 = df_inter2.iloc[:,[3,0,1,2]]\n",
    "df_inter2"
   ]
  },
  {
   "cell_type": "code",
   "execution_count": 12,
   "metadata": {},
   "outputs": [],
   "source": [
    "from langdetect import detect\n",
    "def det(x):\n",
    "    try:\n",
    "        lang = detect(x)\n",
    "    except:\n",
    "        lang = 'Other'\n",
    "    return lang\n",
    "\n",
    "df_inter2['Lang'] = df_inter2['Comment'].apply(det)"
   ]
  },
  {
   "cell_type": "code",
   "execution_count": 13,
   "metadata": {},
   "outputs": [
    {
     "data": {
      "text/html": [
       "<div>\n",
       "<style scoped>\n",
       "    .dataframe tbody tr th:only-of-type {\n",
       "        vertical-align: middle;\n",
       "    }\n",
       "\n",
       "    .dataframe tbody tr th {\n",
       "        vertical-align: top;\n",
       "    }\n",
       "\n",
       "    .dataframe thead th {\n",
       "        text-align: right;\n",
       "    }\n",
       "</style>\n",
       "<table border=\"1\" class=\"dataframe\">\n",
       "  <thead>\n",
       "    <tr style=\"text-align: right;\">\n",
       "      <th></th>\n",
       "      <th>Date</th>\n",
       "      <th>Username</th>\n",
       "      <th>VideoID</th>\n",
       "      <th>Comment</th>\n",
       "      <th>Lang</th>\n",
       "    </tr>\n",
       "  </thead>\n",
       "  <tbody>\n",
       "    <tr>\n",
       "      <th>0</th>\n",
       "      <td>2023-08-30T08:43:43Z</td>\n",
       "      <td>@fellowfellowband</td>\n",
       "      <td>WtcKJtwMD2E</td>\n",
       "      <td>ฟังเพลงของพวกเราได้แล้ววันนี้ในทุกช่องทาง stre...</td>\n",
       "      <td>th</td>\n",
       "    </tr>\n",
       "    <tr>\n",
       "      <th>1</th>\n",
       "      <td>2023-09-08T10:54:07Z</td>\n",
       "      <td>@phoudkeomanee2464</td>\n",
       "      <td>WtcKJtwMD2E</td>\n",
       "      <td>I’m so happy</td>\n",
       "      <td>tl</td>\n",
       "    </tr>\n",
       "    <tr>\n",
       "      <th>2</th>\n",
       "      <td>2023-09-12T05:13:08Z</td>\n",
       "      <td>@adenxisp7620</td>\n",
       "      <td>WtcKJtwMD2E</td>\n",
       "      <td>บงงป</td>\n",
       "      <td>th</td>\n",
       "    </tr>\n",
       "    <tr>\n",
       "      <th>3</th>\n",
       "      <td>2023-09-13T02:00:55Z</td>\n",
       "      <td>@orapankhaunkhay9398</td>\n",
       "      <td>WtcKJtwMD2E</td>\n",
       "      <td>โอ้โหหหห 2 อาทิตย์ 4 ล้านวิว</td>\n",
       "      <td>th</td>\n",
       "    </tr>\n",
       "    <tr>\n",
       "      <th>4</th>\n",
       "      <td>2023-09-13T03:27:50Z</td>\n",
       "      <td>@ชวนชวน-ฐ8ฆ</td>\n",
       "      <td>WtcKJtwMD2E</td>\n",
       "      <td>​</td>\n",
       "      <td>Other</td>\n",
       "    </tr>\n",
       "    <tr>\n",
       "      <th>...</th>\n",
       "      <td>...</td>\n",
       "      <td>...</td>\n",
       "      <td>...</td>\n",
       "      <td>...</td>\n",
       "      <td>...</td>\n",
       "    </tr>\n",
       "    <tr>\n",
       "      <th>6734</th>\n",
       "      <td>2023-08-29T11:15:56Z</td>\n",
       "      <td>@haizaz</td>\n",
       "      <td>WtcKJtwMD2E</td>\n",
       "      <td>😢😢😢😢😢</td>\n",
       "      <td>Other</td>\n",
       "    </tr>\n",
       "    <tr>\n",
       "      <th>6735</th>\n",
       "      <td>2023-08-29T11:13:15Z</td>\n",
       "      <td>@user-iu1bt9on4b</td>\n",
       "      <td>WtcKJtwMD2E</td>\n",
       "      <td>เพราะมากก😭🫶</td>\n",
       "      <td>th</td>\n",
       "    </tr>\n",
       "    <tr>\n",
       "      <th>6736</th>\n",
       "      <td>2023-08-29T11:09:07Z</td>\n",
       "      <td>@fahthanita2512</td>\n",
       "      <td>WtcKJtwMD2E</td>\n",
       "      <td>🫶🏻🌟</td>\n",
       "      <td>Other</td>\n",
       "    </tr>\n",
       "    <tr>\n",
       "      <th>6737</th>\n",
       "      <td>2023-08-29T10:42:11Z</td>\n",
       "      <td>@zozein21</td>\n",
       "      <td>WtcKJtwMD2E</td>\n",
       "      <td>อยู่กับฉันไปนานๆนะเธอ🌌💙</td>\n",
       "      <td>th</td>\n",
       "    </tr>\n",
       "    <tr>\n",
       "      <th>6738</th>\n",
       "      <td>2023-08-29T10:33:05Z</td>\n",
       "      <td>@preeyanitlertudomthana9749</td>\n",
       "      <td>WtcKJtwMD2E</td>\n",
       "      <td>รอคอยผลงานเยี่ยมๆๆเลยอยากฟังมากๆ</td>\n",
       "      <td>th</td>\n",
       "    </tr>\n",
       "  </tbody>\n",
       "</table>\n",
       "<p>6739 rows × 5 columns</p>\n",
       "</div>"
      ],
      "text/plain": [
       "                      Date                     Username      VideoID  \\\n",
       "0     2023-08-30T08:43:43Z            @fellowfellowband  WtcKJtwMD2E   \n",
       "1     2023-09-08T10:54:07Z           @phoudkeomanee2464  WtcKJtwMD2E   \n",
       "2     2023-09-12T05:13:08Z                @adenxisp7620  WtcKJtwMD2E   \n",
       "3     2023-09-13T02:00:55Z         @orapankhaunkhay9398  WtcKJtwMD2E   \n",
       "4     2023-09-13T03:27:50Z                  @ชวนชวน-ฐ8ฆ  WtcKJtwMD2E   \n",
       "...                    ...                          ...          ...   \n",
       "6734  2023-08-29T11:15:56Z                      @haizaz  WtcKJtwMD2E   \n",
       "6735  2023-08-29T11:13:15Z             @user-iu1bt9on4b  WtcKJtwMD2E   \n",
       "6736  2023-08-29T11:09:07Z              @fahthanita2512  WtcKJtwMD2E   \n",
       "6737  2023-08-29T10:42:11Z                    @zozein21  WtcKJtwMD2E   \n",
       "6738  2023-08-29T10:33:05Z  @preeyanitlertudomthana9749  WtcKJtwMD2E   \n",
       "\n",
       "                                                Comment   Lang  \n",
       "0     ฟังเพลงของพวกเราได้แล้ววันนี้ในทุกช่องทาง stre...     th  \n",
       "1                                          I’m so happy     tl  \n",
       "2                                                  บงงป     th  \n",
       "3                          โอ้โหหหห 2 อาทิตย์ 4 ล้านวิว     th  \n",
       "4                                                     ​  Other  \n",
       "...                                                 ...    ...  \n",
       "6734                                              😢😢😢😢😢  Other  \n",
       "6735                                        เพราะมากก😭🫶     th  \n",
       "6736                                                🫶🏻🌟  Other  \n",
       "6737                            อยู่กับฉันไปนานๆนะเธอ🌌💙     th  \n",
       "6738                   รอคอยผลงานเยี่ยมๆๆเลยอยากฟังมากๆ     th  \n",
       "\n",
       "[6739 rows x 5 columns]"
      ]
     },
     "execution_count": 13,
     "metadata": {},
     "output_type": "execute_result"
    }
   ],
   "source": [
    "df_inter2"
   ]
  },
  {
   "cell_type": "code",
   "execution_count": 14,
   "metadata": {},
   "outputs": [
    {
     "data": {
      "text/html": [
       "<div>\n",
       "<style scoped>\n",
       "    .dataframe tbody tr th:only-of-type {\n",
       "        vertical-align: middle;\n",
       "    }\n",
       "\n",
       "    .dataframe tbody tr th {\n",
       "        vertical-align: top;\n",
       "    }\n",
       "\n",
       "    .dataframe thead th {\n",
       "        text-align: right;\n",
       "    }\n",
       "</style>\n",
       "<table border=\"1\" class=\"dataframe\">\n",
       "  <thead>\n",
       "    <tr style=\"text-align: right;\">\n",
       "      <th></th>\n",
       "      <th>Lang</th>\n",
       "      <th>Count</th>\n",
       "    </tr>\n",
       "  </thead>\n",
       "  <tbody>\n",
       "    <tr>\n",
       "      <th>28</th>\n",
       "      <td>th</td>\n",
       "      <td>5157</td>\n",
       "    </tr>\n",
       "    <tr>\n",
       "      <th>0</th>\n",
       "      <td>Other</td>\n",
       "      <td>884</td>\n",
       "    </tr>\n",
       "    <tr>\n",
       "      <th>7</th>\n",
       "      <td>en</td>\n",
       "      <td>404</td>\n",
       "    </tr>\n",
       "    <tr>\n",
       "      <th>13</th>\n",
       "      <td>id</td>\n",
       "      <td>30</td>\n",
       "    </tr>\n",
       "    <tr>\n",
       "      <th>29</th>\n",
       "      <td>tl</td>\n",
       "      <td>27</td>\n",
       "    </tr>\n",
       "    <tr>\n",
       "      <th>8</th>\n",
       "      <td>es</td>\n",
       "      <td>26</td>\n",
       "    </tr>\n",
       "    <tr>\n",
       "      <th>20</th>\n",
       "      <td>pt</td>\n",
       "      <td>24</td>\n",
       "    </tr>\n",
       "    <tr>\n",
       "      <th>11</th>\n",
       "      <td>fr</td>\n",
       "      <td>20</td>\n",
       "    </tr>\n",
       "    <tr>\n",
       "      <th>17</th>\n",
       "      <td>nl</td>\n",
       "      <td>18</td>\n",
       "    </tr>\n",
       "    <tr>\n",
       "      <th>25</th>\n",
       "      <td>so</td>\n",
       "      <td>14</td>\n",
       "    </tr>\n",
       "    <tr>\n",
       "      <th>18</th>\n",
       "      <td>no</td>\n",
       "      <td>12</td>\n",
       "    </tr>\n",
       "    <tr>\n",
       "      <th>31</th>\n",
       "      <td>vi</td>\n",
       "      <td>12</td>\n",
       "    </tr>\n",
       "    <tr>\n",
       "      <th>21</th>\n",
       "      <td>ro</td>\n",
       "      <td>10</td>\n",
       "    </tr>\n",
       "    <tr>\n",
       "      <th>27</th>\n",
       "      <td>sw</td>\n",
       "      <td>9</td>\n",
       "    </tr>\n",
       "    <tr>\n",
       "      <th>16</th>\n",
       "      <td>ko</td>\n",
       "      <td>9</td>\n",
       "    </tr>\n",
       "    <tr>\n",
       "      <th>1</th>\n",
       "      <td>af</td>\n",
       "      <td>9</td>\n",
       "    </tr>\n",
       "    <tr>\n",
       "      <th>6</th>\n",
       "      <td>de</td>\n",
       "      <td>8</td>\n",
       "    </tr>\n",
       "    <tr>\n",
       "      <th>4</th>\n",
       "      <td>cy</td>\n",
       "      <td>8</td>\n",
       "    </tr>\n",
       "    <tr>\n",
       "      <th>9</th>\n",
       "      <td>et</td>\n",
       "      <td>7</td>\n",
       "    </tr>\n",
       "    <tr>\n",
       "      <th>10</th>\n",
       "      <td>fi</td>\n",
       "      <td>6</td>\n",
       "    </tr>\n",
       "    <tr>\n",
       "      <th>14</th>\n",
       "      <td>it</td>\n",
       "      <td>6</td>\n",
       "    </tr>\n",
       "    <tr>\n",
       "      <th>19</th>\n",
       "      <td>pl</td>\n",
       "      <td>5</td>\n",
       "    </tr>\n",
       "    <tr>\n",
       "      <th>24</th>\n",
       "      <td>sl</td>\n",
       "      <td>5</td>\n",
       "    </tr>\n",
       "    <tr>\n",
       "      <th>12</th>\n",
       "      <td>hr</td>\n",
       "      <td>4</td>\n",
       "    </tr>\n",
       "    <tr>\n",
       "      <th>15</th>\n",
       "      <td>ja</td>\n",
       "      <td>3</td>\n",
       "    </tr>\n",
       "    <tr>\n",
       "      <th>23</th>\n",
       "      <td>sk</td>\n",
       "      <td>3</td>\n",
       "    </tr>\n",
       "    <tr>\n",
       "      <th>5</th>\n",
       "      <td>da</td>\n",
       "      <td>2</td>\n",
       "    </tr>\n",
       "    <tr>\n",
       "      <th>3</th>\n",
       "      <td>cs</td>\n",
       "      <td>2</td>\n",
       "    </tr>\n",
       "    <tr>\n",
       "      <th>2</th>\n",
       "      <td>ca</td>\n",
       "      <td>2</td>\n",
       "    </tr>\n",
       "    <tr>\n",
       "      <th>32</th>\n",
       "      <td>zh-cn</td>\n",
       "      <td>2</td>\n",
       "    </tr>\n",
       "    <tr>\n",
       "      <th>22</th>\n",
       "      <td>ru</td>\n",
       "      <td>1</td>\n",
       "    </tr>\n",
       "    <tr>\n",
       "      <th>26</th>\n",
       "      <td>sv</td>\n",
       "      <td>1</td>\n",
       "    </tr>\n",
       "    <tr>\n",
       "      <th>30</th>\n",
       "      <td>tr</td>\n",
       "      <td>1</td>\n",
       "    </tr>\n",
       "    <tr>\n",
       "      <th>33</th>\n",
       "      <td>zh-tw</td>\n",
       "      <td>1</td>\n",
       "    </tr>\n",
       "  </tbody>\n",
       "</table>\n",
       "</div>"
      ],
      "text/plain": [
       "     Lang  Count\n",
       "28     th   5157\n",
       "0   Other    884\n",
       "7      en    404\n",
       "13     id     30\n",
       "29     tl     27\n",
       "8      es     26\n",
       "20     pt     24\n",
       "11     fr     20\n",
       "17     nl     18\n",
       "25     so     14\n",
       "18     no     12\n",
       "31     vi     12\n",
       "21     ro     10\n",
       "27     sw      9\n",
       "16     ko      9\n",
       "1      af      9\n",
       "6      de      8\n",
       "4      cy      8\n",
       "9      et      7\n",
       "10     fi      6\n",
       "14     it      6\n",
       "19     pl      5\n",
       "24     sl      5\n",
       "12     hr      4\n",
       "15     ja      3\n",
       "23     sk      3\n",
       "5      da      2\n",
       "3      cs      2\n",
       "2      ca      2\n",
       "32  zh-cn      2\n",
       "22     ru      1\n",
       "26     sv      1\n",
       "30     tr      1\n",
       "33  zh-tw      1"
      ]
     },
     "execution_count": 14,
     "metadata": {},
     "output_type": "execute_result"
    }
   ],
   "source": [
    "df = df_inter2.groupby(['Lang'])['Comment'].count().reset_index(name='Count').sort_values(['Count'], ascending=False)\n",
    "df"
   ]
  },
  {
   "cell_type": "code",
   "execution_count": 15,
   "metadata": {},
   "outputs": [
    {
     "data": {
      "application/vnd.plotly.v1+json": {
       "config": {
        "plotlyServerURL": "https://plot.ly"
       },
       "data": [
        {
         "domain": {
          "x": [
           0,
           1
          ],
          "y": [
           0,
           1
          ]
         },
         "hovertemplate": "Lang=%{label}<br>Count=%{value}<extra></extra>",
         "labels": [
          "th",
          "Other",
          "en",
          "id",
          "tl",
          "es",
          "pt",
          "fr",
          "nl",
          "so",
          "no",
          "vi",
          "ro",
          "sw",
          "ko",
          "af",
          "de",
          "cy",
          "et",
          "fi",
          "it",
          "pl",
          "sl",
          "hr",
          "ja",
          "sk",
          "da",
          "cs",
          "ca",
          "zh-cn",
          "ru",
          "sv",
          "tr",
          "zh-tw"
         ],
         "legendgroup": "",
         "name": "",
         "showlegend": true,
         "textposition": "inside",
         "type": "pie",
         "values": [
          5157,
          884,
          404,
          30,
          27,
          26,
          24,
          20,
          18,
          14,
          12,
          12,
          10,
          9,
          9,
          9,
          8,
          8,
          7,
          6,
          6,
          5,
          5,
          4,
          3,
          3,
          2,
          2,
          2,
          2,
          1,
          1,
          1,
          1
         ]
        }
       ],
       "layout": {
        "legend": {
         "tracegroupgap": 0
        },
        "template": {
         "data": {
          "bar": [
           {
            "error_x": {
             "color": "#2a3f5f"
            },
            "error_y": {
             "color": "#2a3f5f"
            },
            "marker": {
             "line": {
              "color": "#E5ECF6",
              "width": 0.5
             },
             "pattern": {
              "fillmode": "overlay",
              "size": 10,
              "solidity": 0.2
             }
            },
            "type": "bar"
           }
          ],
          "barpolar": [
           {
            "marker": {
             "line": {
              "color": "#E5ECF6",
              "width": 0.5
             },
             "pattern": {
              "fillmode": "overlay",
              "size": 10,
              "solidity": 0.2
             }
            },
            "type": "barpolar"
           }
          ],
          "carpet": [
           {
            "aaxis": {
             "endlinecolor": "#2a3f5f",
             "gridcolor": "white",
             "linecolor": "white",
             "minorgridcolor": "white",
             "startlinecolor": "#2a3f5f"
            },
            "baxis": {
             "endlinecolor": "#2a3f5f",
             "gridcolor": "white",
             "linecolor": "white",
             "minorgridcolor": "white",
             "startlinecolor": "#2a3f5f"
            },
            "type": "carpet"
           }
          ],
          "choropleth": [
           {
            "colorbar": {
             "outlinewidth": 0,
             "ticks": ""
            },
            "type": "choropleth"
           }
          ],
          "contour": [
           {
            "colorbar": {
             "outlinewidth": 0,
             "ticks": ""
            },
            "colorscale": [
             [
              0,
              "#0d0887"
             ],
             [
              0.1111111111111111,
              "#46039f"
             ],
             [
              0.2222222222222222,
              "#7201a8"
             ],
             [
              0.3333333333333333,
              "#9c179e"
             ],
             [
              0.4444444444444444,
              "#bd3786"
             ],
             [
              0.5555555555555556,
              "#d8576b"
             ],
             [
              0.6666666666666666,
              "#ed7953"
             ],
             [
              0.7777777777777778,
              "#fb9f3a"
             ],
             [
              0.8888888888888888,
              "#fdca26"
             ],
             [
              1,
              "#f0f921"
             ]
            ],
            "type": "contour"
           }
          ],
          "contourcarpet": [
           {
            "colorbar": {
             "outlinewidth": 0,
             "ticks": ""
            },
            "type": "contourcarpet"
           }
          ],
          "heatmap": [
           {
            "colorbar": {
             "outlinewidth": 0,
             "ticks": ""
            },
            "colorscale": [
             [
              0,
              "#0d0887"
             ],
             [
              0.1111111111111111,
              "#46039f"
             ],
             [
              0.2222222222222222,
              "#7201a8"
             ],
             [
              0.3333333333333333,
              "#9c179e"
             ],
             [
              0.4444444444444444,
              "#bd3786"
             ],
             [
              0.5555555555555556,
              "#d8576b"
             ],
             [
              0.6666666666666666,
              "#ed7953"
             ],
             [
              0.7777777777777778,
              "#fb9f3a"
             ],
             [
              0.8888888888888888,
              "#fdca26"
             ],
             [
              1,
              "#f0f921"
             ]
            ],
            "type": "heatmap"
           }
          ],
          "heatmapgl": [
           {
            "colorbar": {
             "outlinewidth": 0,
             "ticks": ""
            },
            "colorscale": [
             [
              0,
              "#0d0887"
             ],
             [
              0.1111111111111111,
              "#46039f"
             ],
             [
              0.2222222222222222,
              "#7201a8"
             ],
             [
              0.3333333333333333,
              "#9c179e"
             ],
             [
              0.4444444444444444,
              "#bd3786"
             ],
             [
              0.5555555555555556,
              "#d8576b"
             ],
             [
              0.6666666666666666,
              "#ed7953"
             ],
             [
              0.7777777777777778,
              "#fb9f3a"
             ],
             [
              0.8888888888888888,
              "#fdca26"
             ],
             [
              1,
              "#f0f921"
             ]
            ],
            "type": "heatmapgl"
           }
          ],
          "histogram": [
           {
            "marker": {
             "pattern": {
              "fillmode": "overlay",
              "size": 10,
              "solidity": 0.2
             }
            },
            "type": "histogram"
           }
          ],
          "histogram2d": [
           {
            "colorbar": {
             "outlinewidth": 0,
             "ticks": ""
            },
            "colorscale": [
             [
              0,
              "#0d0887"
             ],
             [
              0.1111111111111111,
              "#46039f"
             ],
             [
              0.2222222222222222,
              "#7201a8"
             ],
             [
              0.3333333333333333,
              "#9c179e"
             ],
             [
              0.4444444444444444,
              "#bd3786"
             ],
             [
              0.5555555555555556,
              "#d8576b"
             ],
             [
              0.6666666666666666,
              "#ed7953"
             ],
             [
              0.7777777777777778,
              "#fb9f3a"
             ],
             [
              0.8888888888888888,
              "#fdca26"
             ],
             [
              1,
              "#f0f921"
             ]
            ],
            "type": "histogram2d"
           }
          ],
          "histogram2dcontour": [
           {
            "colorbar": {
             "outlinewidth": 0,
             "ticks": ""
            },
            "colorscale": [
             [
              0,
              "#0d0887"
             ],
             [
              0.1111111111111111,
              "#46039f"
             ],
             [
              0.2222222222222222,
              "#7201a8"
             ],
             [
              0.3333333333333333,
              "#9c179e"
             ],
             [
              0.4444444444444444,
              "#bd3786"
             ],
             [
              0.5555555555555556,
              "#d8576b"
             ],
             [
              0.6666666666666666,
              "#ed7953"
             ],
             [
              0.7777777777777778,
              "#fb9f3a"
             ],
             [
              0.8888888888888888,
              "#fdca26"
             ],
             [
              1,
              "#f0f921"
             ]
            ],
            "type": "histogram2dcontour"
           }
          ],
          "mesh3d": [
           {
            "colorbar": {
             "outlinewidth": 0,
             "ticks": ""
            },
            "type": "mesh3d"
           }
          ],
          "parcoords": [
           {
            "line": {
             "colorbar": {
              "outlinewidth": 0,
              "ticks": ""
             }
            },
            "type": "parcoords"
           }
          ],
          "pie": [
           {
            "automargin": true,
            "type": "pie"
           }
          ],
          "scatter": [
           {
            "fillpattern": {
             "fillmode": "overlay",
             "size": 10,
             "solidity": 0.2
            },
            "type": "scatter"
           }
          ],
          "scatter3d": [
           {
            "line": {
             "colorbar": {
              "outlinewidth": 0,
              "ticks": ""
             }
            },
            "marker": {
             "colorbar": {
              "outlinewidth": 0,
              "ticks": ""
             }
            },
            "type": "scatter3d"
           }
          ],
          "scattercarpet": [
           {
            "marker": {
             "colorbar": {
              "outlinewidth": 0,
              "ticks": ""
             }
            },
            "type": "scattercarpet"
           }
          ],
          "scattergeo": [
           {
            "marker": {
             "colorbar": {
              "outlinewidth": 0,
              "ticks": ""
             }
            },
            "type": "scattergeo"
           }
          ],
          "scattergl": [
           {
            "marker": {
             "colorbar": {
              "outlinewidth": 0,
              "ticks": ""
             }
            },
            "type": "scattergl"
           }
          ],
          "scattermapbox": [
           {
            "marker": {
             "colorbar": {
              "outlinewidth": 0,
              "ticks": ""
             }
            },
            "type": "scattermapbox"
           }
          ],
          "scatterpolar": [
           {
            "marker": {
             "colorbar": {
              "outlinewidth": 0,
              "ticks": ""
             }
            },
            "type": "scatterpolar"
           }
          ],
          "scatterpolargl": [
           {
            "marker": {
             "colorbar": {
              "outlinewidth": 0,
              "ticks": ""
             }
            },
            "type": "scatterpolargl"
           }
          ],
          "scatterternary": [
           {
            "marker": {
             "colorbar": {
              "outlinewidth": 0,
              "ticks": ""
             }
            },
            "type": "scatterternary"
           }
          ],
          "surface": [
           {
            "colorbar": {
             "outlinewidth": 0,
             "ticks": ""
            },
            "colorscale": [
             [
              0,
              "#0d0887"
             ],
             [
              0.1111111111111111,
              "#46039f"
             ],
             [
              0.2222222222222222,
              "#7201a8"
             ],
             [
              0.3333333333333333,
              "#9c179e"
             ],
             [
              0.4444444444444444,
              "#bd3786"
             ],
             [
              0.5555555555555556,
              "#d8576b"
             ],
             [
              0.6666666666666666,
              "#ed7953"
             ],
             [
              0.7777777777777778,
              "#fb9f3a"
             ],
             [
              0.8888888888888888,
              "#fdca26"
             ],
             [
              1,
              "#f0f921"
             ]
            ],
            "type": "surface"
           }
          ],
          "table": [
           {
            "cells": {
             "fill": {
              "color": "#EBF0F8"
             },
             "line": {
              "color": "white"
             }
            },
            "header": {
             "fill": {
              "color": "#C8D4E3"
             },
             "line": {
              "color": "white"
             }
            },
            "type": "table"
           }
          ]
         },
         "layout": {
          "annotationdefaults": {
           "arrowcolor": "#2a3f5f",
           "arrowhead": 0,
           "arrowwidth": 1
          },
          "autotypenumbers": "strict",
          "coloraxis": {
           "colorbar": {
            "outlinewidth": 0,
            "ticks": ""
           }
          },
          "colorscale": {
           "diverging": [
            [
             0,
             "#8e0152"
            ],
            [
             0.1,
             "#c51b7d"
            ],
            [
             0.2,
             "#de77ae"
            ],
            [
             0.3,
             "#f1b6da"
            ],
            [
             0.4,
             "#fde0ef"
            ],
            [
             0.5,
             "#f7f7f7"
            ],
            [
             0.6,
             "#e6f5d0"
            ],
            [
             0.7,
             "#b8e186"
            ],
            [
             0.8,
             "#7fbc41"
            ],
            [
             0.9,
             "#4d9221"
            ],
            [
             1,
             "#276419"
            ]
           ],
           "sequential": [
            [
             0,
             "#0d0887"
            ],
            [
             0.1111111111111111,
             "#46039f"
            ],
            [
             0.2222222222222222,
             "#7201a8"
            ],
            [
             0.3333333333333333,
             "#9c179e"
            ],
            [
             0.4444444444444444,
             "#bd3786"
            ],
            [
             0.5555555555555556,
             "#d8576b"
            ],
            [
             0.6666666666666666,
             "#ed7953"
            ],
            [
             0.7777777777777778,
             "#fb9f3a"
            ],
            [
             0.8888888888888888,
             "#fdca26"
            ],
            [
             1,
             "#f0f921"
            ]
           ],
           "sequentialminus": [
            [
             0,
             "#0d0887"
            ],
            [
             0.1111111111111111,
             "#46039f"
            ],
            [
             0.2222222222222222,
             "#7201a8"
            ],
            [
             0.3333333333333333,
             "#9c179e"
            ],
            [
             0.4444444444444444,
             "#bd3786"
            ],
            [
             0.5555555555555556,
             "#d8576b"
            ],
            [
             0.6666666666666666,
             "#ed7953"
            ],
            [
             0.7777777777777778,
             "#fb9f3a"
            ],
            [
             0.8888888888888888,
             "#fdca26"
            ],
            [
             1,
             "#f0f921"
            ]
           ]
          },
          "colorway": [
           "#636efa",
           "#EF553B",
           "#00cc96",
           "#ab63fa",
           "#FFA15A",
           "#19d3f3",
           "#FF6692",
           "#B6E880",
           "#FF97FF",
           "#FECB52"
          ],
          "font": {
           "color": "#2a3f5f"
          },
          "geo": {
           "bgcolor": "white",
           "lakecolor": "white",
           "landcolor": "#E5ECF6",
           "showlakes": true,
           "showland": true,
           "subunitcolor": "white"
          },
          "hoverlabel": {
           "align": "left"
          },
          "hovermode": "closest",
          "mapbox": {
           "style": "light"
          },
          "paper_bgcolor": "white",
          "plot_bgcolor": "#E5ECF6",
          "polar": {
           "angularaxis": {
            "gridcolor": "white",
            "linecolor": "white",
            "ticks": ""
           },
           "bgcolor": "#E5ECF6",
           "radialaxis": {
            "gridcolor": "white",
            "linecolor": "white",
            "ticks": ""
           }
          },
          "scene": {
           "xaxis": {
            "backgroundcolor": "#E5ECF6",
            "gridcolor": "white",
            "gridwidth": 2,
            "linecolor": "white",
            "showbackground": true,
            "ticks": "",
            "zerolinecolor": "white"
           },
           "yaxis": {
            "backgroundcolor": "#E5ECF6",
            "gridcolor": "white",
            "gridwidth": 2,
            "linecolor": "white",
            "showbackground": true,
            "ticks": "",
            "zerolinecolor": "white"
           },
           "zaxis": {
            "backgroundcolor": "#E5ECF6",
            "gridcolor": "white",
            "gridwidth": 2,
            "linecolor": "white",
            "showbackground": true,
            "ticks": "",
            "zerolinecolor": "white"
           }
          },
          "shapedefaults": {
           "line": {
            "color": "#2a3f5f"
           }
          },
          "ternary": {
           "aaxis": {
            "gridcolor": "white",
            "linecolor": "white",
            "ticks": ""
           },
           "baxis": {
            "gridcolor": "white",
            "linecolor": "white",
            "ticks": ""
           },
           "bgcolor": "#E5ECF6",
           "caxis": {
            "gridcolor": "white",
            "linecolor": "white",
            "ticks": ""
           }
          },
          "title": {
           "x": 0.05
          },
          "xaxis": {
           "automargin": true,
           "gridcolor": "white",
           "linecolor": "white",
           "ticks": "",
           "title": {
            "standoff": 15
           },
           "zerolinecolor": "white",
           "zerolinewidth": 2
          },
          "yaxis": {
           "automargin": true,
           "gridcolor": "white",
           "linecolor": "white",
           "ticks": "",
           "title": {
            "standoff": 15
           },
           "zerolinecolor": "white",
           "zerolinewidth": 2
          }
         }
        },
        "title": {
         "text": "ดาวหางฮัลเลย์"
        },
        "uniformtext": {
         "minsize": 12,
         "mode": "hide"
        }
       }
      }
     },
     "metadata": {},
     "output_type": "display_data"
    }
   ],
   "source": [
    "fig = px.pie(df, values='Count', names='Lang',title='ดาวหางฮัลเลย์')\n",
    "fig.update_traces(textposition='inside')\n",
    "fig.update_layout(uniformtext_minsize=12, uniformtext_mode='hide')\n",
    "fig.show()"
   ]
  },
  {
   "cell_type": "code",
   "execution_count": 16,
   "metadata": {},
   "outputs": [],
   "source": [
    "df_inter3 = pd.read_csv(\"ยังคู่กัน original.csv\", index_col=0)"
   ]
  },
  {
   "cell_type": "code",
   "execution_count": 17,
   "metadata": {},
   "outputs": [
    {
     "data": {
      "text/html": [
       "<div>\n",
       "<style scoped>\n",
       "    .dataframe tbody tr th:only-of-type {\n",
       "        vertical-align: middle;\n",
       "    }\n",
       "\n",
       "    .dataframe tbody tr th {\n",
       "        vertical-align: top;\n",
       "    }\n",
       "\n",
       "    .dataframe thead th {\n",
       "        text-align: right;\n",
       "    }\n",
       "</style>\n",
       "<table border=\"1\" class=\"dataframe\">\n",
       "  <thead>\n",
       "    <tr style=\"text-align: right;\">\n",
       "      <th></th>\n",
       "      <th>Timestamp</th>\n",
       "      <th>Username</th>\n",
       "      <th>VideoID</th>\n",
       "      <th>Comment</th>\n",
       "      <th>Date</th>\n",
       "    </tr>\n",
       "  </thead>\n",
       "  <tbody>\n",
       "    <tr>\n",
       "      <th>0</th>\n",
       "      <td>2024-09-18T08:52:27Z</td>\n",
       "      <td>@Icequeen079</td>\n",
       "      <td>-baxAeq-MlU</td>\n",
       "      <td>❤❤❤❤❤❤</td>\n",
       "      <td>2024-09-18T08:52:27Z</td>\n",
       "    </tr>\n",
       "    <tr>\n",
       "      <th>1</th>\n",
       "      <td>2024-09-17T12:30:15Z</td>\n",
       "      <td>@nurtriana1656</td>\n",
       "      <td>-baxAeq-MlU</td>\n",
       "      <td>Ganteng neni to bret bret ❤❤</td>\n",
       "      <td>2024-09-17T12:30:15Z</td>\n",
       "    </tr>\n",
       "    <tr>\n",
       "      <th>2</th>\n",
       "      <td>2024-09-15T17:29:53Z</td>\n",
       "      <td>@UreshaSandamali-kv3dh</td>\n",
       "      <td>-baxAeq-MlU</td>\n",
       "      <td>❤❤❤ woow. Congratulations 🎉</td>\n",
       "      <td>2024-09-15T17:29:53Z</td>\n",
       "    </tr>\n",
       "    <tr>\n",
       "      <th>3</th>\n",
       "      <td>2024-09-12T03:22:25Z</td>\n",
       "      <td>@nicha3919</td>\n",
       "      <td>-baxAeq-MlU</td>\n",
       "      <td>ถ้ำน้ำแข็งใสภาพที่เห็นเป็นไรครับไม่มีความคิดเห...</td>\n",
       "      <td>2024-09-12T03:22:25Z</td>\n",
       "    </tr>\n",
       "    <tr>\n",
       "      <th>4</th>\n",
       "      <td>2024-09-11T09:33:04Z</td>\n",
       "      <td>@nryaqq1593</td>\n",
       "      <td>-baxAeq-MlU</td>\n",
       "      <td>Karam😭</td>\n",
       "      <td>2024-09-11T09:33:04Z</td>\n",
       "    </tr>\n",
       "    <tr>\n",
       "      <th>...</th>\n",
       "      <td>...</td>\n",
       "      <td>...</td>\n",
       "      <td>...</td>\n",
       "      <td>...</td>\n",
       "      <td>...</td>\n",
       "    </tr>\n",
       "    <tr>\n",
       "      <th>38301</th>\n",
       "      <td>2020-08-11T11:01:39Z</td>\n",
       "      <td>@nurulsyahirah6126</td>\n",
       "      <td>-baxAeq-MlU</td>\n",
       "      <td>Fourth??</td>\n",
       "      <td>2020-08-11T11:01:39Z</td>\n",
       "    </tr>\n",
       "    <tr>\n",
       "      <th>38302</th>\n",
       "      <td>2020-08-11T11:02:43Z</td>\n",
       "      <td>@rentsien8703</td>\n",
       "      <td>-baxAeq-MlU</td>\n",
       "      <td>Fifth</td>\n",
       "      <td>2020-08-11T11:02:43Z</td>\n",
       "    </tr>\n",
       "    <tr>\n",
       "      <th>38303</th>\n",
       "      <td>2020-08-11T11:03:29Z</td>\n",
       "      <td>@johnmelan</td>\n",
       "      <td>-baxAeq-MlU</td>\n",
       "      <td>6th</td>\n",
       "      <td>2020-08-11T11:03:29Z</td>\n",
       "    </tr>\n",
       "    <tr>\n",
       "      <th>38304</th>\n",
       "      <td>2020-08-11T11:06:58Z</td>\n",
       "      <td>@erewormara</td>\n",
       "      <td>-baxAeq-MlU</td>\n",
       "      <td>Zero xD</td>\n",
       "      <td>2020-08-11T11:06:58Z</td>\n",
       "    </tr>\n",
       "    <tr>\n",
       "      <th>38305</th>\n",
       "      <td>2020-08-11T11:08:17Z</td>\n",
       "      <td>@gemuelmoratalla2</td>\n",
       "      <td>-baxAeq-MlU</td>\n",
       "      <td>Sovanmara Mary you are late hahaha</td>\n",
       "      <td>2020-08-11T11:08:17Z</td>\n",
       "    </tr>\n",
       "  </tbody>\n",
       "</table>\n",
       "<p>38306 rows × 5 columns</p>\n",
       "</div>"
      ],
      "text/plain": [
       "                  Timestamp                Username      VideoID  \\\n",
       "0      2024-09-18T08:52:27Z            @Icequeen079  -baxAeq-MlU   \n",
       "1      2024-09-17T12:30:15Z          @nurtriana1656  -baxAeq-MlU   \n",
       "2      2024-09-15T17:29:53Z  @UreshaSandamali-kv3dh  -baxAeq-MlU   \n",
       "3      2024-09-12T03:22:25Z              @nicha3919  -baxAeq-MlU   \n",
       "4      2024-09-11T09:33:04Z             @nryaqq1593  -baxAeq-MlU   \n",
       "...                     ...                     ...          ...   \n",
       "38301  2020-08-11T11:01:39Z      @nurulsyahirah6126  -baxAeq-MlU   \n",
       "38302  2020-08-11T11:02:43Z           @rentsien8703  -baxAeq-MlU   \n",
       "38303  2020-08-11T11:03:29Z              @johnmelan  -baxAeq-MlU   \n",
       "38304  2020-08-11T11:06:58Z             @erewormara  -baxAeq-MlU   \n",
       "38305  2020-08-11T11:08:17Z       @gemuelmoratalla2  -baxAeq-MlU   \n",
       "\n",
       "                                                 Comment                  Date  \n",
       "0                                                 ❤❤❤❤❤❤  2024-09-18T08:52:27Z  \n",
       "1                           Ganteng neni to bret bret ❤❤  2024-09-17T12:30:15Z  \n",
       "2                            ❤❤❤ woow. Congratulations 🎉  2024-09-15T17:29:53Z  \n",
       "3      ถ้ำน้ำแข็งใสภาพที่เห็นเป็นไรครับไม่มีความคิดเห...  2024-09-12T03:22:25Z  \n",
       "4                                                 Karam😭  2024-09-11T09:33:04Z  \n",
       "...                                                  ...                   ...  \n",
       "38301                                           Fourth??  2020-08-11T11:01:39Z  \n",
       "38302                                              Fifth  2020-08-11T11:02:43Z  \n",
       "38303                                                6th  2020-08-11T11:03:29Z  \n",
       "38304                                            Zero xD  2020-08-11T11:06:58Z  \n",
       "38305                 Sovanmara Mary you are late hahaha  2020-08-11T11:08:17Z  \n",
       "\n",
       "[38306 rows x 5 columns]"
      ]
     },
     "execution_count": 17,
     "metadata": {},
     "output_type": "execute_result"
    }
   ],
   "source": [
    "df_inter3"
   ]
  },
  {
   "cell_type": "code",
   "execution_count": 18,
   "metadata": {},
   "outputs": [
    {
     "data": {
      "text/html": [
       "<div>\n",
       "<style scoped>\n",
       "    .dataframe tbody tr th:only-of-type {\n",
       "        vertical-align: middle;\n",
       "    }\n",
       "\n",
       "    .dataframe tbody tr th {\n",
       "        vertical-align: top;\n",
       "    }\n",
       "\n",
       "    .dataframe thead th {\n",
       "        text-align: right;\n",
       "    }\n",
       "</style>\n",
       "<table border=\"1\" class=\"dataframe\">\n",
       "  <thead>\n",
       "    <tr style=\"text-align: right;\">\n",
       "      <th></th>\n",
       "      <th>Date</th>\n",
       "      <th>Username</th>\n",
       "      <th>VideoID</th>\n",
       "      <th>Comment</th>\n",
       "    </tr>\n",
       "  </thead>\n",
       "  <tbody>\n",
       "    <tr>\n",
       "      <th>0</th>\n",
       "      <td>2024-09-18T08:52:27Z</td>\n",
       "      <td>@Icequeen079</td>\n",
       "      <td>-baxAeq-MlU</td>\n",
       "      <td>❤❤❤❤❤❤</td>\n",
       "    </tr>\n",
       "    <tr>\n",
       "      <th>1</th>\n",
       "      <td>2024-09-17T12:30:15Z</td>\n",
       "      <td>@nurtriana1656</td>\n",
       "      <td>-baxAeq-MlU</td>\n",
       "      <td>Ganteng neni to bret bret ❤❤</td>\n",
       "    </tr>\n",
       "    <tr>\n",
       "      <th>2</th>\n",
       "      <td>2024-09-15T17:29:53Z</td>\n",
       "      <td>@UreshaSandamali-kv3dh</td>\n",
       "      <td>-baxAeq-MlU</td>\n",
       "      <td>❤❤❤ woow. Congratulations 🎉</td>\n",
       "    </tr>\n",
       "    <tr>\n",
       "      <th>3</th>\n",
       "      <td>2024-09-12T03:22:25Z</td>\n",
       "      <td>@nicha3919</td>\n",
       "      <td>-baxAeq-MlU</td>\n",
       "      <td>ถ้ำน้ำแข็งใสภาพที่เห็นเป็นไรครับไม่มีความคิดเห...</td>\n",
       "    </tr>\n",
       "    <tr>\n",
       "      <th>4</th>\n",
       "      <td>2024-09-11T09:33:04Z</td>\n",
       "      <td>@nryaqq1593</td>\n",
       "      <td>-baxAeq-MlU</td>\n",
       "      <td>Karam😭</td>\n",
       "    </tr>\n",
       "    <tr>\n",
       "      <th>...</th>\n",
       "      <td>...</td>\n",
       "      <td>...</td>\n",
       "      <td>...</td>\n",
       "      <td>...</td>\n",
       "    </tr>\n",
       "    <tr>\n",
       "      <th>38301</th>\n",
       "      <td>2020-08-11T11:01:39Z</td>\n",
       "      <td>@nurulsyahirah6126</td>\n",
       "      <td>-baxAeq-MlU</td>\n",
       "      <td>Fourth??</td>\n",
       "    </tr>\n",
       "    <tr>\n",
       "      <th>38302</th>\n",
       "      <td>2020-08-11T11:02:43Z</td>\n",
       "      <td>@rentsien8703</td>\n",
       "      <td>-baxAeq-MlU</td>\n",
       "      <td>Fifth</td>\n",
       "    </tr>\n",
       "    <tr>\n",
       "      <th>38303</th>\n",
       "      <td>2020-08-11T11:03:29Z</td>\n",
       "      <td>@johnmelan</td>\n",
       "      <td>-baxAeq-MlU</td>\n",
       "      <td>6th</td>\n",
       "    </tr>\n",
       "    <tr>\n",
       "      <th>38304</th>\n",
       "      <td>2020-08-11T11:06:58Z</td>\n",
       "      <td>@erewormara</td>\n",
       "      <td>-baxAeq-MlU</td>\n",
       "      <td>Zero xD</td>\n",
       "    </tr>\n",
       "    <tr>\n",
       "      <th>38305</th>\n",
       "      <td>2020-08-11T11:08:17Z</td>\n",
       "      <td>@gemuelmoratalla2</td>\n",
       "      <td>-baxAeq-MlU</td>\n",
       "      <td>Sovanmara Mary you are late hahaha</td>\n",
       "    </tr>\n",
       "  </tbody>\n",
       "</table>\n",
       "<p>38306 rows × 4 columns</p>\n",
       "</div>"
      ],
      "text/plain": [
       "                       Date                Username      VideoID  \\\n",
       "0      2024-09-18T08:52:27Z            @Icequeen079  -baxAeq-MlU   \n",
       "1      2024-09-17T12:30:15Z          @nurtriana1656  -baxAeq-MlU   \n",
       "2      2024-09-15T17:29:53Z  @UreshaSandamali-kv3dh  -baxAeq-MlU   \n",
       "3      2024-09-12T03:22:25Z              @nicha3919  -baxAeq-MlU   \n",
       "4      2024-09-11T09:33:04Z             @nryaqq1593  -baxAeq-MlU   \n",
       "...                     ...                     ...          ...   \n",
       "38301  2020-08-11T11:01:39Z      @nurulsyahirah6126  -baxAeq-MlU   \n",
       "38302  2020-08-11T11:02:43Z           @rentsien8703  -baxAeq-MlU   \n",
       "38303  2020-08-11T11:03:29Z              @johnmelan  -baxAeq-MlU   \n",
       "38304  2020-08-11T11:06:58Z             @erewormara  -baxAeq-MlU   \n",
       "38305  2020-08-11T11:08:17Z       @gemuelmoratalla2  -baxAeq-MlU   \n",
       "\n",
       "                                                 Comment  \n",
       "0                                                 ❤❤❤❤❤❤  \n",
       "1                           Ganteng neni to bret bret ❤❤  \n",
       "2                            ❤❤❤ woow. Congratulations 🎉  \n",
       "3      ถ้ำน้ำแข็งใสภาพที่เห็นเป็นไรครับไม่มีความคิดเห...  \n",
       "4                                                 Karam😭  \n",
       "...                                                  ...  \n",
       "38301                                           Fourth??  \n",
       "38302                                              Fifth  \n",
       "38303                                                6th  \n",
       "38304                                            Zero xD  \n",
       "38305                 Sovanmara Mary you are late hahaha  \n",
       "\n",
       "[38306 rows x 4 columns]"
      ]
     },
     "execution_count": 18,
     "metadata": {},
     "output_type": "execute_result"
    }
   ],
   "source": [
    "df_inter3.drop(['Timestamp'], axis=1,inplace=True)\n",
    "df_inter3 = df_inter3.iloc[:,[3,0,1,2]]\n",
    "df_inter3"
   ]
  },
  {
   "cell_type": "code",
   "execution_count": 19,
   "metadata": {},
   "outputs": [
    {
     "name": "stderr",
     "output_type": "stream",
     "text": [
      "C:\\Users\\User\\AppData\\Local\\Temp\\ipykernel_22604\\2113340819.py:9: SettingWithCopyWarning:\n",
      "\n",
      "\n",
      "A value is trying to be set on a copy of a slice from a DataFrame.\n",
      "Try using .loc[row_indexer,col_indexer] = value instead\n",
      "\n",
      "See the caveats in the documentation: https://pandas.pydata.org/pandas-docs/stable/user_guide/indexing.html#returning-a-view-versus-a-copy\n",
      "\n"
     ]
    }
   ],
   "source": [
    "from langdetect import detect\n",
    "def det(x):\n",
    "    try:\n",
    "        lang = detect(x)\n",
    "    except:\n",
    "        lang = 'Other'\n",
    "    return lang\n",
    "\n",
    "df_inter3['Lang'] = df_inter3['Comment'].apply(det)"
   ]
  },
  {
   "cell_type": "code",
   "execution_count": 20,
   "metadata": {},
   "outputs": [
    {
     "data": {
      "text/html": [
       "<div>\n",
       "<style scoped>\n",
       "    .dataframe tbody tr th:only-of-type {\n",
       "        vertical-align: middle;\n",
       "    }\n",
       "\n",
       "    .dataframe tbody tr th {\n",
       "        vertical-align: top;\n",
       "    }\n",
       "\n",
       "    .dataframe thead th {\n",
       "        text-align: right;\n",
       "    }\n",
       "</style>\n",
       "<table border=\"1\" class=\"dataframe\">\n",
       "  <thead>\n",
       "    <tr style=\"text-align: right;\">\n",
       "      <th></th>\n",
       "      <th>Date</th>\n",
       "      <th>Username</th>\n",
       "      <th>VideoID</th>\n",
       "      <th>Comment</th>\n",
       "      <th>Lang</th>\n",
       "    </tr>\n",
       "  </thead>\n",
       "  <tbody>\n",
       "    <tr>\n",
       "      <th>0</th>\n",
       "      <td>2024-09-18T08:52:27Z</td>\n",
       "      <td>@Icequeen079</td>\n",
       "      <td>-baxAeq-MlU</td>\n",
       "      <td>❤❤❤❤❤❤</td>\n",
       "      <td>Other</td>\n",
       "    </tr>\n",
       "    <tr>\n",
       "      <th>1</th>\n",
       "      <td>2024-09-17T12:30:15Z</td>\n",
       "      <td>@nurtriana1656</td>\n",
       "      <td>-baxAeq-MlU</td>\n",
       "      <td>Ganteng neni to bret bret ❤❤</td>\n",
       "      <td>no</td>\n",
       "    </tr>\n",
       "    <tr>\n",
       "      <th>2</th>\n",
       "      <td>2024-09-15T17:29:53Z</td>\n",
       "      <td>@UreshaSandamali-kv3dh</td>\n",
       "      <td>-baxAeq-MlU</td>\n",
       "      <td>❤❤❤ woow. Congratulations 🎉</td>\n",
       "      <td>en</td>\n",
       "    </tr>\n",
       "    <tr>\n",
       "      <th>3</th>\n",
       "      <td>2024-09-12T03:22:25Z</td>\n",
       "      <td>@nicha3919</td>\n",
       "      <td>-baxAeq-MlU</td>\n",
       "      <td>ถ้ำน้ำแข็งใสภาพที่เห็นเป็นไรครับไม่มีความคิดเห...</td>\n",
       "      <td>th</td>\n",
       "    </tr>\n",
       "    <tr>\n",
       "      <th>4</th>\n",
       "      <td>2024-09-11T09:33:04Z</td>\n",
       "      <td>@nryaqq1593</td>\n",
       "      <td>-baxAeq-MlU</td>\n",
       "      <td>Karam😭</td>\n",
       "      <td>id</td>\n",
       "    </tr>\n",
       "    <tr>\n",
       "      <th>...</th>\n",
       "      <td>...</td>\n",
       "      <td>...</td>\n",
       "      <td>...</td>\n",
       "      <td>...</td>\n",
       "      <td>...</td>\n",
       "    </tr>\n",
       "    <tr>\n",
       "      <th>38301</th>\n",
       "      <td>2020-08-11T11:01:39Z</td>\n",
       "      <td>@nurulsyahirah6126</td>\n",
       "      <td>-baxAeq-MlU</td>\n",
       "      <td>Fourth??</td>\n",
       "      <td>en</td>\n",
       "    </tr>\n",
       "    <tr>\n",
       "      <th>38302</th>\n",
       "      <td>2020-08-11T11:02:43Z</td>\n",
       "      <td>@rentsien8703</td>\n",
       "      <td>-baxAeq-MlU</td>\n",
       "      <td>Fifth</td>\n",
       "      <td>de</td>\n",
       "    </tr>\n",
       "    <tr>\n",
       "      <th>38303</th>\n",
       "      <td>2020-08-11T11:03:29Z</td>\n",
       "      <td>@johnmelan</td>\n",
       "      <td>-baxAeq-MlU</td>\n",
       "      <td>6th</td>\n",
       "      <td>vi</td>\n",
       "    </tr>\n",
       "    <tr>\n",
       "      <th>38304</th>\n",
       "      <td>2020-08-11T11:06:58Z</td>\n",
       "      <td>@erewormara</td>\n",
       "      <td>-baxAeq-MlU</td>\n",
       "      <td>Zero xD</td>\n",
       "      <td>cs</td>\n",
       "    </tr>\n",
       "    <tr>\n",
       "      <th>38305</th>\n",
       "      <td>2020-08-11T11:08:17Z</td>\n",
       "      <td>@gemuelmoratalla2</td>\n",
       "      <td>-baxAeq-MlU</td>\n",
       "      <td>Sovanmara Mary you are late hahaha</td>\n",
       "      <td>so</td>\n",
       "    </tr>\n",
       "  </tbody>\n",
       "</table>\n",
       "<p>38306 rows × 5 columns</p>\n",
       "</div>"
      ],
      "text/plain": [
       "                       Date                Username      VideoID  \\\n",
       "0      2024-09-18T08:52:27Z            @Icequeen079  -baxAeq-MlU   \n",
       "1      2024-09-17T12:30:15Z          @nurtriana1656  -baxAeq-MlU   \n",
       "2      2024-09-15T17:29:53Z  @UreshaSandamali-kv3dh  -baxAeq-MlU   \n",
       "3      2024-09-12T03:22:25Z              @nicha3919  -baxAeq-MlU   \n",
       "4      2024-09-11T09:33:04Z             @nryaqq1593  -baxAeq-MlU   \n",
       "...                     ...                     ...          ...   \n",
       "38301  2020-08-11T11:01:39Z      @nurulsyahirah6126  -baxAeq-MlU   \n",
       "38302  2020-08-11T11:02:43Z           @rentsien8703  -baxAeq-MlU   \n",
       "38303  2020-08-11T11:03:29Z              @johnmelan  -baxAeq-MlU   \n",
       "38304  2020-08-11T11:06:58Z             @erewormara  -baxAeq-MlU   \n",
       "38305  2020-08-11T11:08:17Z       @gemuelmoratalla2  -baxAeq-MlU   \n",
       "\n",
       "                                                 Comment   Lang  \n",
       "0                                                 ❤❤❤❤❤❤  Other  \n",
       "1                           Ganteng neni to bret bret ❤❤     no  \n",
       "2                            ❤❤❤ woow. Congratulations 🎉     en  \n",
       "3      ถ้ำน้ำแข็งใสภาพที่เห็นเป็นไรครับไม่มีความคิดเห...     th  \n",
       "4                                                 Karam😭     id  \n",
       "...                                                  ...    ...  \n",
       "38301                                           Fourth??     en  \n",
       "38302                                              Fifth     de  \n",
       "38303                                                6th     vi  \n",
       "38304                                            Zero xD     cs  \n",
       "38305                 Sovanmara Mary you are late hahaha     so  \n",
       "\n",
       "[38306 rows x 5 columns]"
      ]
     },
     "execution_count": 20,
     "metadata": {},
     "output_type": "execute_result"
    }
   ],
   "source": [
    "df_inter3"
   ]
  },
  {
   "cell_type": "code",
   "execution_count": 21,
   "metadata": {},
   "outputs": [
    {
     "data": {
      "text/html": [
       "<div>\n",
       "<style scoped>\n",
       "    .dataframe tbody tr th:only-of-type {\n",
       "        vertical-align: middle;\n",
       "    }\n",
       "\n",
       "    .dataframe tbody tr th {\n",
       "        vertical-align: top;\n",
       "    }\n",
       "\n",
       "    .dataframe thead th {\n",
       "        text-align: right;\n",
       "    }\n",
       "</style>\n",
       "<table border=\"1\" class=\"dataframe\">\n",
       "  <thead>\n",
       "    <tr style=\"text-align: right;\">\n",
       "      <th></th>\n",
       "      <th>Lang</th>\n",
       "      <th>Count</th>\n",
       "    </tr>\n",
       "  </thead>\n",
       "  <tbody>\n",
       "    <tr>\n",
       "      <th>10</th>\n",
       "      <td>en</td>\n",
       "      <td>15733</td>\n",
       "    </tr>\n",
       "    <tr>\n",
       "      <th>38</th>\n",
       "      <td>th</td>\n",
       "      <td>10038</td>\n",
       "    </tr>\n",
       "    <tr>\n",
       "      <th>0</th>\n",
       "      <td>Other</td>\n",
       "      <td>3041</td>\n",
       "    </tr>\n",
       "    <tr>\n",
       "      <th>18</th>\n",
       "      <td>id</td>\n",
       "      <td>1424</td>\n",
       "    </tr>\n",
       "    <tr>\n",
       "      <th>39</th>\n",
       "      <td>tl</td>\n",
       "      <td>1150</td>\n",
       "    </tr>\n",
       "    <tr>\n",
       "      <th>8</th>\n",
       "      <td>de</td>\n",
       "      <td>823</td>\n",
       "    </tr>\n",
       "    <tr>\n",
       "      <th>33</th>\n",
       "      <td>so</td>\n",
       "      <td>751</td>\n",
       "    </tr>\n",
       "    <tr>\n",
       "      <th>11</th>\n",
       "      <td>es</td>\n",
       "      <td>698</td>\n",
       "    </tr>\n",
       "    <tr>\n",
       "      <th>1</th>\n",
       "      <td>af</td>\n",
       "      <td>481</td>\n",
       "    </tr>\n",
       "    <tr>\n",
       "      <th>42</th>\n",
       "      <td>vi</td>\n",
       "      <td>452</td>\n",
       "    </tr>\n",
       "    <tr>\n",
       "      <th>36</th>\n",
       "      <td>sw</td>\n",
       "      <td>396</td>\n",
       "    </tr>\n",
       "    <tr>\n",
       "      <th>28</th>\n",
       "      <td>pt</td>\n",
       "      <td>356</td>\n",
       "    </tr>\n",
       "    <tr>\n",
       "      <th>25</th>\n",
       "      <td>nl</td>\n",
       "      <td>295</td>\n",
       "    </tr>\n",
       "    <tr>\n",
       "      <th>6</th>\n",
       "      <td>cy</td>\n",
       "      <td>239</td>\n",
       "    </tr>\n",
       "    <tr>\n",
       "      <th>14</th>\n",
       "      <td>fi</td>\n",
       "      <td>218</td>\n",
       "    </tr>\n",
       "    <tr>\n",
       "      <th>19</th>\n",
       "      <td>it</td>\n",
       "      <td>193</td>\n",
       "    </tr>\n",
       "    <tr>\n",
       "      <th>26</th>\n",
       "      <td>no</td>\n",
       "      <td>189</td>\n",
       "    </tr>\n",
       "    <tr>\n",
       "      <th>15</th>\n",
       "      <td>fr</td>\n",
       "      <td>177</td>\n",
       "    </tr>\n",
       "    <tr>\n",
       "      <th>27</th>\n",
       "      <td>pl</td>\n",
       "      <td>163</td>\n",
       "    </tr>\n",
       "    <tr>\n",
       "      <th>12</th>\n",
       "      <td>et</td>\n",
       "      <td>163</td>\n",
       "    </tr>\n",
       "    <tr>\n",
       "      <th>7</th>\n",
       "      <td>da</td>\n",
       "      <td>157</td>\n",
       "    </tr>\n",
       "    <tr>\n",
       "      <th>29</th>\n",
       "      <td>ro</td>\n",
       "      <td>154</td>\n",
       "    </tr>\n",
       "    <tr>\n",
       "      <th>32</th>\n",
       "      <td>sl</td>\n",
       "      <td>144</td>\n",
       "    </tr>\n",
       "    <tr>\n",
       "      <th>40</th>\n",
       "      <td>tr</td>\n",
       "      <td>112</td>\n",
       "    </tr>\n",
       "    <tr>\n",
       "      <th>21</th>\n",
       "      <td>ko</td>\n",
       "      <td>97</td>\n",
       "    </tr>\n",
       "    <tr>\n",
       "      <th>35</th>\n",
       "      <td>sv</td>\n",
       "      <td>94</td>\n",
       "    </tr>\n",
       "    <tr>\n",
       "      <th>16</th>\n",
       "      <td>hr</td>\n",
       "      <td>77</td>\n",
       "    </tr>\n",
       "    <tr>\n",
       "      <th>20</th>\n",
       "      <td>ja</td>\n",
       "      <td>77</td>\n",
       "    </tr>\n",
       "    <tr>\n",
       "      <th>4</th>\n",
       "      <td>ca</td>\n",
       "      <td>74</td>\n",
       "    </tr>\n",
       "    <tr>\n",
       "      <th>17</th>\n",
       "      <td>hu</td>\n",
       "      <td>65</td>\n",
       "    </tr>\n",
       "    <tr>\n",
       "      <th>31</th>\n",
       "      <td>sk</td>\n",
       "      <td>58</td>\n",
       "    </tr>\n",
       "    <tr>\n",
       "      <th>34</th>\n",
       "      <td>sq</td>\n",
       "      <td>43</td>\n",
       "    </tr>\n",
       "    <tr>\n",
       "      <th>5</th>\n",
       "      <td>cs</td>\n",
       "      <td>36</td>\n",
       "    </tr>\n",
       "    <tr>\n",
       "      <th>2</th>\n",
       "      <td>ar</td>\n",
       "      <td>33</td>\n",
       "    </tr>\n",
       "    <tr>\n",
       "      <th>30</th>\n",
       "      <td>ru</td>\n",
       "      <td>28</td>\n",
       "    </tr>\n",
       "    <tr>\n",
       "      <th>22</th>\n",
       "      <td>lt</td>\n",
       "      <td>25</td>\n",
       "    </tr>\n",
       "    <tr>\n",
       "      <th>43</th>\n",
       "      <td>zh-cn</td>\n",
       "      <td>17</td>\n",
       "    </tr>\n",
       "    <tr>\n",
       "      <th>23</th>\n",
       "      <td>lv</td>\n",
       "      <td>9</td>\n",
       "    </tr>\n",
       "    <tr>\n",
       "      <th>41</th>\n",
       "      <td>uk</td>\n",
       "      <td>7</td>\n",
       "    </tr>\n",
       "    <tr>\n",
       "      <th>44</th>\n",
       "      <td>zh-tw</td>\n",
       "      <td>7</td>\n",
       "    </tr>\n",
       "    <tr>\n",
       "      <th>24</th>\n",
       "      <td>mk</td>\n",
       "      <td>5</td>\n",
       "    </tr>\n",
       "    <tr>\n",
       "      <th>13</th>\n",
       "      <td>fa</td>\n",
       "      <td>3</td>\n",
       "    </tr>\n",
       "    <tr>\n",
       "      <th>9</th>\n",
       "      <td>el</td>\n",
       "      <td>2</td>\n",
       "    </tr>\n",
       "    <tr>\n",
       "      <th>37</th>\n",
       "      <td>ta</td>\n",
       "      <td>1</td>\n",
       "    </tr>\n",
       "    <tr>\n",
       "      <th>3</th>\n",
       "      <td>bg</td>\n",
       "      <td>1</td>\n",
       "    </tr>\n",
       "  </tbody>\n",
       "</table>\n",
       "</div>"
      ],
      "text/plain": [
       "     Lang  Count\n",
       "10     en  15733\n",
       "38     th  10038\n",
       "0   Other   3041\n",
       "18     id   1424\n",
       "39     tl   1150\n",
       "8      de    823\n",
       "33     so    751\n",
       "11     es    698\n",
       "1      af    481\n",
       "42     vi    452\n",
       "36     sw    396\n",
       "28     pt    356\n",
       "25     nl    295\n",
       "6      cy    239\n",
       "14     fi    218\n",
       "19     it    193\n",
       "26     no    189\n",
       "15     fr    177\n",
       "27     pl    163\n",
       "12     et    163\n",
       "7      da    157\n",
       "29     ro    154\n",
       "32     sl    144\n",
       "40     tr    112\n",
       "21     ko     97\n",
       "35     sv     94\n",
       "16     hr     77\n",
       "20     ja     77\n",
       "4      ca     74\n",
       "17     hu     65\n",
       "31     sk     58\n",
       "34     sq     43\n",
       "5      cs     36\n",
       "2      ar     33\n",
       "30     ru     28\n",
       "22     lt     25\n",
       "43  zh-cn     17\n",
       "23     lv      9\n",
       "41     uk      7\n",
       "44  zh-tw      7\n",
       "24     mk      5\n",
       "13     fa      3\n",
       "9      el      2\n",
       "37     ta      1\n",
       "3      bg      1"
      ]
     },
     "execution_count": 21,
     "metadata": {},
     "output_type": "execute_result"
    }
   ],
   "source": [
    "df = df_inter3.groupby(['Lang'])['Comment'].count().reset_index(name='Count').sort_values(['Count'], ascending=False)\n",
    "df"
   ]
  },
  {
   "cell_type": "code",
   "execution_count": 22,
   "metadata": {},
   "outputs": [
    {
     "data": {
      "application/vnd.plotly.v1+json": {
       "config": {
        "plotlyServerURL": "https://plot.ly"
       },
       "data": [
        {
         "domain": {
          "x": [
           0,
           1
          ],
          "y": [
           0,
           1
          ]
         },
         "hovertemplate": "Lang=%{label}<br>Count=%{value}<extra></extra>",
         "labels": [
          "en",
          "th",
          "Other",
          "id",
          "tl",
          "de",
          "so",
          "es",
          "af",
          "vi",
          "sw",
          "pt",
          "nl",
          "cy",
          "fi",
          "it",
          "no",
          "fr",
          "pl",
          "et",
          "da",
          "ro",
          "sl",
          "tr",
          "ko",
          "sv",
          "hr",
          "ja",
          "ca",
          "hu",
          "sk",
          "sq",
          "cs",
          "ar",
          "ru",
          "lt",
          "zh-cn",
          "lv",
          "uk",
          "zh-tw",
          "mk",
          "fa",
          "el",
          "ta",
          "bg"
         ],
         "legendgroup": "",
         "name": "",
         "showlegend": true,
         "textposition": "inside",
         "type": "pie",
         "values": [
          15733,
          10038,
          3041,
          1424,
          1150,
          823,
          751,
          698,
          481,
          452,
          396,
          356,
          295,
          239,
          218,
          193,
          189,
          177,
          163,
          163,
          157,
          154,
          144,
          112,
          97,
          94,
          77,
          77,
          74,
          65,
          58,
          43,
          36,
          33,
          28,
          25,
          17,
          9,
          7,
          7,
          5,
          3,
          2,
          1,
          1
         ]
        }
       ],
       "layout": {
        "legend": {
         "tracegroupgap": 0
        },
        "template": {
         "data": {
          "bar": [
           {
            "error_x": {
             "color": "#2a3f5f"
            },
            "error_y": {
             "color": "#2a3f5f"
            },
            "marker": {
             "line": {
              "color": "#E5ECF6",
              "width": 0.5
             },
             "pattern": {
              "fillmode": "overlay",
              "size": 10,
              "solidity": 0.2
             }
            },
            "type": "bar"
           }
          ],
          "barpolar": [
           {
            "marker": {
             "line": {
              "color": "#E5ECF6",
              "width": 0.5
             },
             "pattern": {
              "fillmode": "overlay",
              "size": 10,
              "solidity": 0.2
             }
            },
            "type": "barpolar"
           }
          ],
          "carpet": [
           {
            "aaxis": {
             "endlinecolor": "#2a3f5f",
             "gridcolor": "white",
             "linecolor": "white",
             "minorgridcolor": "white",
             "startlinecolor": "#2a3f5f"
            },
            "baxis": {
             "endlinecolor": "#2a3f5f",
             "gridcolor": "white",
             "linecolor": "white",
             "minorgridcolor": "white",
             "startlinecolor": "#2a3f5f"
            },
            "type": "carpet"
           }
          ],
          "choropleth": [
           {
            "colorbar": {
             "outlinewidth": 0,
             "ticks": ""
            },
            "type": "choropleth"
           }
          ],
          "contour": [
           {
            "colorbar": {
             "outlinewidth": 0,
             "ticks": ""
            },
            "colorscale": [
             [
              0,
              "#0d0887"
             ],
             [
              0.1111111111111111,
              "#46039f"
             ],
             [
              0.2222222222222222,
              "#7201a8"
             ],
             [
              0.3333333333333333,
              "#9c179e"
             ],
             [
              0.4444444444444444,
              "#bd3786"
             ],
             [
              0.5555555555555556,
              "#d8576b"
             ],
             [
              0.6666666666666666,
              "#ed7953"
             ],
             [
              0.7777777777777778,
              "#fb9f3a"
             ],
             [
              0.8888888888888888,
              "#fdca26"
             ],
             [
              1,
              "#f0f921"
             ]
            ],
            "type": "contour"
           }
          ],
          "contourcarpet": [
           {
            "colorbar": {
             "outlinewidth": 0,
             "ticks": ""
            },
            "type": "contourcarpet"
           }
          ],
          "heatmap": [
           {
            "colorbar": {
             "outlinewidth": 0,
             "ticks": ""
            },
            "colorscale": [
             [
              0,
              "#0d0887"
             ],
             [
              0.1111111111111111,
              "#46039f"
             ],
             [
              0.2222222222222222,
              "#7201a8"
             ],
             [
              0.3333333333333333,
              "#9c179e"
             ],
             [
              0.4444444444444444,
              "#bd3786"
             ],
             [
              0.5555555555555556,
              "#d8576b"
             ],
             [
              0.6666666666666666,
              "#ed7953"
             ],
             [
              0.7777777777777778,
              "#fb9f3a"
             ],
             [
              0.8888888888888888,
              "#fdca26"
             ],
             [
              1,
              "#f0f921"
             ]
            ],
            "type": "heatmap"
           }
          ],
          "heatmapgl": [
           {
            "colorbar": {
             "outlinewidth": 0,
             "ticks": ""
            },
            "colorscale": [
             [
              0,
              "#0d0887"
             ],
             [
              0.1111111111111111,
              "#46039f"
             ],
             [
              0.2222222222222222,
              "#7201a8"
             ],
             [
              0.3333333333333333,
              "#9c179e"
             ],
             [
              0.4444444444444444,
              "#bd3786"
             ],
             [
              0.5555555555555556,
              "#d8576b"
             ],
             [
              0.6666666666666666,
              "#ed7953"
             ],
             [
              0.7777777777777778,
              "#fb9f3a"
             ],
             [
              0.8888888888888888,
              "#fdca26"
             ],
             [
              1,
              "#f0f921"
             ]
            ],
            "type": "heatmapgl"
           }
          ],
          "histogram": [
           {
            "marker": {
             "pattern": {
              "fillmode": "overlay",
              "size": 10,
              "solidity": 0.2
             }
            },
            "type": "histogram"
           }
          ],
          "histogram2d": [
           {
            "colorbar": {
             "outlinewidth": 0,
             "ticks": ""
            },
            "colorscale": [
             [
              0,
              "#0d0887"
             ],
             [
              0.1111111111111111,
              "#46039f"
             ],
             [
              0.2222222222222222,
              "#7201a8"
             ],
             [
              0.3333333333333333,
              "#9c179e"
             ],
             [
              0.4444444444444444,
              "#bd3786"
             ],
             [
              0.5555555555555556,
              "#d8576b"
             ],
             [
              0.6666666666666666,
              "#ed7953"
             ],
             [
              0.7777777777777778,
              "#fb9f3a"
             ],
             [
              0.8888888888888888,
              "#fdca26"
             ],
             [
              1,
              "#f0f921"
             ]
            ],
            "type": "histogram2d"
           }
          ],
          "histogram2dcontour": [
           {
            "colorbar": {
             "outlinewidth": 0,
             "ticks": ""
            },
            "colorscale": [
             [
              0,
              "#0d0887"
             ],
             [
              0.1111111111111111,
              "#46039f"
             ],
             [
              0.2222222222222222,
              "#7201a8"
             ],
             [
              0.3333333333333333,
              "#9c179e"
             ],
             [
              0.4444444444444444,
              "#bd3786"
             ],
             [
              0.5555555555555556,
              "#d8576b"
             ],
             [
              0.6666666666666666,
              "#ed7953"
             ],
             [
              0.7777777777777778,
              "#fb9f3a"
             ],
             [
              0.8888888888888888,
              "#fdca26"
             ],
             [
              1,
              "#f0f921"
             ]
            ],
            "type": "histogram2dcontour"
           }
          ],
          "mesh3d": [
           {
            "colorbar": {
             "outlinewidth": 0,
             "ticks": ""
            },
            "type": "mesh3d"
           }
          ],
          "parcoords": [
           {
            "line": {
             "colorbar": {
              "outlinewidth": 0,
              "ticks": ""
             }
            },
            "type": "parcoords"
           }
          ],
          "pie": [
           {
            "automargin": true,
            "type": "pie"
           }
          ],
          "scatter": [
           {
            "fillpattern": {
             "fillmode": "overlay",
             "size": 10,
             "solidity": 0.2
            },
            "type": "scatter"
           }
          ],
          "scatter3d": [
           {
            "line": {
             "colorbar": {
              "outlinewidth": 0,
              "ticks": ""
             }
            },
            "marker": {
             "colorbar": {
              "outlinewidth": 0,
              "ticks": ""
             }
            },
            "type": "scatter3d"
           }
          ],
          "scattercarpet": [
           {
            "marker": {
             "colorbar": {
              "outlinewidth": 0,
              "ticks": ""
             }
            },
            "type": "scattercarpet"
           }
          ],
          "scattergeo": [
           {
            "marker": {
             "colorbar": {
              "outlinewidth": 0,
              "ticks": ""
             }
            },
            "type": "scattergeo"
           }
          ],
          "scattergl": [
           {
            "marker": {
             "colorbar": {
              "outlinewidth": 0,
              "ticks": ""
             }
            },
            "type": "scattergl"
           }
          ],
          "scattermapbox": [
           {
            "marker": {
             "colorbar": {
              "outlinewidth": 0,
              "ticks": ""
             }
            },
            "type": "scattermapbox"
           }
          ],
          "scatterpolar": [
           {
            "marker": {
             "colorbar": {
              "outlinewidth": 0,
              "ticks": ""
             }
            },
            "type": "scatterpolar"
           }
          ],
          "scatterpolargl": [
           {
            "marker": {
             "colorbar": {
              "outlinewidth": 0,
              "ticks": ""
             }
            },
            "type": "scatterpolargl"
           }
          ],
          "scatterternary": [
           {
            "marker": {
             "colorbar": {
              "outlinewidth": 0,
              "ticks": ""
             }
            },
            "type": "scatterternary"
           }
          ],
          "surface": [
           {
            "colorbar": {
             "outlinewidth": 0,
             "ticks": ""
            },
            "colorscale": [
             [
              0,
              "#0d0887"
             ],
             [
              0.1111111111111111,
              "#46039f"
             ],
             [
              0.2222222222222222,
              "#7201a8"
             ],
             [
              0.3333333333333333,
              "#9c179e"
             ],
             [
              0.4444444444444444,
              "#bd3786"
             ],
             [
              0.5555555555555556,
              "#d8576b"
             ],
             [
              0.6666666666666666,
              "#ed7953"
             ],
             [
              0.7777777777777778,
              "#fb9f3a"
             ],
             [
              0.8888888888888888,
              "#fdca26"
             ],
             [
              1,
              "#f0f921"
             ]
            ],
            "type": "surface"
           }
          ],
          "table": [
           {
            "cells": {
             "fill": {
              "color": "#EBF0F8"
             },
             "line": {
              "color": "white"
             }
            },
            "header": {
             "fill": {
              "color": "#C8D4E3"
             },
             "line": {
              "color": "white"
             }
            },
            "type": "table"
           }
          ]
         },
         "layout": {
          "annotationdefaults": {
           "arrowcolor": "#2a3f5f",
           "arrowhead": 0,
           "arrowwidth": 1
          },
          "autotypenumbers": "strict",
          "coloraxis": {
           "colorbar": {
            "outlinewidth": 0,
            "ticks": ""
           }
          },
          "colorscale": {
           "diverging": [
            [
             0,
             "#8e0152"
            ],
            [
             0.1,
             "#c51b7d"
            ],
            [
             0.2,
             "#de77ae"
            ],
            [
             0.3,
             "#f1b6da"
            ],
            [
             0.4,
             "#fde0ef"
            ],
            [
             0.5,
             "#f7f7f7"
            ],
            [
             0.6,
             "#e6f5d0"
            ],
            [
             0.7,
             "#b8e186"
            ],
            [
             0.8,
             "#7fbc41"
            ],
            [
             0.9,
             "#4d9221"
            ],
            [
             1,
             "#276419"
            ]
           ],
           "sequential": [
            [
             0,
             "#0d0887"
            ],
            [
             0.1111111111111111,
             "#46039f"
            ],
            [
             0.2222222222222222,
             "#7201a8"
            ],
            [
             0.3333333333333333,
             "#9c179e"
            ],
            [
             0.4444444444444444,
             "#bd3786"
            ],
            [
             0.5555555555555556,
             "#d8576b"
            ],
            [
             0.6666666666666666,
             "#ed7953"
            ],
            [
             0.7777777777777778,
             "#fb9f3a"
            ],
            [
             0.8888888888888888,
             "#fdca26"
            ],
            [
             1,
             "#f0f921"
            ]
           ],
           "sequentialminus": [
            [
             0,
             "#0d0887"
            ],
            [
             0.1111111111111111,
             "#46039f"
            ],
            [
             0.2222222222222222,
             "#7201a8"
            ],
            [
             0.3333333333333333,
             "#9c179e"
            ],
            [
             0.4444444444444444,
             "#bd3786"
            ],
            [
             0.5555555555555556,
             "#d8576b"
            ],
            [
             0.6666666666666666,
             "#ed7953"
            ],
            [
             0.7777777777777778,
             "#fb9f3a"
            ],
            [
             0.8888888888888888,
             "#fdca26"
            ],
            [
             1,
             "#f0f921"
            ]
           ]
          },
          "colorway": [
           "#636efa",
           "#EF553B",
           "#00cc96",
           "#ab63fa",
           "#FFA15A",
           "#19d3f3",
           "#FF6692",
           "#B6E880",
           "#FF97FF",
           "#FECB52"
          ],
          "font": {
           "color": "#2a3f5f"
          },
          "geo": {
           "bgcolor": "white",
           "lakecolor": "white",
           "landcolor": "#E5ECF6",
           "showlakes": true,
           "showland": true,
           "subunitcolor": "white"
          },
          "hoverlabel": {
           "align": "left"
          },
          "hovermode": "closest",
          "mapbox": {
           "style": "light"
          },
          "paper_bgcolor": "white",
          "plot_bgcolor": "#E5ECF6",
          "polar": {
           "angularaxis": {
            "gridcolor": "white",
            "linecolor": "white",
            "ticks": ""
           },
           "bgcolor": "#E5ECF6",
           "radialaxis": {
            "gridcolor": "white",
            "linecolor": "white",
            "ticks": ""
           }
          },
          "scene": {
           "xaxis": {
            "backgroundcolor": "#E5ECF6",
            "gridcolor": "white",
            "gridwidth": 2,
            "linecolor": "white",
            "showbackground": true,
            "ticks": "",
            "zerolinecolor": "white"
           },
           "yaxis": {
            "backgroundcolor": "#E5ECF6",
            "gridcolor": "white",
            "gridwidth": 2,
            "linecolor": "white",
            "showbackground": true,
            "ticks": "",
            "zerolinecolor": "white"
           },
           "zaxis": {
            "backgroundcolor": "#E5ECF6",
            "gridcolor": "white",
            "gridwidth": 2,
            "linecolor": "white",
            "showbackground": true,
            "ticks": "",
            "zerolinecolor": "white"
           }
          },
          "shapedefaults": {
           "line": {
            "color": "#2a3f5f"
           }
          },
          "ternary": {
           "aaxis": {
            "gridcolor": "white",
            "linecolor": "white",
            "ticks": ""
           },
           "baxis": {
            "gridcolor": "white",
            "linecolor": "white",
            "ticks": ""
           },
           "bgcolor": "#E5ECF6",
           "caxis": {
            "gridcolor": "white",
            "linecolor": "white",
            "ticks": ""
           }
          },
          "title": {
           "x": 0.05
          },
          "xaxis": {
           "automargin": true,
           "gridcolor": "white",
           "linecolor": "white",
           "ticks": "",
           "title": {
            "standoff": 15
           },
           "zerolinecolor": "white",
           "zerolinewidth": 2
          },
          "yaxis": {
           "automargin": true,
           "gridcolor": "white",
           "linecolor": "white",
           "ticks": "",
           "title": {
            "standoff": 15
           },
           "zerolinecolor": "white",
           "zerolinewidth": 2
          }
         }
        },
        "title": {
         "text": "ยังคู่กัน"
        },
        "uniformtext": {
         "minsize": 12,
         "mode": "hide"
        }
       }
      }
     },
     "metadata": {},
     "output_type": "display_data"
    }
   ],
   "source": [
    "fig = px.pie(df, values='Count', names='Lang',title=\"ยังคู่กัน\")\n",
    "fig.update_traces(textposition='inside')\n",
    "fig.update_layout(uniformtext_minsize=12, uniformtext_mode='hide')\n",
    "fig.show()"
   ]
  },
  {
   "cell_type": "code",
   "execution_count": null,
   "metadata": {},
   "outputs": [],
   "source": []
  },
  {
   "cell_type": "code",
   "execution_count": 23,
   "metadata": {},
   "outputs": [],
   "source": [
    "df_all = pd.concat([df_inter1,df_inter2,df_inter3])\n",
    "df_all2 = df_all[df_all['Lang'] == 'id']"
   ]
  },
  {
   "cell_type": "code",
   "execution_count": 24,
   "metadata": {},
   "outputs": [
    {
     "data": {
      "text/html": [
       "<div>\n",
       "<style scoped>\n",
       "    .dataframe tbody tr th:only-of-type {\n",
       "        vertical-align: middle;\n",
       "    }\n",
       "\n",
       "    .dataframe tbody tr th {\n",
       "        vertical-align: top;\n",
       "    }\n",
       "\n",
       "    .dataframe thead th {\n",
       "        text-align: right;\n",
       "    }\n",
       "</style>\n",
       "<table border=\"1\" class=\"dataframe\">\n",
       "  <thead>\n",
       "    <tr style=\"text-align: right;\">\n",
       "      <th></th>\n",
       "      <th>Date</th>\n",
       "      <th>Username</th>\n",
       "      <th>VideoID</th>\n",
       "      <th>Comment</th>\n",
       "      <th>Lang</th>\n",
       "    </tr>\n",
       "  </thead>\n",
       "  <tbody>\n",
       "    <tr>\n",
       "      <th>29</th>\n",
       "      <td>2024-01-27T10:25:32Z</td>\n",
       "      <td>@anjima383</td>\n",
       "      <td>qguo-j5PxBE</td>\n",
       "      <td>Man... U r amazing dude</td>\n",
       "      <td>id</td>\n",
       "    </tr>\n",
       "    <tr>\n",
       "      <th>180</th>\n",
       "      <td>2024-06-12T20:53:50Z</td>\n",
       "      <td>@ammylovelove1426</td>\n",
       "      <td>qguo-j5PxBE</td>\n",
       "      <td>😢​@@minesaturw😅😅😊😊😅Zt</td>\n",
       "      <td>id</td>\n",
       "    </tr>\n",
       "    <tr>\n",
       "      <th>184</th>\n",
       "      <td>2024-06-12T20:53:50Z</td>\n",
       "      <td>@papertime4820</td>\n",
       "      <td>qguo-j5PxBE</td>\n",
       "      <td>​@@minesatur2:30 😅</td>\n",
       "      <td>id</td>\n",
       "    </tr>\n",
       "    <tr>\n",
       "      <th>255</th>\n",
       "      <td>2024-06-12T20:46:32Z</td>\n",
       "      <td>@วีระพงษ์-ษ6ซ</td>\n",
       "      <td>qguo-j5PxBE</td>\n",
       "      <td>@@minesatur เพลง</td>\n",
       "      <td>id</td>\n",
       "    </tr>\n",
       "    <tr>\n",
       "      <th>268</th>\n",
       "      <td>2024-04-05T03:07:03Z</td>\n",
       "      <td>@poknok3597</td>\n",
       "      <td>qguo-j5PxBE</td>\n",
       "      <td>😂 0:13 อฟ๙แ.I ​@@minesatur</td>\n",
       "      <td>id</td>\n",
       "    </tr>\n",
       "    <tr>\n",
       "      <th>...</th>\n",
       "      <td>...</td>\n",
       "      <td>...</td>\n",
       "      <td>...</td>\n",
       "      <td>...</td>\n",
       "      <td>...</td>\n",
       "    </tr>\n",
       "    <tr>\n",
       "      <th>38202</th>\n",
       "      <td>2020-08-11T11:00:39Z</td>\n",
       "      <td>@cvk5at733</td>\n",
       "      <td>-baxAeq-MlU</td>\n",
       "      <td>Akhirnya yang ditunggu - tunggu ❤😘</td>\n",
       "      <td>id</td>\n",
       "    </tr>\n",
       "    <tr>\n",
       "      <th>38238</th>\n",
       "      <td>2020-08-11T11:00:31Z</td>\n",
       "      <td>@reinotrain</td>\n",
       "      <td>-baxAeq-MlU</td>\n",
       "      <td>Yawlahhh akhirnya</td>\n",
       "      <td>id</td>\n",
       "    </tr>\n",
       "    <tr>\n",
       "      <th>38253</th>\n",
       "      <td>2020-08-11T11:04:31Z</td>\n",
       "      <td>@keysavallisya2544</td>\n",
       "      <td>-baxAeq-MlU</td>\n",
       "      <td>YESSSSS PERIODDDTTT.🧚‍♀️💅❤❤❤</td>\n",
       "      <td>id</td>\n",
       "    </tr>\n",
       "    <tr>\n",
       "      <th>38261</th>\n",
       "      <td>2020-08-11T11:00:27Z</td>\n",
       "      <td>@kiaimanuel4942</td>\n",
       "      <td>-baxAeq-MlU</td>\n",
       "      <td>Cute parahhh</td>\n",
       "      <td>id</td>\n",
       "    </tr>\n",
       "    <tr>\n",
       "      <th>38277</th>\n",
       "      <td>2020-08-11T11:00:24Z</td>\n",
       "      <td>@ardaejae</td>\n",
       "      <td>-baxAeq-MlU</td>\n",
       "      <td>Indonesia Here</td>\n",
       "      <td>id</td>\n",
       "    </tr>\n",
       "  </tbody>\n",
       "</table>\n",
       "<p>1558 rows × 5 columns</p>\n",
       "</div>"
      ],
      "text/plain": [
       "                       Date            Username      VideoID  \\\n",
       "29     2024-01-27T10:25:32Z          @anjima383  qguo-j5PxBE   \n",
       "180    2024-06-12T20:53:50Z   @ammylovelove1426  qguo-j5PxBE   \n",
       "184    2024-06-12T20:53:50Z      @papertime4820  qguo-j5PxBE   \n",
       "255    2024-06-12T20:46:32Z       @วีระพงษ์-ษ6ซ  qguo-j5PxBE   \n",
       "268    2024-04-05T03:07:03Z         @poknok3597  qguo-j5PxBE   \n",
       "...                     ...                 ...          ...   \n",
       "38202  2020-08-11T11:00:39Z          @cvk5at733  -baxAeq-MlU   \n",
       "38238  2020-08-11T11:00:31Z         @reinotrain  -baxAeq-MlU   \n",
       "38253  2020-08-11T11:04:31Z  @keysavallisya2544  -baxAeq-MlU   \n",
       "38261  2020-08-11T11:00:27Z     @kiaimanuel4942  -baxAeq-MlU   \n",
       "38277  2020-08-11T11:00:24Z           @ardaejae  -baxAeq-MlU   \n",
       "\n",
       "                                  Comment Lang  \n",
       "29                Man... U r amazing dude   id  \n",
       "180                 😢​@@minesaturw😅😅😊😊😅Zt   id  \n",
       "184                    ​@@minesatur2:30 😅   id  \n",
       "255                      @@minesatur เพลง   id  \n",
       "268            😂 0:13 อฟ๙แ.I ​@@minesatur   id  \n",
       "...                                   ...  ...  \n",
       "38202  Akhirnya yang ditunggu - tunggu ❤😘   id  \n",
       "38238                   Yawlahhh akhirnya   id  \n",
       "38253        YESSSSS PERIODDDTTT.🧚‍♀️💅❤❤❤   id  \n",
       "38261                        Cute parahhh   id  \n",
       "38277                      Indonesia Here   id  \n",
       "\n",
       "[1558 rows x 5 columns]"
      ]
     },
     "execution_count": 24,
     "metadata": {},
     "output_type": "execute_result"
    }
   ],
   "source": [
    "df_all2"
   ]
  },
  {
   "cell_type": "code",
   "execution_count": 29,
   "metadata": {},
   "outputs": [
    {
     "data": {
      "text/html": [
       "<div>\n",
       "<style scoped>\n",
       "    .dataframe tbody tr th:only-of-type {\n",
       "        vertical-align: middle;\n",
       "    }\n",
       "\n",
       "    .dataframe tbody tr th {\n",
       "        vertical-align: top;\n",
       "    }\n",
       "\n",
       "    .dataframe thead th {\n",
       "        text-align: right;\n",
       "    }\n",
       "</style>\n",
       "<table border=\"1\" class=\"dataframe\">\n",
       "  <thead>\n",
       "    <tr style=\"text-align: right;\">\n",
       "      <th></th>\n",
       "      <th>VideoID</th>\n",
       "      <th>Count</th>\n",
       "    </tr>\n",
       "  </thead>\n",
       "  <tbody>\n",
       "    <tr>\n",
       "      <th>0</th>\n",
       "      <td>-baxAeq-MlU</td>\n",
       "      <td>1424</td>\n",
       "    </tr>\n",
       "    <tr>\n",
       "      <th>2</th>\n",
       "      <td>qguo-j5PxBE</td>\n",
       "      <td>104</td>\n",
       "    </tr>\n",
       "    <tr>\n",
       "      <th>1</th>\n",
       "      <td>WtcKJtwMD2E</td>\n",
       "      <td>30</td>\n",
       "    </tr>\n",
       "  </tbody>\n",
       "</table>\n",
       "</div>"
      ],
      "text/plain": [
       "       VideoID  Count\n",
       "0  -baxAeq-MlU   1424\n",
       "2  qguo-j5PxBE    104\n",
       "1  WtcKJtwMD2E     30"
      ]
     },
     "execution_count": 29,
     "metadata": {},
     "output_type": "execute_result"
    }
   ],
   "source": [
    "test = df_all2.groupby(['VideoID'])['Lang'].count().reset_index(name='Count').sort_values(['Count'], ascending=False)\n",
    "test"
   ]
  },
  {
   "cell_type": "code",
   "execution_count": 30,
   "metadata": {},
   "outputs": [],
   "source": [
    "# test.replace({'VideoID':{0: 'BIRDS OF A FEATHER',1: 'Die With a Smile', 2: 'yellow coldplay'}})\n",
    "test.loc[[0,1,2],['VideoID']] =[\"ยังคู่กัน\",'ซ่อน (ไม่) หา',\"ดาวหางฮัลเลย์\"]"
   ]
  },
  {
   "cell_type": "code",
   "execution_count": 31,
   "metadata": {},
   "outputs": [
    {
     "data": {
      "text/html": [
       "<div>\n",
       "<style scoped>\n",
       "    .dataframe tbody tr th:only-of-type {\n",
       "        vertical-align: middle;\n",
       "    }\n",
       "\n",
       "    .dataframe tbody tr th {\n",
       "        vertical-align: top;\n",
       "    }\n",
       "\n",
       "    .dataframe thead th {\n",
       "        text-align: right;\n",
       "    }\n",
       "</style>\n",
       "<table border=\"1\" class=\"dataframe\">\n",
       "  <thead>\n",
       "    <tr style=\"text-align: right;\">\n",
       "      <th></th>\n",
       "      <th>VideoID</th>\n",
       "      <th>Count</th>\n",
       "    </tr>\n",
       "  </thead>\n",
       "  <tbody>\n",
       "    <tr>\n",
       "      <th>0</th>\n",
       "      <td>ยังคู่กัน</td>\n",
       "      <td>1424</td>\n",
       "    </tr>\n",
       "    <tr>\n",
       "      <th>2</th>\n",
       "      <td>ดาวหางฮัลเลย์</td>\n",
       "      <td>104</td>\n",
       "    </tr>\n",
       "    <tr>\n",
       "      <th>1</th>\n",
       "      <td>ซ่อน (ไม่) หา</td>\n",
       "      <td>30</td>\n",
       "    </tr>\n",
       "  </tbody>\n",
       "</table>\n",
       "</div>"
      ],
      "text/plain": [
       "         VideoID  Count\n",
       "0      ยังคู่กัน   1424\n",
       "2  ดาวหางฮัลเลย์    104\n",
       "1  ซ่อน (ไม่) หา     30"
      ]
     },
     "execution_count": 31,
     "metadata": {},
     "output_type": "execute_result"
    }
   ],
   "source": [
    "test"
   ]
  },
  {
   "cell_type": "code",
   "execution_count": 32,
   "metadata": {},
   "outputs": [
    {
     "data": {
      "application/vnd.plotly.v1+json": {
       "config": {
        "plotlyServerURL": "https://plot.ly"
       },
       "data": [
        {
         "alignmentgroup": "True",
         "hovertemplate": "VideoID=%{x}<br>Count=%{y}<extra></extra>",
         "legendgroup": "",
         "marker": {
          "color": "#636efa",
          "pattern": {
           "shape": ""
          }
         },
         "name": "",
         "offsetgroup": "",
         "orientation": "v",
         "showlegend": false,
         "textposition": "auto",
         "type": "bar",
         "x": [
          "ยังคู่กัน",
          "ดาวหางฮัลเลย์",
          "ซ่อน (ไม่) หา"
         ],
         "xaxis": "x",
         "y": [
          1424,
          104,
          30
         ],
         "yaxis": "y"
        }
       ],
       "layout": {
        "barmode": "relative",
        "legend": {
         "tracegroupgap": 0
        },
        "margin": {
         "t": 60
        },
        "template": {
         "data": {
          "bar": [
           {
            "error_x": {
             "color": "#2a3f5f"
            },
            "error_y": {
             "color": "#2a3f5f"
            },
            "marker": {
             "line": {
              "color": "#E5ECF6",
              "width": 0.5
             },
             "pattern": {
              "fillmode": "overlay",
              "size": 10,
              "solidity": 0.2
             }
            },
            "type": "bar"
           }
          ],
          "barpolar": [
           {
            "marker": {
             "line": {
              "color": "#E5ECF6",
              "width": 0.5
             },
             "pattern": {
              "fillmode": "overlay",
              "size": 10,
              "solidity": 0.2
             }
            },
            "type": "barpolar"
           }
          ],
          "carpet": [
           {
            "aaxis": {
             "endlinecolor": "#2a3f5f",
             "gridcolor": "white",
             "linecolor": "white",
             "minorgridcolor": "white",
             "startlinecolor": "#2a3f5f"
            },
            "baxis": {
             "endlinecolor": "#2a3f5f",
             "gridcolor": "white",
             "linecolor": "white",
             "minorgridcolor": "white",
             "startlinecolor": "#2a3f5f"
            },
            "type": "carpet"
           }
          ],
          "choropleth": [
           {
            "colorbar": {
             "outlinewidth": 0,
             "ticks": ""
            },
            "type": "choropleth"
           }
          ],
          "contour": [
           {
            "colorbar": {
             "outlinewidth": 0,
             "ticks": ""
            },
            "colorscale": [
             [
              0,
              "#0d0887"
             ],
             [
              0.1111111111111111,
              "#46039f"
             ],
             [
              0.2222222222222222,
              "#7201a8"
             ],
             [
              0.3333333333333333,
              "#9c179e"
             ],
             [
              0.4444444444444444,
              "#bd3786"
             ],
             [
              0.5555555555555556,
              "#d8576b"
             ],
             [
              0.6666666666666666,
              "#ed7953"
             ],
             [
              0.7777777777777778,
              "#fb9f3a"
             ],
             [
              0.8888888888888888,
              "#fdca26"
             ],
             [
              1,
              "#f0f921"
             ]
            ],
            "type": "contour"
           }
          ],
          "contourcarpet": [
           {
            "colorbar": {
             "outlinewidth": 0,
             "ticks": ""
            },
            "type": "contourcarpet"
           }
          ],
          "heatmap": [
           {
            "colorbar": {
             "outlinewidth": 0,
             "ticks": ""
            },
            "colorscale": [
             [
              0,
              "#0d0887"
             ],
             [
              0.1111111111111111,
              "#46039f"
             ],
             [
              0.2222222222222222,
              "#7201a8"
             ],
             [
              0.3333333333333333,
              "#9c179e"
             ],
             [
              0.4444444444444444,
              "#bd3786"
             ],
             [
              0.5555555555555556,
              "#d8576b"
             ],
             [
              0.6666666666666666,
              "#ed7953"
             ],
             [
              0.7777777777777778,
              "#fb9f3a"
             ],
             [
              0.8888888888888888,
              "#fdca26"
             ],
             [
              1,
              "#f0f921"
             ]
            ],
            "type": "heatmap"
           }
          ],
          "heatmapgl": [
           {
            "colorbar": {
             "outlinewidth": 0,
             "ticks": ""
            },
            "colorscale": [
             [
              0,
              "#0d0887"
             ],
             [
              0.1111111111111111,
              "#46039f"
             ],
             [
              0.2222222222222222,
              "#7201a8"
             ],
             [
              0.3333333333333333,
              "#9c179e"
             ],
             [
              0.4444444444444444,
              "#bd3786"
             ],
             [
              0.5555555555555556,
              "#d8576b"
             ],
             [
              0.6666666666666666,
              "#ed7953"
             ],
             [
              0.7777777777777778,
              "#fb9f3a"
             ],
             [
              0.8888888888888888,
              "#fdca26"
             ],
             [
              1,
              "#f0f921"
             ]
            ],
            "type": "heatmapgl"
           }
          ],
          "histogram": [
           {
            "marker": {
             "pattern": {
              "fillmode": "overlay",
              "size": 10,
              "solidity": 0.2
             }
            },
            "type": "histogram"
           }
          ],
          "histogram2d": [
           {
            "colorbar": {
             "outlinewidth": 0,
             "ticks": ""
            },
            "colorscale": [
             [
              0,
              "#0d0887"
             ],
             [
              0.1111111111111111,
              "#46039f"
             ],
             [
              0.2222222222222222,
              "#7201a8"
             ],
             [
              0.3333333333333333,
              "#9c179e"
             ],
             [
              0.4444444444444444,
              "#bd3786"
             ],
             [
              0.5555555555555556,
              "#d8576b"
             ],
             [
              0.6666666666666666,
              "#ed7953"
             ],
             [
              0.7777777777777778,
              "#fb9f3a"
             ],
             [
              0.8888888888888888,
              "#fdca26"
             ],
             [
              1,
              "#f0f921"
             ]
            ],
            "type": "histogram2d"
           }
          ],
          "histogram2dcontour": [
           {
            "colorbar": {
             "outlinewidth": 0,
             "ticks": ""
            },
            "colorscale": [
             [
              0,
              "#0d0887"
             ],
             [
              0.1111111111111111,
              "#46039f"
             ],
             [
              0.2222222222222222,
              "#7201a8"
             ],
             [
              0.3333333333333333,
              "#9c179e"
             ],
             [
              0.4444444444444444,
              "#bd3786"
             ],
             [
              0.5555555555555556,
              "#d8576b"
             ],
             [
              0.6666666666666666,
              "#ed7953"
             ],
             [
              0.7777777777777778,
              "#fb9f3a"
             ],
             [
              0.8888888888888888,
              "#fdca26"
             ],
             [
              1,
              "#f0f921"
             ]
            ],
            "type": "histogram2dcontour"
           }
          ],
          "mesh3d": [
           {
            "colorbar": {
             "outlinewidth": 0,
             "ticks": ""
            },
            "type": "mesh3d"
           }
          ],
          "parcoords": [
           {
            "line": {
             "colorbar": {
              "outlinewidth": 0,
              "ticks": ""
             }
            },
            "type": "parcoords"
           }
          ],
          "pie": [
           {
            "automargin": true,
            "type": "pie"
           }
          ],
          "scatter": [
           {
            "fillpattern": {
             "fillmode": "overlay",
             "size": 10,
             "solidity": 0.2
            },
            "type": "scatter"
           }
          ],
          "scatter3d": [
           {
            "line": {
             "colorbar": {
              "outlinewidth": 0,
              "ticks": ""
             }
            },
            "marker": {
             "colorbar": {
              "outlinewidth": 0,
              "ticks": ""
             }
            },
            "type": "scatter3d"
           }
          ],
          "scattercarpet": [
           {
            "marker": {
             "colorbar": {
              "outlinewidth": 0,
              "ticks": ""
             }
            },
            "type": "scattercarpet"
           }
          ],
          "scattergeo": [
           {
            "marker": {
             "colorbar": {
              "outlinewidth": 0,
              "ticks": ""
             }
            },
            "type": "scattergeo"
           }
          ],
          "scattergl": [
           {
            "marker": {
             "colorbar": {
              "outlinewidth": 0,
              "ticks": ""
             }
            },
            "type": "scattergl"
           }
          ],
          "scattermapbox": [
           {
            "marker": {
             "colorbar": {
              "outlinewidth": 0,
              "ticks": ""
             }
            },
            "type": "scattermapbox"
           }
          ],
          "scatterpolar": [
           {
            "marker": {
             "colorbar": {
              "outlinewidth": 0,
              "ticks": ""
             }
            },
            "type": "scatterpolar"
           }
          ],
          "scatterpolargl": [
           {
            "marker": {
             "colorbar": {
              "outlinewidth": 0,
              "ticks": ""
             }
            },
            "type": "scatterpolargl"
           }
          ],
          "scatterternary": [
           {
            "marker": {
             "colorbar": {
              "outlinewidth": 0,
              "ticks": ""
             }
            },
            "type": "scatterternary"
           }
          ],
          "surface": [
           {
            "colorbar": {
             "outlinewidth": 0,
             "ticks": ""
            },
            "colorscale": [
             [
              0,
              "#0d0887"
             ],
             [
              0.1111111111111111,
              "#46039f"
             ],
             [
              0.2222222222222222,
              "#7201a8"
             ],
             [
              0.3333333333333333,
              "#9c179e"
             ],
             [
              0.4444444444444444,
              "#bd3786"
             ],
             [
              0.5555555555555556,
              "#d8576b"
             ],
             [
              0.6666666666666666,
              "#ed7953"
             ],
             [
              0.7777777777777778,
              "#fb9f3a"
             ],
             [
              0.8888888888888888,
              "#fdca26"
             ],
             [
              1,
              "#f0f921"
             ]
            ],
            "type": "surface"
           }
          ],
          "table": [
           {
            "cells": {
             "fill": {
              "color": "#EBF0F8"
             },
             "line": {
              "color": "white"
             }
            },
            "header": {
             "fill": {
              "color": "#C8D4E3"
             },
             "line": {
              "color": "white"
             }
            },
            "type": "table"
           }
          ]
         },
         "layout": {
          "annotationdefaults": {
           "arrowcolor": "#2a3f5f",
           "arrowhead": 0,
           "arrowwidth": 1
          },
          "autotypenumbers": "strict",
          "coloraxis": {
           "colorbar": {
            "outlinewidth": 0,
            "ticks": ""
           }
          },
          "colorscale": {
           "diverging": [
            [
             0,
             "#8e0152"
            ],
            [
             0.1,
             "#c51b7d"
            ],
            [
             0.2,
             "#de77ae"
            ],
            [
             0.3,
             "#f1b6da"
            ],
            [
             0.4,
             "#fde0ef"
            ],
            [
             0.5,
             "#f7f7f7"
            ],
            [
             0.6,
             "#e6f5d0"
            ],
            [
             0.7,
             "#b8e186"
            ],
            [
             0.8,
             "#7fbc41"
            ],
            [
             0.9,
             "#4d9221"
            ],
            [
             1,
             "#276419"
            ]
           ],
           "sequential": [
            [
             0,
             "#0d0887"
            ],
            [
             0.1111111111111111,
             "#46039f"
            ],
            [
             0.2222222222222222,
             "#7201a8"
            ],
            [
             0.3333333333333333,
             "#9c179e"
            ],
            [
             0.4444444444444444,
             "#bd3786"
            ],
            [
             0.5555555555555556,
             "#d8576b"
            ],
            [
             0.6666666666666666,
             "#ed7953"
            ],
            [
             0.7777777777777778,
             "#fb9f3a"
            ],
            [
             0.8888888888888888,
             "#fdca26"
            ],
            [
             1,
             "#f0f921"
            ]
           ],
           "sequentialminus": [
            [
             0,
             "#0d0887"
            ],
            [
             0.1111111111111111,
             "#46039f"
            ],
            [
             0.2222222222222222,
             "#7201a8"
            ],
            [
             0.3333333333333333,
             "#9c179e"
            ],
            [
             0.4444444444444444,
             "#bd3786"
            ],
            [
             0.5555555555555556,
             "#d8576b"
            ],
            [
             0.6666666666666666,
             "#ed7953"
            ],
            [
             0.7777777777777778,
             "#fb9f3a"
            ],
            [
             0.8888888888888888,
             "#fdca26"
            ],
            [
             1,
             "#f0f921"
            ]
           ]
          },
          "colorway": [
           "#636efa",
           "#EF553B",
           "#00cc96",
           "#ab63fa",
           "#FFA15A",
           "#19d3f3",
           "#FF6692",
           "#B6E880",
           "#FF97FF",
           "#FECB52"
          ],
          "font": {
           "color": "#2a3f5f"
          },
          "geo": {
           "bgcolor": "white",
           "lakecolor": "white",
           "landcolor": "#E5ECF6",
           "showlakes": true,
           "showland": true,
           "subunitcolor": "white"
          },
          "hoverlabel": {
           "align": "left"
          },
          "hovermode": "closest",
          "mapbox": {
           "style": "light"
          },
          "paper_bgcolor": "white",
          "plot_bgcolor": "#E5ECF6",
          "polar": {
           "angularaxis": {
            "gridcolor": "white",
            "linecolor": "white",
            "ticks": ""
           },
           "bgcolor": "#E5ECF6",
           "radialaxis": {
            "gridcolor": "white",
            "linecolor": "white",
            "ticks": ""
           }
          },
          "scene": {
           "xaxis": {
            "backgroundcolor": "#E5ECF6",
            "gridcolor": "white",
            "gridwidth": 2,
            "linecolor": "white",
            "showbackground": true,
            "ticks": "",
            "zerolinecolor": "white"
           },
           "yaxis": {
            "backgroundcolor": "#E5ECF6",
            "gridcolor": "white",
            "gridwidth": 2,
            "linecolor": "white",
            "showbackground": true,
            "ticks": "",
            "zerolinecolor": "white"
           },
           "zaxis": {
            "backgroundcolor": "#E5ECF6",
            "gridcolor": "white",
            "gridwidth": 2,
            "linecolor": "white",
            "showbackground": true,
            "ticks": "",
            "zerolinecolor": "white"
           }
          },
          "shapedefaults": {
           "line": {
            "color": "#2a3f5f"
           }
          },
          "ternary": {
           "aaxis": {
            "gridcolor": "white",
            "linecolor": "white",
            "ticks": ""
           },
           "baxis": {
            "gridcolor": "white",
            "linecolor": "white",
            "ticks": ""
           },
           "bgcolor": "#E5ECF6",
           "caxis": {
            "gridcolor": "white",
            "linecolor": "white",
            "ticks": ""
           }
          },
          "title": {
           "x": 0.05
          },
          "xaxis": {
           "automargin": true,
           "gridcolor": "white",
           "linecolor": "white",
           "ticks": "",
           "title": {
            "standoff": 15
           },
           "zerolinecolor": "white",
           "zerolinewidth": 2
          },
          "yaxis": {
           "automargin": true,
           "gridcolor": "white",
           "linecolor": "white",
           "ticks": "",
           "title": {
            "standoff": 15
           },
           "zerolinecolor": "white",
           "zerolinewidth": 2
          }
         }
        },
        "xaxis": {
         "anchor": "y",
         "domain": [
          0,
          1
         ],
         "title": {
          "text": "VideoID"
         }
        },
        "yaxis": {
         "anchor": "x",
         "domain": [
          0,
          1
         ],
         "title": {
          "text": "Count"
         }
        }
       }
      }
     },
     "metadata": {},
     "output_type": "display_data"
    }
   ],
   "source": [
    "fig = px.bar(test, x='VideoID', y='Count')\n",
    "fig.show()"
   ]
  },
  {
   "cell_type": "code",
   "execution_count": 33,
   "metadata": {},
   "outputs": [
    {
     "data": {
      "text/html": [
       "<div>\n",
       "<style scoped>\n",
       "    .dataframe tbody tr th:only-of-type {\n",
       "        vertical-align: middle;\n",
       "    }\n",
       "\n",
       "    .dataframe tbody tr th {\n",
       "        vertical-align: top;\n",
       "    }\n",
       "\n",
       "    .dataframe thead th {\n",
       "        text-align: right;\n",
       "    }\n",
       "</style>\n",
       "<table border=\"1\" class=\"dataframe\">\n",
       "  <thead>\n",
       "    <tr style=\"text-align: right;\">\n",
       "      <th></th>\n",
       "      <th>VideoID</th>\n",
       "      <th>Count</th>\n",
       "      <th>Region</th>\n",
       "    </tr>\n",
       "  </thead>\n",
       "  <tbody>\n",
       "    <tr>\n",
       "      <th>0</th>\n",
       "      <td>ยังคู่กัน</td>\n",
       "      <td>1424</td>\n",
       "      <td>Thai</td>\n",
       "    </tr>\n",
       "    <tr>\n",
       "      <th>2</th>\n",
       "      <td>ดาวหางฮัลเลย์</td>\n",
       "      <td>104</td>\n",
       "      <td>Thai</td>\n",
       "    </tr>\n",
       "    <tr>\n",
       "      <th>1</th>\n",
       "      <td>ซ่อน (ไม่) หา</td>\n",
       "      <td>30</td>\n",
       "      <td>Thai</td>\n",
       "    </tr>\n",
       "  </tbody>\n",
       "</table>\n",
       "</div>"
      ],
      "text/plain": [
       "         VideoID  Count Region\n",
       "0      ยังคู่กัน   1424   Thai\n",
       "2  ดาวหางฮัลเลย์    104   Thai\n",
       "1  ซ่อน (ไม่) หา     30   Thai"
      ]
     },
     "execution_count": 33,
     "metadata": {},
     "output_type": "execute_result"
    }
   ],
   "source": [
    "test['Region'] = 'Thai'\n",
    "test"
   ]
  },
  {
   "cell_type": "code",
   "execution_count": 34,
   "metadata": {},
   "outputs": [],
   "source": [
    "test.to_csv('Thai.csv')"
   ]
  },
  {
   "cell_type": "code",
   "execution_count": 36,
   "metadata": {},
   "outputs": [
    {
     "data": {
      "text/html": [
       "<div>\n",
       "<style scoped>\n",
       "    .dataframe tbody tr th:only-of-type {\n",
       "        vertical-align: middle;\n",
       "    }\n",
       "\n",
       "    .dataframe tbody tr th {\n",
       "        vertical-align: top;\n",
       "    }\n",
       "\n",
       "    .dataframe thead th {\n",
       "        text-align: right;\n",
       "    }\n",
       "</style>\n",
       "<table border=\"1\" class=\"dataframe\">\n",
       "  <thead>\n",
       "    <tr style=\"text-align: right;\">\n",
       "      <th></th>\n",
       "      <th>Unnamed: 0</th>\n",
       "      <th>VideoID</th>\n",
       "      <th>Count</th>\n",
       "      <th>Region</th>\n",
       "    </tr>\n",
       "  </thead>\n",
       "  <tbody>\n",
       "    <tr>\n",
       "      <th>0</th>\n",
       "      <td>2</td>\n",
       "      <td>yellow coldplay</td>\n",
       "      <td>3043</td>\n",
       "      <td>Inter</td>\n",
       "    </tr>\n",
       "    <tr>\n",
       "      <th>1</th>\n",
       "      <td>1</td>\n",
       "      <td>Die With a Smile</td>\n",
       "      <td>1452</td>\n",
       "      <td>Inter</td>\n",
       "    </tr>\n",
       "    <tr>\n",
       "      <th>2</th>\n",
       "      <td>0</td>\n",
       "      <td>BIRDS OF A FEATHER</td>\n",
       "      <td>350</td>\n",
       "      <td>Inter</td>\n",
       "    </tr>\n",
       "    <tr>\n",
       "      <th>3</th>\n",
       "      <td>0</td>\n",
       "      <td>God's Menu</td>\n",
       "      <td>2285</td>\n",
       "      <td>K-pop</td>\n",
       "    </tr>\n",
       "    <tr>\n",
       "      <th>4</th>\n",
       "      <td>1</td>\n",
       "      <td>Ditto</td>\n",
       "      <td>919</td>\n",
       "      <td>K-pop</td>\n",
       "    </tr>\n",
       "    <tr>\n",
       "      <th>5</th>\n",
       "      <td>2</td>\n",
       "      <td>Melt Down</td>\n",
       "      <td>222</td>\n",
       "      <td>K-pop</td>\n",
       "    </tr>\n",
       "    <tr>\n",
       "      <th>6</th>\n",
       "      <td>0</td>\n",
       "      <td>ยังคู่กัน</td>\n",
       "      <td>1424</td>\n",
       "      <td>Thai</td>\n",
       "    </tr>\n",
       "    <tr>\n",
       "      <th>7</th>\n",
       "      <td>2</td>\n",
       "      <td>ดาวหางฮัลเลย์</td>\n",
       "      <td>104</td>\n",
       "      <td>Thai</td>\n",
       "    </tr>\n",
       "    <tr>\n",
       "      <th>8</th>\n",
       "      <td>1</td>\n",
       "      <td>ซ่อน (ไม่) หา</td>\n",
       "      <td>30</td>\n",
       "      <td>Thai</td>\n",
       "    </tr>\n",
       "  </tbody>\n",
       "</table>\n",
       "</div>"
      ],
      "text/plain": [
       "   Unnamed: 0             VideoID  Count Region\n",
       "0           2     yellow coldplay   3043  Inter\n",
       "1           1    Die With a Smile   1452  Inter\n",
       "2           0  BIRDS OF A FEATHER    350  Inter\n",
       "3           0          God's Menu   2285  K-pop\n",
       "4           1               Ditto    919  K-pop\n",
       "5           2           Melt Down    222  K-pop\n",
       "6           0           ยังคู่กัน   1424   Thai\n",
       "7           2       ดาวหางฮัลเลย์    104   Thai\n",
       "8           1       ซ่อน (ไม่) หา     30   Thai"
      ]
     },
     "execution_count": 36,
     "metadata": {},
     "output_type": "execute_result"
    }
   ],
   "source": [
    "csv_files = ['inter.csv', 'K-pop.csv', 'Thai.csv']\n",
    "\n",
    "dfall = [pd.read_csv(file) for file in csv_files]\n",
    "combined_df = pd.concat(dfall, ignore_index=True)\n",
    "combined_df"
   ]
  },
  {
   "cell_type": "code",
   "execution_count": 47,
   "metadata": {},
   "outputs": [
    {
     "data": {
      "text/html": [
       "<div>\n",
       "<style scoped>\n",
       "    .dataframe tbody tr th:only-of-type {\n",
       "        vertical-align: middle;\n",
       "    }\n",
       "\n",
       "    .dataframe tbody tr th {\n",
       "        vertical-align: top;\n",
       "    }\n",
       "\n",
       "    .dataframe thead th {\n",
       "        text-align: right;\n",
       "    }\n",
       "</style>\n",
       "<table border=\"1\" class=\"dataframe\">\n",
       "  <thead>\n",
       "    <tr style=\"text-align: right;\">\n",
       "      <th></th>\n",
       "      <th>Region</th>\n",
       "      <th>Sum</th>\n",
       "    </tr>\n",
       "  </thead>\n",
       "  <tbody>\n",
       "    <tr>\n",
       "      <th>0</th>\n",
       "      <td>Inter</td>\n",
       "      <td>4845</td>\n",
       "    </tr>\n",
       "    <tr>\n",
       "      <th>1</th>\n",
       "      <td>K-pop</td>\n",
       "      <td>3426</td>\n",
       "    </tr>\n",
       "    <tr>\n",
       "      <th>2</th>\n",
       "      <td>Thai</td>\n",
       "      <td>1558</td>\n",
       "    </tr>\n",
       "  </tbody>\n",
       "</table>\n",
       "</div>"
      ],
      "text/plain": [
       "  Region   Sum\n",
       "0  Inter  4845\n",
       "1  K-pop  3426\n",
       "2   Thai  1558"
      ]
     },
     "execution_count": 47,
     "metadata": {},
     "output_type": "execute_result"
    }
   ],
   "source": [
    "yo = combined_df.groupby('Region')['Count'].sum().reset_index(name='Sum')\n",
    "yo"
   ]
  },
  {
   "cell_type": "code",
   "execution_count": 48,
   "metadata": {},
   "outputs": [
    {
     "data": {
      "application/vnd.plotly.v1+json": {
       "config": {
        "plotlyServerURL": "https://plot.ly"
       },
       "data": [
        {
         "domain": {
          "x": [
           0,
           1
          ],
          "y": [
           0,
           1
          ]
         },
         "hovertemplate": "Region=%{label}<br>Sum=%{value}<extra></extra>",
         "labels": [
          "Inter",
          "K-pop",
          "Thai"
         ],
         "legendgroup": "",
         "name": "",
         "showlegend": true,
         "textposition": "inside",
         "type": "pie",
         "values": [
          4845,
          3426,
          1558
         ]
        }
       ],
       "layout": {
        "legend": {
         "tracegroupgap": 0
        },
        "margin": {
         "t": 60
        },
        "template": {
         "data": {
          "bar": [
           {
            "error_x": {
             "color": "#2a3f5f"
            },
            "error_y": {
             "color": "#2a3f5f"
            },
            "marker": {
             "line": {
              "color": "#E5ECF6",
              "width": 0.5
             },
             "pattern": {
              "fillmode": "overlay",
              "size": 10,
              "solidity": 0.2
             }
            },
            "type": "bar"
           }
          ],
          "barpolar": [
           {
            "marker": {
             "line": {
              "color": "#E5ECF6",
              "width": 0.5
             },
             "pattern": {
              "fillmode": "overlay",
              "size": 10,
              "solidity": 0.2
             }
            },
            "type": "barpolar"
           }
          ],
          "carpet": [
           {
            "aaxis": {
             "endlinecolor": "#2a3f5f",
             "gridcolor": "white",
             "linecolor": "white",
             "minorgridcolor": "white",
             "startlinecolor": "#2a3f5f"
            },
            "baxis": {
             "endlinecolor": "#2a3f5f",
             "gridcolor": "white",
             "linecolor": "white",
             "minorgridcolor": "white",
             "startlinecolor": "#2a3f5f"
            },
            "type": "carpet"
           }
          ],
          "choropleth": [
           {
            "colorbar": {
             "outlinewidth": 0,
             "ticks": ""
            },
            "type": "choropleth"
           }
          ],
          "contour": [
           {
            "colorbar": {
             "outlinewidth": 0,
             "ticks": ""
            },
            "colorscale": [
             [
              0,
              "#0d0887"
             ],
             [
              0.1111111111111111,
              "#46039f"
             ],
             [
              0.2222222222222222,
              "#7201a8"
             ],
             [
              0.3333333333333333,
              "#9c179e"
             ],
             [
              0.4444444444444444,
              "#bd3786"
             ],
             [
              0.5555555555555556,
              "#d8576b"
             ],
             [
              0.6666666666666666,
              "#ed7953"
             ],
             [
              0.7777777777777778,
              "#fb9f3a"
             ],
             [
              0.8888888888888888,
              "#fdca26"
             ],
             [
              1,
              "#f0f921"
             ]
            ],
            "type": "contour"
           }
          ],
          "contourcarpet": [
           {
            "colorbar": {
             "outlinewidth": 0,
             "ticks": ""
            },
            "type": "contourcarpet"
           }
          ],
          "heatmap": [
           {
            "colorbar": {
             "outlinewidth": 0,
             "ticks": ""
            },
            "colorscale": [
             [
              0,
              "#0d0887"
             ],
             [
              0.1111111111111111,
              "#46039f"
             ],
             [
              0.2222222222222222,
              "#7201a8"
             ],
             [
              0.3333333333333333,
              "#9c179e"
             ],
             [
              0.4444444444444444,
              "#bd3786"
             ],
             [
              0.5555555555555556,
              "#d8576b"
             ],
             [
              0.6666666666666666,
              "#ed7953"
             ],
             [
              0.7777777777777778,
              "#fb9f3a"
             ],
             [
              0.8888888888888888,
              "#fdca26"
             ],
             [
              1,
              "#f0f921"
             ]
            ],
            "type": "heatmap"
           }
          ],
          "heatmapgl": [
           {
            "colorbar": {
             "outlinewidth": 0,
             "ticks": ""
            },
            "colorscale": [
             [
              0,
              "#0d0887"
             ],
             [
              0.1111111111111111,
              "#46039f"
             ],
             [
              0.2222222222222222,
              "#7201a8"
             ],
             [
              0.3333333333333333,
              "#9c179e"
             ],
             [
              0.4444444444444444,
              "#bd3786"
             ],
             [
              0.5555555555555556,
              "#d8576b"
             ],
             [
              0.6666666666666666,
              "#ed7953"
             ],
             [
              0.7777777777777778,
              "#fb9f3a"
             ],
             [
              0.8888888888888888,
              "#fdca26"
             ],
             [
              1,
              "#f0f921"
             ]
            ],
            "type": "heatmapgl"
           }
          ],
          "histogram": [
           {
            "marker": {
             "pattern": {
              "fillmode": "overlay",
              "size": 10,
              "solidity": 0.2
             }
            },
            "type": "histogram"
           }
          ],
          "histogram2d": [
           {
            "colorbar": {
             "outlinewidth": 0,
             "ticks": ""
            },
            "colorscale": [
             [
              0,
              "#0d0887"
             ],
             [
              0.1111111111111111,
              "#46039f"
             ],
             [
              0.2222222222222222,
              "#7201a8"
             ],
             [
              0.3333333333333333,
              "#9c179e"
             ],
             [
              0.4444444444444444,
              "#bd3786"
             ],
             [
              0.5555555555555556,
              "#d8576b"
             ],
             [
              0.6666666666666666,
              "#ed7953"
             ],
             [
              0.7777777777777778,
              "#fb9f3a"
             ],
             [
              0.8888888888888888,
              "#fdca26"
             ],
             [
              1,
              "#f0f921"
             ]
            ],
            "type": "histogram2d"
           }
          ],
          "histogram2dcontour": [
           {
            "colorbar": {
             "outlinewidth": 0,
             "ticks": ""
            },
            "colorscale": [
             [
              0,
              "#0d0887"
             ],
             [
              0.1111111111111111,
              "#46039f"
             ],
             [
              0.2222222222222222,
              "#7201a8"
             ],
             [
              0.3333333333333333,
              "#9c179e"
             ],
             [
              0.4444444444444444,
              "#bd3786"
             ],
             [
              0.5555555555555556,
              "#d8576b"
             ],
             [
              0.6666666666666666,
              "#ed7953"
             ],
             [
              0.7777777777777778,
              "#fb9f3a"
             ],
             [
              0.8888888888888888,
              "#fdca26"
             ],
             [
              1,
              "#f0f921"
             ]
            ],
            "type": "histogram2dcontour"
           }
          ],
          "mesh3d": [
           {
            "colorbar": {
             "outlinewidth": 0,
             "ticks": ""
            },
            "type": "mesh3d"
           }
          ],
          "parcoords": [
           {
            "line": {
             "colorbar": {
              "outlinewidth": 0,
              "ticks": ""
             }
            },
            "type": "parcoords"
           }
          ],
          "pie": [
           {
            "automargin": true,
            "type": "pie"
           }
          ],
          "scatter": [
           {
            "fillpattern": {
             "fillmode": "overlay",
             "size": 10,
             "solidity": 0.2
            },
            "type": "scatter"
           }
          ],
          "scatter3d": [
           {
            "line": {
             "colorbar": {
              "outlinewidth": 0,
              "ticks": ""
             }
            },
            "marker": {
             "colorbar": {
              "outlinewidth": 0,
              "ticks": ""
             }
            },
            "type": "scatter3d"
           }
          ],
          "scattercarpet": [
           {
            "marker": {
             "colorbar": {
              "outlinewidth": 0,
              "ticks": ""
             }
            },
            "type": "scattercarpet"
           }
          ],
          "scattergeo": [
           {
            "marker": {
             "colorbar": {
              "outlinewidth": 0,
              "ticks": ""
             }
            },
            "type": "scattergeo"
           }
          ],
          "scattergl": [
           {
            "marker": {
             "colorbar": {
              "outlinewidth": 0,
              "ticks": ""
             }
            },
            "type": "scattergl"
           }
          ],
          "scattermapbox": [
           {
            "marker": {
             "colorbar": {
              "outlinewidth": 0,
              "ticks": ""
             }
            },
            "type": "scattermapbox"
           }
          ],
          "scatterpolar": [
           {
            "marker": {
             "colorbar": {
              "outlinewidth": 0,
              "ticks": ""
             }
            },
            "type": "scatterpolar"
           }
          ],
          "scatterpolargl": [
           {
            "marker": {
             "colorbar": {
              "outlinewidth": 0,
              "ticks": ""
             }
            },
            "type": "scatterpolargl"
           }
          ],
          "scatterternary": [
           {
            "marker": {
             "colorbar": {
              "outlinewidth": 0,
              "ticks": ""
             }
            },
            "type": "scatterternary"
           }
          ],
          "surface": [
           {
            "colorbar": {
             "outlinewidth": 0,
             "ticks": ""
            },
            "colorscale": [
             [
              0,
              "#0d0887"
             ],
             [
              0.1111111111111111,
              "#46039f"
             ],
             [
              0.2222222222222222,
              "#7201a8"
             ],
             [
              0.3333333333333333,
              "#9c179e"
             ],
             [
              0.4444444444444444,
              "#bd3786"
             ],
             [
              0.5555555555555556,
              "#d8576b"
             ],
             [
              0.6666666666666666,
              "#ed7953"
             ],
             [
              0.7777777777777778,
              "#fb9f3a"
             ],
             [
              0.8888888888888888,
              "#fdca26"
             ],
             [
              1,
              "#f0f921"
             ]
            ],
            "type": "surface"
           }
          ],
          "table": [
           {
            "cells": {
             "fill": {
              "color": "#EBF0F8"
             },
             "line": {
              "color": "white"
             }
            },
            "header": {
             "fill": {
              "color": "#C8D4E3"
             },
             "line": {
              "color": "white"
             }
            },
            "type": "table"
           }
          ]
         },
         "layout": {
          "annotationdefaults": {
           "arrowcolor": "#2a3f5f",
           "arrowhead": 0,
           "arrowwidth": 1
          },
          "autotypenumbers": "strict",
          "coloraxis": {
           "colorbar": {
            "outlinewidth": 0,
            "ticks": ""
           }
          },
          "colorscale": {
           "diverging": [
            [
             0,
             "#8e0152"
            ],
            [
             0.1,
             "#c51b7d"
            ],
            [
             0.2,
             "#de77ae"
            ],
            [
             0.3,
             "#f1b6da"
            ],
            [
             0.4,
             "#fde0ef"
            ],
            [
             0.5,
             "#f7f7f7"
            ],
            [
             0.6,
             "#e6f5d0"
            ],
            [
             0.7,
             "#b8e186"
            ],
            [
             0.8,
             "#7fbc41"
            ],
            [
             0.9,
             "#4d9221"
            ],
            [
             1,
             "#276419"
            ]
           ],
           "sequential": [
            [
             0,
             "#0d0887"
            ],
            [
             0.1111111111111111,
             "#46039f"
            ],
            [
             0.2222222222222222,
             "#7201a8"
            ],
            [
             0.3333333333333333,
             "#9c179e"
            ],
            [
             0.4444444444444444,
             "#bd3786"
            ],
            [
             0.5555555555555556,
             "#d8576b"
            ],
            [
             0.6666666666666666,
             "#ed7953"
            ],
            [
             0.7777777777777778,
             "#fb9f3a"
            ],
            [
             0.8888888888888888,
             "#fdca26"
            ],
            [
             1,
             "#f0f921"
            ]
           ],
           "sequentialminus": [
            [
             0,
             "#0d0887"
            ],
            [
             0.1111111111111111,
             "#46039f"
            ],
            [
             0.2222222222222222,
             "#7201a8"
            ],
            [
             0.3333333333333333,
             "#9c179e"
            ],
            [
             0.4444444444444444,
             "#bd3786"
            ],
            [
             0.5555555555555556,
             "#d8576b"
            ],
            [
             0.6666666666666666,
             "#ed7953"
            ],
            [
             0.7777777777777778,
             "#fb9f3a"
            ],
            [
             0.8888888888888888,
             "#fdca26"
            ],
            [
             1,
             "#f0f921"
            ]
           ]
          },
          "colorway": [
           "#636efa",
           "#EF553B",
           "#00cc96",
           "#ab63fa",
           "#FFA15A",
           "#19d3f3",
           "#FF6692",
           "#B6E880",
           "#FF97FF",
           "#FECB52"
          ],
          "font": {
           "color": "#2a3f5f"
          },
          "geo": {
           "bgcolor": "white",
           "lakecolor": "white",
           "landcolor": "#E5ECF6",
           "showlakes": true,
           "showland": true,
           "subunitcolor": "white"
          },
          "hoverlabel": {
           "align": "left"
          },
          "hovermode": "closest",
          "mapbox": {
           "style": "light"
          },
          "paper_bgcolor": "white",
          "plot_bgcolor": "#E5ECF6",
          "polar": {
           "angularaxis": {
            "gridcolor": "white",
            "linecolor": "white",
            "ticks": ""
           },
           "bgcolor": "#E5ECF6",
           "radialaxis": {
            "gridcolor": "white",
            "linecolor": "white",
            "ticks": ""
           }
          },
          "scene": {
           "xaxis": {
            "backgroundcolor": "#E5ECF6",
            "gridcolor": "white",
            "gridwidth": 2,
            "linecolor": "white",
            "showbackground": true,
            "ticks": "",
            "zerolinecolor": "white"
           },
           "yaxis": {
            "backgroundcolor": "#E5ECF6",
            "gridcolor": "white",
            "gridwidth": 2,
            "linecolor": "white",
            "showbackground": true,
            "ticks": "",
            "zerolinecolor": "white"
           },
           "zaxis": {
            "backgroundcolor": "#E5ECF6",
            "gridcolor": "white",
            "gridwidth": 2,
            "linecolor": "white",
            "showbackground": true,
            "ticks": "",
            "zerolinecolor": "white"
           }
          },
          "shapedefaults": {
           "line": {
            "color": "#2a3f5f"
           }
          },
          "ternary": {
           "aaxis": {
            "gridcolor": "white",
            "linecolor": "white",
            "ticks": ""
           },
           "baxis": {
            "gridcolor": "white",
            "linecolor": "white",
            "ticks": ""
           },
           "bgcolor": "#E5ECF6",
           "caxis": {
            "gridcolor": "white",
            "linecolor": "white",
            "ticks": ""
           }
          },
          "title": {
           "x": 0.05
          },
          "xaxis": {
           "automargin": true,
           "gridcolor": "white",
           "linecolor": "white",
           "ticks": "",
           "title": {
            "standoff": 15
           },
           "zerolinecolor": "white",
           "zerolinewidth": 2
          },
          "yaxis": {
           "automargin": true,
           "gridcolor": "white",
           "linecolor": "white",
           "ticks": "",
           "title": {
            "standoff": 15
           },
           "zerolinecolor": "white",
           "zerolinewidth": 2
          }
         }
        },
        "uniformtext": {
         "minsize": 12,
         "mode": "hide"
        }
       }
      }
     },
     "metadata": {},
     "output_type": "display_data"
    }
   ],
   "source": [
    "fig = px.pie(yo, values='Sum', names='Region')\n",
    "fig.update_traces(textposition='inside')\n",
    "fig.update_layout(uniformtext_minsize=12, uniformtext_mode='hide')\n",
    "fig.show()"
   ]
  },
  {
   "cell_type": "code",
   "execution_count": 57,
   "metadata": {},
   "outputs": [
    {
     "data": {
      "text/html": [
       "<div>\n",
       "<style scoped>\n",
       "    .dataframe tbody tr th:only-of-type {\n",
       "        vertical-align: middle;\n",
       "    }\n",
       "\n",
       "    .dataframe tbody tr th {\n",
       "        vertical-align: top;\n",
       "    }\n",
       "\n",
       "    .dataframe thead th {\n",
       "        text-align: right;\n",
       "    }\n",
       "</style>\n",
       "<table border=\"1\" class=\"dataframe\">\n",
       "  <thead>\n",
       "    <tr style=\"text-align: right;\">\n",
       "      <th></th>\n",
       "      <th>Timestamp</th>\n",
       "      <th>Username</th>\n",
       "      <th>VideoID</th>\n",
       "      <th>Comment</th>\n",
       "      <th>Date</th>\n",
       "      <th>Lang</th>\n",
       "    </tr>\n",
       "  </thead>\n",
       "  <tbody>\n",
       "    <tr>\n",
       "      <th>0</th>\n",
       "      <td>2024-10-10T10:19:34Z</td>\n",
       "      <td>@Jena-l9v</td>\n",
       "      <td>iYWGRGiYdHU</td>\n",
       "      <td>I im France 🇫🇷 ❤❤❤❤❤</td>\n",
       "      <td>2024-10-10T10:19:34Z</td>\n",
       "      <td>it</td>\n",
       "    </tr>\n",
       "    <tr>\n",
       "      <th>1</th>\n",
       "      <td>2024-10-10T10:14:10Z</td>\n",
       "      <td>@MinjaeJang-m1l</td>\n",
       "      <td>iYWGRGiYdHU</td>\n",
       "      <td>🫶🫶🫶</td>\n",
       "      <td>2024-10-10T10:14:10Z</td>\n",
       "      <td>Other</td>\n",
       "    </tr>\n",
       "    <tr>\n",
       "      <th>2</th>\n",
       "      <td>2024-10-10T10:11:35Z</td>\n",
       "      <td>@lala327_L</td>\n",
       "      <td>iYWGRGiYdHU</td>\n",
       "      <td>265</td>\n",
       "      <td>2024-10-10T10:11:35Z</td>\n",
       "      <td>Other</td>\n",
       "    </tr>\n",
       "    <tr>\n",
       "      <th>3</th>\n",
       "      <td>2024-10-10T10:11:15Z</td>\n",
       "      <td>@lala327_L</td>\n",
       "      <td>iYWGRGiYdHU</td>\n",
       "      <td>Lilies love u lisa no matter what</td>\n",
       "      <td>2024-10-10T10:11:15Z</td>\n",
       "      <td>en</td>\n",
       "    </tr>\n",
       "    <tr>\n",
       "      <th>4</th>\n",
       "      <td>2024-10-10T10:06:44Z</td>\n",
       "      <td>@prettysavage6779</td>\n",
       "      <td>iYWGRGiYdHU</td>\n",
       "      <td>Kisss meeew under the parisss twilllighttt....</td>\n",
       "      <td>2024-10-10T10:06:44Z</td>\n",
       "      <td>en</td>\n",
       "    </tr>\n",
       "    <tr>\n",
       "      <th>...</th>\n",
       "      <td>...</td>\n",
       "      <td>...</td>\n",
       "      <td>...</td>\n",
       "      <td>...</td>\n",
       "      <td>...</td>\n",
       "      <td>...</td>\n",
       "    </tr>\n",
       "    <tr>\n",
       "      <th>41956</th>\n",
       "      <td>2024-10-09T00:31:53Z</td>\n",
       "      <td>@Qoriagustin</td>\n",
       "      <td>iYWGRGiYdHU</td>\n",
       "      <td>Me 🇮🇩</td>\n",
       "      <td>2024-10-09T00:31:53Z</td>\n",
       "      <td>de</td>\n",
       "    </tr>\n",
       "    <tr>\n",
       "      <th>41957</th>\n",
       "      <td>2024-10-10T00:36:56Z</td>\n",
       "      <td>@15.ptnnnn</td>\n",
       "      <td>iYWGRGiYdHU</td>\n",
       "      <td>@@alceuuuU</td>\n",
       "      <td>2024-10-10T00:36:56Z</td>\n",
       "      <td>ro</td>\n",
       "    </tr>\n",
       "    <tr>\n",
       "      <th>41958</th>\n",
       "      <td>2024-10-10T08:32:47Z</td>\n",
       "      <td>@TaherMecano</td>\n",
       "      <td>iYWGRGiYdHU</td>\n",
       "      <td>Tunisia</td>\n",
       "      <td>2024-10-10T08:32:47Z</td>\n",
       "      <td>fi</td>\n",
       "    </tr>\n",
       "    <tr>\n",
       "      <th>41959</th>\n",
       "      <td>2024-10-04T00:00:09Z</td>\n",
       "      <td>@Merrytheonelittlefrog._.</td>\n",
       "      <td>iYWGRGiYdHU</td>\n",
       "      <td>Lisaaaa❤️‍🔥\\nEdit:am I the first?!?!if yes I’m...</td>\n",
       "      <td>2024-10-04T00:03:25Z</td>\n",
       "      <td>en</td>\n",
       "    </tr>\n",
       "    <tr>\n",
       "      <th>41960</th>\n",
       "      <td>2024-10-04T00:01:41Z</td>\n",
       "      <td>@alceuuuU</td>\n",
       "      <td>iYWGRGiYdHU</td>\n",
       "      <td>Youre the first ❤</td>\n",
       "      <td>2024-10-04T00:01:41Z</td>\n",
       "      <td>en</td>\n",
       "    </tr>\n",
       "  </tbody>\n",
       "</table>\n",
       "<p>41961 rows × 6 columns</p>\n",
       "</div>"
      ],
      "text/plain": [
       "                  Timestamp                   Username      VideoID  \\\n",
       "0      2024-10-10T10:19:34Z                  @Jena-l9v  iYWGRGiYdHU   \n",
       "1      2024-10-10T10:14:10Z            @MinjaeJang-m1l  iYWGRGiYdHU   \n",
       "2      2024-10-10T10:11:35Z                 @lala327_L  iYWGRGiYdHU   \n",
       "3      2024-10-10T10:11:15Z                 @lala327_L  iYWGRGiYdHU   \n",
       "4      2024-10-10T10:06:44Z          @prettysavage6779  iYWGRGiYdHU   \n",
       "...                     ...                        ...          ...   \n",
       "41956  2024-10-09T00:31:53Z               @Qoriagustin  iYWGRGiYdHU   \n",
       "41957  2024-10-10T00:36:56Z                 @15.ptnnnn  iYWGRGiYdHU   \n",
       "41958  2024-10-10T08:32:47Z               @TaherMecano  iYWGRGiYdHU   \n",
       "41959  2024-10-04T00:00:09Z  @Merrytheonelittlefrog._.  iYWGRGiYdHU   \n",
       "41960  2024-10-04T00:01:41Z                  @alceuuuU  iYWGRGiYdHU   \n",
       "\n",
       "                                                 Comment  \\\n",
       "0                                   I im France 🇫🇷 ❤❤❤❤❤   \n",
       "1                                                    🫶🫶🫶   \n",
       "2                                                    265   \n",
       "3                      Lilies love u lisa no matter what   \n",
       "4         Kisss meeew under the parisss twilllighttt....   \n",
       "...                                                  ...   \n",
       "41956                                              Me 🇮🇩   \n",
       "41957                                         @@alceuuuU   \n",
       "41958                                            Tunisia   \n",
       "41959  Lisaaaa❤️‍🔥\\nEdit:am I the first?!?!if yes I’m...   \n",
       "41960                                  Youre the first ❤   \n",
       "\n",
       "                       Date   Lang  \n",
       "0      2024-10-10T10:19:34Z     it  \n",
       "1      2024-10-10T10:14:10Z  Other  \n",
       "2      2024-10-10T10:11:35Z  Other  \n",
       "3      2024-10-10T10:11:15Z     en  \n",
       "4      2024-10-10T10:06:44Z     en  \n",
       "...                     ...    ...  \n",
       "41956  2024-10-09T00:31:53Z     de  \n",
       "41957  2024-10-10T00:36:56Z     ro  \n",
       "41958  2024-10-10T08:32:47Z     fi  \n",
       "41959  2024-10-04T00:03:25Z     en  \n",
       "41960  2024-10-04T00:01:41Z     en  \n",
       "\n",
       "[41961 rows x 6 columns]"
      ]
     },
     "execution_count": 57,
     "metadata": {},
     "output_type": "execute_result"
    }
   ],
   "source": [
    "spe = pd.read_csv('MOONLIT FLOOR.csv',index_col=0)\n",
    "spe"
   ]
  },
  {
   "cell_type": "code",
   "execution_count": 58,
   "metadata": {},
   "outputs": [
    {
     "data": {
      "text/html": [
       "<div>\n",
       "<style scoped>\n",
       "    .dataframe tbody tr th:only-of-type {\n",
       "        vertical-align: middle;\n",
       "    }\n",
       "\n",
       "    .dataframe tbody tr th {\n",
       "        vertical-align: top;\n",
       "    }\n",
       "\n",
       "    .dataframe thead th {\n",
       "        text-align: right;\n",
       "    }\n",
       "</style>\n",
       "<table border=\"1\" class=\"dataframe\">\n",
       "  <thead>\n",
       "    <tr style=\"text-align: right;\">\n",
       "      <th></th>\n",
       "      <th>Date</th>\n",
       "      <th>Username</th>\n",
       "      <th>VideoID</th>\n",
       "      <th>Comment</th>\n",
       "    </tr>\n",
       "  </thead>\n",
       "  <tbody>\n",
       "    <tr>\n",
       "      <th>0</th>\n",
       "      <td>2024-10-10T10:19:34Z</td>\n",
       "      <td>@Jena-l9v</td>\n",
       "      <td>iYWGRGiYdHU</td>\n",
       "      <td>I im France 🇫🇷 ❤❤❤❤❤</td>\n",
       "    </tr>\n",
       "    <tr>\n",
       "      <th>1</th>\n",
       "      <td>2024-10-10T10:14:10Z</td>\n",
       "      <td>@MinjaeJang-m1l</td>\n",
       "      <td>iYWGRGiYdHU</td>\n",
       "      <td>🫶🫶🫶</td>\n",
       "    </tr>\n",
       "    <tr>\n",
       "      <th>2</th>\n",
       "      <td>2024-10-10T10:11:35Z</td>\n",
       "      <td>@lala327_L</td>\n",
       "      <td>iYWGRGiYdHU</td>\n",
       "      <td>265</td>\n",
       "    </tr>\n",
       "    <tr>\n",
       "      <th>3</th>\n",
       "      <td>2024-10-10T10:11:15Z</td>\n",
       "      <td>@lala327_L</td>\n",
       "      <td>iYWGRGiYdHU</td>\n",
       "      <td>Lilies love u lisa no matter what</td>\n",
       "    </tr>\n",
       "    <tr>\n",
       "      <th>4</th>\n",
       "      <td>2024-10-10T10:06:44Z</td>\n",
       "      <td>@prettysavage6779</td>\n",
       "      <td>iYWGRGiYdHU</td>\n",
       "      <td>Kisss meeew under the parisss twilllighttt....</td>\n",
       "    </tr>\n",
       "    <tr>\n",
       "      <th>...</th>\n",
       "      <td>...</td>\n",
       "      <td>...</td>\n",
       "      <td>...</td>\n",
       "      <td>...</td>\n",
       "    </tr>\n",
       "    <tr>\n",
       "      <th>41956</th>\n",
       "      <td>2024-10-09T00:31:53Z</td>\n",
       "      <td>@Qoriagustin</td>\n",
       "      <td>iYWGRGiYdHU</td>\n",
       "      <td>Me 🇮🇩</td>\n",
       "    </tr>\n",
       "    <tr>\n",
       "      <th>41957</th>\n",
       "      <td>2024-10-10T00:36:56Z</td>\n",
       "      <td>@15.ptnnnn</td>\n",
       "      <td>iYWGRGiYdHU</td>\n",
       "      <td>@@alceuuuU</td>\n",
       "    </tr>\n",
       "    <tr>\n",
       "      <th>41958</th>\n",
       "      <td>2024-10-10T08:32:47Z</td>\n",
       "      <td>@TaherMecano</td>\n",
       "      <td>iYWGRGiYdHU</td>\n",
       "      <td>Tunisia</td>\n",
       "    </tr>\n",
       "    <tr>\n",
       "      <th>41959</th>\n",
       "      <td>2024-10-04T00:03:25Z</td>\n",
       "      <td>@Merrytheonelittlefrog._.</td>\n",
       "      <td>iYWGRGiYdHU</td>\n",
       "      <td>Lisaaaa❤️‍🔥\\nEdit:am I the first?!?!if yes I’m...</td>\n",
       "    </tr>\n",
       "    <tr>\n",
       "      <th>41960</th>\n",
       "      <td>2024-10-04T00:01:41Z</td>\n",
       "      <td>@alceuuuU</td>\n",
       "      <td>iYWGRGiYdHU</td>\n",
       "      <td>Youre the first ❤</td>\n",
       "    </tr>\n",
       "  </tbody>\n",
       "</table>\n",
       "<p>41961 rows × 4 columns</p>\n",
       "</div>"
      ],
      "text/plain": [
       "                       Date                   Username      VideoID  \\\n",
       "0      2024-10-10T10:19:34Z                  @Jena-l9v  iYWGRGiYdHU   \n",
       "1      2024-10-10T10:14:10Z            @MinjaeJang-m1l  iYWGRGiYdHU   \n",
       "2      2024-10-10T10:11:35Z                 @lala327_L  iYWGRGiYdHU   \n",
       "3      2024-10-10T10:11:15Z                 @lala327_L  iYWGRGiYdHU   \n",
       "4      2024-10-10T10:06:44Z          @prettysavage6779  iYWGRGiYdHU   \n",
       "...                     ...                        ...          ...   \n",
       "41956  2024-10-09T00:31:53Z               @Qoriagustin  iYWGRGiYdHU   \n",
       "41957  2024-10-10T00:36:56Z                 @15.ptnnnn  iYWGRGiYdHU   \n",
       "41958  2024-10-10T08:32:47Z               @TaherMecano  iYWGRGiYdHU   \n",
       "41959  2024-10-04T00:03:25Z  @Merrytheonelittlefrog._.  iYWGRGiYdHU   \n",
       "41960  2024-10-04T00:01:41Z                  @alceuuuU  iYWGRGiYdHU   \n",
       "\n",
       "                                                 Comment  \n",
       "0                                   I im France 🇫🇷 ❤❤❤❤❤  \n",
       "1                                                    🫶🫶🫶  \n",
       "2                                                    265  \n",
       "3                      Lilies love u lisa no matter what  \n",
       "4         Kisss meeew under the parisss twilllighttt....  \n",
       "...                                                  ...  \n",
       "41956                                              Me 🇮🇩  \n",
       "41957                                         @@alceuuuU  \n",
       "41958                                            Tunisia  \n",
       "41959  Lisaaaa❤️‍🔥\\nEdit:am I the first?!?!if yes I’m...  \n",
       "41960                                  Youre the first ❤  \n",
       "\n",
       "[41961 rows x 4 columns]"
      ]
     },
     "execution_count": 58,
     "metadata": {},
     "output_type": "execute_result"
    }
   ],
   "source": [
    "spe.drop(['Timestamp'], axis=1,inplace=True)\n",
    "spe = spe.iloc[:,[3,0,1,2]]\n",
    "spe"
   ]
  },
  {
   "cell_type": "code",
   "execution_count": 59,
   "metadata": {},
   "outputs": [],
   "source": [
    "from langdetect import detect\n",
    "def det(x):\n",
    "    try:\n",
    "        lang = detect(x)\n",
    "    except:\n",
    "        lang = 'Other'\n",
    "    return lang\n",
    "\n",
    "spe['Lang'] = spe['Comment'].apply(det)"
   ]
  },
  {
   "cell_type": "code",
   "execution_count": 60,
   "metadata": {},
   "outputs": [
    {
     "data": {
      "text/html": [
       "<div>\n",
       "<style scoped>\n",
       "    .dataframe tbody tr th:only-of-type {\n",
       "        vertical-align: middle;\n",
       "    }\n",
       "\n",
       "    .dataframe tbody tr th {\n",
       "        vertical-align: top;\n",
       "    }\n",
       "\n",
       "    .dataframe thead th {\n",
       "        text-align: right;\n",
       "    }\n",
       "</style>\n",
       "<table border=\"1\" class=\"dataframe\">\n",
       "  <thead>\n",
       "    <tr style=\"text-align: right;\">\n",
       "      <th></th>\n",
       "      <th>Date</th>\n",
       "      <th>Username</th>\n",
       "      <th>VideoID</th>\n",
       "      <th>Comment</th>\n",
       "      <th>Lang</th>\n",
       "    </tr>\n",
       "  </thead>\n",
       "  <tbody>\n",
       "    <tr>\n",
       "      <th>0</th>\n",
       "      <td>2024-10-10T10:19:34Z</td>\n",
       "      <td>@Jena-l9v</td>\n",
       "      <td>iYWGRGiYdHU</td>\n",
       "      <td>I im France 🇫🇷 ❤❤❤❤❤</td>\n",
       "      <td>it</td>\n",
       "    </tr>\n",
       "    <tr>\n",
       "      <th>1</th>\n",
       "      <td>2024-10-10T10:14:10Z</td>\n",
       "      <td>@MinjaeJang-m1l</td>\n",
       "      <td>iYWGRGiYdHU</td>\n",
       "      <td>🫶🫶🫶</td>\n",
       "      <td>Other</td>\n",
       "    </tr>\n",
       "    <tr>\n",
       "      <th>2</th>\n",
       "      <td>2024-10-10T10:11:35Z</td>\n",
       "      <td>@lala327_L</td>\n",
       "      <td>iYWGRGiYdHU</td>\n",
       "      <td>265</td>\n",
       "      <td>Other</td>\n",
       "    </tr>\n",
       "    <tr>\n",
       "      <th>3</th>\n",
       "      <td>2024-10-10T10:11:15Z</td>\n",
       "      <td>@lala327_L</td>\n",
       "      <td>iYWGRGiYdHU</td>\n",
       "      <td>Lilies love u lisa no matter what</td>\n",
       "      <td>en</td>\n",
       "    </tr>\n",
       "    <tr>\n",
       "      <th>4</th>\n",
       "      <td>2024-10-10T10:06:44Z</td>\n",
       "      <td>@prettysavage6779</td>\n",
       "      <td>iYWGRGiYdHU</td>\n",
       "      <td>Kisss meeew under the parisss twilllighttt....</td>\n",
       "      <td>en</td>\n",
       "    </tr>\n",
       "    <tr>\n",
       "      <th>...</th>\n",
       "      <td>...</td>\n",
       "      <td>...</td>\n",
       "      <td>...</td>\n",
       "      <td>...</td>\n",
       "      <td>...</td>\n",
       "    </tr>\n",
       "    <tr>\n",
       "      <th>41956</th>\n",
       "      <td>2024-10-09T00:31:53Z</td>\n",
       "      <td>@Qoriagustin</td>\n",
       "      <td>iYWGRGiYdHU</td>\n",
       "      <td>Me 🇮🇩</td>\n",
       "      <td>de</td>\n",
       "    </tr>\n",
       "    <tr>\n",
       "      <th>41957</th>\n",
       "      <td>2024-10-10T00:36:56Z</td>\n",
       "      <td>@15.ptnnnn</td>\n",
       "      <td>iYWGRGiYdHU</td>\n",
       "      <td>@@alceuuuU</td>\n",
       "      <td>ro</td>\n",
       "    </tr>\n",
       "    <tr>\n",
       "      <th>41958</th>\n",
       "      <td>2024-10-10T08:32:47Z</td>\n",
       "      <td>@TaherMecano</td>\n",
       "      <td>iYWGRGiYdHU</td>\n",
       "      <td>Tunisia</td>\n",
       "      <td>fi</td>\n",
       "    </tr>\n",
       "    <tr>\n",
       "      <th>41959</th>\n",
       "      <td>2024-10-04T00:03:25Z</td>\n",
       "      <td>@Merrytheonelittlefrog._.</td>\n",
       "      <td>iYWGRGiYdHU</td>\n",
       "      <td>Lisaaaa❤️‍🔥\\nEdit:am I the first?!?!if yes I’m...</td>\n",
       "      <td>en</td>\n",
       "    </tr>\n",
       "    <tr>\n",
       "      <th>41960</th>\n",
       "      <td>2024-10-04T00:01:41Z</td>\n",
       "      <td>@alceuuuU</td>\n",
       "      <td>iYWGRGiYdHU</td>\n",
       "      <td>Youre the first ❤</td>\n",
       "      <td>en</td>\n",
       "    </tr>\n",
       "  </tbody>\n",
       "</table>\n",
       "<p>41961 rows × 5 columns</p>\n",
       "</div>"
      ],
      "text/plain": [
       "                       Date                   Username      VideoID  \\\n",
       "0      2024-10-10T10:19:34Z                  @Jena-l9v  iYWGRGiYdHU   \n",
       "1      2024-10-10T10:14:10Z            @MinjaeJang-m1l  iYWGRGiYdHU   \n",
       "2      2024-10-10T10:11:35Z                 @lala327_L  iYWGRGiYdHU   \n",
       "3      2024-10-10T10:11:15Z                 @lala327_L  iYWGRGiYdHU   \n",
       "4      2024-10-10T10:06:44Z          @prettysavage6779  iYWGRGiYdHU   \n",
       "...                     ...                        ...          ...   \n",
       "41956  2024-10-09T00:31:53Z               @Qoriagustin  iYWGRGiYdHU   \n",
       "41957  2024-10-10T00:36:56Z                 @15.ptnnnn  iYWGRGiYdHU   \n",
       "41958  2024-10-10T08:32:47Z               @TaherMecano  iYWGRGiYdHU   \n",
       "41959  2024-10-04T00:03:25Z  @Merrytheonelittlefrog._.  iYWGRGiYdHU   \n",
       "41960  2024-10-04T00:01:41Z                  @alceuuuU  iYWGRGiYdHU   \n",
       "\n",
       "                                                 Comment   Lang  \n",
       "0                                   I im France 🇫🇷 ❤❤❤❤❤     it  \n",
       "1                                                    🫶🫶🫶  Other  \n",
       "2                                                    265  Other  \n",
       "3                      Lilies love u lisa no matter what     en  \n",
       "4         Kisss meeew under the parisss twilllighttt....     en  \n",
       "...                                                  ...    ...  \n",
       "41956                                              Me 🇮🇩     de  \n",
       "41957                                         @@alceuuuU     ro  \n",
       "41958                                            Tunisia     fi  \n",
       "41959  Lisaaaa❤️‍🔥\\nEdit:am I the first?!?!if yes I’m...     en  \n",
       "41960                                  Youre the first ❤     en  \n",
       "\n",
       "[41961 rows x 5 columns]"
      ]
     },
     "execution_count": 60,
     "metadata": {},
     "output_type": "execute_result"
    }
   ],
   "source": [
    "spe"
   ]
  },
  {
   "cell_type": "code",
   "execution_count": 61,
   "metadata": {},
   "outputs": [
    {
     "data": {
      "text/html": [
       "<div>\n",
       "<style scoped>\n",
       "    .dataframe tbody tr th:only-of-type {\n",
       "        vertical-align: middle;\n",
       "    }\n",
       "\n",
       "    .dataframe tbody tr th {\n",
       "        vertical-align: top;\n",
       "    }\n",
       "\n",
       "    .dataframe thead th {\n",
       "        text-align: right;\n",
       "    }\n",
       "</style>\n",
       "<table border=\"1\" class=\"dataframe\">\n",
       "  <thead>\n",
       "    <tr style=\"text-align: right;\">\n",
       "      <th></th>\n",
       "      <th>Lang</th>\n",
       "      <th>Count</th>\n",
       "    </tr>\n",
       "  </thead>\n",
       "  <tbody>\n",
       "    <tr>\n",
       "      <th>11</th>\n",
       "      <td>en</td>\n",
       "      <td>12319</td>\n",
       "    </tr>\n",
       "    <tr>\n",
       "      <th>0</th>\n",
       "      <td>Other</td>\n",
       "      <td>5349</td>\n",
       "    </tr>\n",
       "    <tr>\n",
       "      <th>40</th>\n",
       "      <td>th</td>\n",
       "      <td>4308</td>\n",
       "    </tr>\n",
       "    <tr>\n",
       "      <th>41</th>\n",
       "      <td>tl</td>\n",
       "      <td>1778</td>\n",
       "    </tr>\n",
       "    <tr>\n",
       "      <th>36</th>\n",
       "      <td>so</td>\n",
       "      <td>1776</td>\n",
       "    </tr>\n",
       "    <tr>\n",
       "      <th>16</th>\n",
       "      <td>fr</td>\n",
       "      <td>1604</td>\n",
       "    </tr>\n",
       "    <tr>\n",
       "      <th>9</th>\n",
       "      <td>de</td>\n",
       "      <td>1366</td>\n",
       "    </tr>\n",
       "    <tr>\n",
       "      <th>12</th>\n",
       "      <td>es</td>\n",
       "      <td>1341</td>\n",
       "    </tr>\n",
       "    <tr>\n",
       "      <th>13</th>\n",
       "      <td>et</td>\n",
       "      <td>979</td>\n",
       "    </tr>\n",
       "    <tr>\n",
       "      <th>31</th>\n",
       "      <td>pt</td>\n",
       "      <td>917</td>\n",
       "    </tr>\n",
       "    <tr>\n",
       "      <th>27</th>\n",
       "      <td>nl</td>\n",
       "      <td>846</td>\n",
       "    </tr>\n",
       "    <tr>\n",
       "      <th>15</th>\n",
       "      <td>fi</td>\n",
       "      <td>829</td>\n",
       "    </tr>\n",
       "    <tr>\n",
       "      <th>42</th>\n",
       "      <td>tr</td>\n",
       "      <td>778</td>\n",
       "    </tr>\n",
       "    <tr>\n",
       "      <th>21</th>\n",
       "      <td>it</td>\n",
       "      <td>767</td>\n",
       "    </tr>\n",
       "    <tr>\n",
       "      <th>2</th>\n",
       "      <td>ar</td>\n",
       "      <td>646</td>\n",
       "    </tr>\n",
       "    <tr>\n",
       "      <th>1</th>\n",
       "      <td>af</td>\n",
       "      <td>639</td>\n",
       "    </tr>\n",
       "    <tr>\n",
       "      <th>45</th>\n",
       "      <td>vi</td>\n",
       "      <td>623</td>\n",
       "    </tr>\n",
       "    <tr>\n",
       "      <th>39</th>\n",
       "      <td>sw</td>\n",
       "      <td>527</td>\n",
       "    </tr>\n",
       "    <tr>\n",
       "      <th>35</th>\n",
       "      <td>sl</td>\n",
       "      <td>458</td>\n",
       "    </tr>\n",
       "    <tr>\n",
       "      <th>20</th>\n",
       "      <td>id</td>\n",
       "      <td>407</td>\n",
       "    </tr>\n",
       "    <tr>\n",
       "      <th>28</th>\n",
       "      <td>no</td>\n",
       "      <td>377</td>\n",
       "    </tr>\n",
       "    <tr>\n",
       "      <th>18</th>\n",
       "      <td>hr</td>\n",
       "      <td>364</td>\n",
       "    </tr>\n",
       "    <tr>\n",
       "      <th>5</th>\n",
       "      <td>ca</td>\n",
       "      <td>362</td>\n",
       "    </tr>\n",
       "    <tr>\n",
       "      <th>30</th>\n",
       "      <td>pl</td>\n",
       "      <td>320</td>\n",
       "    </tr>\n",
       "    <tr>\n",
       "      <th>7</th>\n",
       "      <td>cy</td>\n",
       "      <td>301</td>\n",
       "    </tr>\n",
       "    <tr>\n",
       "      <th>32</th>\n",
       "      <td>ro</td>\n",
       "      <td>261</td>\n",
       "    </tr>\n",
       "    <tr>\n",
       "      <th>34</th>\n",
       "      <td>sk</td>\n",
       "      <td>242</td>\n",
       "    </tr>\n",
       "    <tr>\n",
       "      <th>38</th>\n",
       "      <td>sv</td>\n",
       "      <td>240</td>\n",
       "    </tr>\n",
       "    <tr>\n",
       "      <th>23</th>\n",
       "      <td>ko</td>\n",
       "      <td>216</td>\n",
       "    </tr>\n",
       "    <tr>\n",
       "      <th>8</th>\n",
       "      <td>da</td>\n",
       "      <td>178</td>\n",
       "    </tr>\n",
       "    <tr>\n",
       "      <th>19</th>\n",
       "      <td>hu</td>\n",
       "      <td>173</td>\n",
       "    </tr>\n",
       "    <tr>\n",
       "      <th>14</th>\n",
       "      <td>fa</td>\n",
       "      <td>144</td>\n",
       "    </tr>\n",
       "    <tr>\n",
       "      <th>6</th>\n",
       "      <td>cs</td>\n",
       "      <td>131</td>\n",
       "    </tr>\n",
       "    <tr>\n",
       "      <th>24</th>\n",
       "      <td>lt</td>\n",
       "      <td>104</td>\n",
       "    </tr>\n",
       "    <tr>\n",
       "      <th>33</th>\n",
       "      <td>ru</td>\n",
       "      <td>70</td>\n",
       "    </tr>\n",
       "    <tr>\n",
       "      <th>37</th>\n",
       "      <td>sq</td>\n",
       "      <td>68</td>\n",
       "    </tr>\n",
       "    <tr>\n",
       "      <th>44</th>\n",
       "      <td>ur</td>\n",
       "      <td>35</td>\n",
       "    </tr>\n",
       "    <tr>\n",
       "      <th>22</th>\n",
       "      <td>ja</td>\n",
       "      <td>23</td>\n",
       "    </tr>\n",
       "    <tr>\n",
       "      <th>46</th>\n",
       "      <td>zh-cn</td>\n",
       "      <td>21</td>\n",
       "    </tr>\n",
       "    <tr>\n",
       "      <th>43</th>\n",
       "      <td>uk</td>\n",
       "      <td>20</td>\n",
       "    </tr>\n",
       "    <tr>\n",
       "      <th>25</th>\n",
       "      <td>lv</td>\n",
       "      <td>12</td>\n",
       "    </tr>\n",
       "    <tr>\n",
       "      <th>4</th>\n",
       "      <td>bn</td>\n",
       "      <td>5</td>\n",
       "    </tr>\n",
       "    <tr>\n",
       "      <th>26</th>\n",
       "      <td>mk</td>\n",
       "      <td>4</td>\n",
       "    </tr>\n",
       "    <tr>\n",
       "      <th>3</th>\n",
       "      <td>bg</td>\n",
       "      <td>4</td>\n",
       "    </tr>\n",
       "    <tr>\n",
       "      <th>47</th>\n",
       "      <td>zh-tw</td>\n",
       "      <td>4</td>\n",
       "    </tr>\n",
       "    <tr>\n",
       "      <th>17</th>\n",
       "      <td>hi</td>\n",
       "      <td>3</td>\n",
       "    </tr>\n",
       "    <tr>\n",
       "      <th>10</th>\n",
       "      <td>el</td>\n",
       "      <td>3</td>\n",
       "    </tr>\n",
       "    <tr>\n",
       "      <th>29</th>\n",
       "      <td>pa</td>\n",
       "      <td>1</td>\n",
       "    </tr>\n",
       "  </tbody>\n",
       "</table>\n",
       "</div>"
      ],
      "text/plain": [
       "     Lang  Count\n",
       "11     en  12319\n",
       "0   Other   5349\n",
       "40     th   4308\n",
       "41     tl   1778\n",
       "36     so   1776\n",
       "16     fr   1604\n",
       "9      de   1366\n",
       "12     es   1341\n",
       "13     et    979\n",
       "31     pt    917\n",
       "27     nl    846\n",
       "15     fi    829\n",
       "42     tr    778\n",
       "21     it    767\n",
       "2      ar    646\n",
       "1      af    639\n",
       "45     vi    623\n",
       "39     sw    527\n",
       "35     sl    458\n",
       "20     id    407\n",
       "28     no    377\n",
       "18     hr    364\n",
       "5      ca    362\n",
       "30     pl    320\n",
       "7      cy    301\n",
       "32     ro    261\n",
       "34     sk    242\n",
       "38     sv    240\n",
       "23     ko    216\n",
       "8      da    178\n",
       "19     hu    173\n",
       "14     fa    144\n",
       "6      cs    131\n",
       "24     lt    104\n",
       "33     ru     70\n",
       "37     sq     68\n",
       "44     ur     35\n",
       "22     ja     23\n",
       "46  zh-cn     21\n",
       "43     uk     20\n",
       "25     lv     12\n",
       "4      bn      5\n",
       "26     mk      4\n",
       "3      bg      4\n",
       "47  zh-tw      4\n",
       "17     hi      3\n",
       "10     el      3\n",
       "29     pa      1"
      ]
     },
     "execution_count": 61,
     "metadata": {},
     "output_type": "execute_result"
    }
   ],
   "source": [
    "df = spe.groupby(['Lang'])['Comment'].count().reset_index(name='Count').sort_values(['Count'], ascending=False)\n",
    "df"
   ]
  },
  {
   "cell_type": "code",
   "execution_count": null,
   "metadata": {},
   "outputs": [],
   "source": []
  }
 ],
 "metadata": {
  "kernelspec": {
   "display_name": "Python 3",
   "language": "python",
   "name": "python3"
  },
  "language_info": {
   "codemirror_mode": {
    "name": "ipython",
    "version": 3
   },
   "file_extension": ".py",
   "mimetype": "text/x-python",
   "name": "python",
   "nbconvert_exporter": "python",
   "pygments_lexer": "ipython3",
   "version": "3.11.9"
  }
 },
 "nbformat": 4,
 "nbformat_minor": 2
}
