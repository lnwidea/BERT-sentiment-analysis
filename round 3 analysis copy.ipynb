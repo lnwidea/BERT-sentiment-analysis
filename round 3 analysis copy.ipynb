{
 "cells": [
  {
   "cell_type": "code",
   "execution_count": 6,
   "metadata": {},
   "outputs": [],
   "source": [
    "import pandas as pd\n",
    "import plotly.express as px"
   ]
  },
  {
   "cell_type": "code",
   "execution_count": 7,
   "metadata": {},
   "outputs": [],
   "source": [
    "df_inter1 = pd.read_csv('Melt Down_Day 6.csv', index_col=0)"
   ]
  },
  {
   "cell_type": "code",
   "execution_count": 8,
   "metadata": {},
   "outputs": [
    {
     "data": {
      "text/html": [
       "<div>\n",
       "<style scoped>\n",
       "    .dataframe tbody tr th:only-of-type {\n",
       "        vertical-align: middle;\n",
       "    }\n",
       "\n",
       "    .dataframe tbody tr th {\n",
       "        vertical-align: top;\n",
       "    }\n",
       "\n",
       "    .dataframe thead th {\n",
       "        text-align: right;\n",
       "    }\n",
       "</style>\n",
       "<table border=\"1\" class=\"dataframe\">\n",
       "  <thead>\n",
       "    <tr style=\"text-align: right;\">\n",
       "      <th></th>\n",
       "      <th>Timestamp</th>\n",
       "      <th>Username</th>\n",
       "      <th>VideoID</th>\n",
       "      <th>Comment</th>\n",
       "      <th>Date</th>\n",
       "      <th>Lang</th>\n",
       "    </tr>\n",
       "  </thead>\n",
       "  <tbody>\n",
       "    <tr>\n",
       "      <th>0</th>\n",
       "      <td>2024-10-11T14:10:11Z</td>\n",
       "      <td>@휑-d8z</td>\n",
       "      <td>yss4rIrHl6o</td>\n",
       "      <td>아 성진 진짜 ㅁㅊ 너무 잘생김</td>\n",
       "      <td>2024-10-11T14:10:11Z</td>\n",
       "      <td>ko</td>\n",
       "    </tr>\n",
       "    <tr>\n",
       "      <th>1</th>\n",
       "      <td>2024-10-11T13:02:04Z</td>\n",
       "      <td>@_youdied9442</td>\n",
       "      <td>yss4rIrHl6o</td>\n",
       "      <td>노래 겁나 좋네!!</td>\n",
       "      <td>2024-10-11T13:02:04Z</td>\n",
       "      <td>ko</td>\n",
       "    </tr>\n",
       "    <tr>\n",
       "      <th>2</th>\n",
       "      <td>2024-10-11T13:00:52Z</td>\n",
       "      <td>@지칙</td>\n",
       "      <td>yss4rIrHl6o</td>\n",
       "      <td>누가 계속 '녹아버려요'라고 검색하니..!</td>\n",
       "      <td>2024-10-11T13:00:52Z</td>\n",
       "      <td>ko</td>\n",
       "    </tr>\n",
       "    <tr>\n",
       "      <th>3</th>\n",
       "      <td>2024-10-11T05:22:15Z</td>\n",
       "      <td>@rasyazaidi</td>\n",
       "      <td>yss4rIrHl6o</td>\n",
       "      <td>DAY6, please continue make good musics, you ar...</td>\n",
       "      <td>2024-10-11T05:22:15Z</td>\n",
       "      <td>en</td>\n",
       "    </tr>\n",
       "    <tr>\n",
       "      <th>4</th>\n",
       "      <td>2024-10-11T04:40:56Z</td>\n",
       "      <td>@Ohhohohohohohohohohohoho</td>\n",
       "      <td>yss4rIrHl6o</td>\n",
       "      <td>2006년으로 돌아가고싶다</td>\n",
       "      <td>2024-10-11T04:40:56Z</td>\n",
       "      <td>ko</td>\n",
       "    </tr>\n",
       "    <tr>\n",
       "      <th>...</th>\n",
       "      <td>...</td>\n",
       "      <td>...</td>\n",
       "      <td>...</td>\n",
       "      <td>...</td>\n",
       "      <td>...</td>\n",
       "      <td>...</td>\n",
       "    </tr>\n",
       "    <tr>\n",
       "      <th>6071</th>\n",
       "      <td>2024-09-02T09:00:21Z</td>\n",
       "      <td>@gustiachmadainurrofiq4933</td>\n",
       "      <td>yss4rIrHl6o</td>\n",
       "      <td>p login</td>\n",
       "      <td>2024-09-02T09:00:21Z</td>\n",
       "      <td>tl</td>\n",
       "    </tr>\n",
       "    <tr>\n",
       "      <th>6072</th>\n",
       "      <td>2024-09-02T09:00:21Z</td>\n",
       "      <td>@foureverk</td>\n",
       "      <td>yss4rIrHl6o</td>\n",
       "      <td>어떻게 이렇게 매번 벅차오르고 감동 주는 노래를 뽑는 거지? 너무 좋다ㅠㅠㅠ 이 음...</td>\n",
       "      <td>2024-09-02T09:00:21Z</td>\n",
       "      <td>ko</td>\n",
       "    </tr>\n",
       "    <tr>\n",
       "      <th>6073</th>\n",
       "      <td>2024-09-02T09:00:18Z</td>\n",
       "      <td>@one_pil</td>\n",
       "      <td>yss4rIrHl6o</td>\n",
       "      <td>노래 분위기 미쳤다!!\\n청춘의 느낌이 가득해서 너무 좋다ㅠㅠㅠ\\n이번활동은 음방1...</td>\n",
       "      <td>2024-09-02T09:16:44Z</td>\n",
       "      <td>ko</td>\n",
       "    </tr>\n",
       "    <tr>\n",
       "      <th>6074</th>\n",
       "      <td>2024-09-02T09:00:18Z</td>\n",
       "      <td>@송송의소소일상</td>\n",
       "      <td>yss4rIrHl6o</td>\n",
       "      <td>아싸❤</td>\n",
       "      <td>2024-09-02T09:00:18Z</td>\n",
       "      <td>ko</td>\n",
       "    </tr>\n",
       "    <tr>\n",
       "      <th>6075</th>\n",
       "      <td>2024-09-02T09:00:15Z</td>\n",
       "      <td>@마이데이윰</td>\n",
       "      <td>yss4rIrHl6o</td>\n",
       "      <td>데이식스에게 사랑에 빠져서 녹는 속도만큼 달려오다가 다 녹아버렸습니다 ... 🫠🍀♥️</td>\n",
       "      <td>2024-09-02T09:00:15Z</td>\n",
       "      <td>ko</td>\n",
       "    </tr>\n",
       "  </tbody>\n",
       "</table>\n",
       "<p>6076 rows × 6 columns</p>\n",
       "</div>"
      ],
      "text/plain": [
       "                 Timestamp                    Username      VideoID  \\\n",
       "0     2024-10-11T14:10:11Z                      @휑-d8z  yss4rIrHl6o   \n",
       "1     2024-10-11T13:02:04Z               @_youdied9442  yss4rIrHl6o   \n",
       "2     2024-10-11T13:00:52Z                         @지칙  yss4rIrHl6o   \n",
       "3     2024-10-11T05:22:15Z                 @rasyazaidi  yss4rIrHl6o   \n",
       "4     2024-10-11T04:40:56Z   @Ohhohohohohohohohohohoho  yss4rIrHl6o   \n",
       "...                    ...                         ...          ...   \n",
       "6071  2024-09-02T09:00:21Z  @gustiachmadainurrofiq4933  yss4rIrHl6o   \n",
       "6072  2024-09-02T09:00:21Z                  @foureverk  yss4rIrHl6o   \n",
       "6073  2024-09-02T09:00:18Z                    @one_pil  yss4rIrHl6o   \n",
       "6074  2024-09-02T09:00:18Z                    @송송의소소일상  yss4rIrHl6o   \n",
       "6075  2024-09-02T09:00:15Z                      @마이데이윰  yss4rIrHl6o   \n",
       "\n",
       "                                                Comment                  Date  \\\n",
       "0                                     아 성진 진짜 ㅁㅊ 너무 잘생김  2024-10-11T14:10:11Z   \n",
       "1                                            노래 겁나 좋네!!  2024-10-11T13:02:04Z   \n",
       "2                               누가 계속 '녹아버려요'라고 검색하니..!  2024-10-11T13:00:52Z   \n",
       "3     DAY6, please continue make good musics, you ar...  2024-10-11T05:22:15Z   \n",
       "4                                        2006년으로 돌아가고싶다  2024-10-11T04:40:56Z   \n",
       "...                                                 ...                   ...   \n",
       "6071                                            p login  2024-09-02T09:00:21Z   \n",
       "6072  어떻게 이렇게 매번 벅차오르고 감동 주는 노래를 뽑는 거지? 너무 좋다ㅠㅠㅠ 이 음...  2024-09-02T09:00:21Z   \n",
       "6073  노래 분위기 미쳤다!!\\n청춘의 느낌이 가득해서 너무 좋다ㅠㅠㅠ\\n이번활동은 음방1...  2024-09-02T09:16:44Z   \n",
       "6074                                                아싸❤  2024-09-02T09:00:18Z   \n",
       "6075    데이식스에게 사랑에 빠져서 녹는 속도만큼 달려오다가 다 녹아버렸습니다 ... 🫠🍀♥️  2024-09-02T09:00:15Z   \n",
       "\n",
       "     Lang  \n",
       "0      ko  \n",
       "1      ko  \n",
       "2      ko  \n",
       "3      en  \n",
       "4      ko  \n",
       "...   ...  \n",
       "6071   tl  \n",
       "6072   ko  \n",
       "6073   ko  \n",
       "6074   ko  \n",
       "6075   ko  \n",
       "\n",
       "[6076 rows x 6 columns]"
      ]
     },
     "execution_count": 8,
     "metadata": {},
     "output_type": "execute_result"
    }
   ],
   "source": [
    "df_inter1"
   ]
  },
  {
   "cell_type": "code",
   "execution_count": 9,
   "metadata": {},
   "outputs": [
    {
     "data": {
      "text/html": [
       "<div>\n",
       "<style scoped>\n",
       "    .dataframe tbody tr th:only-of-type {\n",
       "        vertical-align: middle;\n",
       "    }\n",
       "\n",
       "    .dataframe tbody tr th {\n",
       "        vertical-align: top;\n",
       "    }\n",
       "\n",
       "    .dataframe thead th {\n",
       "        text-align: right;\n",
       "    }\n",
       "</style>\n",
       "<table border=\"1\" class=\"dataframe\">\n",
       "  <thead>\n",
       "    <tr style=\"text-align: right;\">\n",
       "      <th></th>\n",
       "      <th>Date</th>\n",
       "      <th>Username</th>\n",
       "      <th>VideoID</th>\n",
       "      <th>Comment</th>\n",
       "    </tr>\n",
       "  </thead>\n",
       "  <tbody>\n",
       "    <tr>\n",
       "      <th>0</th>\n",
       "      <td>2024-10-11T14:10:11Z</td>\n",
       "      <td>@휑-d8z</td>\n",
       "      <td>yss4rIrHl6o</td>\n",
       "      <td>아 성진 진짜 ㅁㅊ 너무 잘생김</td>\n",
       "    </tr>\n",
       "    <tr>\n",
       "      <th>1</th>\n",
       "      <td>2024-10-11T13:02:04Z</td>\n",
       "      <td>@_youdied9442</td>\n",
       "      <td>yss4rIrHl6o</td>\n",
       "      <td>노래 겁나 좋네!!</td>\n",
       "    </tr>\n",
       "    <tr>\n",
       "      <th>2</th>\n",
       "      <td>2024-10-11T13:00:52Z</td>\n",
       "      <td>@지칙</td>\n",
       "      <td>yss4rIrHl6o</td>\n",
       "      <td>누가 계속 '녹아버려요'라고 검색하니..!</td>\n",
       "    </tr>\n",
       "    <tr>\n",
       "      <th>3</th>\n",
       "      <td>2024-10-11T05:22:15Z</td>\n",
       "      <td>@rasyazaidi</td>\n",
       "      <td>yss4rIrHl6o</td>\n",
       "      <td>DAY6, please continue make good musics, you ar...</td>\n",
       "    </tr>\n",
       "    <tr>\n",
       "      <th>4</th>\n",
       "      <td>2024-10-11T04:40:56Z</td>\n",
       "      <td>@Ohhohohohohohohohohohoho</td>\n",
       "      <td>yss4rIrHl6o</td>\n",
       "      <td>2006년으로 돌아가고싶다</td>\n",
       "    </tr>\n",
       "    <tr>\n",
       "      <th>...</th>\n",
       "      <td>...</td>\n",
       "      <td>...</td>\n",
       "      <td>...</td>\n",
       "      <td>...</td>\n",
       "    </tr>\n",
       "    <tr>\n",
       "      <th>6071</th>\n",
       "      <td>2024-09-02T09:00:21Z</td>\n",
       "      <td>@gustiachmadainurrofiq4933</td>\n",
       "      <td>yss4rIrHl6o</td>\n",
       "      <td>p login</td>\n",
       "    </tr>\n",
       "    <tr>\n",
       "      <th>6072</th>\n",
       "      <td>2024-09-02T09:00:21Z</td>\n",
       "      <td>@foureverk</td>\n",
       "      <td>yss4rIrHl6o</td>\n",
       "      <td>어떻게 이렇게 매번 벅차오르고 감동 주는 노래를 뽑는 거지? 너무 좋다ㅠㅠㅠ 이 음...</td>\n",
       "    </tr>\n",
       "    <tr>\n",
       "      <th>6073</th>\n",
       "      <td>2024-09-02T09:16:44Z</td>\n",
       "      <td>@one_pil</td>\n",
       "      <td>yss4rIrHl6o</td>\n",
       "      <td>노래 분위기 미쳤다!!\\n청춘의 느낌이 가득해서 너무 좋다ㅠㅠㅠ\\n이번활동은 음방1...</td>\n",
       "    </tr>\n",
       "    <tr>\n",
       "      <th>6074</th>\n",
       "      <td>2024-09-02T09:00:18Z</td>\n",
       "      <td>@송송의소소일상</td>\n",
       "      <td>yss4rIrHl6o</td>\n",
       "      <td>아싸❤</td>\n",
       "    </tr>\n",
       "    <tr>\n",
       "      <th>6075</th>\n",
       "      <td>2024-09-02T09:00:15Z</td>\n",
       "      <td>@마이데이윰</td>\n",
       "      <td>yss4rIrHl6o</td>\n",
       "      <td>데이식스에게 사랑에 빠져서 녹는 속도만큼 달려오다가 다 녹아버렸습니다 ... 🫠🍀♥️</td>\n",
       "    </tr>\n",
       "  </tbody>\n",
       "</table>\n",
       "<p>6076 rows × 4 columns</p>\n",
       "</div>"
      ],
      "text/plain": [
       "                      Date                    Username      VideoID  \\\n",
       "0     2024-10-11T14:10:11Z                      @휑-d8z  yss4rIrHl6o   \n",
       "1     2024-10-11T13:02:04Z               @_youdied9442  yss4rIrHl6o   \n",
       "2     2024-10-11T13:00:52Z                         @지칙  yss4rIrHl6o   \n",
       "3     2024-10-11T05:22:15Z                 @rasyazaidi  yss4rIrHl6o   \n",
       "4     2024-10-11T04:40:56Z   @Ohhohohohohohohohohohoho  yss4rIrHl6o   \n",
       "...                    ...                         ...          ...   \n",
       "6071  2024-09-02T09:00:21Z  @gustiachmadainurrofiq4933  yss4rIrHl6o   \n",
       "6072  2024-09-02T09:00:21Z                  @foureverk  yss4rIrHl6o   \n",
       "6073  2024-09-02T09:16:44Z                    @one_pil  yss4rIrHl6o   \n",
       "6074  2024-09-02T09:00:18Z                    @송송의소소일상  yss4rIrHl6o   \n",
       "6075  2024-09-02T09:00:15Z                      @마이데이윰  yss4rIrHl6o   \n",
       "\n",
       "                                                Comment  \n",
       "0                                     아 성진 진짜 ㅁㅊ 너무 잘생김  \n",
       "1                                            노래 겁나 좋네!!  \n",
       "2                               누가 계속 '녹아버려요'라고 검색하니..!  \n",
       "3     DAY6, please continue make good musics, you ar...  \n",
       "4                                        2006년으로 돌아가고싶다  \n",
       "...                                                 ...  \n",
       "6071                                            p login  \n",
       "6072  어떻게 이렇게 매번 벅차오르고 감동 주는 노래를 뽑는 거지? 너무 좋다ㅠㅠㅠ 이 음...  \n",
       "6073  노래 분위기 미쳤다!!\\n청춘의 느낌이 가득해서 너무 좋다ㅠㅠㅠ\\n이번활동은 음방1...  \n",
       "6074                                                아싸❤  \n",
       "6075    데이식스에게 사랑에 빠져서 녹는 속도만큼 달려오다가 다 녹아버렸습니다 ... 🫠🍀♥️  \n",
       "\n",
       "[6076 rows x 4 columns]"
      ]
     },
     "execution_count": 9,
     "metadata": {},
     "output_type": "execute_result"
    }
   ],
   "source": [
    "df_inter1.drop(['Timestamp'], axis=1,inplace=True)\n",
    "df_inter1 = df_inter1.iloc[:,[3,0,1,2]]\n",
    "df_inter1"
   ]
  },
  {
   "cell_type": "code",
   "execution_count": 10,
   "metadata": {},
   "outputs": [],
   "source": [
    "from langdetect import detect\n",
    "def det(x):\n",
    "    try:\n",
    "        lang = detect(x)\n",
    "    except:\n",
    "        lang = 'Other'\n",
    "    return lang\n",
    "\n",
    "df_inter1['Lang'] = df_inter1['Comment'].apply(det)"
   ]
  },
  {
   "cell_type": "code",
   "execution_count": 11,
   "metadata": {},
   "outputs": [
    {
     "data": {
      "text/html": [
       "<div>\n",
       "<style scoped>\n",
       "    .dataframe tbody tr th:only-of-type {\n",
       "        vertical-align: middle;\n",
       "    }\n",
       "\n",
       "    .dataframe tbody tr th {\n",
       "        vertical-align: top;\n",
       "    }\n",
       "\n",
       "    .dataframe thead th {\n",
       "        text-align: right;\n",
       "    }\n",
       "</style>\n",
       "<table border=\"1\" class=\"dataframe\">\n",
       "  <thead>\n",
       "    <tr style=\"text-align: right;\">\n",
       "      <th></th>\n",
       "      <th>Date</th>\n",
       "      <th>Username</th>\n",
       "      <th>VideoID</th>\n",
       "      <th>Comment</th>\n",
       "      <th>Lang</th>\n",
       "    </tr>\n",
       "  </thead>\n",
       "  <tbody>\n",
       "    <tr>\n",
       "      <th>0</th>\n",
       "      <td>2024-10-11T14:10:11Z</td>\n",
       "      <td>@휑-d8z</td>\n",
       "      <td>yss4rIrHl6o</td>\n",
       "      <td>아 성진 진짜 ㅁㅊ 너무 잘생김</td>\n",
       "      <td>ko</td>\n",
       "    </tr>\n",
       "    <tr>\n",
       "      <th>1</th>\n",
       "      <td>2024-10-11T13:02:04Z</td>\n",
       "      <td>@_youdied9442</td>\n",
       "      <td>yss4rIrHl6o</td>\n",
       "      <td>노래 겁나 좋네!!</td>\n",
       "      <td>ko</td>\n",
       "    </tr>\n",
       "    <tr>\n",
       "      <th>2</th>\n",
       "      <td>2024-10-11T13:00:52Z</td>\n",
       "      <td>@지칙</td>\n",
       "      <td>yss4rIrHl6o</td>\n",
       "      <td>누가 계속 '녹아버려요'라고 검색하니..!</td>\n",
       "      <td>ko</td>\n",
       "    </tr>\n",
       "    <tr>\n",
       "      <th>3</th>\n",
       "      <td>2024-10-11T05:22:15Z</td>\n",
       "      <td>@rasyazaidi</td>\n",
       "      <td>yss4rIrHl6o</td>\n",
       "      <td>DAY6, please continue make good musics, you ar...</td>\n",
       "      <td>en</td>\n",
       "    </tr>\n",
       "    <tr>\n",
       "      <th>4</th>\n",
       "      <td>2024-10-11T04:40:56Z</td>\n",
       "      <td>@Ohhohohohohohohohohohoho</td>\n",
       "      <td>yss4rIrHl6o</td>\n",
       "      <td>2006년으로 돌아가고싶다</td>\n",
       "      <td>ko</td>\n",
       "    </tr>\n",
       "    <tr>\n",
       "      <th>...</th>\n",
       "      <td>...</td>\n",
       "      <td>...</td>\n",
       "      <td>...</td>\n",
       "      <td>...</td>\n",
       "      <td>...</td>\n",
       "    </tr>\n",
       "    <tr>\n",
       "      <th>6071</th>\n",
       "      <td>2024-09-02T09:00:21Z</td>\n",
       "      <td>@gustiachmadainurrofiq4933</td>\n",
       "      <td>yss4rIrHl6o</td>\n",
       "      <td>p login</td>\n",
       "      <td>tl</td>\n",
       "    </tr>\n",
       "    <tr>\n",
       "      <th>6072</th>\n",
       "      <td>2024-09-02T09:00:21Z</td>\n",
       "      <td>@foureverk</td>\n",
       "      <td>yss4rIrHl6o</td>\n",
       "      <td>어떻게 이렇게 매번 벅차오르고 감동 주는 노래를 뽑는 거지? 너무 좋다ㅠㅠㅠ 이 음...</td>\n",
       "      <td>ko</td>\n",
       "    </tr>\n",
       "    <tr>\n",
       "      <th>6073</th>\n",
       "      <td>2024-09-02T09:16:44Z</td>\n",
       "      <td>@one_pil</td>\n",
       "      <td>yss4rIrHl6o</td>\n",
       "      <td>노래 분위기 미쳤다!!\\n청춘의 느낌이 가득해서 너무 좋다ㅠㅠㅠ\\n이번활동은 음방1...</td>\n",
       "      <td>ko</td>\n",
       "    </tr>\n",
       "    <tr>\n",
       "      <th>6074</th>\n",
       "      <td>2024-09-02T09:00:18Z</td>\n",
       "      <td>@송송의소소일상</td>\n",
       "      <td>yss4rIrHl6o</td>\n",
       "      <td>아싸❤</td>\n",
       "      <td>ko</td>\n",
       "    </tr>\n",
       "    <tr>\n",
       "      <th>6075</th>\n",
       "      <td>2024-09-02T09:00:15Z</td>\n",
       "      <td>@마이데이윰</td>\n",
       "      <td>yss4rIrHl6o</td>\n",
       "      <td>데이식스에게 사랑에 빠져서 녹는 속도만큼 달려오다가 다 녹아버렸습니다 ... 🫠🍀♥️</td>\n",
       "      <td>ko</td>\n",
       "    </tr>\n",
       "  </tbody>\n",
       "</table>\n",
       "<p>6076 rows × 5 columns</p>\n",
       "</div>"
      ],
      "text/plain": [
       "                      Date                    Username      VideoID  \\\n",
       "0     2024-10-11T14:10:11Z                      @휑-d8z  yss4rIrHl6o   \n",
       "1     2024-10-11T13:02:04Z               @_youdied9442  yss4rIrHl6o   \n",
       "2     2024-10-11T13:00:52Z                         @지칙  yss4rIrHl6o   \n",
       "3     2024-10-11T05:22:15Z                 @rasyazaidi  yss4rIrHl6o   \n",
       "4     2024-10-11T04:40:56Z   @Ohhohohohohohohohohohoho  yss4rIrHl6o   \n",
       "...                    ...                         ...          ...   \n",
       "6071  2024-09-02T09:00:21Z  @gustiachmadainurrofiq4933  yss4rIrHl6o   \n",
       "6072  2024-09-02T09:00:21Z                  @foureverk  yss4rIrHl6o   \n",
       "6073  2024-09-02T09:16:44Z                    @one_pil  yss4rIrHl6o   \n",
       "6074  2024-09-02T09:00:18Z                    @송송의소소일상  yss4rIrHl6o   \n",
       "6075  2024-09-02T09:00:15Z                      @마이데이윰  yss4rIrHl6o   \n",
       "\n",
       "                                                Comment Lang  \n",
       "0                                     아 성진 진짜 ㅁㅊ 너무 잘생김   ko  \n",
       "1                                            노래 겁나 좋네!!   ko  \n",
       "2                               누가 계속 '녹아버려요'라고 검색하니..!   ko  \n",
       "3     DAY6, please continue make good musics, you ar...   en  \n",
       "4                                        2006년으로 돌아가고싶다   ko  \n",
       "...                                                 ...  ...  \n",
       "6071                                            p login   tl  \n",
       "6072  어떻게 이렇게 매번 벅차오르고 감동 주는 노래를 뽑는 거지? 너무 좋다ㅠㅠㅠ 이 음...   ko  \n",
       "6073  노래 분위기 미쳤다!!\\n청춘의 느낌이 가득해서 너무 좋다ㅠㅠㅠ\\n이번활동은 음방1...   ko  \n",
       "6074                                                아싸❤   ko  \n",
       "6075    데이식스에게 사랑에 빠져서 녹는 속도만큼 달려오다가 다 녹아버렸습니다 ... 🫠🍀♥️   ko  \n",
       "\n",
       "[6076 rows x 5 columns]"
      ]
     },
     "execution_count": 11,
     "metadata": {},
     "output_type": "execute_result"
    }
   ],
   "source": [
    "df_inter1"
   ]
  },
  {
   "cell_type": "code",
   "execution_count": 12,
   "metadata": {},
   "outputs": [
    {
     "data": {
      "text/html": [
       "<div>\n",
       "<style scoped>\n",
       "    .dataframe tbody tr th:only-of-type {\n",
       "        vertical-align: middle;\n",
       "    }\n",
       "\n",
       "    .dataframe tbody tr th {\n",
       "        vertical-align: top;\n",
       "    }\n",
       "\n",
       "    .dataframe thead th {\n",
       "        text-align: right;\n",
       "    }\n",
       "</style>\n",
       "<table border=\"1\" class=\"dataframe\">\n",
       "  <thead>\n",
       "    <tr style=\"text-align: right;\">\n",
       "      <th></th>\n",
       "      <th>Lang</th>\n",
       "      <th>Count</th>\n",
       "    </tr>\n",
       "  </thead>\n",
       "  <tbody>\n",
       "    <tr>\n",
       "      <th>23</th>\n",
       "      <td>ko</td>\n",
       "      <td>2664</td>\n",
       "    </tr>\n",
       "    <tr>\n",
       "      <th>11</th>\n",
       "      <td>en</td>\n",
       "      <td>1524</td>\n",
       "    </tr>\n",
       "    <tr>\n",
       "      <th>0</th>\n",
       "      <td>Other</td>\n",
       "      <td>358</td>\n",
       "    </tr>\n",
       "    <tr>\n",
       "      <th>20</th>\n",
       "      <td>id</td>\n",
       "      <td>222</td>\n",
       "    </tr>\n",
       "    <tr>\n",
       "      <th>34</th>\n",
       "      <td>so</td>\n",
       "      <td>209</td>\n",
       "    </tr>\n",
       "    <tr>\n",
       "      <th>9</th>\n",
       "      <td>de</td>\n",
       "      <td>169</td>\n",
       "    </tr>\n",
       "    <tr>\n",
       "      <th>12</th>\n",
       "      <td>es</td>\n",
       "      <td>167</td>\n",
       "    </tr>\n",
       "    <tr>\n",
       "      <th>39</th>\n",
       "      <td>tl</td>\n",
       "      <td>84</td>\n",
       "    </tr>\n",
       "    <tr>\n",
       "      <th>22</th>\n",
       "      <td>ja</td>\n",
       "      <td>80</td>\n",
       "    </tr>\n",
       "    <tr>\n",
       "      <th>29</th>\n",
       "      <td>pt</td>\n",
       "      <td>50</td>\n",
       "    </tr>\n",
       "    <tr>\n",
       "      <th>37</th>\n",
       "      <td>sw</td>\n",
       "      <td>45</td>\n",
       "    </tr>\n",
       "    <tr>\n",
       "      <th>1</th>\n",
       "      <td>af</td>\n",
       "      <td>41</td>\n",
       "    </tr>\n",
       "    <tr>\n",
       "      <th>31</th>\n",
       "      <td>ru</td>\n",
       "      <td>36</td>\n",
       "    </tr>\n",
       "    <tr>\n",
       "      <th>21</th>\n",
       "      <td>it</td>\n",
       "      <td>33</td>\n",
       "    </tr>\n",
       "    <tr>\n",
       "      <th>16</th>\n",
       "      <td>fr</td>\n",
       "      <td>33</td>\n",
       "    </tr>\n",
       "    <tr>\n",
       "      <th>8</th>\n",
       "      <td>da</td>\n",
       "      <td>30</td>\n",
       "    </tr>\n",
       "    <tr>\n",
       "      <th>26</th>\n",
       "      <td>nl</td>\n",
       "      <td>30</td>\n",
       "    </tr>\n",
       "    <tr>\n",
       "      <th>27</th>\n",
       "      <td>no</td>\n",
       "      <td>28</td>\n",
       "    </tr>\n",
       "    <tr>\n",
       "      <th>13</th>\n",
       "      <td>et</td>\n",
       "      <td>27</td>\n",
       "    </tr>\n",
       "    <tr>\n",
       "      <th>42</th>\n",
       "      <td>vi</td>\n",
       "      <td>26</td>\n",
       "    </tr>\n",
       "    <tr>\n",
       "      <th>7</th>\n",
       "      <td>cy</td>\n",
       "      <td>25</td>\n",
       "    </tr>\n",
       "    <tr>\n",
       "      <th>15</th>\n",
       "      <td>fi</td>\n",
       "      <td>19</td>\n",
       "    </tr>\n",
       "    <tr>\n",
       "      <th>38</th>\n",
       "      <td>th</td>\n",
       "      <td>19</td>\n",
       "    </tr>\n",
       "    <tr>\n",
       "      <th>18</th>\n",
       "      <td>hr</td>\n",
       "      <td>17</td>\n",
       "    </tr>\n",
       "    <tr>\n",
       "      <th>40</th>\n",
       "      <td>tr</td>\n",
       "      <td>15</td>\n",
       "    </tr>\n",
       "    <tr>\n",
       "      <th>28</th>\n",
       "      <td>pl</td>\n",
       "      <td>14</td>\n",
       "    </tr>\n",
       "    <tr>\n",
       "      <th>19</th>\n",
       "      <td>hu</td>\n",
       "      <td>14</td>\n",
       "    </tr>\n",
       "    <tr>\n",
       "      <th>2</th>\n",
       "      <td>ar</td>\n",
       "      <td>12</td>\n",
       "    </tr>\n",
       "    <tr>\n",
       "      <th>33</th>\n",
       "      <td>sl</td>\n",
       "      <td>12</td>\n",
       "    </tr>\n",
       "    <tr>\n",
       "      <th>36</th>\n",
       "      <td>sv</td>\n",
       "      <td>11</td>\n",
       "    </tr>\n",
       "    <tr>\n",
       "      <th>43</th>\n",
       "      <td>zh-cn</td>\n",
       "      <td>9</td>\n",
       "    </tr>\n",
       "    <tr>\n",
       "      <th>30</th>\n",
       "      <td>ro</td>\n",
       "      <td>9</td>\n",
       "    </tr>\n",
       "    <tr>\n",
       "      <th>5</th>\n",
       "      <td>ca</td>\n",
       "      <td>8</td>\n",
       "    </tr>\n",
       "    <tr>\n",
       "      <th>32</th>\n",
       "      <td>sk</td>\n",
       "      <td>7</td>\n",
       "    </tr>\n",
       "    <tr>\n",
       "      <th>6</th>\n",
       "      <td>cs</td>\n",
       "      <td>6</td>\n",
       "    </tr>\n",
       "    <tr>\n",
       "      <th>35</th>\n",
       "      <td>sq</td>\n",
       "      <td>5</td>\n",
       "    </tr>\n",
       "    <tr>\n",
       "      <th>41</th>\n",
       "      <td>uk</td>\n",
       "      <td>3</td>\n",
       "    </tr>\n",
       "    <tr>\n",
       "      <th>44</th>\n",
       "      <td>zh-tw</td>\n",
       "      <td>3</td>\n",
       "    </tr>\n",
       "    <tr>\n",
       "      <th>14</th>\n",
       "      <td>fa</td>\n",
       "      <td>2</td>\n",
       "    </tr>\n",
       "    <tr>\n",
       "      <th>25</th>\n",
       "      <td>lv</td>\n",
       "      <td>2</td>\n",
       "    </tr>\n",
       "    <tr>\n",
       "      <th>24</th>\n",
       "      <td>lt</td>\n",
       "      <td>2</td>\n",
       "    </tr>\n",
       "    <tr>\n",
       "      <th>4</th>\n",
       "      <td>bn</td>\n",
       "      <td>2</td>\n",
       "    </tr>\n",
       "    <tr>\n",
       "      <th>3</th>\n",
       "      <td>bg</td>\n",
       "      <td>1</td>\n",
       "    </tr>\n",
       "    <tr>\n",
       "      <th>10</th>\n",
       "      <td>el</td>\n",
       "      <td>1</td>\n",
       "    </tr>\n",
       "    <tr>\n",
       "      <th>17</th>\n",
       "      <td>he</td>\n",
       "      <td>1</td>\n",
       "    </tr>\n",
       "  </tbody>\n",
       "</table>\n",
       "</div>"
      ],
      "text/plain": [
       "     Lang  Count\n",
       "23     ko   2664\n",
       "11     en   1524\n",
       "0   Other    358\n",
       "20     id    222\n",
       "34     so    209\n",
       "9      de    169\n",
       "12     es    167\n",
       "39     tl     84\n",
       "22     ja     80\n",
       "29     pt     50\n",
       "37     sw     45\n",
       "1      af     41\n",
       "31     ru     36\n",
       "21     it     33\n",
       "16     fr     33\n",
       "8      da     30\n",
       "26     nl     30\n",
       "27     no     28\n",
       "13     et     27\n",
       "42     vi     26\n",
       "7      cy     25\n",
       "15     fi     19\n",
       "38     th     19\n",
       "18     hr     17\n",
       "40     tr     15\n",
       "28     pl     14\n",
       "19     hu     14\n",
       "2      ar     12\n",
       "33     sl     12\n",
       "36     sv     11\n",
       "43  zh-cn      9\n",
       "30     ro      9\n",
       "5      ca      8\n",
       "32     sk      7\n",
       "6      cs      6\n",
       "35     sq      5\n",
       "41     uk      3\n",
       "44  zh-tw      3\n",
       "14     fa      2\n",
       "25     lv      2\n",
       "24     lt      2\n",
       "4      bn      2\n",
       "3      bg      1\n",
       "10     el      1\n",
       "17     he      1"
      ]
     },
     "execution_count": 12,
     "metadata": {},
     "output_type": "execute_result"
    }
   ],
   "source": [
    "df = df_inter1.groupby(['Lang'])['Comment'].count().reset_index(name='Count').sort_values(['Count'], ascending=False)\n",
    "df"
   ]
  },
  {
   "cell_type": "code",
   "execution_count": 13,
   "metadata": {},
   "outputs": [
    {
     "data": {
      "application/vnd.plotly.v1+json": {
       "config": {
        "plotlyServerURL": "https://plot.ly"
       },
       "data": [
        {
         "domain": {
          "x": [
           0,
           1
          ],
          "y": [
           0,
           1
          ]
         },
         "hovertemplate": "Lang=%{label}<br>Count=%{value}<extra></extra>",
         "labels": [
          "ko",
          "en",
          "Other",
          "id",
          "so",
          "de",
          "es",
          "tl",
          "ja",
          "pt",
          "sw",
          "af",
          "ru",
          "it",
          "fr",
          "da",
          "nl",
          "no",
          "et",
          "vi",
          "cy",
          "fi",
          "th",
          "hr",
          "tr",
          "pl",
          "hu",
          "ar",
          "sl",
          "sv",
          "zh-cn",
          "ro",
          "ca",
          "sk",
          "cs",
          "sq",
          "uk",
          "zh-tw",
          "fa",
          "lv",
          "lt",
          "bn",
          "bg",
          "el",
          "he"
         ],
         "legendgroup": "",
         "name": "",
         "showlegend": true,
         "textposition": "inside",
         "type": "pie",
         "values": [
          2664,
          1524,
          358,
          222,
          209,
          169,
          167,
          84,
          80,
          50,
          45,
          41,
          36,
          33,
          33,
          30,
          30,
          28,
          27,
          26,
          25,
          19,
          19,
          17,
          15,
          14,
          14,
          12,
          12,
          11,
          9,
          9,
          8,
          7,
          6,
          5,
          3,
          3,
          2,
          2,
          2,
          2,
          1,
          1,
          1
         ]
        }
       ],
       "layout": {
        "legend": {
         "tracegroupgap": 0
        },
        "template": {
         "data": {
          "bar": [
           {
            "error_x": {
             "color": "#2a3f5f"
            },
            "error_y": {
             "color": "#2a3f5f"
            },
            "marker": {
             "line": {
              "color": "#E5ECF6",
              "width": 0.5
             },
             "pattern": {
              "fillmode": "overlay",
              "size": 10,
              "solidity": 0.2
             }
            },
            "type": "bar"
           }
          ],
          "barpolar": [
           {
            "marker": {
             "line": {
              "color": "#E5ECF6",
              "width": 0.5
             },
             "pattern": {
              "fillmode": "overlay",
              "size": 10,
              "solidity": 0.2
             }
            },
            "type": "barpolar"
           }
          ],
          "carpet": [
           {
            "aaxis": {
             "endlinecolor": "#2a3f5f",
             "gridcolor": "white",
             "linecolor": "white",
             "minorgridcolor": "white",
             "startlinecolor": "#2a3f5f"
            },
            "baxis": {
             "endlinecolor": "#2a3f5f",
             "gridcolor": "white",
             "linecolor": "white",
             "minorgridcolor": "white",
             "startlinecolor": "#2a3f5f"
            },
            "type": "carpet"
           }
          ],
          "choropleth": [
           {
            "colorbar": {
             "outlinewidth": 0,
             "ticks": ""
            },
            "type": "choropleth"
           }
          ],
          "contour": [
           {
            "colorbar": {
             "outlinewidth": 0,
             "ticks": ""
            },
            "colorscale": [
             [
              0,
              "#0d0887"
             ],
             [
              0.1111111111111111,
              "#46039f"
             ],
             [
              0.2222222222222222,
              "#7201a8"
             ],
             [
              0.3333333333333333,
              "#9c179e"
             ],
             [
              0.4444444444444444,
              "#bd3786"
             ],
             [
              0.5555555555555556,
              "#d8576b"
             ],
             [
              0.6666666666666666,
              "#ed7953"
             ],
             [
              0.7777777777777778,
              "#fb9f3a"
             ],
             [
              0.8888888888888888,
              "#fdca26"
             ],
             [
              1,
              "#f0f921"
             ]
            ],
            "type": "contour"
           }
          ],
          "contourcarpet": [
           {
            "colorbar": {
             "outlinewidth": 0,
             "ticks": ""
            },
            "type": "contourcarpet"
           }
          ],
          "heatmap": [
           {
            "colorbar": {
             "outlinewidth": 0,
             "ticks": ""
            },
            "colorscale": [
             [
              0,
              "#0d0887"
             ],
             [
              0.1111111111111111,
              "#46039f"
             ],
             [
              0.2222222222222222,
              "#7201a8"
             ],
             [
              0.3333333333333333,
              "#9c179e"
             ],
             [
              0.4444444444444444,
              "#bd3786"
             ],
             [
              0.5555555555555556,
              "#d8576b"
             ],
             [
              0.6666666666666666,
              "#ed7953"
             ],
             [
              0.7777777777777778,
              "#fb9f3a"
             ],
             [
              0.8888888888888888,
              "#fdca26"
             ],
             [
              1,
              "#f0f921"
             ]
            ],
            "type": "heatmap"
           }
          ],
          "heatmapgl": [
           {
            "colorbar": {
             "outlinewidth": 0,
             "ticks": ""
            },
            "colorscale": [
             [
              0,
              "#0d0887"
             ],
             [
              0.1111111111111111,
              "#46039f"
             ],
             [
              0.2222222222222222,
              "#7201a8"
             ],
             [
              0.3333333333333333,
              "#9c179e"
             ],
             [
              0.4444444444444444,
              "#bd3786"
             ],
             [
              0.5555555555555556,
              "#d8576b"
             ],
             [
              0.6666666666666666,
              "#ed7953"
             ],
             [
              0.7777777777777778,
              "#fb9f3a"
             ],
             [
              0.8888888888888888,
              "#fdca26"
             ],
             [
              1,
              "#f0f921"
             ]
            ],
            "type": "heatmapgl"
           }
          ],
          "histogram": [
           {
            "marker": {
             "pattern": {
              "fillmode": "overlay",
              "size": 10,
              "solidity": 0.2
             }
            },
            "type": "histogram"
           }
          ],
          "histogram2d": [
           {
            "colorbar": {
             "outlinewidth": 0,
             "ticks": ""
            },
            "colorscale": [
             [
              0,
              "#0d0887"
             ],
             [
              0.1111111111111111,
              "#46039f"
             ],
             [
              0.2222222222222222,
              "#7201a8"
             ],
             [
              0.3333333333333333,
              "#9c179e"
             ],
             [
              0.4444444444444444,
              "#bd3786"
             ],
             [
              0.5555555555555556,
              "#d8576b"
             ],
             [
              0.6666666666666666,
              "#ed7953"
             ],
             [
              0.7777777777777778,
              "#fb9f3a"
             ],
             [
              0.8888888888888888,
              "#fdca26"
             ],
             [
              1,
              "#f0f921"
             ]
            ],
            "type": "histogram2d"
           }
          ],
          "histogram2dcontour": [
           {
            "colorbar": {
             "outlinewidth": 0,
             "ticks": ""
            },
            "colorscale": [
             [
              0,
              "#0d0887"
             ],
             [
              0.1111111111111111,
              "#46039f"
             ],
             [
              0.2222222222222222,
              "#7201a8"
             ],
             [
              0.3333333333333333,
              "#9c179e"
             ],
             [
              0.4444444444444444,
              "#bd3786"
             ],
             [
              0.5555555555555556,
              "#d8576b"
             ],
             [
              0.6666666666666666,
              "#ed7953"
             ],
             [
              0.7777777777777778,
              "#fb9f3a"
             ],
             [
              0.8888888888888888,
              "#fdca26"
             ],
             [
              1,
              "#f0f921"
             ]
            ],
            "type": "histogram2dcontour"
           }
          ],
          "mesh3d": [
           {
            "colorbar": {
             "outlinewidth": 0,
             "ticks": ""
            },
            "type": "mesh3d"
           }
          ],
          "parcoords": [
           {
            "line": {
             "colorbar": {
              "outlinewidth": 0,
              "ticks": ""
             }
            },
            "type": "parcoords"
           }
          ],
          "pie": [
           {
            "automargin": true,
            "type": "pie"
           }
          ],
          "scatter": [
           {
            "fillpattern": {
             "fillmode": "overlay",
             "size": 10,
             "solidity": 0.2
            },
            "type": "scatter"
           }
          ],
          "scatter3d": [
           {
            "line": {
             "colorbar": {
              "outlinewidth": 0,
              "ticks": ""
             }
            },
            "marker": {
             "colorbar": {
              "outlinewidth": 0,
              "ticks": ""
             }
            },
            "type": "scatter3d"
           }
          ],
          "scattercarpet": [
           {
            "marker": {
             "colorbar": {
              "outlinewidth": 0,
              "ticks": ""
             }
            },
            "type": "scattercarpet"
           }
          ],
          "scattergeo": [
           {
            "marker": {
             "colorbar": {
              "outlinewidth": 0,
              "ticks": ""
             }
            },
            "type": "scattergeo"
           }
          ],
          "scattergl": [
           {
            "marker": {
             "colorbar": {
              "outlinewidth": 0,
              "ticks": ""
             }
            },
            "type": "scattergl"
           }
          ],
          "scattermapbox": [
           {
            "marker": {
             "colorbar": {
              "outlinewidth": 0,
              "ticks": ""
             }
            },
            "type": "scattermapbox"
           }
          ],
          "scatterpolar": [
           {
            "marker": {
             "colorbar": {
              "outlinewidth": 0,
              "ticks": ""
             }
            },
            "type": "scatterpolar"
           }
          ],
          "scatterpolargl": [
           {
            "marker": {
             "colorbar": {
              "outlinewidth": 0,
              "ticks": ""
             }
            },
            "type": "scatterpolargl"
           }
          ],
          "scatterternary": [
           {
            "marker": {
             "colorbar": {
              "outlinewidth": 0,
              "ticks": ""
             }
            },
            "type": "scatterternary"
           }
          ],
          "surface": [
           {
            "colorbar": {
             "outlinewidth": 0,
             "ticks": ""
            },
            "colorscale": [
             [
              0,
              "#0d0887"
             ],
             [
              0.1111111111111111,
              "#46039f"
             ],
             [
              0.2222222222222222,
              "#7201a8"
             ],
             [
              0.3333333333333333,
              "#9c179e"
             ],
             [
              0.4444444444444444,
              "#bd3786"
             ],
             [
              0.5555555555555556,
              "#d8576b"
             ],
             [
              0.6666666666666666,
              "#ed7953"
             ],
             [
              0.7777777777777778,
              "#fb9f3a"
             ],
             [
              0.8888888888888888,
              "#fdca26"
             ],
             [
              1,
              "#f0f921"
             ]
            ],
            "type": "surface"
           }
          ],
          "table": [
           {
            "cells": {
             "fill": {
              "color": "#EBF0F8"
             },
             "line": {
              "color": "white"
             }
            },
            "header": {
             "fill": {
              "color": "#C8D4E3"
             },
             "line": {
              "color": "white"
             }
            },
            "type": "table"
           }
          ]
         },
         "layout": {
          "annotationdefaults": {
           "arrowcolor": "#2a3f5f",
           "arrowhead": 0,
           "arrowwidth": 1
          },
          "autotypenumbers": "strict",
          "coloraxis": {
           "colorbar": {
            "outlinewidth": 0,
            "ticks": ""
           }
          },
          "colorscale": {
           "diverging": [
            [
             0,
             "#8e0152"
            ],
            [
             0.1,
             "#c51b7d"
            ],
            [
             0.2,
             "#de77ae"
            ],
            [
             0.3,
             "#f1b6da"
            ],
            [
             0.4,
             "#fde0ef"
            ],
            [
             0.5,
             "#f7f7f7"
            ],
            [
             0.6,
             "#e6f5d0"
            ],
            [
             0.7,
             "#b8e186"
            ],
            [
             0.8,
             "#7fbc41"
            ],
            [
             0.9,
             "#4d9221"
            ],
            [
             1,
             "#276419"
            ]
           ],
           "sequential": [
            [
             0,
             "#0d0887"
            ],
            [
             0.1111111111111111,
             "#46039f"
            ],
            [
             0.2222222222222222,
             "#7201a8"
            ],
            [
             0.3333333333333333,
             "#9c179e"
            ],
            [
             0.4444444444444444,
             "#bd3786"
            ],
            [
             0.5555555555555556,
             "#d8576b"
            ],
            [
             0.6666666666666666,
             "#ed7953"
            ],
            [
             0.7777777777777778,
             "#fb9f3a"
            ],
            [
             0.8888888888888888,
             "#fdca26"
            ],
            [
             1,
             "#f0f921"
            ]
           ],
           "sequentialminus": [
            [
             0,
             "#0d0887"
            ],
            [
             0.1111111111111111,
             "#46039f"
            ],
            [
             0.2222222222222222,
             "#7201a8"
            ],
            [
             0.3333333333333333,
             "#9c179e"
            ],
            [
             0.4444444444444444,
             "#bd3786"
            ],
            [
             0.5555555555555556,
             "#d8576b"
            ],
            [
             0.6666666666666666,
             "#ed7953"
            ],
            [
             0.7777777777777778,
             "#fb9f3a"
            ],
            [
             0.8888888888888888,
             "#fdca26"
            ],
            [
             1,
             "#f0f921"
            ]
           ]
          },
          "colorway": [
           "#636efa",
           "#EF553B",
           "#00cc96",
           "#ab63fa",
           "#FFA15A",
           "#19d3f3",
           "#FF6692",
           "#B6E880",
           "#FF97FF",
           "#FECB52"
          ],
          "font": {
           "color": "#2a3f5f"
          },
          "geo": {
           "bgcolor": "white",
           "lakecolor": "white",
           "landcolor": "#E5ECF6",
           "showlakes": true,
           "showland": true,
           "subunitcolor": "white"
          },
          "hoverlabel": {
           "align": "left"
          },
          "hovermode": "closest",
          "mapbox": {
           "style": "light"
          },
          "paper_bgcolor": "white",
          "plot_bgcolor": "#E5ECF6",
          "polar": {
           "angularaxis": {
            "gridcolor": "white",
            "linecolor": "white",
            "ticks": ""
           },
           "bgcolor": "#E5ECF6",
           "radialaxis": {
            "gridcolor": "white",
            "linecolor": "white",
            "ticks": ""
           }
          },
          "scene": {
           "xaxis": {
            "backgroundcolor": "#E5ECF6",
            "gridcolor": "white",
            "gridwidth": 2,
            "linecolor": "white",
            "showbackground": true,
            "ticks": "",
            "zerolinecolor": "white"
           },
           "yaxis": {
            "backgroundcolor": "#E5ECF6",
            "gridcolor": "white",
            "gridwidth": 2,
            "linecolor": "white",
            "showbackground": true,
            "ticks": "",
            "zerolinecolor": "white"
           },
           "zaxis": {
            "backgroundcolor": "#E5ECF6",
            "gridcolor": "white",
            "gridwidth": 2,
            "linecolor": "white",
            "showbackground": true,
            "ticks": "",
            "zerolinecolor": "white"
           }
          },
          "shapedefaults": {
           "line": {
            "color": "#2a3f5f"
           }
          },
          "ternary": {
           "aaxis": {
            "gridcolor": "white",
            "linecolor": "white",
            "ticks": ""
           },
           "baxis": {
            "gridcolor": "white",
            "linecolor": "white",
            "ticks": ""
           },
           "bgcolor": "#E5ECF6",
           "caxis": {
            "gridcolor": "white",
            "linecolor": "white",
            "ticks": ""
           }
          },
          "title": {
           "x": 0.05
          },
          "xaxis": {
           "automargin": true,
           "gridcolor": "white",
           "linecolor": "white",
           "ticks": "",
           "title": {
            "standoff": 15
           },
           "zerolinecolor": "white",
           "zerolinewidth": 2
          },
          "yaxis": {
           "automargin": true,
           "gridcolor": "white",
           "linecolor": "white",
           "ticks": "",
           "title": {
            "standoff": 15
           },
           "zerolinecolor": "white",
           "zerolinewidth": 2
          }
         }
        },
        "title": {
         "text": "Melt Down_Day 6"
        },
        "uniformtext": {
         "minsize": 12,
         "mode": "hide"
        }
       }
      }
     },
     "metadata": {},
     "output_type": "display_data"
    }
   ],
   "source": [
    "fig = px.pie(df, values='Count', names='Lang',title='Melt Down_Day 6')\n",
    "fig.update_traces(textposition='inside')\n",
    "fig.update_layout(uniformtext_minsize=12, uniformtext_mode='hide')\n",
    "fig.show()"
   ]
  },
  {
   "cell_type": "code",
   "execution_count": 14,
   "metadata": {},
   "outputs": [],
   "source": [
    "df_inter2 = pd.read_csv(\"NewJeans (뉴진스) 'Ditto'.csv\", index_col=0)"
   ]
  },
  {
   "cell_type": "code",
   "execution_count": 15,
   "metadata": {},
   "outputs": [
    {
     "data": {
      "text/html": [
       "<div>\n",
       "<style scoped>\n",
       "    .dataframe tbody tr th:only-of-type {\n",
       "        vertical-align: middle;\n",
       "    }\n",
       "\n",
       "    .dataframe tbody tr th {\n",
       "        vertical-align: top;\n",
       "    }\n",
       "\n",
       "    .dataframe thead th {\n",
       "        text-align: right;\n",
       "    }\n",
       "</style>\n",
       "<table border=\"1\" class=\"dataframe\">\n",
       "  <thead>\n",
       "    <tr style=\"text-align: right;\">\n",
       "      <th></th>\n",
       "      <th>Timestamp</th>\n",
       "      <th>Username</th>\n",
       "      <th>VideoID</th>\n",
       "      <th>Comment</th>\n",
       "      <th>Date</th>\n",
       "      <th>Lang</th>\n",
       "    </tr>\n",
       "  </thead>\n",
       "  <tbody>\n",
       "    <tr>\n",
       "      <th>0</th>\n",
       "      <td>2024-10-11T07:23:02Z</td>\n",
       "      <td>@mlhjh</td>\n",
       "      <td>pSUydWEqKwE</td>\n",
       "      <td>뉴진스야 사랑해 버니즈가 영원히 지켜줄거야</td>\n",
       "      <td>2024-10-11T07:23:02Z</td>\n",
       "      <td>ko</td>\n",
       "    </tr>\n",
       "    <tr>\n",
       "      <th>1</th>\n",
       "      <td>2024-10-11T00:09:38Z</td>\n",
       "      <td>@aylemihank</td>\n",
       "      <td>pSUydWEqKwE</td>\n",
       "      <td>OMGGGG, TREMENDA ROLA🤗😻</td>\n",
       "      <td>2024-10-11T00:09:38Z</td>\n",
       "      <td>de</td>\n",
       "    </tr>\n",
       "    <tr>\n",
       "      <th>2</th>\n",
       "      <td>2024-10-10T11:00:36Z</td>\n",
       "      <td>@kuro-opaque</td>\n",
       "      <td>pSUydWEqKwE</td>\n",
       "      <td>쿠로 또 와써욤</td>\n",
       "      <td>2024-10-10T11:00:36Z</td>\n",
       "      <td>ko</td>\n",
       "    </tr>\n",
       "    <tr>\n",
       "      <th>3</th>\n",
       "      <td>2024-10-10T08:41:12Z</td>\n",
       "      <td>@JoelTitus-y5w</td>\n",
       "      <td>pSUydWEqKwE</td>\n",
       "      <td>Tavares Meadow</td>\n",
       "      <td>2024-10-10T08:41:12Z</td>\n",
       "      <td>en</td>\n",
       "    </tr>\n",
       "    <tr>\n",
       "      <th>4</th>\n",
       "      <td>2024-10-09T15:17:48Z</td>\n",
       "      <td>@OFICIALBIG</td>\n",
       "      <td>pSUydWEqKwE</td>\n",
       "      <td>Pikomon</td>\n",
       "      <td>2024-10-09T15:17:48Z</td>\n",
       "      <td>lt</td>\n",
       "    </tr>\n",
       "    <tr>\n",
       "      <th>...</th>\n",
       "      <td>...</td>\n",
       "      <td>...</td>\n",
       "      <td>...</td>\n",
       "      <td>...</td>\n",
       "      <td>...</td>\n",
       "      <td>...</td>\n",
       "    </tr>\n",
       "    <tr>\n",
       "      <th>39277</th>\n",
       "      <td>2022-12-19T09:00:16Z</td>\n",
       "      <td>@paaaQ</td>\n",
       "      <td>pSUydWEqKwE</td>\n",
       "      <td>와</td>\n",
       "      <td>2022-12-19T09:00:16Z</td>\n",
       "      <td>ko</td>\n",
       "    </tr>\n",
       "    <tr>\n",
       "      <th>39278</th>\n",
       "      <td>2022-12-19T09:00:16Z</td>\n",
       "      <td>@0x197</td>\n",
       "      <td>pSUydWEqKwE</td>\n",
       "      <td>와</td>\n",
       "      <td>2022-12-19T09:00:16Z</td>\n",
       "      <td>ko</td>\n",
       "    </tr>\n",
       "    <tr>\n",
       "      <th>39279</th>\n",
       "      <td>2022-12-19T09:00:16Z</td>\n",
       "      <td>@Godtti29</td>\n",
       "      <td>pSUydWEqKwE</td>\n",
       "      <td>きたー</td>\n",
       "      <td>2022-12-19T09:00:16Z</td>\n",
       "      <td>ja</td>\n",
       "    </tr>\n",
       "    <tr>\n",
       "      <th>39280</th>\n",
       "      <td>2022-12-19T09:00:15Z</td>\n",
       "      <td>@dis_zexx._.11</td>\n",
       "      <td>pSUydWEqKwE</td>\n",
       "      <td>3</td>\n",
       "      <td>2022-12-19T09:00:27Z</td>\n",
       "      <td>Other</td>\n",
       "    </tr>\n",
       "    <tr>\n",
       "      <th>39281</th>\n",
       "      <td>2022-12-19T09:00:13Z</td>\n",
       "      <td>@yuuka7152</td>\n",
       "      <td>pSUydWEqKwE</td>\n",
       "      <td>s</td>\n",
       "      <td>2022-12-19T09:00:13Z</td>\n",
       "      <td>sv</td>\n",
       "    </tr>\n",
       "  </tbody>\n",
       "</table>\n",
       "<p>39282 rows × 6 columns</p>\n",
       "</div>"
      ],
      "text/plain": [
       "                  Timestamp        Username      VideoID  \\\n",
       "0      2024-10-11T07:23:02Z          @mlhjh  pSUydWEqKwE   \n",
       "1      2024-10-11T00:09:38Z     @aylemihank  pSUydWEqKwE   \n",
       "2      2024-10-10T11:00:36Z    @kuro-opaque  pSUydWEqKwE   \n",
       "3      2024-10-10T08:41:12Z  @JoelTitus-y5w  pSUydWEqKwE   \n",
       "4      2024-10-09T15:17:48Z     @OFICIALBIG  pSUydWEqKwE   \n",
       "...                     ...             ...          ...   \n",
       "39277  2022-12-19T09:00:16Z          @paaaQ  pSUydWEqKwE   \n",
       "39278  2022-12-19T09:00:16Z          @0x197  pSUydWEqKwE   \n",
       "39279  2022-12-19T09:00:16Z       @Godtti29  pSUydWEqKwE   \n",
       "39280  2022-12-19T09:00:15Z  @dis_zexx._.11  pSUydWEqKwE   \n",
       "39281  2022-12-19T09:00:13Z      @yuuka7152  pSUydWEqKwE   \n",
       "\n",
       "                       Comment                  Date   Lang  \n",
       "0      뉴진스야 사랑해 버니즈가 영원히 지켜줄거야  2024-10-11T07:23:02Z     ko  \n",
       "1      OMGGGG, TREMENDA ROLA🤗😻  2024-10-11T00:09:38Z     de  \n",
       "2                     쿠로 또 와써욤  2024-10-10T11:00:36Z     ko  \n",
       "3               Tavares Meadow  2024-10-10T08:41:12Z     en  \n",
       "4                      Pikomon  2024-10-09T15:17:48Z     lt  \n",
       "...                        ...                   ...    ...  \n",
       "39277                        와  2022-12-19T09:00:16Z     ko  \n",
       "39278                        와  2022-12-19T09:00:16Z     ko  \n",
       "39279                      きたー  2022-12-19T09:00:16Z     ja  \n",
       "39280                        3  2022-12-19T09:00:27Z  Other  \n",
       "39281                        s  2022-12-19T09:00:13Z     sv  \n",
       "\n",
       "[39282 rows x 6 columns]"
      ]
     },
     "execution_count": 15,
     "metadata": {},
     "output_type": "execute_result"
    }
   ],
   "source": [
    "df_inter2"
   ]
  },
  {
   "cell_type": "code",
   "execution_count": 16,
   "metadata": {},
   "outputs": [
    {
     "data": {
      "text/html": [
       "<div>\n",
       "<style scoped>\n",
       "    .dataframe tbody tr th:only-of-type {\n",
       "        vertical-align: middle;\n",
       "    }\n",
       "\n",
       "    .dataframe tbody tr th {\n",
       "        vertical-align: top;\n",
       "    }\n",
       "\n",
       "    .dataframe thead th {\n",
       "        text-align: right;\n",
       "    }\n",
       "</style>\n",
       "<table border=\"1\" class=\"dataframe\">\n",
       "  <thead>\n",
       "    <tr style=\"text-align: right;\">\n",
       "      <th></th>\n",
       "      <th>Date</th>\n",
       "      <th>Username</th>\n",
       "      <th>VideoID</th>\n",
       "      <th>Comment</th>\n",
       "    </tr>\n",
       "  </thead>\n",
       "  <tbody>\n",
       "    <tr>\n",
       "      <th>0</th>\n",
       "      <td>2024-10-11T07:23:02Z</td>\n",
       "      <td>@mlhjh</td>\n",
       "      <td>pSUydWEqKwE</td>\n",
       "      <td>뉴진스야 사랑해 버니즈가 영원히 지켜줄거야</td>\n",
       "    </tr>\n",
       "    <tr>\n",
       "      <th>1</th>\n",
       "      <td>2024-10-11T00:09:38Z</td>\n",
       "      <td>@aylemihank</td>\n",
       "      <td>pSUydWEqKwE</td>\n",
       "      <td>OMGGGG, TREMENDA ROLA🤗😻</td>\n",
       "    </tr>\n",
       "    <tr>\n",
       "      <th>2</th>\n",
       "      <td>2024-10-10T11:00:36Z</td>\n",
       "      <td>@kuro-opaque</td>\n",
       "      <td>pSUydWEqKwE</td>\n",
       "      <td>쿠로 또 와써욤</td>\n",
       "    </tr>\n",
       "    <tr>\n",
       "      <th>3</th>\n",
       "      <td>2024-10-10T08:41:12Z</td>\n",
       "      <td>@JoelTitus-y5w</td>\n",
       "      <td>pSUydWEqKwE</td>\n",
       "      <td>Tavares Meadow</td>\n",
       "    </tr>\n",
       "    <tr>\n",
       "      <th>4</th>\n",
       "      <td>2024-10-09T15:17:48Z</td>\n",
       "      <td>@OFICIALBIG</td>\n",
       "      <td>pSUydWEqKwE</td>\n",
       "      <td>Pikomon</td>\n",
       "    </tr>\n",
       "    <tr>\n",
       "      <th>...</th>\n",
       "      <td>...</td>\n",
       "      <td>...</td>\n",
       "      <td>...</td>\n",
       "      <td>...</td>\n",
       "    </tr>\n",
       "    <tr>\n",
       "      <th>39277</th>\n",
       "      <td>2022-12-19T09:00:16Z</td>\n",
       "      <td>@paaaQ</td>\n",
       "      <td>pSUydWEqKwE</td>\n",
       "      <td>와</td>\n",
       "    </tr>\n",
       "    <tr>\n",
       "      <th>39278</th>\n",
       "      <td>2022-12-19T09:00:16Z</td>\n",
       "      <td>@0x197</td>\n",
       "      <td>pSUydWEqKwE</td>\n",
       "      <td>와</td>\n",
       "    </tr>\n",
       "    <tr>\n",
       "      <th>39279</th>\n",
       "      <td>2022-12-19T09:00:16Z</td>\n",
       "      <td>@Godtti29</td>\n",
       "      <td>pSUydWEqKwE</td>\n",
       "      <td>きたー</td>\n",
       "    </tr>\n",
       "    <tr>\n",
       "      <th>39280</th>\n",
       "      <td>2022-12-19T09:00:27Z</td>\n",
       "      <td>@dis_zexx._.11</td>\n",
       "      <td>pSUydWEqKwE</td>\n",
       "      <td>3</td>\n",
       "    </tr>\n",
       "    <tr>\n",
       "      <th>39281</th>\n",
       "      <td>2022-12-19T09:00:13Z</td>\n",
       "      <td>@yuuka7152</td>\n",
       "      <td>pSUydWEqKwE</td>\n",
       "      <td>s</td>\n",
       "    </tr>\n",
       "  </tbody>\n",
       "</table>\n",
       "<p>39282 rows × 4 columns</p>\n",
       "</div>"
      ],
      "text/plain": [
       "                       Date        Username      VideoID  \\\n",
       "0      2024-10-11T07:23:02Z          @mlhjh  pSUydWEqKwE   \n",
       "1      2024-10-11T00:09:38Z     @aylemihank  pSUydWEqKwE   \n",
       "2      2024-10-10T11:00:36Z    @kuro-opaque  pSUydWEqKwE   \n",
       "3      2024-10-10T08:41:12Z  @JoelTitus-y5w  pSUydWEqKwE   \n",
       "4      2024-10-09T15:17:48Z     @OFICIALBIG  pSUydWEqKwE   \n",
       "...                     ...             ...          ...   \n",
       "39277  2022-12-19T09:00:16Z          @paaaQ  pSUydWEqKwE   \n",
       "39278  2022-12-19T09:00:16Z          @0x197  pSUydWEqKwE   \n",
       "39279  2022-12-19T09:00:16Z       @Godtti29  pSUydWEqKwE   \n",
       "39280  2022-12-19T09:00:27Z  @dis_zexx._.11  pSUydWEqKwE   \n",
       "39281  2022-12-19T09:00:13Z      @yuuka7152  pSUydWEqKwE   \n",
       "\n",
       "                       Comment  \n",
       "0      뉴진스야 사랑해 버니즈가 영원히 지켜줄거야  \n",
       "1      OMGGGG, TREMENDA ROLA🤗😻  \n",
       "2                     쿠로 또 와써욤  \n",
       "3               Tavares Meadow  \n",
       "4                      Pikomon  \n",
       "...                        ...  \n",
       "39277                        와  \n",
       "39278                        와  \n",
       "39279                      きたー  \n",
       "39280                        3  \n",
       "39281                        s  \n",
       "\n",
       "[39282 rows x 4 columns]"
      ]
     },
     "execution_count": 16,
     "metadata": {},
     "output_type": "execute_result"
    }
   ],
   "source": [
    "df_inter2.drop(['Timestamp'], axis=1,inplace=True)\n",
    "df_inter2 = df_inter2.iloc[:,[3,0,1,2]]\n",
    "df_inter2"
   ]
  },
  {
   "cell_type": "code",
   "execution_count": 17,
   "metadata": {},
   "outputs": [],
   "source": [
    "from langdetect import detect\n",
    "def det(x):\n",
    "    try:\n",
    "        lang = detect(x)\n",
    "    except:\n",
    "        lang = 'Other'\n",
    "    return lang\n",
    "\n",
    "df_inter2['Lang'] = df_inter2['Comment'].apply(det)"
   ]
  },
  {
   "cell_type": "code",
   "execution_count": 18,
   "metadata": {},
   "outputs": [
    {
     "data": {
      "text/html": [
       "<div>\n",
       "<style scoped>\n",
       "    .dataframe tbody tr th:only-of-type {\n",
       "        vertical-align: middle;\n",
       "    }\n",
       "\n",
       "    .dataframe tbody tr th {\n",
       "        vertical-align: top;\n",
       "    }\n",
       "\n",
       "    .dataframe thead th {\n",
       "        text-align: right;\n",
       "    }\n",
       "</style>\n",
       "<table border=\"1\" class=\"dataframe\">\n",
       "  <thead>\n",
       "    <tr style=\"text-align: right;\">\n",
       "      <th></th>\n",
       "      <th>Date</th>\n",
       "      <th>Username</th>\n",
       "      <th>VideoID</th>\n",
       "      <th>Comment</th>\n",
       "      <th>Lang</th>\n",
       "    </tr>\n",
       "  </thead>\n",
       "  <tbody>\n",
       "    <tr>\n",
       "      <th>0</th>\n",
       "      <td>2024-10-11T07:23:02Z</td>\n",
       "      <td>@mlhjh</td>\n",
       "      <td>pSUydWEqKwE</td>\n",
       "      <td>뉴진스야 사랑해 버니즈가 영원히 지켜줄거야</td>\n",
       "      <td>ko</td>\n",
       "    </tr>\n",
       "    <tr>\n",
       "      <th>1</th>\n",
       "      <td>2024-10-11T00:09:38Z</td>\n",
       "      <td>@aylemihank</td>\n",
       "      <td>pSUydWEqKwE</td>\n",
       "      <td>OMGGGG, TREMENDA ROLA🤗😻</td>\n",
       "      <td>de</td>\n",
       "    </tr>\n",
       "    <tr>\n",
       "      <th>2</th>\n",
       "      <td>2024-10-10T11:00:36Z</td>\n",
       "      <td>@kuro-opaque</td>\n",
       "      <td>pSUydWEqKwE</td>\n",
       "      <td>쿠로 또 와써욤</td>\n",
       "      <td>ko</td>\n",
       "    </tr>\n",
       "    <tr>\n",
       "      <th>3</th>\n",
       "      <td>2024-10-10T08:41:12Z</td>\n",
       "      <td>@JoelTitus-y5w</td>\n",
       "      <td>pSUydWEqKwE</td>\n",
       "      <td>Tavares Meadow</td>\n",
       "      <td>en</td>\n",
       "    </tr>\n",
       "    <tr>\n",
       "      <th>4</th>\n",
       "      <td>2024-10-09T15:17:48Z</td>\n",
       "      <td>@OFICIALBIG</td>\n",
       "      <td>pSUydWEqKwE</td>\n",
       "      <td>Pikomon</td>\n",
       "      <td>lt</td>\n",
       "    </tr>\n",
       "    <tr>\n",
       "      <th>...</th>\n",
       "      <td>...</td>\n",
       "      <td>...</td>\n",
       "      <td>...</td>\n",
       "      <td>...</td>\n",
       "      <td>...</td>\n",
       "    </tr>\n",
       "    <tr>\n",
       "      <th>39277</th>\n",
       "      <td>2022-12-19T09:00:16Z</td>\n",
       "      <td>@paaaQ</td>\n",
       "      <td>pSUydWEqKwE</td>\n",
       "      <td>와</td>\n",
       "      <td>ko</td>\n",
       "    </tr>\n",
       "    <tr>\n",
       "      <th>39278</th>\n",
       "      <td>2022-12-19T09:00:16Z</td>\n",
       "      <td>@0x197</td>\n",
       "      <td>pSUydWEqKwE</td>\n",
       "      <td>와</td>\n",
       "      <td>ko</td>\n",
       "    </tr>\n",
       "    <tr>\n",
       "      <th>39279</th>\n",
       "      <td>2022-12-19T09:00:16Z</td>\n",
       "      <td>@Godtti29</td>\n",
       "      <td>pSUydWEqKwE</td>\n",
       "      <td>きたー</td>\n",
       "      <td>ja</td>\n",
       "    </tr>\n",
       "    <tr>\n",
       "      <th>39280</th>\n",
       "      <td>2022-12-19T09:00:27Z</td>\n",
       "      <td>@dis_zexx._.11</td>\n",
       "      <td>pSUydWEqKwE</td>\n",
       "      <td>3</td>\n",
       "      <td>Other</td>\n",
       "    </tr>\n",
       "    <tr>\n",
       "      <th>39281</th>\n",
       "      <td>2022-12-19T09:00:13Z</td>\n",
       "      <td>@yuuka7152</td>\n",
       "      <td>pSUydWEqKwE</td>\n",
       "      <td>s</td>\n",
       "      <td>sv</td>\n",
       "    </tr>\n",
       "  </tbody>\n",
       "</table>\n",
       "<p>39282 rows × 5 columns</p>\n",
       "</div>"
      ],
      "text/plain": [
       "                       Date        Username      VideoID  \\\n",
       "0      2024-10-11T07:23:02Z          @mlhjh  pSUydWEqKwE   \n",
       "1      2024-10-11T00:09:38Z     @aylemihank  pSUydWEqKwE   \n",
       "2      2024-10-10T11:00:36Z    @kuro-opaque  pSUydWEqKwE   \n",
       "3      2024-10-10T08:41:12Z  @JoelTitus-y5w  pSUydWEqKwE   \n",
       "4      2024-10-09T15:17:48Z     @OFICIALBIG  pSUydWEqKwE   \n",
       "...                     ...             ...          ...   \n",
       "39277  2022-12-19T09:00:16Z          @paaaQ  pSUydWEqKwE   \n",
       "39278  2022-12-19T09:00:16Z          @0x197  pSUydWEqKwE   \n",
       "39279  2022-12-19T09:00:16Z       @Godtti29  pSUydWEqKwE   \n",
       "39280  2022-12-19T09:00:27Z  @dis_zexx._.11  pSUydWEqKwE   \n",
       "39281  2022-12-19T09:00:13Z      @yuuka7152  pSUydWEqKwE   \n",
       "\n",
       "                       Comment   Lang  \n",
       "0      뉴진스야 사랑해 버니즈가 영원히 지켜줄거야     ko  \n",
       "1      OMGGGG, TREMENDA ROLA🤗😻     de  \n",
       "2                     쿠로 또 와써욤     ko  \n",
       "3               Tavares Meadow     en  \n",
       "4                      Pikomon     lt  \n",
       "...                        ...    ...  \n",
       "39277                        와     ko  \n",
       "39278                        와     ko  \n",
       "39279                      きたー     ja  \n",
       "39280                        3  Other  \n",
       "39281                        s     sv  \n",
       "\n",
       "[39282 rows x 5 columns]"
      ]
     },
     "execution_count": 18,
     "metadata": {},
     "output_type": "execute_result"
    }
   ],
   "source": [
    "df_inter2"
   ]
  },
  {
   "cell_type": "code",
   "execution_count": 19,
   "metadata": {},
   "outputs": [
    {
     "data": {
      "text/html": [
       "<div>\n",
       "<style scoped>\n",
       "    .dataframe tbody tr th:only-of-type {\n",
       "        vertical-align: middle;\n",
       "    }\n",
       "\n",
       "    .dataframe tbody tr th {\n",
       "        vertical-align: top;\n",
       "    }\n",
       "\n",
       "    .dataframe thead th {\n",
       "        text-align: right;\n",
       "    }\n",
       "</style>\n",
       "<table border=\"1\" class=\"dataframe\">\n",
       "  <thead>\n",
       "    <tr style=\"text-align: right;\">\n",
       "      <th></th>\n",
       "      <th>Lang</th>\n",
       "      <th>Count</th>\n",
       "    </tr>\n",
       "  </thead>\n",
       "  <tbody>\n",
       "    <tr>\n",
       "      <th>10</th>\n",
       "      <td>en</td>\n",
       "      <td>16623</td>\n",
       "    </tr>\n",
       "    <tr>\n",
       "      <th>21</th>\n",
       "      <td>ko</td>\n",
       "      <td>7047</td>\n",
       "    </tr>\n",
       "    <tr>\n",
       "      <th>11</th>\n",
       "      <td>es</td>\n",
       "      <td>2434</td>\n",
       "    </tr>\n",
       "    <tr>\n",
       "      <th>0</th>\n",
       "      <td>Other</td>\n",
       "      <td>1893</td>\n",
       "    </tr>\n",
       "    <tr>\n",
       "      <th>8</th>\n",
       "      <td>de</td>\n",
       "      <td>1039</td>\n",
       "    </tr>\n",
       "    <tr>\n",
       "      <th>28</th>\n",
       "      <td>pt</td>\n",
       "      <td>920</td>\n",
       "    </tr>\n",
       "    <tr>\n",
       "      <th>18</th>\n",
       "      <td>id</td>\n",
       "      <td>919</td>\n",
       "    </tr>\n",
       "    <tr>\n",
       "      <th>20</th>\n",
       "      <td>ja</td>\n",
       "      <td>730</td>\n",
       "    </tr>\n",
       "    <tr>\n",
       "      <th>43</th>\n",
       "      <td>vi</td>\n",
       "      <td>674</td>\n",
       "    </tr>\n",
       "    <tr>\n",
       "      <th>33</th>\n",
       "      <td>so</td>\n",
       "      <td>631</td>\n",
       "    </tr>\n",
       "    <tr>\n",
       "      <th>39</th>\n",
       "      <td>tl</td>\n",
       "      <td>584</td>\n",
       "    </tr>\n",
       "    <tr>\n",
       "      <th>1</th>\n",
       "      <td>af</td>\n",
       "      <td>525</td>\n",
       "    </tr>\n",
       "    <tr>\n",
       "      <th>19</th>\n",
       "      <td>it</td>\n",
       "      <td>510</td>\n",
       "    </tr>\n",
       "    <tr>\n",
       "      <th>36</th>\n",
       "      <td>sw</td>\n",
       "      <td>510</td>\n",
       "    </tr>\n",
       "    <tr>\n",
       "      <th>15</th>\n",
       "      <td>fr</td>\n",
       "      <td>386</td>\n",
       "    </tr>\n",
       "    <tr>\n",
       "      <th>6</th>\n",
       "      <td>cy</td>\n",
       "      <td>333</td>\n",
       "    </tr>\n",
       "    <tr>\n",
       "      <th>25</th>\n",
       "      <td>nl</td>\n",
       "      <td>292</td>\n",
       "    </tr>\n",
       "    <tr>\n",
       "      <th>26</th>\n",
       "      <td>no</td>\n",
       "      <td>262</td>\n",
       "    </tr>\n",
       "    <tr>\n",
       "      <th>27</th>\n",
       "      <td>pl</td>\n",
       "      <td>261</td>\n",
       "    </tr>\n",
       "    <tr>\n",
       "      <th>30</th>\n",
       "      <td>ru</td>\n",
       "      <td>259</td>\n",
       "    </tr>\n",
       "    <tr>\n",
       "      <th>40</th>\n",
       "      <td>tr</td>\n",
       "      <td>223</td>\n",
       "    </tr>\n",
       "    <tr>\n",
       "      <th>16</th>\n",
       "      <td>hr</td>\n",
       "      <td>208</td>\n",
       "    </tr>\n",
       "    <tr>\n",
       "      <th>12</th>\n",
       "      <td>et</td>\n",
       "      <td>208</td>\n",
       "    </tr>\n",
       "    <tr>\n",
       "      <th>32</th>\n",
       "      <td>sl</td>\n",
       "      <td>203</td>\n",
       "    </tr>\n",
       "    <tr>\n",
       "      <th>29</th>\n",
       "      <td>ro</td>\n",
       "      <td>201</td>\n",
       "    </tr>\n",
       "    <tr>\n",
       "      <th>2</th>\n",
       "      <td>ar</td>\n",
       "      <td>194</td>\n",
       "    </tr>\n",
       "    <tr>\n",
       "      <th>4</th>\n",
       "      <td>ca</td>\n",
       "      <td>181</td>\n",
       "    </tr>\n",
       "    <tr>\n",
       "      <th>14</th>\n",
       "      <td>fi</td>\n",
       "      <td>167</td>\n",
       "    </tr>\n",
       "    <tr>\n",
       "      <th>7</th>\n",
       "      <td>da</td>\n",
       "      <td>138</td>\n",
       "    </tr>\n",
       "    <tr>\n",
       "      <th>35</th>\n",
       "      <td>sv</td>\n",
       "      <td>128</td>\n",
       "    </tr>\n",
       "    <tr>\n",
       "      <th>38</th>\n",
       "      <td>th</td>\n",
       "      <td>122</td>\n",
       "    </tr>\n",
       "    <tr>\n",
       "      <th>44</th>\n",
       "      <td>zh-cn</td>\n",
       "      <td>78</td>\n",
       "    </tr>\n",
       "    <tr>\n",
       "      <th>17</th>\n",
       "      <td>hu</td>\n",
       "      <td>68</td>\n",
       "    </tr>\n",
       "    <tr>\n",
       "      <th>34</th>\n",
       "      <td>sq</td>\n",
       "      <td>65</td>\n",
       "    </tr>\n",
       "    <tr>\n",
       "      <th>31</th>\n",
       "      <td>sk</td>\n",
       "      <td>54</td>\n",
       "    </tr>\n",
       "    <tr>\n",
       "      <th>22</th>\n",
       "      <td>lt</td>\n",
       "      <td>41</td>\n",
       "    </tr>\n",
       "    <tr>\n",
       "      <th>5</th>\n",
       "      <td>cs</td>\n",
       "      <td>37</td>\n",
       "    </tr>\n",
       "    <tr>\n",
       "      <th>13</th>\n",
       "      <td>fa</td>\n",
       "      <td>33</td>\n",
       "    </tr>\n",
       "    <tr>\n",
       "      <th>23</th>\n",
       "      <td>lv</td>\n",
       "      <td>21</td>\n",
       "    </tr>\n",
       "    <tr>\n",
       "      <th>24</th>\n",
       "      <td>mk</td>\n",
       "      <td>21</td>\n",
       "    </tr>\n",
       "    <tr>\n",
       "      <th>41</th>\n",
       "      <td>uk</td>\n",
       "      <td>18</td>\n",
       "    </tr>\n",
       "    <tr>\n",
       "      <th>42</th>\n",
       "      <td>ur</td>\n",
       "      <td>10</td>\n",
       "    </tr>\n",
       "    <tr>\n",
       "      <th>45</th>\n",
       "      <td>zh-tw</td>\n",
       "      <td>8</td>\n",
       "    </tr>\n",
       "    <tr>\n",
       "      <th>3</th>\n",
       "      <td>bg</td>\n",
       "      <td>5</td>\n",
       "    </tr>\n",
       "    <tr>\n",
       "      <th>37</th>\n",
       "      <td>ta</td>\n",
       "      <td>1</td>\n",
       "    </tr>\n",
       "    <tr>\n",
       "      <th>9</th>\n",
       "      <td>el</td>\n",
       "      <td>1</td>\n",
       "    </tr>\n",
       "  </tbody>\n",
       "</table>\n",
       "</div>"
      ],
      "text/plain": [
       "     Lang  Count\n",
       "10     en  16623\n",
       "21     ko   7047\n",
       "11     es   2434\n",
       "0   Other   1893\n",
       "8      de   1039\n",
       "28     pt    920\n",
       "18     id    919\n",
       "20     ja    730\n",
       "43     vi    674\n",
       "33     so    631\n",
       "39     tl    584\n",
       "1      af    525\n",
       "19     it    510\n",
       "36     sw    510\n",
       "15     fr    386\n",
       "6      cy    333\n",
       "25     nl    292\n",
       "26     no    262\n",
       "27     pl    261\n",
       "30     ru    259\n",
       "40     tr    223\n",
       "16     hr    208\n",
       "12     et    208\n",
       "32     sl    203\n",
       "29     ro    201\n",
       "2      ar    194\n",
       "4      ca    181\n",
       "14     fi    167\n",
       "7      da    138\n",
       "35     sv    128\n",
       "38     th    122\n",
       "44  zh-cn     78\n",
       "17     hu     68\n",
       "34     sq     65\n",
       "31     sk     54\n",
       "22     lt     41\n",
       "5      cs     37\n",
       "13     fa     33\n",
       "23     lv     21\n",
       "24     mk     21\n",
       "41     uk     18\n",
       "42     ur     10\n",
       "45  zh-tw      8\n",
       "3      bg      5\n",
       "37     ta      1\n",
       "9      el      1"
      ]
     },
     "execution_count": 19,
     "metadata": {},
     "output_type": "execute_result"
    }
   ],
   "source": [
    "df = df_inter2.groupby(['Lang'])['Comment'].count().reset_index(name='Count').sort_values(['Count'], ascending=False)\n",
    "df"
   ]
  },
  {
   "cell_type": "code",
   "execution_count": 20,
   "metadata": {},
   "outputs": [
    {
     "data": {
      "application/vnd.plotly.v1+json": {
       "config": {
        "plotlyServerURL": "https://plot.ly"
       },
       "data": [
        {
         "domain": {
          "x": [
           0,
           1
          ],
          "y": [
           0,
           1
          ]
         },
         "hovertemplate": "Lang=%{label}<br>Count=%{value}<extra></extra>",
         "labels": [
          "en",
          "ko",
          "es",
          "Other",
          "de",
          "pt",
          "id",
          "ja",
          "vi",
          "so",
          "tl",
          "af",
          "it",
          "sw",
          "fr",
          "cy",
          "nl",
          "no",
          "pl",
          "ru",
          "tr",
          "hr",
          "et",
          "sl",
          "ro",
          "ar",
          "ca",
          "fi",
          "da",
          "sv",
          "th",
          "zh-cn",
          "hu",
          "sq",
          "sk",
          "lt",
          "cs",
          "fa",
          "lv",
          "mk",
          "uk",
          "ur",
          "zh-tw",
          "bg",
          "ta",
          "el"
         ],
         "legendgroup": "",
         "name": "",
         "showlegend": true,
         "textposition": "inside",
         "type": "pie",
         "values": [
          16623,
          7047,
          2434,
          1893,
          1039,
          920,
          919,
          730,
          674,
          631,
          584,
          525,
          510,
          510,
          386,
          333,
          292,
          262,
          261,
          259,
          223,
          208,
          208,
          203,
          201,
          194,
          181,
          167,
          138,
          128,
          122,
          78,
          68,
          65,
          54,
          41,
          37,
          33,
          21,
          21,
          18,
          10,
          8,
          5,
          1,
          1
         ]
        }
       ],
       "layout": {
        "legend": {
         "tracegroupgap": 0
        },
        "template": {
         "data": {
          "bar": [
           {
            "error_x": {
             "color": "#2a3f5f"
            },
            "error_y": {
             "color": "#2a3f5f"
            },
            "marker": {
             "line": {
              "color": "#E5ECF6",
              "width": 0.5
             },
             "pattern": {
              "fillmode": "overlay",
              "size": 10,
              "solidity": 0.2
             }
            },
            "type": "bar"
           }
          ],
          "barpolar": [
           {
            "marker": {
             "line": {
              "color": "#E5ECF6",
              "width": 0.5
             },
             "pattern": {
              "fillmode": "overlay",
              "size": 10,
              "solidity": 0.2
             }
            },
            "type": "barpolar"
           }
          ],
          "carpet": [
           {
            "aaxis": {
             "endlinecolor": "#2a3f5f",
             "gridcolor": "white",
             "linecolor": "white",
             "minorgridcolor": "white",
             "startlinecolor": "#2a3f5f"
            },
            "baxis": {
             "endlinecolor": "#2a3f5f",
             "gridcolor": "white",
             "linecolor": "white",
             "minorgridcolor": "white",
             "startlinecolor": "#2a3f5f"
            },
            "type": "carpet"
           }
          ],
          "choropleth": [
           {
            "colorbar": {
             "outlinewidth": 0,
             "ticks": ""
            },
            "type": "choropleth"
           }
          ],
          "contour": [
           {
            "colorbar": {
             "outlinewidth": 0,
             "ticks": ""
            },
            "colorscale": [
             [
              0,
              "#0d0887"
             ],
             [
              0.1111111111111111,
              "#46039f"
             ],
             [
              0.2222222222222222,
              "#7201a8"
             ],
             [
              0.3333333333333333,
              "#9c179e"
             ],
             [
              0.4444444444444444,
              "#bd3786"
             ],
             [
              0.5555555555555556,
              "#d8576b"
             ],
             [
              0.6666666666666666,
              "#ed7953"
             ],
             [
              0.7777777777777778,
              "#fb9f3a"
             ],
             [
              0.8888888888888888,
              "#fdca26"
             ],
             [
              1,
              "#f0f921"
             ]
            ],
            "type": "contour"
           }
          ],
          "contourcarpet": [
           {
            "colorbar": {
             "outlinewidth": 0,
             "ticks": ""
            },
            "type": "contourcarpet"
           }
          ],
          "heatmap": [
           {
            "colorbar": {
             "outlinewidth": 0,
             "ticks": ""
            },
            "colorscale": [
             [
              0,
              "#0d0887"
             ],
             [
              0.1111111111111111,
              "#46039f"
             ],
             [
              0.2222222222222222,
              "#7201a8"
             ],
             [
              0.3333333333333333,
              "#9c179e"
             ],
             [
              0.4444444444444444,
              "#bd3786"
             ],
             [
              0.5555555555555556,
              "#d8576b"
             ],
             [
              0.6666666666666666,
              "#ed7953"
             ],
             [
              0.7777777777777778,
              "#fb9f3a"
             ],
             [
              0.8888888888888888,
              "#fdca26"
             ],
             [
              1,
              "#f0f921"
             ]
            ],
            "type": "heatmap"
           }
          ],
          "heatmapgl": [
           {
            "colorbar": {
             "outlinewidth": 0,
             "ticks": ""
            },
            "colorscale": [
             [
              0,
              "#0d0887"
             ],
             [
              0.1111111111111111,
              "#46039f"
             ],
             [
              0.2222222222222222,
              "#7201a8"
             ],
             [
              0.3333333333333333,
              "#9c179e"
             ],
             [
              0.4444444444444444,
              "#bd3786"
             ],
             [
              0.5555555555555556,
              "#d8576b"
             ],
             [
              0.6666666666666666,
              "#ed7953"
             ],
             [
              0.7777777777777778,
              "#fb9f3a"
             ],
             [
              0.8888888888888888,
              "#fdca26"
             ],
             [
              1,
              "#f0f921"
             ]
            ],
            "type": "heatmapgl"
           }
          ],
          "histogram": [
           {
            "marker": {
             "pattern": {
              "fillmode": "overlay",
              "size": 10,
              "solidity": 0.2
             }
            },
            "type": "histogram"
           }
          ],
          "histogram2d": [
           {
            "colorbar": {
             "outlinewidth": 0,
             "ticks": ""
            },
            "colorscale": [
             [
              0,
              "#0d0887"
             ],
             [
              0.1111111111111111,
              "#46039f"
             ],
             [
              0.2222222222222222,
              "#7201a8"
             ],
             [
              0.3333333333333333,
              "#9c179e"
             ],
             [
              0.4444444444444444,
              "#bd3786"
             ],
             [
              0.5555555555555556,
              "#d8576b"
             ],
             [
              0.6666666666666666,
              "#ed7953"
             ],
             [
              0.7777777777777778,
              "#fb9f3a"
             ],
             [
              0.8888888888888888,
              "#fdca26"
             ],
             [
              1,
              "#f0f921"
             ]
            ],
            "type": "histogram2d"
           }
          ],
          "histogram2dcontour": [
           {
            "colorbar": {
             "outlinewidth": 0,
             "ticks": ""
            },
            "colorscale": [
             [
              0,
              "#0d0887"
             ],
             [
              0.1111111111111111,
              "#46039f"
             ],
             [
              0.2222222222222222,
              "#7201a8"
             ],
             [
              0.3333333333333333,
              "#9c179e"
             ],
             [
              0.4444444444444444,
              "#bd3786"
             ],
             [
              0.5555555555555556,
              "#d8576b"
             ],
             [
              0.6666666666666666,
              "#ed7953"
             ],
             [
              0.7777777777777778,
              "#fb9f3a"
             ],
             [
              0.8888888888888888,
              "#fdca26"
             ],
             [
              1,
              "#f0f921"
             ]
            ],
            "type": "histogram2dcontour"
           }
          ],
          "mesh3d": [
           {
            "colorbar": {
             "outlinewidth": 0,
             "ticks": ""
            },
            "type": "mesh3d"
           }
          ],
          "parcoords": [
           {
            "line": {
             "colorbar": {
              "outlinewidth": 0,
              "ticks": ""
             }
            },
            "type": "parcoords"
           }
          ],
          "pie": [
           {
            "automargin": true,
            "type": "pie"
           }
          ],
          "scatter": [
           {
            "fillpattern": {
             "fillmode": "overlay",
             "size": 10,
             "solidity": 0.2
            },
            "type": "scatter"
           }
          ],
          "scatter3d": [
           {
            "line": {
             "colorbar": {
              "outlinewidth": 0,
              "ticks": ""
             }
            },
            "marker": {
             "colorbar": {
              "outlinewidth": 0,
              "ticks": ""
             }
            },
            "type": "scatter3d"
           }
          ],
          "scattercarpet": [
           {
            "marker": {
             "colorbar": {
              "outlinewidth": 0,
              "ticks": ""
             }
            },
            "type": "scattercarpet"
           }
          ],
          "scattergeo": [
           {
            "marker": {
             "colorbar": {
              "outlinewidth": 0,
              "ticks": ""
             }
            },
            "type": "scattergeo"
           }
          ],
          "scattergl": [
           {
            "marker": {
             "colorbar": {
              "outlinewidth": 0,
              "ticks": ""
             }
            },
            "type": "scattergl"
           }
          ],
          "scattermapbox": [
           {
            "marker": {
             "colorbar": {
              "outlinewidth": 0,
              "ticks": ""
             }
            },
            "type": "scattermapbox"
           }
          ],
          "scatterpolar": [
           {
            "marker": {
             "colorbar": {
              "outlinewidth": 0,
              "ticks": ""
             }
            },
            "type": "scatterpolar"
           }
          ],
          "scatterpolargl": [
           {
            "marker": {
             "colorbar": {
              "outlinewidth": 0,
              "ticks": ""
             }
            },
            "type": "scatterpolargl"
           }
          ],
          "scatterternary": [
           {
            "marker": {
             "colorbar": {
              "outlinewidth": 0,
              "ticks": ""
             }
            },
            "type": "scatterternary"
           }
          ],
          "surface": [
           {
            "colorbar": {
             "outlinewidth": 0,
             "ticks": ""
            },
            "colorscale": [
             [
              0,
              "#0d0887"
             ],
             [
              0.1111111111111111,
              "#46039f"
             ],
             [
              0.2222222222222222,
              "#7201a8"
             ],
             [
              0.3333333333333333,
              "#9c179e"
             ],
             [
              0.4444444444444444,
              "#bd3786"
             ],
             [
              0.5555555555555556,
              "#d8576b"
             ],
             [
              0.6666666666666666,
              "#ed7953"
             ],
             [
              0.7777777777777778,
              "#fb9f3a"
             ],
             [
              0.8888888888888888,
              "#fdca26"
             ],
             [
              1,
              "#f0f921"
             ]
            ],
            "type": "surface"
           }
          ],
          "table": [
           {
            "cells": {
             "fill": {
              "color": "#EBF0F8"
             },
             "line": {
              "color": "white"
             }
            },
            "header": {
             "fill": {
              "color": "#C8D4E3"
             },
             "line": {
              "color": "white"
             }
            },
            "type": "table"
           }
          ]
         },
         "layout": {
          "annotationdefaults": {
           "arrowcolor": "#2a3f5f",
           "arrowhead": 0,
           "arrowwidth": 1
          },
          "autotypenumbers": "strict",
          "coloraxis": {
           "colorbar": {
            "outlinewidth": 0,
            "ticks": ""
           }
          },
          "colorscale": {
           "diverging": [
            [
             0,
             "#8e0152"
            ],
            [
             0.1,
             "#c51b7d"
            ],
            [
             0.2,
             "#de77ae"
            ],
            [
             0.3,
             "#f1b6da"
            ],
            [
             0.4,
             "#fde0ef"
            ],
            [
             0.5,
             "#f7f7f7"
            ],
            [
             0.6,
             "#e6f5d0"
            ],
            [
             0.7,
             "#b8e186"
            ],
            [
             0.8,
             "#7fbc41"
            ],
            [
             0.9,
             "#4d9221"
            ],
            [
             1,
             "#276419"
            ]
           ],
           "sequential": [
            [
             0,
             "#0d0887"
            ],
            [
             0.1111111111111111,
             "#46039f"
            ],
            [
             0.2222222222222222,
             "#7201a8"
            ],
            [
             0.3333333333333333,
             "#9c179e"
            ],
            [
             0.4444444444444444,
             "#bd3786"
            ],
            [
             0.5555555555555556,
             "#d8576b"
            ],
            [
             0.6666666666666666,
             "#ed7953"
            ],
            [
             0.7777777777777778,
             "#fb9f3a"
            ],
            [
             0.8888888888888888,
             "#fdca26"
            ],
            [
             1,
             "#f0f921"
            ]
           ],
           "sequentialminus": [
            [
             0,
             "#0d0887"
            ],
            [
             0.1111111111111111,
             "#46039f"
            ],
            [
             0.2222222222222222,
             "#7201a8"
            ],
            [
             0.3333333333333333,
             "#9c179e"
            ],
            [
             0.4444444444444444,
             "#bd3786"
            ],
            [
             0.5555555555555556,
             "#d8576b"
            ],
            [
             0.6666666666666666,
             "#ed7953"
            ],
            [
             0.7777777777777778,
             "#fb9f3a"
            ],
            [
             0.8888888888888888,
             "#fdca26"
            ],
            [
             1,
             "#f0f921"
            ]
           ]
          },
          "colorway": [
           "#636efa",
           "#EF553B",
           "#00cc96",
           "#ab63fa",
           "#FFA15A",
           "#19d3f3",
           "#FF6692",
           "#B6E880",
           "#FF97FF",
           "#FECB52"
          ],
          "font": {
           "color": "#2a3f5f"
          },
          "geo": {
           "bgcolor": "white",
           "lakecolor": "white",
           "landcolor": "#E5ECF6",
           "showlakes": true,
           "showland": true,
           "subunitcolor": "white"
          },
          "hoverlabel": {
           "align": "left"
          },
          "hovermode": "closest",
          "mapbox": {
           "style": "light"
          },
          "paper_bgcolor": "white",
          "plot_bgcolor": "#E5ECF6",
          "polar": {
           "angularaxis": {
            "gridcolor": "white",
            "linecolor": "white",
            "ticks": ""
           },
           "bgcolor": "#E5ECF6",
           "radialaxis": {
            "gridcolor": "white",
            "linecolor": "white",
            "ticks": ""
           }
          },
          "scene": {
           "xaxis": {
            "backgroundcolor": "#E5ECF6",
            "gridcolor": "white",
            "gridwidth": 2,
            "linecolor": "white",
            "showbackground": true,
            "ticks": "",
            "zerolinecolor": "white"
           },
           "yaxis": {
            "backgroundcolor": "#E5ECF6",
            "gridcolor": "white",
            "gridwidth": 2,
            "linecolor": "white",
            "showbackground": true,
            "ticks": "",
            "zerolinecolor": "white"
           },
           "zaxis": {
            "backgroundcolor": "#E5ECF6",
            "gridcolor": "white",
            "gridwidth": 2,
            "linecolor": "white",
            "showbackground": true,
            "ticks": "",
            "zerolinecolor": "white"
           }
          },
          "shapedefaults": {
           "line": {
            "color": "#2a3f5f"
           }
          },
          "ternary": {
           "aaxis": {
            "gridcolor": "white",
            "linecolor": "white",
            "ticks": ""
           },
           "baxis": {
            "gridcolor": "white",
            "linecolor": "white",
            "ticks": ""
           },
           "bgcolor": "#E5ECF6",
           "caxis": {
            "gridcolor": "white",
            "linecolor": "white",
            "ticks": ""
           }
          },
          "title": {
           "x": 0.05
          },
          "xaxis": {
           "automargin": true,
           "gridcolor": "white",
           "linecolor": "white",
           "ticks": "",
           "title": {
            "standoff": 15
           },
           "zerolinecolor": "white",
           "zerolinewidth": 2
          },
          "yaxis": {
           "automargin": true,
           "gridcolor": "white",
           "linecolor": "white",
           "ticks": "",
           "title": {
            "standoff": 15
           },
           "zerolinecolor": "white",
           "zerolinewidth": 2
          }
         }
        },
        "title": {
         "text": "Ditto"
        },
        "uniformtext": {
         "minsize": 12,
         "mode": "hide"
        }
       }
      }
     },
     "metadata": {},
     "output_type": "display_data"
    }
   ],
   "source": [
    "fig = px.pie(df, values='Count', names='Lang',title='Ditto')\n",
    "fig.update_traces(textposition='inside')\n",
    "fig.update_layout(uniformtext_minsize=12, uniformtext_mode='hide')\n",
    "fig.show()"
   ]
  },
  {
   "cell_type": "code",
   "execution_count": 21,
   "metadata": {},
   "outputs": [],
   "source": [
    "df_inter3 = pd.read_csv(\"Stray Kids '神메뉴(God's Menu).csv\", index_col=0)"
   ]
  },
  {
   "cell_type": "code",
   "execution_count": 22,
   "metadata": {},
   "outputs": [
    {
     "data": {
      "text/html": [
       "<div>\n",
       "<style scoped>\n",
       "    .dataframe tbody tr th:only-of-type {\n",
       "        vertical-align: middle;\n",
       "    }\n",
       "\n",
       "    .dataframe tbody tr th {\n",
       "        vertical-align: top;\n",
       "    }\n",
       "\n",
       "    .dataframe thead th {\n",
       "        text-align: right;\n",
       "    }\n",
       "</style>\n",
       "<table border=\"1\" class=\"dataframe\">\n",
       "  <thead>\n",
       "    <tr style=\"text-align: right;\">\n",
       "      <th></th>\n",
       "      <th>Timestamp</th>\n",
       "      <th>Username</th>\n",
       "      <th>VideoID</th>\n",
       "      <th>Comment</th>\n",
       "      <th>Date</th>\n",
       "      <th>Lang</th>\n",
       "    </tr>\n",
       "  </thead>\n",
       "  <tbody>\n",
       "    <tr>\n",
       "      <th>0</th>\n",
       "      <td>2024-10-11T11:46:48Z</td>\n",
       "      <td>@mamamamamaroaksoa</td>\n",
       "      <td>dx9gQRCT_kM</td>\n",
       "      <td>1:20</td>\n",
       "      <td>2024-10-11T11:46:48Z</td>\n",
       "      <td>Other</td>\n",
       "    </tr>\n",
       "    <tr>\n",
       "      <th>1</th>\n",
       "      <td>2024-10-11T09:17:01Z</td>\n",
       "      <td>@MarieJeanne-p8x</td>\n",
       "      <td>dx9gQRCT_kM</td>\n",
       "      <td>Vote for skz on ema MTV for best kpop👍🤟</td>\n",
       "      <td>2024-10-11T09:17:01Z</td>\n",
       "      <td>da</td>\n",
       "    </tr>\n",
       "    <tr>\n",
       "      <th>2</th>\n",
       "      <td>2024-10-11T05:25:19Z</td>\n",
       "      <td>@Animeee___456</td>\n",
       "      <td>dx9gQRCT_kM</td>\n",
       "      <td>Let's go for  80M</td>\n",
       "      <td>2024-10-11T05:25:19Z</td>\n",
       "      <td>en</td>\n",
       "    </tr>\n",
       "    <tr>\n",
       "      <th>3</th>\n",
       "      <td>2024-10-10T19:50:18Z</td>\n",
       "      <td>@user_mulmandoo</td>\n",
       "      <td>dx9gQRCT_kM</td>\n",
       "      <td>이때 다들 독기가득한 표정과 춤이 너무 좋음\\n그리고 매니악때 여유까지 장착해서 정...</td>\n",
       "      <td>2024-10-10T19:50:18Z</td>\n",
       "      <td>ko</td>\n",
       "    </tr>\n",
       "    <tr>\n",
       "      <th>4</th>\n",
       "      <td>2024-10-10T14:33:21Z</td>\n",
       "      <td>@PoisonTree-s8</td>\n",
       "      <td>dx9gQRCT_kM</td>\n",
       "      <td>Bunu da 100mn yapmalıyız</td>\n",
       "      <td>2024-10-10T14:33:21Z</td>\n",
       "      <td>tr</td>\n",
       "    </tr>\n",
       "    <tr>\n",
       "      <th>...</th>\n",
       "      <td>...</td>\n",
       "      <td>...</td>\n",
       "      <td>...</td>\n",
       "      <td>...</td>\n",
       "      <td>...</td>\n",
       "      <td>...</td>\n",
       "    </tr>\n",
       "    <tr>\n",
       "      <th>55260</th>\n",
       "      <td>2020-06-21T14:31:04Z</td>\n",
       "      <td>@pabala7307</td>\n",
       "      <td>dx9gQRCT_kM</td>\n",
       "      <td>the synchronisation makes this a hundreds time...</td>\n",
       "      <td>2020-06-21T14:31:04Z</td>\n",
       "      <td>en</td>\n",
       "    </tr>\n",
       "    <tr>\n",
       "      <th>55261</th>\n",
       "      <td>2020-08-05T01:23:52Z</td>\n",
       "      <td>@LolaArbol</td>\n",
       "      <td>dx9gQRCT_kM</td>\n",
       "      <td>Fact</td>\n",
       "      <td>2020-08-05T01:23:52Z</td>\n",
       "      <td>en</td>\n",
       "    </tr>\n",
       "    <tr>\n",
       "      <th>55262</th>\n",
       "      <td>2020-06-21T14:31:03Z</td>\n",
       "      <td>@eliottvanity</td>\n",
       "      <td>dx9gQRCT_kM</td>\n",
       "      <td>WAAAAAAAAAAAAAAAAAAAAAAAA</td>\n",
       "      <td>2020-06-21T14:31:03Z</td>\n",
       "      <td>sw</td>\n",
       "    </tr>\n",
       "    <tr>\n",
       "      <th>55263</th>\n",
       "      <td>2020-06-21T14:30:42Z</td>\n",
       "      <td>@saramattox9163</td>\n",
       "      <td>dx9gQRCT_kM</td>\n",
       "      <td>FIRST OMG JEUDNDUDHENDJD</td>\n",
       "      <td>2020-06-21T14:30:42Z</td>\n",
       "      <td>de</td>\n",
       "    </tr>\n",
       "    <tr>\n",
       "      <th>55264</th>\n",
       "      <td>2020-06-21T14:31:23Z</td>\n",
       "      <td>@grayson6225</td>\n",
       "      <td>dx9gQRCT_kM</td>\n",
       "      <td>WOAH YOU WERE</td>\n",
       "      <td>2020-06-21T14:31:23Z</td>\n",
       "      <td>so</td>\n",
       "    </tr>\n",
       "  </tbody>\n",
       "</table>\n",
       "<p>55265 rows × 6 columns</p>\n",
       "</div>"
      ],
      "text/plain": [
       "                  Timestamp            Username      VideoID  \\\n",
       "0      2024-10-11T11:46:48Z  @mamamamamaroaksoa  dx9gQRCT_kM   \n",
       "1      2024-10-11T09:17:01Z    @MarieJeanne-p8x  dx9gQRCT_kM   \n",
       "2      2024-10-11T05:25:19Z      @Animeee___456  dx9gQRCT_kM   \n",
       "3      2024-10-10T19:50:18Z     @user_mulmandoo  dx9gQRCT_kM   \n",
       "4      2024-10-10T14:33:21Z      @PoisonTree-s8  dx9gQRCT_kM   \n",
       "...                     ...                 ...          ...   \n",
       "55260  2020-06-21T14:31:04Z         @pabala7307  dx9gQRCT_kM   \n",
       "55261  2020-08-05T01:23:52Z          @LolaArbol  dx9gQRCT_kM   \n",
       "55262  2020-06-21T14:31:03Z       @eliottvanity  dx9gQRCT_kM   \n",
       "55263  2020-06-21T14:30:42Z     @saramattox9163  dx9gQRCT_kM   \n",
       "55264  2020-06-21T14:31:23Z        @grayson6225  dx9gQRCT_kM   \n",
       "\n",
       "                                                 Comment  \\\n",
       "0                                                   1:20   \n",
       "1                Vote for skz on ema MTV for best kpop👍🤟   \n",
       "2                                      Let's go for  80M   \n",
       "3      이때 다들 독기가득한 표정과 춤이 너무 좋음\\n그리고 매니악때 여유까지 장착해서 정...   \n",
       "4                               Bunu da 100mn yapmalıyız   \n",
       "...                                                  ...   \n",
       "55260  the synchronisation makes this a hundreds time...   \n",
       "55261                                               Fact   \n",
       "55262                          WAAAAAAAAAAAAAAAAAAAAAAAA   \n",
       "55263                           FIRST OMG JEUDNDUDHENDJD   \n",
       "55264                                      WOAH YOU WERE   \n",
       "\n",
       "                       Date   Lang  \n",
       "0      2024-10-11T11:46:48Z  Other  \n",
       "1      2024-10-11T09:17:01Z     da  \n",
       "2      2024-10-11T05:25:19Z     en  \n",
       "3      2024-10-10T19:50:18Z     ko  \n",
       "4      2024-10-10T14:33:21Z     tr  \n",
       "...                     ...    ...  \n",
       "55260  2020-06-21T14:31:04Z     en  \n",
       "55261  2020-08-05T01:23:52Z     en  \n",
       "55262  2020-06-21T14:31:03Z     sw  \n",
       "55263  2020-06-21T14:30:42Z     de  \n",
       "55264  2020-06-21T14:31:23Z     so  \n",
       "\n",
       "[55265 rows x 6 columns]"
      ]
     },
     "execution_count": 22,
     "metadata": {},
     "output_type": "execute_result"
    }
   ],
   "source": [
    "df_inter3"
   ]
  },
  {
   "cell_type": "code",
   "execution_count": 23,
   "metadata": {},
   "outputs": [
    {
     "data": {
      "text/html": [
       "<div>\n",
       "<style scoped>\n",
       "    .dataframe tbody tr th:only-of-type {\n",
       "        vertical-align: middle;\n",
       "    }\n",
       "\n",
       "    .dataframe tbody tr th {\n",
       "        vertical-align: top;\n",
       "    }\n",
       "\n",
       "    .dataframe thead th {\n",
       "        text-align: right;\n",
       "    }\n",
       "</style>\n",
       "<table border=\"1\" class=\"dataframe\">\n",
       "  <thead>\n",
       "    <tr style=\"text-align: right;\">\n",
       "      <th></th>\n",
       "      <th>Date</th>\n",
       "      <th>Username</th>\n",
       "      <th>VideoID</th>\n",
       "      <th>Comment</th>\n",
       "    </tr>\n",
       "  </thead>\n",
       "  <tbody>\n",
       "    <tr>\n",
       "      <th>0</th>\n",
       "      <td>2024-10-11T11:46:48Z</td>\n",
       "      <td>@mamamamamaroaksoa</td>\n",
       "      <td>dx9gQRCT_kM</td>\n",
       "      <td>1:20</td>\n",
       "    </tr>\n",
       "    <tr>\n",
       "      <th>1</th>\n",
       "      <td>2024-10-11T09:17:01Z</td>\n",
       "      <td>@MarieJeanne-p8x</td>\n",
       "      <td>dx9gQRCT_kM</td>\n",
       "      <td>Vote for skz on ema MTV for best kpop👍🤟</td>\n",
       "    </tr>\n",
       "    <tr>\n",
       "      <th>2</th>\n",
       "      <td>2024-10-11T05:25:19Z</td>\n",
       "      <td>@Animeee___456</td>\n",
       "      <td>dx9gQRCT_kM</td>\n",
       "      <td>Let's go for  80M</td>\n",
       "    </tr>\n",
       "    <tr>\n",
       "      <th>3</th>\n",
       "      <td>2024-10-10T19:50:18Z</td>\n",
       "      <td>@user_mulmandoo</td>\n",
       "      <td>dx9gQRCT_kM</td>\n",
       "      <td>이때 다들 독기가득한 표정과 춤이 너무 좋음\\n그리고 매니악때 여유까지 장착해서 정...</td>\n",
       "    </tr>\n",
       "    <tr>\n",
       "      <th>4</th>\n",
       "      <td>2024-10-10T14:33:21Z</td>\n",
       "      <td>@PoisonTree-s8</td>\n",
       "      <td>dx9gQRCT_kM</td>\n",
       "      <td>Bunu da 100mn yapmalıyız</td>\n",
       "    </tr>\n",
       "    <tr>\n",
       "      <th>...</th>\n",
       "      <td>...</td>\n",
       "      <td>...</td>\n",
       "      <td>...</td>\n",
       "      <td>...</td>\n",
       "    </tr>\n",
       "    <tr>\n",
       "      <th>55260</th>\n",
       "      <td>2020-06-21T14:31:04Z</td>\n",
       "      <td>@pabala7307</td>\n",
       "      <td>dx9gQRCT_kM</td>\n",
       "      <td>the synchronisation makes this a hundreds time...</td>\n",
       "    </tr>\n",
       "    <tr>\n",
       "      <th>55261</th>\n",
       "      <td>2020-08-05T01:23:52Z</td>\n",
       "      <td>@LolaArbol</td>\n",
       "      <td>dx9gQRCT_kM</td>\n",
       "      <td>Fact</td>\n",
       "    </tr>\n",
       "    <tr>\n",
       "      <th>55262</th>\n",
       "      <td>2020-06-21T14:31:03Z</td>\n",
       "      <td>@eliottvanity</td>\n",
       "      <td>dx9gQRCT_kM</td>\n",
       "      <td>WAAAAAAAAAAAAAAAAAAAAAAAA</td>\n",
       "    </tr>\n",
       "    <tr>\n",
       "      <th>55263</th>\n",
       "      <td>2020-06-21T14:30:42Z</td>\n",
       "      <td>@saramattox9163</td>\n",
       "      <td>dx9gQRCT_kM</td>\n",
       "      <td>FIRST OMG JEUDNDUDHENDJD</td>\n",
       "    </tr>\n",
       "    <tr>\n",
       "      <th>55264</th>\n",
       "      <td>2020-06-21T14:31:23Z</td>\n",
       "      <td>@grayson6225</td>\n",
       "      <td>dx9gQRCT_kM</td>\n",
       "      <td>WOAH YOU WERE</td>\n",
       "    </tr>\n",
       "  </tbody>\n",
       "</table>\n",
       "<p>55265 rows × 4 columns</p>\n",
       "</div>"
      ],
      "text/plain": [
       "                       Date            Username      VideoID  \\\n",
       "0      2024-10-11T11:46:48Z  @mamamamamaroaksoa  dx9gQRCT_kM   \n",
       "1      2024-10-11T09:17:01Z    @MarieJeanne-p8x  dx9gQRCT_kM   \n",
       "2      2024-10-11T05:25:19Z      @Animeee___456  dx9gQRCT_kM   \n",
       "3      2024-10-10T19:50:18Z     @user_mulmandoo  dx9gQRCT_kM   \n",
       "4      2024-10-10T14:33:21Z      @PoisonTree-s8  dx9gQRCT_kM   \n",
       "...                     ...                 ...          ...   \n",
       "55260  2020-06-21T14:31:04Z         @pabala7307  dx9gQRCT_kM   \n",
       "55261  2020-08-05T01:23:52Z          @LolaArbol  dx9gQRCT_kM   \n",
       "55262  2020-06-21T14:31:03Z       @eliottvanity  dx9gQRCT_kM   \n",
       "55263  2020-06-21T14:30:42Z     @saramattox9163  dx9gQRCT_kM   \n",
       "55264  2020-06-21T14:31:23Z        @grayson6225  dx9gQRCT_kM   \n",
       "\n",
       "                                                 Comment  \n",
       "0                                                   1:20  \n",
       "1                Vote for skz on ema MTV for best kpop👍🤟  \n",
       "2                                      Let's go for  80M  \n",
       "3      이때 다들 독기가득한 표정과 춤이 너무 좋음\\n그리고 매니악때 여유까지 장착해서 정...  \n",
       "4                               Bunu da 100mn yapmalıyız  \n",
       "...                                                  ...  \n",
       "55260  the synchronisation makes this a hundreds time...  \n",
       "55261                                               Fact  \n",
       "55262                          WAAAAAAAAAAAAAAAAAAAAAAAA  \n",
       "55263                           FIRST OMG JEUDNDUDHENDJD  \n",
       "55264                                      WOAH YOU WERE  \n",
       "\n",
       "[55265 rows x 4 columns]"
      ]
     },
     "execution_count": 23,
     "metadata": {},
     "output_type": "execute_result"
    }
   ],
   "source": [
    "df_inter3.drop(['Timestamp'], axis=1,inplace=True)\n",
    "df_inter3 = df_inter3.iloc[:,[3,0,1,2]]\n",
    "df_inter3"
   ]
  },
  {
   "cell_type": "code",
   "execution_count": 24,
   "metadata": {},
   "outputs": [],
   "source": [
    "from langdetect import detect\n",
    "def det(x):\n",
    "    try:\n",
    "        lang = detect(x)\n",
    "    except:\n",
    "        lang = 'Other'\n",
    "    return lang\n",
    "\n",
    "df_inter3['Lang'] = df_inter3['Comment'].apply(det)"
   ]
  },
  {
   "cell_type": "code",
   "execution_count": 25,
   "metadata": {},
   "outputs": [
    {
     "data": {
      "text/html": [
       "<div>\n",
       "<style scoped>\n",
       "    .dataframe tbody tr th:only-of-type {\n",
       "        vertical-align: middle;\n",
       "    }\n",
       "\n",
       "    .dataframe tbody tr th {\n",
       "        vertical-align: top;\n",
       "    }\n",
       "\n",
       "    .dataframe thead th {\n",
       "        text-align: right;\n",
       "    }\n",
       "</style>\n",
       "<table border=\"1\" class=\"dataframe\">\n",
       "  <thead>\n",
       "    <tr style=\"text-align: right;\">\n",
       "      <th></th>\n",
       "      <th>Date</th>\n",
       "      <th>Username</th>\n",
       "      <th>VideoID</th>\n",
       "      <th>Comment</th>\n",
       "      <th>Lang</th>\n",
       "    </tr>\n",
       "  </thead>\n",
       "  <tbody>\n",
       "    <tr>\n",
       "      <th>0</th>\n",
       "      <td>2024-10-11T11:46:48Z</td>\n",
       "      <td>@mamamamamaroaksoa</td>\n",
       "      <td>dx9gQRCT_kM</td>\n",
       "      <td>1:20</td>\n",
       "      <td>Other</td>\n",
       "    </tr>\n",
       "    <tr>\n",
       "      <th>1</th>\n",
       "      <td>2024-10-11T09:17:01Z</td>\n",
       "      <td>@MarieJeanne-p8x</td>\n",
       "      <td>dx9gQRCT_kM</td>\n",
       "      <td>Vote for skz on ema MTV for best kpop👍🤟</td>\n",
       "      <td>da</td>\n",
       "    </tr>\n",
       "    <tr>\n",
       "      <th>2</th>\n",
       "      <td>2024-10-11T05:25:19Z</td>\n",
       "      <td>@Animeee___456</td>\n",
       "      <td>dx9gQRCT_kM</td>\n",
       "      <td>Let's go for  80M</td>\n",
       "      <td>en</td>\n",
       "    </tr>\n",
       "    <tr>\n",
       "      <th>3</th>\n",
       "      <td>2024-10-10T19:50:18Z</td>\n",
       "      <td>@user_mulmandoo</td>\n",
       "      <td>dx9gQRCT_kM</td>\n",
       "      <td>이때 다들 독기가득한 표정과 춤이 너무 좋음\\n그리고 매니악때 여유까지 장착해서 정...</td>\n",
       "      <td>ko</td>\n",
       "    </tr>\n",
       "    <tr>\n",
       "      <th>4</th>\n",
       "      <td>2024-10-10T14:33:21Z</td>\n",
       "      <td>@PoisonTree-s8</td>\n",
       "      <td>dx9gQRCT_kM</td>\n",
       "      <td>Bunu da 100mn yapmalıyız</td>\n",
       "      <td>tr</td>\n",
       "    </tr>\n",
       "    <tr>\n",
       "      <th>...</th>\n",
       "      <td>...</td>\n",
       "      <td>...</td>\n",
       "      <td>...</td>\n",
       "      <td>...</td>\n",
       "      <td>...</td>\n",
       "    </tr>\n",
       "    <tr>\n",
       "      <th>55260</th>\n",
       "      <td>2020-06-21T14:31:04Z</td>\n",
       "      <td>@pabala7307</td>\n",
       "      <td>dx9gQRCT_kM</td>\n",
       "      <td>the synchronisation makes this a hundreds time...</td>\n",
       "      <td>en</td>\n",
       "    </tr>\n",
       "    <tr>\n",
       "      <th>55261</th>\n",
       "      <td>2020-08-05T01:23:52Z</td>\n",
       "      <td>@LolaArbol</td>\n",
       "      <td>dx9gQRCT_kM</td>\n",
       "      <td>Fact</td>\n",
       "      <td>en</td>\n",
       "    </tr>\n",
       "    <tr>\n",
       "      <th>55262</th>\n",
       "      <td>2020-06-21T14:31:03Z</td>\n",
       "      <td>@eliottvanity</td>\n",
       "      <td>dx9gQRCT_kM</td>\n",
       "      <td>WAAAAAAAAAAAAAAAAAAAAAAAA</td>\n",
       "      <td>sw</td>\n",
       "    </tr>\n",
       "    <tr>\n",
       "      <th>55263</th>\n",
       "      <td>2020-06-21T14:30:42Z</td>\n",
       "      <td>@saramattox9163</td>\n",
       "      <td>dx9gQRCT_kM</td>\n",
       "      <td>FIRST OMG JEUDNDUDHENDJD</td>\n",
       "      <td>de</td>\n",
       "    </tr>\n",
       "    <tr>\n",
       "      <th>55264</th>\n",
       "      <td>2020-06-21T14:31:23Z</td>\n",
       "      <td>@grayson6225</td>\n",
       "      <td>dx9gQRCT_kM</td>\n",
       "      <td>WOAH YOU WERE</td>\n",
       "      <td>so</td>\n",
       "    </tr>\n",
       "  </tbody>\n",
       "</table>\n",
       "<p>55265 rows × 5 columns</p>\n",
       "</div>"
      ],
      "text/plain": [
       "                       Date            Username      VideoID  \\\n",
       "0      2024-10-11T11:46:48Z  @mamamamamaroaksoa  dx9gQRCT_kM   \n",
       "1      2024-10-11T09:17:01Z    @MarieJeanne-p8x  dx9gQRCT_kM   \n",
       "2      2024-10-11T05:25:19Z      @Animeee___456  dx9gQRCT_kM   \n",
       "3      2024-10-10T19:50:18Z     @user_mulmandoo  dx9gQRCT_kM   \n",
       "4      2024-10-10T14:33:21Z      @PoisonTree-s8  dx9gQRCT_kM   \n",
       "...                     ...                 ...          ...   \n",
       "55260  2020-06-21T14:31:04Z         @pabala7307  dx9gQRCT_kM   \n",
       "55261  2020-08-05T01:23:52Z          @LolaArbol  dx9gQRCT_kM   \n",
       "55262  2020-06-21T14:31:03Z       @eliottvanity  dx9gQRCT_kM   \n",
       "55263  2020-06-21T14:30:42Z     @saramattox9163  dx9gQRCT_kM   \n",
       "55264  2020-06-21T14:31:23Z        @grayson6225  dx9gQRCT_kM   \n",
       "\n",
       "                                                 Comment   Lang  \n",
       "0                                                   1:20  Other  \n",
       "1                Vote for skz on ema MTV for best kpop👍🤟     da  \n",
       "2                                      Let's go for  80M     en  \n",
       "3      이때 다들 독기가득한 표정과 춤이 너무 좋음\\n그리고 매니악때 여유까지 장착해서 정...     ko  \n",
       "4                               Bunu da 100mn yapmalıyız     tr  \n",
       "...                                                  ...    ...  \n",
       "55260  the synchronisation makes this a hundreds time...     en  \n",
       "55261                                               Fact     en  \n",
       "55262                          WAAAAAAAAAAAAAAAAAAAAAAAA     sw  \n",
       "55263                           FIRST OMG JEUDNDUDHENDJD     de  \n",
       "55264                                      WOAH YOU WERE     so  \n",
       "\n",
       "[55265 rows x 5 columns]"
      ]
     },
     "execution_count": 25,
     "metadata": {},
     "output_type": "execute_result"
    }
   ],
   "source": [
    "df_inter3"
   ]
  },
  {
   "cell_type": "code",
   "execution_count": 26,
   "metadata": {},
   "outputs": [
    {
     "data": {
      "text/html": [
       "<div>\n",
       "<style scoped>\n",
       "    .dataframe tbody tr th:only-of-type {\n",
       "        vertical-align: middle;\n",
       "    }\n",
       "\n",
       "    .dataframe tbody tr th {\n",
       "        vertical-align: top;\n",
       "    }\n",
       "\n",
       "    .dataframe thead th {\n",
       "        text-align: right;\n",
       "    }\n",
       "</style>\n",
       "<table border=\"1\" class=\"dataframe\">\n",
       "  <thead>\n",
       "    <tr style=\"text-align: right;\">\n",
       "      <th></th>\n",
       "      <th>Lang</th>\n",
       "      <th>Count</th>\n",
       "    </tr>\n",
       "  </thead>\n",
       "  <tbody>\n",
       "    <tr>\n",
       "      <th>10</th>\n",
       "      <td>en</td>\n",
       "      <td>24463</td>\n",
       "    </tr>\n",
       "    <tr>\n",
       "      <th>11</th>\n",
       "      <td>es</td>\n",
       "      <td>3655</td>\n",
       "    </tr>\n",
       "    <tr>\n",
       "      <th>0</th>\n",
       "      <td>Other</td>\n",
       "      <td>2793</td>\n",
       "    </tr>\n",
       "    <tr>\n",
       "      <th>19</th>\n",
       "      <td>id</td>\n",
       "      <td>2285</td>\n",
       "    </tr>\n",
       "    <tr>\n",
       "      <th>8</th>\n",
       "      <td>de</td>\n",
       "      <td>2148</td>\n",
       "    </tr>\n",
       "    <tr>\n",
       "      <th>23</th>\n",
       "      <td>ko</td>\n",
       "      <td>1924</td>\n",
       "    </tr>\n",
       "    <tr>\n",
       "      <th>41</th>\n",
       "      <td>tl</td>\n",
       "      <td>1650</td>\n",
       "    </tr>\n",
       "    <tr>\n",
       "      <th>36</th>\n",
       "      <td>so</td>\n",
       "      <td>1608</td>\n",
       "    </tr>\n",
       "    <tr>\n",
       "      <th>39</th>\n",
       "      <td>sw</td>\n",
       "      <td>1486</td>\n",
       "    </tr>\n",
       "    <tr>\n",
       "      <th>31</th>\n",
       "      <td>pt</td>\n",
       "      <td>1134</td>\n",
       "    </tr>\n",
       "    <tr>\n",
       "      <th>42</th>\n",
       "      <td>tr</td>\n",
       "      <td>1125</td>\n",
       "    </tr>\n",
       "    <tr>\n",
       "      <th>1</th>\n",
       "      <td>af</td>\n",
       "      <td>959</td>\n",
       "    </tr>\n",
       "    <tr>\n",
       "      <th>15</th>\n",
       "      <td>fr</td>\n",
       "      <td>795</td>\n",
       "    </tr>\n",
       "    <tr>\n",
       "      <th>6</th>\n",
       "      <td>cy</td>\n",
       "      <td>703</td>\n",
       "    </tr>\n",
       "    <tr>\n",
       "      <th>20</th>\n",
       "      <td>it</td>\n",
       "      <td>701</td>\n",
       "    </tr>\n",
       "    <tr>\n",
       "      <th>28</th>\n",
       "      <td>nl</td>\n",
       "      <td>693</td>\n",
       "    </tr>\n",
       "    <tr>\n",
       "      <th>4</th>\n",
       "      <td>ca</td>\n",
       "      <td>647</td>\n",
       "    </tr>\n",
       "    <tr>\n",
       "      <th>12</th>\n",
       "      <td>et</td>\n",
       "      <td>613</td>\n",
       "    </tr>\n",
       "    <tr>\n",
       "      <th>7</th>\n",
       "      <td>da</td>\n",
       "      <td>612</td>\n",
       "    </tr>\n",
       "    <tr>\n",
       "      <th>14</th>\n",
       "      <td>fi</td>\n",
       "      <td>547</td>\n",
       "    </tr>\n",
       "    <tr>\n",
       "      <th>33</th>\n",
       "      <td>ru</td>\n",
       "      <td>512</td>\n",
       "    </tr>\n",
       "    <tr>\n",
       "      <th>45</th>\n",
       "      <td>vi</td>\n",
       "      <td>474</td>\n",
       "    </tr>\n",
       "    <tr>\n",
       "      <th>30</th>\n",
       "      <td>pl</td>\n",
       "      <td>445</td>\n",
       "    </tr>\n",
       "    <tr>\n",
       "      <th>29</th>\n",
       "      <td>no</td>\n",
       "      <td>436</td>\n",
       "    </tr>\n",
       "    <tr>\n",
       "      <th>2</th>\n",
       "      <td>ar</td>\n",
       "      <td>434</td>\n",
       "    </tr>\n",
       "    <tr>\n",
       "      <th>17</th>\n",
       "      <td>hr</td>\n",
       "      <td>315</td>\n",
       "    </tr>\n",
       "    <tr>\n",
       "      <th>32</th>\n",
       "      <td>ro</td>\n",
       "      <td>290</td>\n",
       "    </tr>\n",
       "    <tr>\n",
       "      <th>38</th>\n",
       "      <td>sv</td>\n",
       "      <td>287</td>\n",
       "    </tr>\n",
       "    <tr>\n",
       "      <th>35</th>\n",
       "      <td>sl</td>\n",
       "      <td>269</td>\n",
       "    </tr>\n",
       "    <tr>\n",
       "      <th>24</th>\n",
       "      <td>lt</td>\n",
       "      <td>188</td>\n",
       "    </tr>\n",
       "    <tr>\n",
       "      <th>34</th>\n",
       "      <td>sk</td>\n",
       "      <td>180</td>\n",
       "    </tr>\n",
       "    <tr>\n",
       "      <th>37</th>\n",
       "      <td>sq</td>\n",
       "      <td>132</td>\n",
       "    </tr>\n",
       "    <tr>\n",
       "      <th>18</th>\n",
       "      <td>hu</td>\n",
       "      <td>130</td>\n",
       "    </tr>\n",
       "    <tr>\n",
       "      <th>21</th>\n",
       "      <td>ja</td>\n",
       "      <td>110</td>\n",
       "    </tr>\n",
       "    <tr>\n",
       "      <th>5</th>\n",
       "      <td>cs</td>\n",
       "      <td>106</td>\n",
       "    </tr>\n",
       "    <tr>\n",
       "      <th>13</th>\n",
       "      <td>fa</td>\n",
       "      <td>105</td>\n",
       "    </tr>\n",
       "    <tr>\n",
       "      <th>40</th>\n",
       "      <td>th</td>\n",
       "      <td>59</td>\n",
       "    </tr>\n",
       "    <tr>\n",
       "      <th>25</th>\n",
       "      <td>lv</td>\n",
       "      <td>53</td>\n",
       "    </tr>\n",
       "    <tr>\n",
       "      <th>3</th>\n",
       "      <td>bg</td>\n",
       "      <td>53</td>\n",
       "    </tr>\n",
       "    <tr>\n",
       "      <th>43</th>\n",
       "      <td>uk</td>\n",
       "      <td>42</td>\n",
       "    </tr>\n",
       "    <tr>\n",
       "      <th>26</th>\n",
       "      <td>mk</td>\n",
       "      <td>34</td>\n",
       "    </tr>\n",
       "    <tr>\n",
       "      <th>46</th>\n",
       "      <td>zh-cn</td>\n",
       "      <td>30</td>\n",
       "    </tr>\n",
       "    <tr>\n",
       "      <th>44</th>\n",
       "      <td>ur</td>\n",
       "      <td>23</td>\n",
       "    </tr>\n",
       "    <tr>\n",
       "      <th>47</th>\n",
       "      <td>zh-tw</td>\n",
       "      <td>4</td>\n",
       "    </tr>\n",
       "    <tr>\n",
       "      <th>9</th>\n",
       "      <td>el</td>\n",
       "      <td>3</td>\n",
       "    </tr>\n",
       "    <tr>\n",
       "      <th>22</th>\n",
       "      <td>kn</td>\n",
       "      <td>2</td>\n",
       "    </tr>\n",
       "    <tr>\n",
       "      <th>16</th>\n",
       "      <td>hi</td>\n",
       "      <td>1</td>\n",
       "    </tr>\n",
       "    <tr>\n",
       "      <th>27</th>\n",
       "      <td>mr</td>\n",
       "      <td>1</td>\n",
       "    </tr>\n",
       "  </tbody>\n",
       "</table>\n",
       "</div>"
      ],
      "text/plain": [
       "     Lang  Count\n",
       "10     en  24463\n",
       "11     es   3655\n",
       "0   Other   2793\n",
       "19     id   2285\n",
       "8      de   2148\n",
       "23     ko   1924\n",
       "41     tl   1650\n",
       "36     so   1608\n",
       "39     sw   1486\n",
       "31     pt   1134\n",
       "42     tr   1125\n",
       "1      af    959\n",
       "15     fr    795\n",
       "6      cy    703\n",
       "20     it    701\n",
       "28     nl    693\n",
       "4      ca    647\n",
       "12     et    613\n",
       "7      da    612\n",
       "14     fi    547\n",
       "33     ru    512\n",
       "45     vi    474\n",
       "30     pl    445\n",
       "29     no    436\n",
       "2      ar    434\n",
       "17     hr    315\n",
       "32     ro    290\n",
       "38     sv    287\n",
       "35     sl    269\n",
       "24     lt    188\n",
       "34     sk    180\n",
       "37     sq    132\n",
       "18     hu    130\n",
       "21     ja    110\n",
       "5      cs    106\n",
       "13     fa    105\n",
       "40     th     59\n",
       "25     lv     53\n",
       "3      bg     53\n",
       "43     uk     42\n",
       "26     mk     34\n",
       "46  zh-cn     30\n",
       "44     ur     23\n",
       "47  zh-tw      4\n",
       "9      el      3\n",
       "22     kn      2\n",
       "16     hi      1\n",
       "27     mr      1"
      ]
     },
     "execution_count": 26,
     "metadata": {},
     "output_type": "execute_result"
    }
   ],
   "source": [
    "df = df_inter3.groupby(['Lang'])['Comment'].count().reset_index(name='Count').sort_values(['Count'], ascending=False)\n",
    "df"
   ]
  },
  {
   "cell_type": "code",
   "execution_count": 27,
   "metadata": {},
   "outputs": [
    {
     "data": {
      "application/vnd.plotly.v1+json": {
       "config": {
        "plotlyServerURL": "https://plot.ly"
       },
       "data": [
        {
         "domain": {
          "x": [
           0,
           1
          ],
          "y": [
           0,
           1
          ]
         },
         "hovertemplate": "Lang=%{label}<br>Count=%{value}<extra></extra>",
         "labels": [
          "en",
          "es",
          "Other",
          "id",
          "de",
          "ko",
          "tl",
          "so",
          "sw",
          "pt",
          "tr",
          "af",
          "fr",
          "cy",
          "it",
          "nl",
          "ca",
          "et",
          "da",
          "fi",
          "ru",
          "vi",
          "pl",
          "no",
          "ar",
          "hr",
          "ro",
          "sv",
          "sl",
          "lt",
          "sk",
          "sq",
          "hu",
          "ja",
          "cs",
          "fa",
          "th",
          "lv",
          "bg",
          "uk",
          "mk",
          "zh-cn",
          "ur",
          "zh-tw",
          "el",
          "kn",
          "hi",
          "mr"
         ],
         "legendgroup": "",
         "name": "",
         "showlegend": true,
         "textposition": "inside",
         "type": "pie",
         "values": [
          24463,
          3655,
          2793,
          2285,
          2148,
          1924,
          1650,
          1608,
          1486,
          1134,
          1125,
          959,
          795,
          703,
          701,
          693,
          647,
          613,
          612,
          547,
          512,
          474,
          445,
          436,
          434,
          315,
          290,
          287,
          269,
          188,
          180,
          132,
          130,
          110,
          106,
          105,
          59,
          53,
          53,
          42,
          34,
          30,
          23,
          4,
          3,
          2,
          1,
          1
         ]
        }
       ],
       "layout": {
        "legend": {
         "tracegroupgap": 0
        },
        "template": {
         "data": {
          "bar": [
           {
            "error_x": {
             "color": "#2a3f5f"
            },
            "error_y": {
             "color": "#2a3f5f"
            },
            "marker": {
             "line": {
              "color": "#E5ECF6",
              "width": 0.5
             },
             "pattern": {
              "fillmode": "overlay",
              "size": 10,
              "solidity": 0.2
             }
            },
            "type": "bar"
           }
          ],
          "barpolar": [
           {
            "marker": {
             "line": {
              "color": "#E5ECF6",
              "width": 0.5
             },
             "pattern": {
              "fillmode": "overlay",
              "size": 10,
              "solidity": 0.2
             }
            },
            "type": "barpolar"
           }
          ],
          "carpet": [
           {
            "aaxis": {
             "endlinecolor": "#2a3f5f",
             "gridcolor": "white",
             "linecolor": "white",
             "minorgridcolor": "white",
             "startlinecolor": "#2a3f5f"
            },
            "baxis": {
             "endlinecolor": "#2a3f5f",
             "gridcolor": "white",
             "linecolor": "white",
             "minorgridcolor": "white",
             "startlinecolor": "#2a3f5f"
            },
            "type": "carpet"
           }
          ],
          "choropleth": [
           {
            "colorbar": {
             "outlinewidth": 0,
             "ticks": ""
            },
            "type": "choropleth"
           }
          ],
          "contour": [
           {
            "colorbar": {
             "outlinewidth": 0,
             "ticks": ""
            },
            "colorscale": [
             [
              0,
              "#0d0887"
             ],
             [
              0.1111111111111111,
              "#46039f"
             ],
             [
              0.2222222222222222,
              "#7201a8"
             ],
             [
              0.3333333333333333,
              "#9c179e"
             ],
             [
              0.4444444444444444,
              "#bd3786"
             ],
             [
              0.5555555555555556,
              "#d8576b"
             ],
             [
              0.6666666666666666,
              "#ed7953"
             ],
             [
              0.7777777777777778,
              "#fb9f3a"
             ],
             [
              0.8888888888888888,
              "#fdca26"
             ],
             [
              1,
              "#f0f921"
             ]
            ],
            "type": "contour"
           }
          ],
          "contourcarpet": [
           {
            "colorbar": {
             "outlinewidth": 0,
             "ticks": ""
            },
            "type": "contourcarpet"
           }
          ],
          "heatmap": [
           {
            "colorbar": {
             "outlinewidth": 0,
             "ticks": ""
            },
            "colorscale": [
             [
              0,
              "#0d0887"
             ],
             [
              0.1111111111111111,
              "#46039f"
             ],
             [
              0.2222222222222222,
              "#7201a8"
             ],
             [
              0.3333333333333333,
              "#9c179e"
             ],
             [
              0.4444444444444444,
              "#bd3786"
             ],
             [
              0.5555555555555556,
              "#d8576b"
             ],
             [
              0.6666666666666666,
              "#ed7953"
             ],
             [
              0.7777777777777778,
              "#fb9f3a"
             ],
             [
              0.8888888888888888,
              "#fdca26"
             ],
             [
              1,
              "#f0f921"
             ]
            ],
            "type": "heatmap"
           }
          ],
          "heatmapgl": [
           {
            "colorbar": {
             "outlinewidth": 0,
             "ticks": ""
            },
            "colorscale": [
             [
              0,
              "#0d0887"
             ],
             [
              0.1111111111111111,
              "#46039f"
             ],
             [
              0.2222222222222222,
              "#7201a8"
             ],
             [
              0.3333333333333333,
              "#9c179e"
             ],
             [
              0.4444444444444444,
              "#bd3786"
             ],
             [
              0.5555555555555556,
              "#d8576b"
             ],
             [
              0.6666666666666666,
              "#ed7953"
             ],
             [
              0.7777777777777778,
              "#fb9f3a"
             ],
             [
              0.8888888888888888,
              "#fdca26"
             ],
             [
              1,
              "#f0f921"
             ]
            ],
            "type": "heatmapgl"
           }
          ],
          "histogram": [
           {
            "marker": {
             "pattern": {
              "fillmode": "overlay",
              "size": 10,
              "solidity": 0.2
             }
            },
            "type": "histogram"
           }
          ],
          "histogram2d": [
           {
            "colorbar": {
             "outlinewidth": 0,
             "ticks": ""
            },
            "colorscale": [
             [
              0,
              "#0d0887"
             ],
             [
              0.1111111111111111,
              "#46039f"
             ],
             [
              0.2222222222222222,
              "#7201a8"
             ],
             [
              0.3333333333333333,
              "#9c179e"
             ],
             [
              0.4444444444444444,
              "#bd3786"
             ],
             [
              0.5555555555555556,
              "#d8576b"
             ],
             [
              0.6666666666666666,
              "#ed7953"
             ],
             [
              0.7777777777777778,
              "#fb9f3a"
             ],
             [
              0.8888888888888888,
              "#fdca26"
             ],
             [
              1,
              "#f0f921"
             ]
            ],
            "type": "histogram2d"
           }
          ],
          "histogram2dcontour": [
           {
            "colorbar": {
             "outlinewidth": 0,
             "ticks": ""
            },
            "colorscale": [
             [
              0,
              "#0d0887"
             ],
             [
              0.1111111111111111,
              "#46039f"
             ],
             [
              0.2222222222222222,
              "#7201a8"
             ],
             [
              0.3333333333333333,
              "#9c179e"
             ],
             [
              0.4444444444444444,
              "#bd3786"
             ],
             [
              0.5555555555555556,
              "#d8576b"
             ],
             [
              0.6666666666666666,
              "#ed7953"
             ],
             [
              0.7777777777777778,
              "#fb9f3a"
             ],
             [
              0.8888888888888888,
              "#fdca26"
             ],
             [
              1,
              "#f0f921"
             ]
            ],
            "type": "histogram2dcontour"
           }
          ],
          "mesh3d": [
           {
            "colorbar": {
             "outlinewidth": 0,
             "ticks": ""
            },
            "type": "mesh3d"
           }
          ],
          "parcoords": [
           {
            "line": {
             "colorbar": {
              "outlinewidth": 0,
              "ticks": ""
             }
            },
            "type": "parcoords"
           }
          ],
          "pie": [
           {
            "automargin": true,
            "type": "pie"
           }
          ],
          "scatter": [
           {
            "fillpattern": {
             "fillmode": "overlay",
             "size": 10,
             "solidity": 0.2
            },
            "type": "scatter"
           }
          ],
          "scatter3d": [
           {
            "line": {
             "colorbar": {
              "outlinewidth": 0,
              "ticks": ""
             }
            },
            "marker": {
             "colorbar": {
              "outlinewidth": 0,
              "ticks": ""
             }
            },
            "type": "scatter3d"
           }
          ],
          "scattercarpet": [
           {
            "marker": {
             "colorbar": {
              "outlinewidth": 0,
              "ticks": ""
             }
            },
            "type": "scattercarpet"
           }
          ],
          "scattergeo": [
           {
            "marker": {
             "colorbar": {
              "outlinewidth": 0,
              "ticks": ""
             }
            },
            "type": "scattergeo"
           }
          ],
          "scattergl": [
           {
            "marker": {
             "colorbar": {
              "outlinewidth": 0,
              "ticks": ""
             }
            },
            "type": "scattergl"
           }
          ],
          "scattermapbox": [
           {
            "marker": {
             "colorbar": {
              "outlinewidth": 0,
              "ticks": ""
             }
            },
            "type": "scattermapbox"
           }
          ],
          "scatterpolar": [
           {
            "marker": {
             "colorbar": {
              "outlinewidth": 0,
              "ticks": ""
             }
            },
            "type": "scatterpolar"
           }
          ],
          "scatterpolargl": [
           {
            "marker": {
             "colorbar": {
              "outlinewidth": 0,
              "ticks": ""
             }
            },
            "type": "scatterpolargl"
           }
          ],
          "scatterternary": [
           {
            "marker": {
             "colorbar": {
              "outlinewidth": 0,
              "ticks": ""
             }
            },
            "type": "scatterternary"
           }
          ],
          "surface": [
           {
            "colorbar": {
             "outlinewidth": 0,
             "ticks": ""
            },
            "colorscale": [
             [
              0,
              "#0d0887"
             ],
             [
              0.1111111111111111,
              "#46039f"
             ],
             [
              0.2222222222222222,
              "#7201a8"
             ],
             [
              0.3333333333333333,
              "#9c179e"
             ],
             [
              0.4444444444444444,
              "#bd3786"
             ],
             [
              0.5555555555555556,
              "#d8576b"
             ],
             [
              0.6666666666666666,
              "#ed7953"
             ],
             [
              0.7777777777777778,
              "#fb9f3a"
             ],
             [
              0.8888888888888888,
              "#fdca26"
             ],
             [
              1,
              "#f0f921"
             ]
            ],
            "type": "surface"
           }
          ],
          "table": [
           {
            "cells": {
             "fill": {
              "color": "#EBF0F8"
             },
             "line": {
              "color": "white"
             }
            },
            "header": {
             "fill": {
              "color": "#C8D4E3"
             },
             "line": {
              "color": "white"
             }
            },
            "type": "table"
           }
          ]
         },
         "layout": {
          "annotationdefaults": {
           "arrowcolor": "#2a3f5f",
           "arrowhead": 0,
           "arrowwidth": 1
          },
          "autotypenumbers": "strict",
          "coloraxis": {
           "colorbar": {
            "outlinewidth": 0,
            "ticks": ""
           }
          },
          "colorscale": {
           "diverging": [
            [
             0,
             "#8e0152"
            ],
            [
             0.1,
             "#c51b7d"
            ],
            [
             0.2,
             "#de77ae"
            ],
            [
             0.3,
             "#f1b6da"
            ],
            [
             0.4,
             "#fde0ef"
            ],
            [
             0.5,
             "#f7f7f7"
            ],
            [
             0.6,
             "#e6f5d0"
            ],
            [
             0.7,
             "#b8e186"
            ],
            [
             0.8,
             "#7fbc41"
            ],
            [
             0.9,
             "#4d9221"
            ],
            [
             1,
             "#276419"
            ]
           ],
           "sequential": [
            [
             0,
             "#0d0887"
            ],
            [
             0.1111111111111111,
             "#46039f"
            ],
            [
             0.2222222222222222,
             "#7201a8"
            ],
            [
             0.3333333333333333,
             "#9c179e"
            ],
            [
             0.4444444444444444,
             "#bd3786"
            ],
            [
             0.5555555555555556,
             "#d8576b"
            ],
            [
             0.6666666666666666,
             "#ed7953"
            ],
            [
             0.7777777777777778,
             "#fb9f3a"
            ],
            [
             0.8888888888888888,
             "#fdca26"
            ],
            [
             1,
             "#f0f921"
            ]
           ],
           "sequentialminus": [
            [
             0,
             "#0d0887"
            ],
            [
             0.1111111111111111,
             "#46039f"
            ],
            [
             0.2222222222222222,
             "#7201a8"
            ],
            [
             0.3333333333333333,
             "#9c179e"
            ],
            [
             0.4444444444444444,
             "#bd3786"
            ],
            [
             0.5555555555555556,
             "#d8576b"
            ],
            [
             0.6666666666666666,
             "#ed7953"
            ],
            [
             0.7777777777777778,
             "#fb9f3a"
            ],
            [
             0.8888888888888888,
             "#fdca26"
            ],
            [
             1,
             "#f0f921"
            ]
           ]
          },
          "colorway": [
           "#636efa",
           "#EF553B",
           "#00cc96",
           "#ab63fa",
           "#FFA15A",
           "#19d3f3",
           "#FF6692",
           "#B6E880",
           "#FF97FF",
           "#FECB52"
          ],
          "font": {
           "color": "#2a3f5f"
          },
          "geo": {
           "bgcolor": "white",
           "lakecolor": "white",
           "landcolor": "#E5ECF6",
           "showlakes": true,
           "showland": true,
           "subunitcolor": "white"
          },
          "hoverlabel": {
           "align": "left"
          },
          "hovermode": "closest",
          "mapbox": {
           "style": "light"
          },
          "paper_bgcolor": "white",
          "plot_bgcolor": "#E5ECF6",
          "polar": {
           "angularaxis": {
            "gridcolor": "white",
            "linecolor": "white",
            "ticks": ""
           },
           "bgcolor": "#E5ECF6",
           "radialaxis": {
            "gridcolor": "white",
            "linecolor": "white",
            "ticks": ""
           }
          },
          "scene": {
           "xaxis": {
            "backgroundcolor": "#E5ECF6",
            "gridcolor": "white",
            "gridwidth": 2,
            "linecolor": "white",
            "showbackground": true,
            "ticks": "",
            "zerolinecolor": "white"
           },
           "yaxis": {
            "backgroundcolor": "#E5ECF6",
            "gridcolor": "white",
            "gridwidth": 2,
            "linecolor": "white",
            "showbackground": true,
            "ticks": "",
            "zerolinecolor": "white"
           },
           "zaxis": {
            "backgroundcolor": "#E5ECF6",
            "gridcolor": "white",
            "gridwidth": 2,
            "linecolor": "white",
            "showbackground": true,
            "ticks": "",
            "zerolinecolor": "white"
           }
          },
          "shapedefaults": {
           "line": {
            "color": "#2a3f5f"
           }
          },
          "ternary": {
           "aaxis": {
            "gridcolor": "white",
            "linecolor": "white",
            "ticks": ""
           },
           "baxis": {
            "gridcolor": "white",
            "linecolor": "white",
            "ticks": ""
           },
           "bgcolor": "#E5ECF6",
           "caxis": {
            "gridcolor": "white",
            "linecolor": "white",
            "ticks": ""
           }
          },
          "title": {
           "x": 0.05
          },
          "xaxis": {
           "automargin": true,
           "gridcolor": "white",
           "linecolor": "white",
           "ticks": "",
           "title": {
            "standoff": 15
           },
           "zerolinecolor": "white",
           "zerolinewidth": 2
          },
          "yaxis": {
           "automargin": true,
           "gridcolor": "white",
           "linecolor": "white",
           "ticks": "",
           "title": {
            "standoff": 15
           },
           "zerolinecolor": "white",
           "zerolinewidth": 2
          }
         }
        },
        "title": {
         "text": "God's Menu"
        },
        "uniformtext": {
         "minsize": 12,
         "mode": "hide"
        }
       }
      }
     },
     "metadata": {},
     "output_type": "display_data"
    }
   ],
   "source": [
    "fig = px.pie(df, values='Count', names='Lang',title=\"God's Menu\")\n",
    "fig.update_traces(textposition='inside')\n",
    "fig.update_layout(uniformtext_minsize=12, uniformtext_mode='hide')\n",
    "fig.show()"
   ]
  },
  {
   "cell_type": "code",
   "execution_count": null,
   "metadata": {},
   "outputs": [],
   "source": []
  },
  {
   "cell_type": "code",
   "execution_count": 28,
   "metadata": {},
   "outputs": [],
   "source": [
    "df_all = pd.concat([df_inter1,df_inter2,df_inter3])\n",
    "df_all2 = df_all[df_all['Lang'] == 'id']"
   ]
  },
  {
   "cell_type": "code",
   "execution_count": 29,
   "metadata": {},
   "outputs": [
    {
     "data": {
      "text/html": [
       "<div>\n",
       "<style scoped>\n",
       "    .dataframe tbody tr th:only-of-type {\n",
       "        vertical-align: middle;\n",
       "    }\n",
       "\n",
       "    .dataframe tbody tr th {\n",
       "        vertical-align: top;\n",
       "    }\n",
       "\n",
       "    .dataframe thead th {\n",
       "        text-align: right;\n",
       "    }\n",
       "</style>\n",
       "<table border=\"1\" class=\"dataframe\">\n",
       "  <thead>\n",
       "    <tr style=\"text-align: right;\">\n",
       "      <th></th>\n",
       "      <th>Date</th>\n",
       "      <th>Username</th>\n",
       "      <th>VideoID</th>\n",
       "      <th>Comment</th>\n",
       "      <th>Lang</th>\n",
       "    </tr>\n",
       "  </thead>\n",
       "  <tbody>\n",
       "    <tr>\n",
       "      <th>64</th>\n",
       "      <td>2024-09-30T06:50:29Z</td>\n",
       "      <td>@taiykutasi</td>\n",
       "      <td>yss4rIrHl6o</td>\n",
       "      <td>Super duper🎉🎉</td>\n",
       "      <td>id</td>\n",
       "    </tr>\n",
       "    <tr>\n",
       "      <th>82</th>\n",
       "      <td>2024-09-27T22:07:30Z</td>\n",
       "      <td>@umihiday</td>\n",
       "      <td>yss4rIrHl6o</td>\n",
       "      <td>Walau tidak begitu paham musik, tetapi musikny...</td>\n",
       "      <td>id</td>\n",
       "    </tr>\n",
       "    <tr>\n",
       "      <th>113</th>\n",
       "      <td>2024-09-25T23:43:49Z</td>\n",
       "      <td>@TheJourney0915</td>\n",
       "      <td>yss4rIrHl6o</td>\n",
       "      <td>Park Sungjin!!</td>\n",
       "      <td>id</td>\n",
       "    </tr>\n",
       "    <tr>\n",
       "      <th>130</th>\n",
       "      <td>2024-09-24T14:05:01Z</td>\n",
       "      <td>@shellyou789</td>\n",
       "      <td>yss4rIrHl6o</td>\n",
       "      <td>Senyumku untukmu❤</td>\n",
       "      <td>id</td>\n",
       "    </tr>\n",
       "    <tr>\n",
       "      <th>139</th>\n",
       "      <td>2024-09-23T12:07:12Z</td>\n",
       "      <td>@ednaolwis</td>\n",
       "      <td>yss4rIrHl6o</td>\n",
       "      <td>Kkeokkeo beorineun hanmadi\\nKkakkyeo beorineun...</td>\n",
       "      <td>id</td>\n",
       "    </tr>\n",
       "    <tr>\n",
       "      <th>...</th>\n",
       "      <td>...</td>\n",
       "      <td>...</td>\n",
       "      <td>...</td>\n",
       "      <td>...</td>\n",
       "      <td>...</td>\n",
       "    </tr>\n",
       "    <tr>\n",
       "      <th>55201</th>\n",
       "      <td>2020-06-21T14:33:11Z</td>\n",
       "      <td>@ujhskfn7339</td>\n",
       "      <td>dx9gQRCT_kM</td>\n",
       "      <td>IM ALREADY DEAD</td>\n",
       "      <td>id</td>\n",
       "    </tr>\n",
       "    <tr>\n",
       "      <th>55204</th>\n",
       "      <td>2020-06-21T14:44:10Z</td>\n",
       "      <td>@rashiratna4388</td>\n",
       "      <td>dx9gQRCT_kM</td>\n",
       "      <td>Are u an Indian stay? hi!</td>\n",
       "      <td>id</td>\n",
       "    </tr>\n",
       "    <tr>\n",
       "      <th>55205</th>\n",
       "      <td>2020-06-21T14:49:43Z</td>\n",
       "      <td>@raccoonwithgrapes</td>\n",
       "      <td>dx9gQRCT_kM</td>\n",
       "      <td>@@rashiratna4388 yes I am!</td>\n",
       "      <td>id</td>\n",
       "    </tr>\n",
       "    <tr>\n",
       "      <th>55232</th>\n",
       "      <td>2020-06-21T14:32:38Z</td>\n",
       "      <td>@aqeelaerfyan9423</td>\n",
       "      <td>dx9gQRCT_kM</td>\n",
       "      <td>In my mind=dududu tang tang tang🤣</td>\n",
       "      <td>id</td>\n",
       "    </tr>\n",
       "    <tr>\n",
       "      <th>55250</th>\n",
       "      <td>2020-06-21T14:33:41Z</td>\n",
       "      <td>@crab601</td>\n",
       "      <td>dx9gQRCT_kM</td>\n",
       "      <td>Same</td>\n",
       "      <td>id</td>\n",
       "    </tr>\n",
       "  </tbody>\n",
       "</table>\n",
       "<p>3426 rows × 5 columns</p>\n",
       "</div>"
      ],
      "text/plain": [
       "                       Date            Username      VideoID  \\\n",
       "64     2024-09-30T06:50:29Z         @taiykutasi  yss4rIrHl6o   \n",
       "82     2024-09-27T22:07:30Z           @umihiday  yss4rIrHl6o   \n",
       "113    2024-09-25T23:43:49Z     @TheJourney0915  yss4rIrHl6o   \n",
       "130    2024-09-24T14:05:01Z        @shellyou789  yss4rIrHl6o   \n",
       "139    2024-09-23T12:07:12Z          @ednaolwis  yss4rIrHl6o   \n",
       "...                     ...                 ...          ...   \n",
       "55201  2020-06-21T14:33:11Z        @ujhskfn7339  dx9gQRCT_kM   \n",
       "55204  2020-06-21T14:44:10Z     @rashiratna4388  dx9gQRCT_kM   \n",
       "55205  2020-06-21T14:49:43Z  @raccoonwithgrapes  dx9gQRCT_kM   \n",
       "55232  2020-06-21T14:32:38Z   @aqeelaerfyan9423  dx9gQRCT_kM   \n",
       "55250  2020-06-21T14:33:41Z            @crab601  dx9gQRCT_kM   \n",
       "\n",
       "                                                 Comment Lang  \n",
       "64                                         Super duper🎉🎉   id  \n",
       "82     Walau tidak begitu paham musik, tetapi musikny...   id  \n",
       "113                                       Park Sungjin!!   id  \n",
       "130                                    Senyumku untukmu❤   id  \n",
       "139    Kkeokkeo beorineun hanmadi\\nKkakkyeo beorineun...   id  \n",
       "...                                                  ...  ...  \n",
       "55201                                    IM ALREADY DEAD   id  \n",
       "55204                          Are u an Indian stay? hi!   id  \n",
       "55205                         @@rashiratna4388 yes I am!   id  \n",
       "55232                  In my mind=dududu tang tang tang🤣   id  \n",
       "55250                                               Same   id  \n",
       "\n",
       "[3426 rows x 5 columns]"
      ]
     },
     "execution_count": 29,
     "metadata": {},
     "output_type": "execute_result"
    }
   ],
   "source": [
    "df_all2"
   ]
  },
  {
   "cell_type": "code",
   "execution_count": 34,
   "metadata": {},
   "outputs": [
    {
     "data": {
      "text/html": [
       "<div>\n",
       "<style scoped>\n",
       "    .dataframe tbody tr th:only-of-type {\n",
       "        vertical-align: middle;\n",
       "    }\n",
       "\n",
       "    .dataframe tbody tr th {\n",
       "        vertical-align: top;\n",
       "    }\n",
       "\n",
       "    .dataframe thead th {\n",
       "        text-align: right;\n",
       "    }\n",
       "</style>\n",
       "<table border=\"1\" class=\"dataframe\">\n",
       "  <thead>\n",
       "    <tr style=\"text-align: right;\">\n",
       "      <th></th>\n",
       "      <th>VideoID</th>\n",
       "      <th>Count</th>\n",
       "    </tr>\n",
       "  </thead>\n",
       "  <tbody>\n",
       "    <tr>\n",
       "      <th>0</th>\n",
       "      <td>dx9gQRCT_kM</td>\n",
       "      <td>2285</td>\n",
       "    </tr>\n",
       "    <tr>\n",
       "      <th>1</th>\n",
       "      <td>pSUydWEqKwE</td>\n",
       "      <td>919</td>\n",
       "    </tr>\n",
       "    <tr>\n",
       "      <th>2</th>\n",
       "      <td>yss4rIrHl6o</td>\n",
       "      <td>222</td>\n",
       "    </tr>\n",
       "  </tbody>\n",
       "</table>\n",
       "</div>"
      ],
      "text/plain": [
       "       VideoID  Count\n",
       "0  dx9gQRCT_kM   2285\n",
       "1  pSUydWEqKwE    919\n",
       "2  yss4rIrHl6o    222"
      ]
     },
     "execution_count": 34,
     "metadata": {},
     "output_type": "execute_result"
    }
   ],
   "source": [
    "test = df_all2.groupby(['VideoID'])['Lang'].count().reset_index(name='Count').sort_values(['Count'], ascending=False)\n",
    "test"
   ]
  },
  {
   "cell_type": "code",
   "execution_count": 35,
   "metadata": {},
   "outputs": [],
   "source": [
    "# test.replace({'VideoID':{0: 'BIRDS OF A FEATHER',1: 'Die With a Smile', 2: 'yellow coldplay'}})\n",
    "test.loc[[0,1,2],['VideoID']] =[\"God's Menu\",'Ditto',\"Melt Down\"]"
   ]
  },
  {
   "cell_type": "code",
   "execution_count": 36,
   "metadata": {},
   "outputs": [
    {
     "data": {
      "text/html": [
       "<div>\n",
       "<style scoped>\n",
       "    .dataframe tbody tr th:only-of-type {\n",
       "        vertical-align: middle;\n",
       "    }\n",
       "\n",
       "    .dataframe tbody tr th {\n",
       "        vertical-align: top;\n",
       "    }\n",
       "\n",
       "    .dataframe thead th {\n",
       "        text-align: right;\n",
       "    }\n",
       "</style>\n",
       "<table border=\"1\" class=\"dataframe\">\n",
       "  <thead>\n",
       "    <tr style=\"text-align: right;\">\n",
       "      <th></th>\n",
       "      <th>VideoID</th>\n",
       "      <th>Count</th>\n",
       "    </tr>\n",
       "  </thead>\n",
       "  <tbody>\n",
       "    <tr>\n",
       "      <th>0</th>\n",
       "      <td>God's Menu</td>\n",
       "      <td>2285</td>\n",
       "    </tr>\n",
       "    <tr>\n",
       "      <th>1</th>\n",
       "      <td>Ditto</td>\n",
       "      <td>919</td>\n",
       "    </tr>\n",
       "    <tr>\n",
       "      <th>2</th>\n",
       "      <td>Melt Down</td>\n",
       "      <td>222</td>\n",
       "    </tr>\n",
       "  </tbody>\n",
       "</table>\n",
       "</div>"
      ],
      "text/plain": [
       "      VideoID  Count\n",
       "0  God's Menu   2285\n",
       "1       Ditto    919\n",
       "2   Melt Down    222"
      ]
     },
     "execution_count": 36,
     "metadata": {},
     "output_type": "execute_result"
    }
   ],
   "source": [
    "test"
   ]
  },
  {
   "cell_type": "code",
   "execution_count": 37,
   "metadata": {},
   "outputs": [
    {
     "data": {
      "application/vnd.plotly.v1+json": {
       "config": {
        "plotlyServerURL": "https://plot.ly"
       },
       "data": [
        {
         "alignmentgroup": "True",
         "hovertemplate": "VideoID=%{x}<br>Count=%{y}<extra></extra>",
         "legendgroup": "",
         "marker": {
          "color": "#636efa",
          "pattern": {
           "shape": ""
          }
         },
         "name": "",
         "offsetgroup": "",
         "orientation": "v",
         "showlegend": false,
         "textposition": "auto",
         "type": "bar",
         "x": [
          "God's Menu",
          "Ditto",
          "Melt Down"
         ],
         "xaxis": "x",
         "y": [
          2285,
          919,
          222
         ],
         "yaxis": "y"
        }
       ],
       "layout": {
        "barmode": "relative",
        "legend": {
         "tracegroupgap": 0
        },
        "margin": {
         "t": 60
        },
        "template": {
         "data": {
          "bar": [
           {
            "error_x": {
             "color": "#2a3f5f"
            },
            "error_y": {
             "color": "#2a3f5f"
            },
            "marker": {
             "line": {
              "color": "#E5ECF6",
              "width": 0.5
             },
             "pattern": {
              "fillmode": "overlay",
              "size": 10,
              "solidity": 0.2
             }
            },
            "type": "bar"
           }
          ],
          "barpolar": [
           {
            "marker": {
             "line": {
              "color": "#E5ECF6",
              "width": 0.5
             },
             "pattern": {
              "fillmode": "overlay",
              "size": 10,
              "solidity": 0.2
             }
            },
            "type": "barpolar"
           }
          ],
          "carpet": [
           {
            "aaxis": {
             "endlinecolor": "#2a3f5f",
             "gridcolor": "white",
             "linecolor": "white",
             "minorgridcolor": "white",
             "startlinecolor": "#2a3f5f"
            },
            "baxis": {
             "endlinecolor": "#2a3f5f",
             "gridcolor": "white",
             "linecolor": "white",
             "minorgridcolor": "white",
             "startlinecolor": "#2a3f5f"
            },
            "type": "carpet"
           }
          ],
          "choropleth": [
           {
            "colorbar": {
             "outlinewidth": 0,
             "ticks": ""
            },
            "type": "choropleth"
           }
          ],
          "contour": [
           {
            "colorbar": {
             "outlinewidth": 0,
             "ticks": ""
            },
            "colorscale": [
             [
              0,
              "#0d0887"
             ],
             [
              0.1111111111111111,
              "#46039f"
             ],
             [
              0.2222222222222222,
              "#7201a8"
             ],
             [
              0.3333333333333333,
              "#9c179e"
             ],
             [
              0.4444444444444444,
              "#bd3786"
             ],
             [
              0.5555555555555556,
              "#d8576b"
             ],
             [
              0.6666666666666666,
              "#ed7953"
             ],
             [
              0.7777777777777778,
              "#fb9f3a"
             ],
             [
              0.8888888888888888,
              "#fdca26"
             ],
             [
              1,
              "#f0f921"
             ]
            ],
            "type": "contour"
           }
          ],
          "contourcarpet": [
           {
            "colorbar": {
             "outlinewidth": 0,
             "ticks": ""
            },
            "type": "contourcarpet"
           }
          ],
          "heatmap": [
           {
            "colorbar": {
             "outlinewidth": 0,
             "ticks": ""
            },
            "colorscale": [
             [
              0,
              "#0d0887"
             ],
             [
              0.1111111111111111,
              "#46039f"
             ],
             [
              0.2222222222222222,
              "#7201a8"
             ],
             [
              0.3333333333333333,
              "#9c179e"
             ],
             [
              0.4444444444444444,
              "#bd3786"
             ],
             [
              0.5555555555555556,
              "#d8576b"
             ],
             [
              0.6666666666666666,
              "#ed7953"
             ],
             [
              0.7777777777777778,
              "#fb9f3a"
             ],
             [
              0.8888888888888888,
              "#fdca26"
             ],
             [
              1,
              "#f0f921"
             ]
            ],
            "type": "heatmap"
           }
          ],
          "heatmapgl": [
           {
            "colorbar": {
             "outlinewidth": 0,
             "ticks": ""
            },
            "colorscale": [
             [
              0,
              "#0d0887"
             ],
             [
              0.1111111111111111,
              "#46039f"
             ],
             [
              0.2222222222222222,
              "#7201a8"
             ],
             [
              0.3333333333333333,
              "#9c179e"
             ],
             [
              0.4444444444444444,
              "#bd3786"
             ],
             [
              0.5555555555555556,
              "#d8576b"
             ],
             [
              0.6666666666666666,
              "#ed7953"
             ],
             [
              0.7777777777777778,
              "#fb9f3a"
             ],
             [
              0.8888888888888888,
              "#fdca26"
             ],
             [
              1,
              "#f0f921"
             ]
            ],
            "type": "heatmapgl"
           }
          ],
          "histogram": [
           {
            "marker": {
             "pattern": {
              "fillmode": "overlay",
              "size": 10,
              "solidity": 0.2
             }
            },
            "type": "histogram"
           }
          ],
          "histogram2d": [
           {
            "colorbar": {
             "outlinewidth": 0,
             "ticks": ""
            },
            "colorscale": [
             [
              0,
              "#0d0887"
             ],
             [
              0.1111111111111111,
              "#46039f"
             ],
             [
              0.2222222222222222,
              "#7201a8"
             ],
             [
              0.3333333333333333,
              "#9c179e"
             ],
             [
              0.4444444444444444,
              "#bd3786"
             ],
             [
              0.5555555555555556,
              "#d8576b"
             ],
             [
              0.6666666666666666,
              "#ed7953"
             ],
             [
              0.7777777777777778,
              "#fb9f3a"
             ],
             [
              0.8888888888888888,
              "#fdca26"
             ],
             [
              1,
              "#f0f921"
             ]
            ],
            "type": "histogram2d"
           }
          ],
          "histogram2dcontour": [
           {
            "colorbar": {
             "outlinewidth": 0,
             "ticks": ""
            },
            "colorscale": [
             [
              0,
              "#0d0887"
             ],
             [
              0.1111111111111111,
              "#46039f"
             ],
             [
              0.2222222222222222,
              "#7201a8"
             ],
             [
              0.3333333333333333,
              "#9c179e"
             ],
             [
              0.4444444444444444,
              "#bd3786"
             ],
             [
              0.5555555555555556,
              "#d8576b"
             ],
             [
              0.6666666666666666,
              "#ed7953"
             ],
             [
              0.7777777777777778,
              "#fb9f3a"
             ],
             [
              0.8888888888888888,
              "#fdca26"
             ],
             [
              1,
              "#f0f921"
             ]
            ],
            "type": "histogram2dcontour"
           }
          ],
          "mesh3d": [
           {
            "colorbar": {
             "outlinewidth": 0,
             "ticks": ""
            },
            "type": "mesh3d"
           }
          ],
          "parcoords": [
           {
            "line": {
             "colorbar": {
              "outlinewidth": 0,
              "ticks": ""
             }
            },
            "type": "parcoords"
           }
          ],
          "pie": [
           {
            "automargin": true,
            "type": "pie"
           }
          ],
          "scatter": [
           {
            "fillpattern": {
             "fillmode": "overlay",
             "size": 10,
             "solidity": 0.2
            },
            "type": "scatter"
           }
          ],
          "scatter3d": [
           {
            "line": {
             "colorbar": {
              "outlinewidth": 0,
              "ticks": ""
             }
            },
            "marker": {
             "colorbar": {
              "outlinewidth": 0,
              "ticks": ""
             }
            },
            "type": "scatter3d"
           }
          ],
          "scattercarpet": [
           {
            "marker": {
             "colorbar": {
              "outlinewidth": 0,
              "ticks": ""
             }
            },
            "type": "scattercarpet"
           }
          ],
          "scattergeo": [
           {
            "marker": {
             "colorbar": {
              "outlinewidth": 0,
              "ticks": ""
             }
            },
            "type": "scattergeo"
           }
          ],
          "scattergl": [
           {
            "marker": {
             "colorbar": {
              "outlinewidth": 0,
              "ticks": ""
             }
            },
            "type": "scattergl"
           }
          ],
          "scattermapbox": [
           {
            "marker": {
             "colorbar": {
              "outlinewidth": 0,
              "ticks": ""
             }
            },
            "type": "scattermapbox"
           }
          ],
          "scatterpolar": [
           {
            "marker": {
             "colorbar": {
              "outlinewidth": 0,
              "ticks": ""
             }
            },
            "type": "scatterpolar"
           }
          ],
          "scatterpolargl": [
           {
            "marker": {
             "colorbar": {
              "outlinewidth": 0,
              "ticks": ""
             }
            },
            "type": "scatterpolargl"
           }
          ],
          "scatterternary": [
           {
            "marker": {
             "colorbar": {
              "outlinewidth": 0,
              "ticks": ""
             }
            },
            "type": "scatterternary"
           }
          ],
          "surface": [
           {
            "colorbar": {
             "outlinewidth": 0,
             "ticks": ""
            },
            "colorscale": [
             [
              0,
              "#0d0887"
             ],
             [
              0.1111111111111111,
              "#46039f"
             ],
             [
              0.2222222222222222,
              "#7201a8"
             ],
             [
              0.3333333333333333,
              "#9c179e"
             ],
             [
              0.4444444444444444,
              "#bd3786"
             ],
             [
              0.5555555555555556,
              "#d8576b"
             ],
             [
              0.6666666666666666,
              "#ed7953"
             ],
             [
              0.7777777777777778,
              "#fb9f3a"
             ],
             [
              0.8888888888888888,
              "#fdca26"
             ],
             [
              1,
              "#f0f921"
             ]
            ],
            "type": "surface"
           }
          ],
          "table": [
           {
            "cells": {
             "fill": {
              "color": "#EBF0F8"
             },
             "line": {
              "color": "white"
             }
            },
            "header": {
             "fill": {
              "color": "#C8D4E3"
             },
             "line": {
              "color": "white"
             }
            },
            "type": "table"
           }
          ]
         },
         "layout": {
          "annotationdefaults": {
           "arrowcolor": "#2a3f5f",
           "arrowhead": 0,
           "arrowwidth": 1
          },
          "autotypenumbers": "strict",
          "coloraxis": {
           "colorbar": {
            "outlinewidth": 0,
            "ticks": ""
           }
          },
          "colorscale": {
           "diverging": [
            [
             0,
             "#8e0152"
            ],
            [
             0.1,
             "#c51b7d"
            ],
            [
             0.2,
             "#de77ae"
            ],
            [
             0.3,
             "#f1b6da"
            ],
            [
             0.4,
             "#fde0ef"
            ],
            [
             0.5,
             "#f7f7f7"
            ],
            [
             0.6,
             "#e6f5d0"
            ],
            [
             0.7,
             "#b8e186"
            ],
            [
             0.8,
             "#7fbc41"
            ],
            [
             0.9,
             "#4d9221"
            ],
            [
             1,
             "#276419"
            ]
           ],
           "sequential": [
            [
             0,
             "#0d0887"
            ],
            [
             0.1111111111111111,
             "#46039f"
            ],
            [
             0.2222222222222222,
             "#7201a8"
            ],
            [
             0.3333333333333333,
             "#9c179e"
            ],
            [
             0.4444444444444444,
             "#bd3786"
            ],
            [
             0.5555555555555556,
             "#d8576b"
            ],
            [
             0.6666666666666666,
             "#ed7953"
            ],
            [
             0.7777777777777778,
             "#fb9f3a"
            ],
            [
             0.8888888888888888,
             "#fdca26"
            ],
            [
             1,
             "#f0f921"
            ]
           ],
           "sequentialminus": [
            [
             0,
             "#0d0887"
            ],
            [
             0.1111111111111111,
             "#46039f"
            ],
            [
             0.2222222222222222,
             "#7201a8"
            ],
            [
             0.3333333333333333,
             "#9c179e"
            ],
            [
             0.4444444444444444,
             "#bd3786"
            ],
            [
             0.5555555555555556,
             "#d8576b"
            ],
            [
             0.6666666666666666,
             "#ed7953"
            ],
            [
             0.7777777777777778,
             "#fb9f3a"
            ],
            [
             0.8888888888888888,
             "#fdca26"
            ],
            [
             1,
             "#f0f921"
            ]
           ]
          },
          "colorway": [
           "#636efa",
           "#EF553B",
           "#00cc96",
           "#ab63fa",
           "#FFA15A",
           "#19d3f3",
           "#FF6692",
           "#B6E880",
           "#FF97FF",
           "#FECB52"
          ],
          "font": {
           "color": "#2a3f5f"
          },
          "geo": {
           "bgcolor": "white",
           "lakecolor": "white",
           "landcolor": "#E5ECF6",
           "showlakes": true,
           "showland": true,
           "subunitcolor": "white"
          },
          "hoverlabel": {
           "align": "left"
          },
          "hovermode": "closest",
          "mapbox": {
           "style": "light"
          },
          "paper_bgcolor": "white",
          "plot_bgcolor": "#E5ECF6",
          "polar": {
           "angularaxis": {
            "gridcolor": "white",
            "linecolor": "white",
            "ticks": ""
           },
           "bgcolor": "#E5ECF6",
           "radialaxis": {
            "gridcolor": "white",
            "linecolor": "white",
            "ticks": ""
           }
          },
          "scene": {
           "xaxis": {
            "backgroundcolor": "#E5ECF6",
            "gridcolor": "white",
            "gridwidth": 2,
            "linecolor": "white",
            "showbackground": true,
            "ticks": "",
            "zerolinecolor": "white"
           },
           "yaxis": {
            "backgroundcolor": "#E5ECF6",
            "gridcolor": "white",
            "gridwidth": 2,
            "linecolor": "white",
            "showbackground": true,
            "ticks": "",
            "zerolinecolor": "white"
           },
           "zaxis": {
            "backgroundcolor": "#E5ECF6",
            "gridcolor": "white",
            "gridwidth": 2,
            "linecolor": "white",
            "showbackground": true,
            "ticks": "",
            "zerolinecolor": "white"
           }
          },
          "shapedefaults": {
           "line": {
            "color": "#2a3f5f"
           }
          },
          "ternary": {
           "aaxis": {
            "gridcolor": "white",
            "linecolor": "white",
            "ticks": ""
           },
           "baxis": {
            "gridcolor": "white",
            "linecolor": "white",
            "ticks": ""
           },
           "bgcolor": "#E5ECF6",
           "caxis": {
            "gridcolor": "white",
            "linecolor": "white",
            "ticks": ""
           }
          },
          "title": {
           "x": 0.05
          },
          "xaxis": {
           "automargin": true,
           "gridcolor": "white",
           "linecolor": "white",
           "ticks": "",
           "title": {
            "standoff": 15
           },
           "zerolinecolor": "white",
           "zerolinewidth": 2
          },
          "yaxis": {
           "automargin": true,
           "gridcolor": "white",
           "linecolor": "white",
           "ticks": "",
           "title": {
            "standoff": 15
           },
           "zerolinecolor": "white",
           "zerolinewidth": 2
          }
         }
        },
        "xaxis": {
         "anchor": "y",
         "domain": [
          0,
          1
         ],
         "title": {
          "text": "VideoID"
         }
        },
        "yaxis": {
         "anchor": "x",
         "domain": [
          0,
          1
         ],
         "title": {
          "text": "Count"
         }
        }
       }
      }
     },
     "metadata": {},
     "output_type": "display_data"
    }
   ],
   "source": [
    "fig = px.bar(test, x='VideoID', y='Count')\n",
    "fig.show()"
   ]
  },
  {
   "cell_type": "code",
   "execution_count": 38,
   "metadata": {},
   "outputs": [
    {
     "data": {
      "text/html": [
       "<div>\n",
       "<style scoped>\n",
       "    .dataframe tbody tr th:only-of-type {\n",
       "        vertical-align: middle;\n",
       "    }\n",
       "\n",
       "    .dataframe tbody tr th {\n",
       "        vertical-align: top;\n",
       "    }\n",
       "\n",
       "    .dataframe thead th {\n",
       "        text-align: right;\n",
       "    }\n",
       "</style>\n",
       "<table border=\"1\" class=\"dataframe\">\n",
       "  <thead>\n",
       "    <tr style=\"text-align: right;\">\n",
       "      <th></th>\n",
       "      <th>VideoID</th>\n",
       "      <th>Count</th>\n",
       "      <th>Region</th>\n",
       "    </tr>\n",
       "  </thead>\n",
       "  <tbody>\n",
       "    <tr>\n",
       "      <th>0</th>\n",
       "      <td>God's Menu</td>\n",
       "      <td>2285</td>\n",
       "      <td>K-pop</td>\n",
       "    </tr>\n",
       "    <tr>\n",
       "      <th>1</th>\n",
       "      <td>Ditto</td>\n",
       "      <td>919</td>\n",
       "      <td>K-pop</td>\n",
       "    </tr>\n",
       "    <tr>\n",
       "      <th>2</th>\n",
       "      <td>Melt Down</td>\n",
       "      <td>222</td>\n",
       "      <td>K-pop</td>\n",
       "    </tr>\n",
       "  </tbody>\n",
       "</table>\n",
       "</div>"
      ],
      "text/plain": [
       "      VideoID  Count Region\n",
       "0  God's Menu   2285  K-pop\n",
       "1       Ditto    919  K-pop\n",
       "2   Melt Down    222  K-pop"
      ]
     },
     "execution_count": 38,
     "metadata": {},
     "output_type": "execute_result"
    }
   ],
   "source": [
    "test['Region'] = 'K-pop'\n",
    "test"
   ]
  },
  {
   "cell_type": "code",
   "execution_count": 39,
   "metadata": {},
   "outputs": [],
   "source": [
    "test.to_csv('K-pop.csv')"
   ]
  }
 ],
 "metadata": {
  "kernelspec": {
   "display_name": "Python 3",
   "language": "python",
   "name": "python3"
  },
  "language_info": {
   "codemirror_mode": {
    "name": "ipython",
    "version": 3
   },
   "file_extension": ".py",
   "mimetype": "text/x-python",
   "name": "python",
   "nbconvert_exporter": "python",
   "pygments_lexer": "ipython3",
   "version": "3.11.9"
  }
 },
 "nbformat": 4,
 "nbformat_minor": 2
}
